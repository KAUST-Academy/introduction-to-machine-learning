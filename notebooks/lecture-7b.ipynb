{
  "cells": [
    {
      "cell_type": "code",
      "execution_count": null,
      "id": "e3ea2c52-3ead-4484-8a13-59ff459b0f78",
      "metadata": {
        "id": "e3ea2c52-3ead-4484-8a13-59ff459b0f78"
      },
      "outputs": [],
      "source": [
        "import pathlib\n",
        "import requests\n",
        "\n",
        "import graphviz\n",
        "import joblib\n",
        "import matplotlib.pyplot as plt\n",
        "import numpy as np\n",
        "import pandas as pd\n",
        "from sklearn import datasets, metrics, model_selection\n",
        "from sklearn import pipeline, preprocessing, tree"
      ]
    },
    {
      "cell_type": "markdown",
      "id": "be202dc8-9556-4c87-a70a-06b1df636521",
      "metadata": {
        "id": "be202dc8-9556-4c87-a70a-06b1df636521"
      },
      "source": [
        "# Decision Trees\n",
        "\n",
        "[Decision Trees](https://scikit-learn.org/stable/modules/tree.html) are a non-parametric supervised learning method used for [classification](https://scikit-learn.org/stable/modules/tree.html#tree-classification) and [regression](https://scikit-learn.org/stable/modules/tree.html#tree-regression). The goal is to create a model that predicts the value of a target variable by learning simple decision rules inferred from the data features. A tree can be seen as a piecewise constant approximation."
      ]
    },
    {
      "cell_type": "markdown",
      "source": [
        "## Training and Visualizing a Decision Tree"
      ],
      "metadata": {
        "id": "QbwPxCYZ-itX"
      },
      "id": "QbwPxCYZ-itX"
    },
    {
      "cell_type": "code",
      "source": [
        "diabetes_data = datasets.load_diabetes(\n",
        "    as_frame=True\n",
        ")"
      ],
      "metadata": {
        "id": "UgXXim0f-q89"
      },
      "id": "UgXXim0f-q89",
      "execution_count": null,
      "outputs": []
    },
    {
      "cell_type": "code",
      "source": [
        "print(diabetes_data.DESCR)"
      ],
      "metadata": {
        "id": "9fp-HukAKdpE"
      },
      "id": "9fp-HukAKdpE",
      "execution_count": null,
      "outputs": []
    },
    {
      "cell_type": "code",
      "source": [
        "features_df = diabetes_data.data\n",
        "target = diabetes_data.target"
      ],
      "metadata": {
        "id": "eE6XXQAD_cyL"
      },
      "id": "eE6XXQAD_cyL",
      "execution_count": null,
      "outputs": []
    },
    {
      "cell_type": "code",
      "source": [
        "features_df.head()"
      ],
      "metadata": {
        "id": "gOyWyB5pANJj"
      },
      "id": "gOyWyB5pANJj",
      "execution_count": null,
      "outputs": []
    },
    {
      "cell_type": "code",
      "source": [
        "target"
      ],
      "metadata": {
        "id": "Trp1wsEQ_qk4"
      },
      "id": "Trp1wsEQ_qk4",
      "execution_count": null,
      "outputs": []
    },
    {
      "cell_type": "code",
      "source": [
        "regressor = tree.DecisionTreeRegressor(max_depth=2, random_state=42)\n",
        "_ = regressor.fit(features_df, target)"
      ],
      "metadata": {
        "id": "avN_PWO4-gIr"
      },
      "id": "avN_PWO4-gIr",
      "execution_count": null,
      "outputs": []
    },
    {
      "cell_type": "code",
      "source": [
        "_ = tree.export_graphviz(\n",
        "    regressor,\n",
        "    out_file=\"diabetes-tree.dot\",\n",
        "    feature_names=features_df.columns,\n",
        "    rounded=True,\n",
        "    filled=True\n",
        ")"
      ],
      "metadata": {
        "id": "uNXqUm4G-etO"
      },
      "id": "uNXqUm4G-etO",
      "execution_count": null,
      "outputs": []
    },
    {
      "cell_type": "code",
      "source": [
        "(\n",
        "    graphviz.Source\n",
        "            .from_file(\"diabetes-tree.dot\")\n",
        ")"
      ],
      "metadata": {
        "id": "UebuEGMg_N4C"
      },
      "id": "UebuEGMg_N4C",
      "execution_count": null,
      "outputs": []
    },
    {
      "cell_type": "code",
      "source": [
        "help(regressor.tree_)"
      ],
      "metadata": {
        "id": "doAJGaoLAgU2"
      },
      "id": "doAJGaoLAgU2",
      "execution_count": null,
      "outputs": []
    },
    {
      "cell_type": "markdown",
      "source": [
        "## Making Predictions"
      ],
      "metadata": {
        "id": "zsKP29QoA18O"
      },
      "id": "zsKP29QoA18O"
    },
    {
      "cell_type": "code",
      "source": [
        "regressor = tree.DecisionTreeRegressor()\n",
        "_ = regressor.fit(features_df, target)\n",
        "\n",
        "_predictions = regressor.predict(features_df)\n",
        "\n",
        "metrics.root_mean_squared_error(\n",
        "    target,\n",
        "    _predictions,\n",
        ")"
      ],
      "metadata": {
        "id": "trmmBRMiKL10"
      },
      "id": "trmmBRMiKL10",
      "execution_count": null,
      "outputs": []
    },
    {
      "cell_type": "markdown",
      "source": [
        "## Regularization"
      ],
      "metadata": {
        "id": "KTsjMI9GBcv5"
      },
      "id": "KTsjMI9GBcv5"
    },
    {
      "cell_type": "code",
      "source": [
        "regressor = tree.DecisionTreeRegressor()\n",
        "cv_scores = model_selection.cross_val_score(\n",
        "    regressor,\n",
        "    features_df,\n",
        "    target,\n",
        "    cv=5,\n",
        "    n_jobs=-1,\n",
        "    scoring=\"neg_root_mean_squared_error\"\n",
        ")"
      ],
      "metadata": {
        "id": "iRUkRGuLBe0k"
      },
      "id": "iRUkRGuLBe0k",
      "execution_count": null,
      "outputs": []
    },
    {
      "cell_type": "code",
      "source": [
        "cv_scores"
      ],
      "metadata": {
        "id": "12TybbDuCFLz"
      },
      "id": "12TybbDuCFLz",
      "execution_count": null,
      "outputs": []
    },
    {
      "cell_type": "code",
      "source": [
        "np.mean(-cv_scores)"
      ],
      "metadata": {
        "id": "ut03Ynb3CCx3"
      },
      "id": "ut03Ynb3CCx3",
      "execution_count": null,
      "outputs": []
    },
    {
      "cell_type": "markdown",
      "source": [
        "## Exercise\n",
        "\n",
        "Regularize the decision tree using grid search with 5-fold CV to choose the best hyperparameters."
      ],
      "metadata": {
        "id": "tVd9O8diL9Of"
      },
      "id": "tVd9O8diL9Of"
    },
    {
      "cell_type": "code",
      "source": [],
      "metadata": {
        "id": "AMPO2NjNMqqx"
      },
      "id": "AMPO2NjNMqqx",
      "execution_count": null,
      "outputs": []
    },
    {
      "cell_type": "markdown",
      "source": [
        "### Solution"
      ],
      "metadata": {
        "id": "rhFQBRxRMSOc"
      },
      "id": "rhFQBRxRMSOc"
    },
    {
      "cell_type": "code",
      "source": [
        "tree.DecisionTreeRegressor?"
      ],
      "metadata": {
        "id": "lImVH6v-Mp2l"
      },
      "id": "lImVH6v-Mp2l",
      "execution_count": null,
      "outputs": []
    },
    {
      "cell_type": "code",
      "source": [
        "# fine-tune regularization hyperparameters\n",
        "param_grid = [\n",
        "    {\n",
        "      \"max_depth\": [1, 2, 4, 8, None]\n",
        "    },\n",
        "    {\n",
        "      \"max_depth\": [None],\n",
        "      \"min_samples_leaf\": [1, 0.01, 0.05, 0.1]\n",
        "    },\n",
        "]\n",
        "\n",
        "grid_search_cv = model_selection.GridSearchCV(\n",
        "    regressor,\n",
        "    param_grid,\n",
        "    cv=5,\n",
        "    n_jobs=-1,\n",
        "    scoring=\"neg_root_mean_squared_error\"\n",
        ")"
      ],
      "metadata": {
        "id": "TajbXNN8MRE4"
      },
      "id": "TajbXNN8MRE4",
      "execution_count": null,
      "outputs": []
    },
    {
      "cell_type": "code",
      "source": [
        "grid_search_cv"
      ],
      "metadata": {
        "id": "cqbV_5dBNr1N"
      },
      "id": "cqbV_5dBNr1N",
      "execution_count": null,
      "outputs": []
    },
    {
      "cell_type": "code",
      "source": [
        "_ = grid_search_cv.fit(features_df, target)"
      ],
      "metadata": {
        "id": "4V1u3rfpK989"
      },
      "id": "4V1u3rfpK989",
      "execution_count": null,
      "outputs": []
    },
    {
      "cell_type": "code",
      "source": [
        "-grid_search_cv.best_score_"
      ],
      "metadata": {
        "id": "ET208VZiNy6c"
      },
      "id": "ET208VZiNy6c",
      "execution_count": null,
      "outputs": []
    },
    {
      "cell_type": "code",
      "source": [
        "grid_search_cv.best_params_"
      ],
      "metadata": {
        "id": "APSSgLrQNyvr"
      },
      "id": "APSSgLrQNyvr",
      "execution_count": null,
      "outputs": []
    },
    {
      "cell_type": "code",
      "source": [],
      "metadata": {
        "id": "mOAJCLn-QY_4"
      },
      "id": "mOAJCLn-QY_4",
      "execution_count": null,
      "outputs": []
    },
    {
      "cell_type": "markdown",
      "source": [
        "## Exercise\n",
        "\n",
        "Fit a decision tree regressor to the following dataset. Select an appropriate scoring metric and evaluate the performance of your regressor using cross-validation. Is your regressor under-fitting? Over-fitting? Tune the regularization hyperparameters to improve the performance of your regressor."
      ],
      "metadata": {
        "id": "OwSKVZ7yDC03"
      },
      "id": "OwSKVZ7yDC03"
    },
    {
      "cell_type": "code",
      "source": [
        "train_df = pd.read_csv(\"./sample_data/california_housing_train.csv\")\n",
        "test_df = pd.read_csv(\"./sample_data/california_housing_test.csv\")\n",
        "\n",
        "features_df = train_df.drop(\"median_house_value\", axis=1)\n",
        "target = train_df.loc[:, \"median_house_value\"]\n"
      ],
      "metadata": {
        "id": "mfkk3IQ1D-A-"
      },
      "id": "mfkk3IQ1D-A-",
      "execution_count": null,
      "outputs": []
    },
    {
      "cell_type": "code",
      "source": [],
      "metadata": {
        "id": "nl6aqiAgOZbe"
      },
      "id": "nl6aqiAgOZbe",
      "execution_count": null,
      "outputs": []
    },
    {
      "cell_type": "markdown",
      "source": [
        "### Solution\n",
        "\n"
      ],
      "metadata": {
        "id": "9aU6p4aSOE1j"
      },
      "id": "9aU6p4aSOE1j"
    },
    {
      "cell_type": "code",
      "source": [
        "\n",
        "# define and fit your pipeline\n",
        "regression_pipeline = pipeline.make_pipeline(\n",
        "    tree.DecisionTreeRegressor(),\n",
        ")\n",
        "_ = regression_pipeline.fit(features_df, target)\n",
        "\n",
        "# assess training performance\n",
        "_predictions = regression_pipeline.predict(features_df)\n",
        "training_score = metrics.root_mean_squared_error(\n",
        "    target,\n",
        "    _predictions,\n",
        ")\n",
        "print(f\"Training RMSE score {training_score}\")\n",
        "\n",
        "# assess validation performance using cv\n",
        "validation_scores = model_selection.cross_val_score(\n",
        "    regression_pipeline,\n",
        "    features_df,\n",
        "    target,\n",
        "    cv=5,\n",
        "    n_jobs=-1,\n",
        "    scoring=\"neg_root_mean_squared_error\"\n",
        ")\n",
        "print(f\"Validation RMSE score {np.mean(-validation_scores)}\")\n"
      ],
      "metadata": {
        "id": "RtSwW55IOLcj"
      },
      "id": "RtSwW55IOLcj",
      "execution_count": null,
      "outputs": []
    },
    {
      "cell_type": "code",
      "source": [
        "# fine-tune regularization hyperparameters\n",
        "param_grid = [\n",
        "    {\n",
        "      \"max_depth\": [1, 2, 4, 8, 16, None],\n",
        "    },\n",
        "    {\n",
        "      \"max_depth\": [None],\n",
        "      \"min_samples_leaf\": [1, 0.01, 0.05, 0.1]\n",
        "    },\n",
        "    {\n",
        "      \"monotonic_cst\": [np.array([0, 0, 0, 1, 1, 0, 0, 1])],\n",
        "    },\n",
        "]\n",
        "\n",
        "grid_search_cv = model_selection.GridSearchCV(\n",
        "    regressor,\n",
        "    param_grid,\n",
        "    cv=5,\n",
        "    n_jobs=-1,\n",
        "    scoring=\"neg_root_mean_squared_error\"\n",
        ")\n",
        "\n",
        "_ = grid_search_cv.fit(features_df, target)\n",
        "fine_tuned_tree_score = -grid_search_cv.best_score_\n",
        "\n",
        "print(f\"Fine-tuned RMSE score {fine_tuned_tree_score}\")\n"
      ],
      "metadata": {
        "id": "zuU-2petO7eq"
      },
      "id": "zuU-2petO7eq",
      "execution_count": null,
      "outputs": []
    },
    {
      "cell_type": "code",
      "source": [
        "grid_search_cv.best_params_"
      ],
      "metadata": {
        "id": "MCSPxlDzPcba"
      },
      "id": "MCSPxlDzPcba",
      "execution_count": null,
      "outputs": []
    },
    {
      "cell_type": "markdown",
      "id": "481229f5-1d1a-4e4b-94eb-a7e5c7d8a28b",
      "metadata": {
        "id": "481229f5-1d1a-4e4b-94eb-a7e5c7d8a28b"
      },
      "source": [
        "## Understanding Feature Importance\n",
        "\n",
        "One of the nice features of decision trees is that they provide a way to measure the importance of each of feature. Understanding feature importance is a topic all unto itself. If you are interested in pulling this thread, then I recommend that you start with [SHapley Additive Explanations (SHAP)](https://shap.readthedocs.io/en/latest/index.html) and then take a look through [*Interpretable Machine Learning*](https://christophm.github.io/interpretable-ml-book/)."
      ]
    },
    {
      "cell_type": "code",
      "source": [
        "regressor = tree.DecisionTreeRegressor()\n",
        "_ = regressor.fit(\n",
        "    features_df,\n",
        "    target\n",
        ")"
      ],
      "metadata": {
        "id": "DV-ejz44FMfr"
      },
      "id": "DV-ejz44FMfr",
      "execution_count": null,
      "outputs": []
    },
    {
      "cell_type": "code",
      "execution_count": null,
      "id": "51d7474a-523f-4af3-b52c-210860f6c83f",
      "metadata": {
        "id": "51d7474a-523f-4af3-b52c-210860f6c83f",
        "tags": []
      },
      "outputs": [],
      "source": [
        "pd.Series(\n",
        "    regressor.feature_importances_,\n",
        "    index=features_df.columns\n",
        ").rename(\n",
        "    \"feature_importance\"\n",
        ").sort_values(\n",
        "     ascending=False\n",
        ")"
      ]
    },
    {
      "cell_type": "markdown",
      "source": [
        "## Exercise\n",
        "\n",
        "Grow a forest by following these steps:\n",
        "\n",
        "1. Continuing the previous exercise, generate 1,000 subsets of the training set, each containing 80% of the training instances selected randomly. Hint: you can use Scikit-Learn’s ShuffleSplit class for this."
      ],
      "metadata": {
        "id": "4qcS4rWnGVtc"
      },
      "id": "4qcS4rWnGVtc"
    },
    {
      "cell_type": "code",
      "execution_count": null,
      "id": "ed2cedef-b497-4eda-9bbd-ab04263e2087",
      "metadata": {
        "id": "ed2cedef-b497-4eda-9bbd-ab04263e2087"
      },
      "outputs": [],
      "source": []
    },
    {
      "cell_type": "markdown",
      "source": [
        "2. Train one decision tree on each subset, using the best hyperparameter values found in the previous exercise. Evaluate these 1,000 decision trees on the test set. Since they were trained on smaller sets, these decision trees will likely perform worse than the first decision tree.\n"
      ],
      "metadata": {
        "id": "VLKD4X5wHDHf"
      },
      "id": "VLKD4X5wHDHf"
    },
    {
      "cell_type": "code",
      "source": [],
      "metadata": {
        "id": "sCRQpd4FHCGb"
      },
      "id": "sCRQpd4FHCGb",
      "execution_count": null,
      "outputs": []
    },
    {
      "cell_type": "markdown",
      "source": [
        "3. Now comes the magic. For each test set instance, generate the predictions of the 1,000 decision trees, and average the predictions together to compute the overall prediction."
      ],
      "metadata": {
        "id": "vIyKVJ-jHFO1"
      },
      "id": "vIyKVJ-jHFO1"
    },
    {
      "cell_type": "code",
      "source": [],
      "metadata": {
        "id": "9XOvwjB-HGTU"
      },
      "id": "9XOvwjB-HGTU",
      "execution_count": null,
      "outputs": []
    },
    {
      "cell_type": "markdown",
      "source": [
        "4. Evaluate these predictions on the test set: you should obtain a slightly lower error than your first model. Congratulations, you have trained a random forest regressor!"
      ],
      "metadata": {
        "id": "5xTWLH0FHGu0"
      },
      "id": "5xTWLH0FHGu0"
    },
    {
      "cell_type": "code",
      "source": [],
      "metadata": {
        "id": "IgcDYUXlHHFp"
      },
      "id": "IgcDYUXlHHFp",
      "execution_count": null,
      "outputs": []
    }
  ],
  "metadata": {
    "colab": {
      "provenance": []
    },
    "kernelspec": {
      "display_name": "Python 3 (ipykernel)",
      "language": "python",
      "name": "python3"
    },
    "language_info": {
      "codemirror_mode": {
        "name": "ipython",
        "version": 3
      },
      "file_extension": ".py",
      "mimetype": "text/x-python",
      "name": "python",
      "nbconvert_exporter": "python",
      "pygments_lexer": "ipython3",
      "version": "3.10.6"
    }
  },
  "nbformat": 4,
  "nbformat_minor": 5
}