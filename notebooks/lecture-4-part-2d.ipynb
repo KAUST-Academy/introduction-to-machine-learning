{
  "cells": [
    {
      "cell_type": "code",
      "execution_count": 16,
      "metadata": {
        "id": "BqXqSwkNMZnh"
      },
      "outputs": [],
      "source": [
        "import pathlib\n",
        "\n",
        "import matplotlib.pyplot as plt\n",
        "import numpy as np\n",
        "from sklearn import compose, datasets, linear_model, metrics, model_selection\n",
        "from sklearn import pipeline, preprocessing, utils"
      ]
    },
    {
      "cell_type": "markdown",
      "metadata": {
        "id": "wZWFwAtSMf2-"
      },
      "source": [
        "# Softmax Regression with Scikit-Learn"
      ]
    },
    {
      "cell_type": "code",
      "execution_count": null,
      "metadata": {
        "id": "Pic_KeQvHUR8"
      },
      "outputs": [],
      "source": [
        "datasets.fetch_covtype?"
      ]
    },
    {
      "cell_type": "code",
      "source": [
        "bunch = datasets.fetch_covtype(\n",
        "    data_home=\"/content/sample_datasets\",\n",
        ")"
      ],
      "metadata": {
        "id": "TdPDSI1K0jgG"
      },
      "execution_count": null,
      "outputs": []
    },
    {
      "cell_type": "code",
      "source": [
        "print(bunch[\"DESCR\"])"
      ],
      "metadata": {
        "colab": {
          "base_uri": "https://localhost:8080/"
        },
        "id": "5L8NgBOK0ona",
        "outputId": "b15347ab-a097-470f-a3d2-cbb8ce7b3c0a"
      },
      "execution_count": null,
      "outputs": [
        {
          "output_type": "stream",
          "name": "stdout",
          "text": [
            ".. _covtype_dataset:\n",
            "\n",
            "Forest covertypes\n",
            "-----------------\n",
            "\n",
            "The samples in this dataset correspond to 30×30m patches of forest in the US,\n",
            "collected for the task of predicting each patch's cover type,\n",
            "i.e. the dominant species of tree.\n",
            "There are seven covertypes, making this a multiclass classification problem.\n",
            "Each sample has 54 features, described on the\n",
            "`dataset's homepage <https://archive.ics.uci.edu/ml/datasets/Covertype>`__.\n",
            "Some of the features are boolean indicators,\n",
            "while others are discrete or continuous measurements.\n",
            "\n",
            "**Data Set Characteristics:**\n",
            "\n",
            "    =================   ============\n",
            "    Classes                        7\n",
            "    Samples total             581012\n",
            "    Dimensionality                54\n",
            "    Features                     int\n",
            "    =================   ============\n",
            "\n",
            ":func:`sklearn.datasets.fetch_covtype` will load the covertype dataset;\n",
            "it returns a dictionary-like 'Bunch' object\n",
            "with the feature matrix in the ``data`` member\n",
            "and the target values in ``target``. If optional argument 'as_frame' is\n",
            "set to 'True', it will return ``data`` and ``target`` as pandas\n",
            "data frame, and there will be an additional member ``frame`` as well.\n",
            "The dataset will be downloaded from the web if necessary.\n",
            "\n"
          ]
        }
      ]
    },
    {
      "cell_type": "code",
      "execution_count": 2,
      "metadata": {
        "id": "8fTfsl2JHUR8"
      },
      "outputs": [],
      "source": [
        "features, targets = datasets.fetch_covtype(\n",
        "    data_home=\"/content/sample_datasets\",\n",
        "    return_X_y=True,\n",
        "    as_frame=True\n",
        ")"
      ]
    },
    {
      "cell_type": "code",
      "source": [
        "features.head()"
      ],
      "metadata": {
        "colab": {
          "base_uri": "https://localhost:8080/",
          "height": 256
        },
        "id": "_CRuPOowxpRX",
        "outputId": "1c163231-ab16-486e-fded-66db6987e2c8"
      },
      "execution_count": 3,
      "outputs": [
        {
          "output_type": "execute_result",
          "data": {
            "text/plain": [
              "   Elevation  Aspect  Slope  Horizontal_Distance_To_Hydrology  \\\n",
              "0     2596.0    51.0    3.0                             258.0   \n",
              "1     2590.0    56.0    2.0                             212.0   \n",
              "2     2804.0   139.0    9.0                             268.0   \n",
              "3     2785.0   155.0   18.0                             242.0   \n",
              "4     2595.0    45.0    2.0                             153.0   \n",
              "\n",
              "   Vertical_Distance_To_Hydrology  Horizontal_Distance_To_Roadways  \\\n",
              "0                             0.0                            510.0   \n",
              "1                            -6.0                            390.0   \n",
              "2                            65.0                           3180.0   \n",
              "3                           118.0                           3090.0   \n",
              "4                            -1.0                            391.0   \n",
              "\n",
              "   Hillshade_9am  Hillshade_Noon  Hillshade_3pm  \\\n",
              "0          221.0           232.0          148.0   \n",
              "1          220.0           235.0          151.0   \n",
              "2          234.0           238.0          135.0   \n",
              "3          238.0           238.0          122.0   \n",
              "4          220.0           234.0          150.0   \n",
              "\n",
              "   Horizontal_Distance_To_Fire_Points  ...  Soil_Type_30  Soil_Type_31  \\\n",
              "0                              6279.0  ...           0.0           0.0   \n",
              "1                              6225.0  ...           0.0           0.0   \n",
              "2                              6121.0  ...           0.0           0.0   \n",
              "3                              6211.0  ...           0.0           0.0   \n",
              "4                              6172.0  ...           0.0           0.0   \n",
              "\n",
              "   Soil_Type_32  Soil_Type_33  Soil_Type_34  Soil_Type_35  Soil_Type_36  \\\n",
              "0           0.0           0.0           0.0           0.0           0.0   \n",
              "1           0.0           0.0           0.0           0.0           0.0   \n",
              "2           0.0           0.0           0.0           0.0           0.0   \n",
              "3           0.0           0.0           0.0           0.0           0.0   \n",
              "4           0.0           0.0           0.0           0.0           0.0   \n",
              "\n",
              "   Soil_Type_37  Soil_Type_38  Soil_Type_39  \n",
              "0           0.0           0.0           0.0  \n",
              "1           0.0           0.0           0.0  \n",
              "2           0.0           0.0           0.0  \n",
              "3           0.0           0.0           0.0  \n",
              "4           0.0           0.0           0.0  \n",
              "\n",
              "[5 rows x 54 columns]"
            ],
            "text/html": [
              "\n",
              "  <div id=\"df-f5bbd122-b93a-4f62-8f05-d710e96b6342\" class=\"colab-df-container\">\n",
              "    <div>\n",
              "<style scoped>\n",
              "    .dataframe tbody tr th:only-of-type {\n",
              "        vertical-align: middle;\n",
              "    }\n",
              "\n",
              "    .dataframe tbody tr th {\n",
              "        vertical-align: top;\n",
              "    }\n",
              "\n",
              "    .dataframe thead th {\n",
              "        text-align: right;\n",
              "    }\n",
              "</style>\n",
              "<table border=\"1\" class=\"dataframe\">\n",
              "  <thead>\n",
              "    <tr style=\"text-align: right;\">\n",
              "      <th></th>\n",
              "      <th>Elevation</th>\n",
              "      <th>Aspect</th>\n",
              "      <th>Slope</th>\n",
              "      <th>Horizontal_Distance_To_Hydrology</th>\n",
              "      <th>Vertical_Distance_To_Hydrology</th>\n",
              "      <th>Horizontal_Distance_To_Roadways</th>\n",
              "      <th>Hillshade_9am</th>\n",
              "      <th>Hillshade_Noon</th>\n",
              "      <th>Hillshade_3pm</th>\n",
              "      <th>Horizontal_Distance_To_Fire_Points</th>\n",
              "      <th>...</th>\n",
              "      <th>Soil_Type_30</th>\n",
              "      <th>Soil_Type_31</th>\n",
              "      <th>Soil_Type_32</th>\n",
              "      <th>Soil_Type_33</th>\n",
              "      <th>Soil_Type_34</th>\n",
              "      <th>Soil_Type_35</th>\n",
              "      <th>Soil_Type_36</th>\n",
              "      <th>Soil_Type_37</th>\n",
              "      <th>Soil_Type_38</th>\n",
              "      <th>Soil_Type_39</th>\n",
              "    </tr>\n",
              "  </thead>\n",
              "  <tbody>\n",
              "    <tr>\n",
              "      <th>0</th>\n",
              "      <td>2596.0</td>\n",
              "      <td>51.0</td>\n",
              "      <td>3.0</td>\n",
              "      <td>258.0</td>\n",
              "      <td>0.0</td>\n",
              "      <td>510.0</td>\n",
              "      <td>221.0</td>\n",
              "      <td>232.0</td>\n",
              "      <td>148.0</td>\n",
              "      <td>6279.0</td>\n",
              "      <td>...</td>\n",
              "      <td>0.0</td>\n",
              "      <td>0.0</td>\n",
              "      <td>0.0</td>\n",
              "      <td>0.0</td>\n",
              "      <td>0.0</td>\n",
              "      <td>0.0</td>\n",
              "      <td>0.0</td>\n",
              "      <td>0.0</td>\n",
              "      <td>0.0</td>\n",
              "      <td>0.0</td>\n",
              "    </tr>\n",
              "    <tr>\n",
              "      <th>1</th>\n",
              "      <td>2590.0</td>\n",
              "      <td>56.0</td>\n",
              "      <td>2.0</td>\n",
              "      <td>212.0</td>\n",
              "      <td>-6.0</td>\n",
              "      <td>390.0</td>\n",
              "      <td>220.0</td>\n",
              "      <td>235.0</td>\n",
              "      <td>151.0</td>\n",
              "      <td>6225.0</td>\n",
              "      <td>...</td>\n",
              "      <td>0.0</td>\n",
              "      <td>0.0</td>\n",
              "      <td>0.0</td>\n",
              "      <td>0.0</td>\n",
              "      <td>0.0</td>\n",
              "      <td>0.0</td>\n",
              "      <td>0.0</td>\n",
              "      <td>0.0</td>\n",
              "      <td>0.0</td>\n",
              "      <td>0.0</td>\n",
              "    </tr>\n",
              "    <tr>\n",
              "      <th>2</th>\n",
              "      <td>2804.0</td>\n",
              "      <td>139.0</td>\n",
              "      <td>9.0</td>\n",
              "      <td>268.0</td>\n",
              "      <td>65.0</td>\n",
              "      <td>3180.0</td>\n",
              "      <td>234.0</td>\n",
              "      <td>238.0</td>\n",
              "      <td>135.0</td>\n",
              "      <td>6121.0</td>\n",
              "      <td>...</td>\n",
              "      <td>0.0</td>\n",
              "      <td>0.0</td>\n",
              "      <td>0.0</td>\n",
              "      <td>0.0</td>\n",
              "      <td>0.0</td>\n",
              "      <td>0.0</td>\n",
              "      <td>0.0</td>\n",
              "      <td>0.0</td>\n",
              "      <td>0.0</td>\n",
              "      <td>0.0</td>\n",
              "    </tr>\n",
              "    <tr>\n",
              "      <th>3</th>\n",
              "      <td>2785.0</td>\n",
              "      <td>155.0</td>\n",
              "      <td>18.0</td>\n",
              "      <td>242.0</td>\n",
              "      <td>118.0</td>\n",
              "      <td>3090.0</td>\n",
              "      <td>238.0</td>\n",
              "      <td>238.0</td>\n",
              "      <td>122.0</td>\n",
              "      <td>6211.0</td>\n",
              "      <td>...</td>\n",
              "      <td>0.0</td>\n",
              "      <td>0.0</td>\n",
              "      <td>0.0</td>\n",
              "      <td>0.0</td>\n",
              "      <td>0.0</td>\n",
              "      <td>0.0</td>\n",
              "      <td>0.0</td>\n",
              "      <td>0.0</td>\n",
              "      <td>0.0</td>\n",
              "      <td>0.0</td>\n",
              "    </tr>\n",
              "    <tr>\n",
              "      <th>4</th>\n",
              "      <td>2595.0</td>\n",
              "      <td>45.0</td>\n",
              "      <td>2.0</td>\n",
              "      <td>153.0</td>\n",
              "      <td>-1.0</td>\n",
              "      <td>391.0</td>\n",
              "      <td>220.0</td>\n",
              "      <td>234.0</td>\n",
              "      <td>150.0</td>\n",
              "      <td>6172.0</td>\n",
              "      <td>...</td>\n",
              "      <td>0.0</td>\n",
              "      <td>0.0</td>\n",
              "      <td>0.0</td>\n",
              "      <td>0.0</td>\n",
              "      <td>0.0</td>\n",
              "      <td>0.0</td>\n",
              "      <td>0.0</td>\n",
              "      <td>0.0</td>\n",
              "      <td>0.0</td>\n",
              "      <td>0.0</td>\n",
              "    </tr>\n",
              "  </tbody>\n",
              "</table>\n",
              "<p>5 rows × 54 columns</p>\n",
              "</div>\n",
              "    <div class=\"colab-df-buttons\">\n",
              "\n",
              "  <div class=\"colab-df-container\">\n",
              "    <button class=\"colab-df-convert\" onclick=\"convertToInteractive('df-f5bbd122-b93a-4f62-8f05-d710e96b6342')\"\n",
              "            title=\"Convert this dataframe to an interactive table.\"\n",
              "            style=\"display:none;\">\n",
              "\n",
              "  <svg xmlns=\"http://www.w3.org/2000/svg\" height=\"24px\" viewBox=\"0 -960 960 960\">\n",
              "    <path d=\"M120-120v-720h720v720H120Zm60-500h600v-160H180v160Zm220 220h160v-160H400v160Zm0 220h160v-160H400v160ZM180-400h160v-160H180v160Zm440 0h160v-160H620v160ZM180-180h160v-160H180v160Zm440 0h160v-160H620v160Z\"/>\n",
              "  </svg>\n",
              "    </button>\n",
              "\n",
              "  <style>\n",
              "    .colab-df-container {\n",
              "      display:flex;\n",
              "      gap: 12px;\n",
              "    }\n",
              "\n",
              "    .colab-df-convert {\n",
              "      background-color: #E8F0FE;\n",
              "      border: none;\n",
              "      border-radius: 50%;\n",
              "      cursor: pointer;\n",
              "      display: none;\n",
              "      fill: #1967D2;\n",
              "      height: 32px;\n",
              "      padding: 0 0 0 0;\n",
              "      width: 32px;\n",
              "    }\n",
              "\n",
              "    .colab-df-convert:hover {\n",
              "      background-color: #E2EBFA;\n",
              "      box-shadow: 0px 1px 2px rgba(60, 64, 67, 0.3), 0px 1px 3px 1px rgba(60, 64, 67, 0.15);\n",
              "      fill: #174EA6;\n",
              "    }\n",
              "\n",
              "    .colab-df-buttons div {\n",
              "      margin-bottom: 4px;\n",
              "    }\n",
              "\n",
              "    [theme=dark] .colab-df-convert {\n",
              "      background-color: #3B4455;\n",
              "      fill: #D2E3FC;\n",
              "    }\n",
              "\n",
              "    [theme=dark] .colab-df-convert:hover {\n",
              "      background-color: #434B5C;\n",
              "      box-shadow: 0px 1px 3px 1px rgba(0, 0, 0, 0.15);\n",
              "      filter: drop-shadow(0px 1px 2px rgba(0, 0, 0, 0.3));\n",
              "      fill: #FFFFFF;\n",
              "    }\n",
              "  </style>\n",
              "\n",
              "    <script>\n",
              "      const buttonEl =\n",
              "        document.querySelector('#df-f5bbd122-b93a-4f62-8f05-d710e96b6342 button.colab-df-convert');\n",
              "      buttonEl.style.display =\n",
              "        google.colab.kernel.accessAllowed ? 'block' : 'none';\n",
              "\n",
              "      async function convertToInteractive(key) {\n",
              "        const element = document.querySelector('#df-f5bbd122-b93a-4f62-8f05-d710e96b6342');\n",
              "        const dataTable =\n",
              "          await google.colab.kernel.invokeFunction('convertToInteractive',\n",
              "                                                    [key], {});\n",
              "        if (!dataTable) return;\n",
              "\n",
              "        const docLinkHtml = 'Like what you see? Visit the ' +\n",
              "          '<a target=\"_blank\" href=https://colab.research.google.com/notebooks/data_table.ipynb>data table notebook</a>'\n",
              "          + ' to learn more about interactive tables.';\n",
              "        element.innerHTML = '';\n",
              "        dataTable['output_type'] = 'display_data';\n",
              "        await google.colab.output.renderOutput(dataTable, element);\n",
              "        const docLink = document.createElement('div');\n",
              "        docLink.innerHTML = docLinkHtml;\n",
              "        element.appendChild(docLink);\n",
              "      }\n",
              "    </script>\n",
              "  </div>\n",
              "\n",
              "\n",
              "<div id=\"df-27e44967-891d-4c8a-af54-1dd5de2b40d6\">\n",
              "  <button class=\"colab-df-quickchart\" onclick=\"quickchart('df-27e44967-891d-4c8a-af54-1dd5de2b40d6')\"\n",
              "            title=\"Suggest charts\"\n",
              "            style=\"display:none;\">\n",
              "\n",
              "<svg xmlns=\"http://www.w3.org/2000/svg\" height=\"24px\"viewBox=\"0 0 24 24\"\n",
              "     width=\"24px\">\n",
              "    <g>\n",
              "        <path d=\"M19 3H5c-1.1 0-2 .9-2 2v14c0 1.1.9 2 2 2h14c1.1 0 2-.9 2-2V5c0-1.1-.9-2-2-2zM9 17H7v-7h2v7zm4 0h-2V7h2v10zm4 0h-2v-4h2v4z\"/>\n",
              "    </g>\n",
              "</svg>\n",
              "  </button>\n",
              "\n",
              "<style>\n",
              "  .colab-df-quickchart {\n",
              "      --bg-color: #E8F0FE;\n",
              "      --fill-color: #1967D2;\n",
              "      --hover-bg-color: #E2EBFA;\n",
              "      --hover-fill-color: #174EA6;\n",
              "      --disabled-fill-color: #AAA;\n",
              "      --disabled-bg-color: #DDD;\n",
              "  }\n",
              "\n",
              "  [theme=dark] .colab-df-quickchart {\n",
              "      --bg-color: #3B4455;\n",
              "      --fill-color: #D2E3FC;\n",
              "      --hover-bg-color: #434B5C;\n",
              "      --hover-fill-color: #FFFFFF;\n",
              "      --disabled-bg-color: #3B4455;\n",
              "      --disabled-fill-color: #666;\n",
              "  }\n",
              "\n",
              "  .colab-df-quickchart {\n",
              "    background-color: var(--bg-color);\n",
              "    border: none;\n",
              "    border-radius: 50%;\n",
              "    cursor: pointer;\n",
              "    display: none;\n",
              "    fill: var(--fill-color);\n",
              "    height: 32px;\n",
              "    padding: 0;\n",
              "    width: 32px;\n",
              "  }\n",
              "\n",
              "  .colab-df-quickchart:hover {\n",
              "    background-color: var(--hover-bg-color);\n",
              "    box-shadow: 0 1px 2px rgba(60, 64, 67, 0.3), 0 1px 3px 1px rgba(60, 64, 67, 0.15);\n",
              "    fill: var(--button-hover-fill-color);\n",
              "  }\n",
              "\n",
              "  .colab-df-quickchart-complete:disabled,\n",
              "  .colab-df-quickchart-complete:disabled:hover {\n",
              "    background-color: var(--disabled-bg-color);\n",
              "    fill: var(--disabled-fill-color);\n",
              "    box-shadow: none;\n",
              "  }\n",
              "\n",
              "  .colab-df-spinner {\n",
              "    border: 2px solid var(--fill-color);\n",
              "    border-color: transparent;\n",
              "    border-bottom-color: var(--fill-color);\n",
              "    animation:\n",
              "      spin 1s steps(1) infinite;\n",
              "  }\n",
              "\n",
              "  @keyframes spin {\n",
              "    0% {\n",
              "      border-color: transparent;\n",
              "      border-bottom-color: var(--fill-color);\n",
              "      border-left-color: var(--fill-color);\n",
              "    }\n",
              "    20% {\n",
              "      border-color: transparent;\n",
              "      border-left-color: var(--fill-color);\n",
              "      border-top-color: var(--fill-color);\n",
              "    }\n",
              "    30% {\n",
              "      border-color: transparent;\n",
              "      border-left-color: var(--fill-color);\n",
              "      border-top-color: var(--fill-color);\n",
              "      border-right-color: var(--fill-color);\n",
              "    }\n",
              "    40% {\n",
              "      border-color: transparent;\n",
              "      border-right-color: var(--fill-color);\n",
              "      border-top-color: var(--fill-color);\n",
              "    }\n",
              "    60% {\n",
              "      border-color: transparent;\n",
              "      border-right-color: var(--fill-color);\n",
              "    }\n",
              "    80% {\n",
              "      border-color: transparent;\n",
              "      border-right-color: var(--fill-color);\n",
              "      border-bottom-color: var(--fill-color);\n",
              "    }\n",
              "    90% {\n",
              "      border-color: transparent;\n",
              "      border-bottom-color: var(--fill-color);\n",
              "    }\n",
              "  }\n",
              "</style>\n",
              "\n",
              "  <script>\n",
              "    async function quickchart(key) {\n",
              "      const quickchartButtonEl =\n",
              "        document.querySelector('#' + key + ' button');\n",
              "      quickchartButtonEl.disabled = true;  // To prevent multiple clicks.\n",
              "      quickchartButtonEl.classList.add('colab-df-spinner');\n",
              "      try {\n",
              "        const charts = await google.colab.kernel.invokeFunction(\n",
              "            'suggestCharts', [key], {});\n",
              "      } catch (error) {\n",
              "        console.error('Error during call to suggestCharts:', error);\n",
              "      }\n",
              "      quickchartButtonEl.classList.remove('colab-df-spinner');\n",
              "      quickchartButtonEl.classList.add('colab-df-quickchart-complete');\n",
              "    }\n",
              "    (() => {\n",
              "      let quickchartButtonEl =\n",
              "        document.querySelector('#df-27e44967-891d-4c8a-af54-1dd5de2b40d6 button');\n",
              "      quickchartButtonEl.style.display =\n",
              "        google.colab.kernel.accessAllowed ? 'block' : 'none';\n",
              "    })();\n",
              "  </script>\n",
              "</div>\n",
              "    </div>\n",
              "  </div>\n"
            ]
          },
          "metadata": {},
          "execution_count": 3
        }
      ]
    },
    {
      "cell_type": "code",
      "source": [
        "features.info()"
      ],
      "metadata": {
        "colab": {
          "base_uri": "https://localhost:8080/"
        },
        "id": "lUrZBC1pzZAx",
        "outputId": "3cc9050b-616c-46d1-d0d6-1bc3d1435bad"
      },
      "execution_count": 4,
      "outputs": [
        {
          "output_type": "stream",
          "name": "stdout",
          "text": [
            "<class 'pandas.core.frame.DataFrame'>\n",
            "RangeIndex: 581012 entries, 0 to 581011\n",
            "Data columns (total 54 columns):\n",
            " #   Column                              Non-Null Count   Dtype  \n",
            "---  ------                              --------------   -----  \n",
            " 0   Elevation                           581012 non-null  float64\n",
            " 1   Aspect                              581012 non-null  float64\n",
            " 2   Slope                               581012 non-null  float64\n",
            " 3   Horizontal_Distance_To_Hydrology    581012 non-null  float64\n",
            " 4   Vertical_Distance_To_Hydrology      581012 non-null  float64\n",
            " 5   Horizontal_Distance_To_Roadways     581012 non-null  float64\n",
            " 6   Hillshade_9am                       581012 non-null  float64\n",
            " 7   Hillshade_Noon                      581012 non-null  float64\n",
            " 8   Hillshade_3pm                       581012 non-null  float64\n",
            " 9   Horizontal_Distance_To_Fire_Points  581012 non-null  float64\n",
            " 10  Wilderness_Area_0                   581012 non-null  float64\n",
            " 11  Wilderness_Area_1                   581012 non-null  float64\n",
            " 12  Wilderness_Area_2                   581012 non-null  float64\n",
            " 13  Wilderness_Area_3                   581012 non-null  float64\n",
            " 14  Soil_Type_0                         581012 non-null  float64\n",
            " 15  Soil_Type_1                         581012 non-null  float64\n",
            " 16  Soil_Type_2                         581012 non-null  float64\n",
            " 17  Soil_Type_3                         581012 non-null  float64\n",
            " 18  Soil_Type_4                         581012 non-null  float64\n",
            " 19  Soil_Type_5                         581012 non-null  float64\n",
            " 20  Soil_Type_6                         581012 non-null  float64\n",
            " 21  Soil_Type_7                         581012 non-null  float64\n",
            " 22  Soil_Type_8                         581012 non-null  float64\n",
            " 23  Soil_Type_9                         581012 non-null  float64\n",
            " 24  Soil_Type_10                        581012 non-null  float64\n",
            " 25  Soil_Type_11                        581012 non-null  float64\n",
            " 26  Soil_Type_12                        581012 non-null  float64\n",
            " 27  Soil_Type_13                        581012 non-null  float64\n",
            " 28  Soil_Type_14                        581012 non-null  float64\n",
            " 29  Soil_Type_15                        581012 non-null  float64\n",
            " 30  Soil_Type_16                        581012 non-null  float64\n",
            " 31  Soil_Type_17                        581012 non-null  float64\n",
            " 32  Soil_Type_18                        581012 non-null  float64\n",
            " 33  Soil_Type_19                        581012 non-null  float64\n",
            " 34  Soil_Type_20                        581012 non-null  float64\n",
            " 35  Soil_Type_21                        581012 non-null  float64\n",
            " 36  Soil_Type_22                        581012 non-null  float64\n",
            " 37  Soil_Type_23                        581012 non-null  float64\n",
            " 38  Soil_Type_24                        581012 non-null  float64\n",
            " 39  Soil_Type_25                        581012 non-null  float64\n",
            " 40  Soil_Type_26                        581012 non-null  float64\n",
            " 41  Soil_Type_27                        581012 non-null  float64\n",
            " 42  Soil_Type_28                        581012 non-null  float64\n",
            " 43  Soil_Type_29                        581012 non-null  float64\n",
            " 44  Soil_Type_30                        581012 non-null  float64\n",
            " 45  Soil_Type_31                        581012 non-null  float64\n",
            " 46  Soil_Type_32                        581012 non-null  float64\n",
            " 47  Soil_Type_33                        581012 non-null  float64\n",
            " 48  Soil_Type_34                        581012 non-null  float64\n",
            " 49  Soil_Type_35                        581012 non-null  float64\n",
            " 50  Soil_Type_36                        581012 non-null  float64\n",
            " 51  Soil_Type_37                        581012 non-null  float64\n",
            " 52  Soil_Type_38                        581012 non-null  float64\n",
            " 53  Soil_Type_39                        581012 non-null  float64\n",
            "dtypes: float64(54)\n",
            "memory usage: 239.4 MB\n"
          ]
        }
      ]
    },
    {
      "cell_type": "markdown",
      "source": [
        "### Train-test split"
      ],
      "metadata": {
        "id": "iRuGO5YhhC86"
      }
    },
    {
      "cell_type": "code",
      "source": [
        "prng = np.random.RandomState(42)\n",
        "train_features, test_features, train_target, test_target = (\n",
        "    model_selection.train_test_split(\n",
        "        features,\n",
        "        targets,\n",
        "        random_state=prng,\n",
        "        stratify=targets,\n",
        "        test_size=0.1\n",
        "    )\n",
        ")"
      ],
      "metadata": {
        "id": "3bPVLcg5IaLr"
      },
      "execution_count": 8,
      "outputs": []
    },
    {
      "cell_type": "markdown",
      "source": [
        "## Preparing the data"
      ],
      "metadata": {
        "id": "MDZ7w9ek_NPC"
      }
    },
    {
      "cell_type": "code",
      "source": [
        "feature_preprocessor = compose.ColumnTransformer(\n",
        "    transformers=[\n",
        "        (\n",
        "            \"standard_scaler\",\n",
        "            preprocessing.StandardScaler(),\n",
        "            [\n",
        "                \"Elevation\",\n",
        "                \"Aspect\",\n",
        "                \"Slope\",\n",
        "                \"Horizontal_Distance_To_Hydrology\",\n",
        "                \"Vertical_Distance_To_Hydrology\",\n",
        "                \"Horizontal_Distance_To_Roadways\",\n",
        "                \"Hillshade_9am\",\n",
        "                \"Hillshade_Noon\",\n",
        "                \"Hillshade_3pm\",\n",
        "                \"Horizontal_Distance_To_Fire_Points\"\n",
        "            ]\n",
        "        )\n",
        "    ],\n",
        "    remainder=\"passthrough\",\n",
        "    verbose_feature_names_out=False\n",
        ").set_output(transform=\"pandas\")"
      ],
      "metadata": {
        "id": "7STo8eVz1Usr"
      },
      "execution_count": 9,
      "outputs": []
    },
    {
      "cell_type": "markdown",
      "source": [
        "### Train using SGDClassifier"
      ],
      "metadata": {
        "id": "h3JwOS2MhyJW"
      }
    },
    {
      "cell_type": "code",
      "execution_count": 17,
      "metadata": {
        "id": "329CnQnEHUR-",
        "colab": {
          "base_uri": "https://localhost:8080/"
        },
        "outputId": "02a92fac-88cb-4c64-c611-de1dc240cd02"
      },
      "outputs": [
        {
          "output_type": "stream",
          "name": "stdout",
          "text": [
            "[Pipeline] . (step 1 of 2) Processing columntransformer, total=   0.6s\n",
            "[Pipeline] ..... (step 2 of 2) Processing sgdclassifier, total=  15.7s\n"
          ]
        }
      ],
      "source": [
        "ml_pipeline = pipeline.make_pipeline(\n",
        "    feature_preprocessor,\n",
        "    linear_model.SGDClassifier(),\n",
        "    verbose=True,\n",
        ")\n",
        "_ = ml_pipeline.fit(train_features, train_target)"
      ]
    },
    {
      "cell_type": "markdown",
      "source": [
        "### Assess Performance"
      ],
      "metadata": {
        "id": "EtruFjt4AhXl"
      }
    },
    {
      "cell_type": "code",
      "source": [
        "train_predictions = ml_pipeline.predict(train_features)\n",
        "report = metrics.classification_report(\n",
        "    train_target,\n",
        "    train_predictions\n",
        ")\n",
        "print(report)"
      ],
      "metadata": {
        "id": "xhHdqI8TB3Or",
        "colab": {
          "base_uri": "https://localhost:8080/"
        },
        "outputId": "504e91db-dbfa-4146-984c-405953d6ec92"
      },
      "execution_count": 18,
      "outputs": [
        {
          "output_type": "stream",
          "name": "stdout",
          "text": [
            "              precision    recall  f1-score   support\n",
            "\n",
            "           1       0.70      0.71      0.71    190656\n",
            "           2       0.75      0.79      0.77    254970\n",
            "           3       0.62      0.86      0.72     32179\n",
            "           4       0.73      0.22      0.34      2472\n",
            "           5       0.32      0.05      0.09      8544\n",
            "           6       0.28      0.05      0.09     15630\n",
            "           7       0.69      0.50      0.58     18459\n",
            "\n",
            "    accuracy                           0.71    522910\n",
            "   macro avg       0.59      0.45      0.47    522910\n",
            "weighted avg       0.70      0.71      0.70    522910\n",
            "\n"
          ]
        }
      ]
    },
    {
      "cell_type": "code",
      "execution_count": 19,
      "metadata": {
        "id": "CNHrKRGYHUR_",
        "colab": {
          "base_uri": "https://localhost:8080/"
        },
        "outputId": "0a3f785b-8c2c-4331-d7da-0ab40bd960ed"
      },
      "outputs": [
        {
          "output_type": "stream",
          "name": "stdout",
          "text": [
            "              precision    recall  f1-score   support\n",
            "\n",
            "           1       0.70      0.70      0.70     21184\n",
            "           2       0.74      0.79      0.76     28331\n",
            "           3       0.62      0.85      0.71      3575\n",
            "           4       0.56      0.20      0.29       275\n",
            "           5       0.28      0.05      0.08       949\n",
            "           6       0.31      0.07      0.11      1737\n",
            "           7       0.69      0.49      0.57      2051\n",
            "\n",
            "    accuracy                           0.71     58102\n",
            "   macro avg       0.56      0.45      0.46     58102\n",
            "weighted avg       0.70      0.71      0.70     58102\n",
            "\n"
          ]
        }
      ],
      "source": [
        "test_predictions = ml_pipeline.predict(test_features)\n",
        "report = metrics.classification_report(\n",
        "    test_target,\n",
        "    test_predictions\n",
        ")\n",
        "print(report)"
      ]
    },
    {
      "cell_type": "markdown",
      "source": [
        "### Exercise\n",
        "\n",
        "Read through the documentation of `SGDClassifier`. Play around with the various tuning parameters and see if you can improve the performance of your classifier."
      ],
      "metadata": {
        "id": "mVhEew8u_XEV"
      }
    },
    {
      "cell_type": "code",
      "source": [],
      "metadata": {
        "id": "9hSAPZ4t_mu7"
      },
      "execution_count": null,
      "outputs": []
    },
    {
      "cell_type": "markdown",
      "source": [
        "### Exercise\n",
        "\n",
        "Analyze your model's errors using confusion matrices and interpret your results."
      ],
      "metadata": {
        "id": "6vMrJ7a5hsJ8"
      }
    },
    {
      "cell_type": "code",
      "source": [],
      "metadata": {
        "id": "tqj37ufbG2nP"
      },
      "execution_count": null,
      "outputs": []
    },
    {
      "cell_type": "code",
      "source": [],
      "metadata": {
        "id": "GAYy1Wi7iLT4"
      },
      "execution_count": null,
      "outputs": []
    }
  ],
  "metadata": {
    "colab": {
      "provenance": []
    },
    "kernelspec": {
      "display_name": "Python 3 (ipykernel)",
      "language": "python",
      "name": "python3"
    },
    "language_info": {
      "codemirror_mode": {
        "name": "ipython",
        "version": 3
      },
      "file_extension": ".py",
      "mimetype": "text/x-python",
      "name": "python",
      "nbconvert_exporter": "python",
      "pygments_lexer": "ipython3",
      "version": "3.10.6"
    }
  },
  "nbformat": 4,
  "nbformat_minor": 0
}