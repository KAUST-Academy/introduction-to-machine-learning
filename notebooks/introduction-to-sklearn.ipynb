{
 "cells": [
  {
   "cell_type": "code",
   "execution_count": 1,
   "id": "e3ea2c52-3ead-4484-8a13-59ff459b0f78",
   "metadata": {},
   "outputs": [],
   "source": [
    "import glob\n",
    "import pathlib\n",
    "import pickle\n",
    "import requests\n",
    "import tarfile\n",
    "import time\n",
    "\n",
    "import joblib\n",
    "import matplotlib.pyplot as plt\n",
    "import numpy as np\n",
    "import pandas as pd\n",
    "from sklearn import decomposition, ensemble, linear_model, metrics, tree\n",
    "from sklearn import model_selection, pipeline, preprocessing"
   ]
  },
  {
   "cell_type": "markdown",
   "id": "f9842c7b-4055-4869-9378-7aa8b8764792",
   "metadata": {},
   "source": [
    "# Working with real data"
   ]
  },
  {
   "cell_type": "markdown",
   "id": "2564814d-caee-4301-ba41-ba7aca758bd7",
   "metadata": {},
   "source": []
  },
  {
   "cell_type": "markdown",
   "id": "135ab8b2-f787-41b1-ae77-97d044826dc4",
   "metadata": {},
   "source": [
    "## CIFAR-10 Dataset"
   ]
  },
  {
   "cell_type": "code",
   "execution_count": null,
   "id": "b7202288-1590-4481-b93d-1f917015b381",
   "metadata": {},
   "outputs": [],
   "source": []
  },
  {
   "cell_type": "code",
   "execution_count": null,
   "id": "82d7043e-b3ee-4b2d-bbf5-3aef263af589",
   "metadata": {},
   "outputs": [],
   "source": []
  },
  {
   "cell_type": "code",
   "execution_count": null,
   "id": "e57c7720-dee3-4029-beb6-25b08d391471",
   "metadata": {},
   "outputs": [],
   "source": []
  },
  {
   "cell_type": "code",
   "execution_count": null,
   "id": "cef1b089-8507-4d3f-9e54-ec3d662b3204",
   "metadata": {},
   "outputs": [],
   "source": []
  },
  {
   "cell_type": "markdown",
   "id": "1e76e54f-947c-4123-89c6-e59eedc3621b",
   "metadata": {},
   "source": [
    "# Look at the Big Picture\n",
    "\n",
    "Our goal over these two hands-on workshops will be to build a machine learning modeling pipeline that is capable of classifying images. Today we will mostly focus on classical machine learning algorithms implemented in Scikit-Learn; tomorrow we will revist the same problem using deep learning algorithms implemented in PyTorch. By the time you have finished this two-day workshop you should understand how to build a machine learning application capable of classifying images and be ready to apply what you have learned to a new dataset.\n",
    "\n",
    "This morning we will mostly focus on getting the data and exploring the data to gain new insights. Believe it or not these initial steps are what data scientists and machine learning engineers spend the majority of their time doing! This afternoon we will prepare our data for machine learning, see how to fit a variety of machine learning models to our dataset and shortlist a few candidate models for further analysis. We will then use hyper-parameter tuning to improve the performance of our shortlisted models to arrive at an overall \"best\" model. We will finish with a discussion of how to present the results of your model and talk about some of the aspects of deploying a trained model to make predictions.\n",
    "\n",
    "## Framing the problem\n",
    "\n",
    "### What is the business/research objective?\n",
    "\n",
    "Typically building the model is not the overall objective but rather the model itself is one part of a larger process used to answer a business/research question. Knowing the overall objective is important because it will determine your choice of machine learning algorithms to train, your measure(s) of model performance, and how much time you will spend tweaking the hyper-parameters of your model.\n",
    "\n",
    "In our example today, the overall business/research objective is to make money from serving targeted ads to users of a social media application based on the images that they post. Our image classication model might just be one of potentially many other models whose predictions are taken as inputs into another machine learning model that will be used to determine which ads to show to users. "
   ]
  },
  {
   "cell_type": "code",
   "execution_count": null,
   "id": "456a4fb6-000c-4283-8682-710bba9a7ee8",
   "metadata": {},
   "outputs": [],
   "source": []
  },
  {
   "cell_type": "markdown",
   "id": "05bbe8da-649b-4f5b-ad10-739cebe3c69b",
   "metadata": {},
   "source": [
    "## Select a performance measure"
   ]
  },
  {
   "cell_type": "markdown",
   "id": "e68d2238-7283-441a-b6d8-4ba3c4c682f0",
   "metadata": {},
   "source": [
    "## Download and extract the data"
   ]
  },
  {
   "cell_type": "code",
   "execution_count": 56,
   "id": "805a1128-663c-4014-bc2f-8dd9ff2bb1f6",
   "metadata": {},
   "outputs": [],
   "source": [
    "DATA_DIR = pathlib.Path(\"../data/\")\n",
    "RAW_DATA_DIR = DATA_DIR / \"cifar-10\"\n",
    "URL = \"https://www.cs.toronto.edu/~kriz/cifar-10-python.tar.gz\"\n",
    "\n",
    "\n",
    "RAW_DATA_DIR.mkdir(exist_ok=True)\n",
    "    \n",
    "with open(RAW_DATA_DIR / \"cifar-10-python.tar.gz\", \"wb\") as f:\n",
    "    response = requests.get(URL)\n",
    "    f.write(response.content)\n",
    "\n",
    "with tarfile.open(RAW_DATA_DIR / \"cifar-10-python.tar.gz\", \"r:gz\") as f:\n",
    "    f.extractall(RAW_DATA_DIR)\n",
    "    "
   ]
  },
  {
   "cell_type": "markdown",
   "id": "02cc24c9-260e-4840-8872-723f0adc6f41",
   "metadata": {},
   "source": [
    "## Load the data"
   ]
  },
  {
   "cell_type": "code",
   "execution_count": 3,
   "id": "a2314910-3dcc-4c21-8365-32e116a55c3f",
   "metadata": {},
   "outputs": [],
   "source": [
    "data = []\n",
    "labels = []\n",
    "filepaths = glob.glob(\"../data/cifar-10/cifar-10-batches-py/*_batch*\")\n",
    "for filepath in sorted(filepaths):\n",
    "    with open(filepath, \"rb\") as f:\n",
    "        batch = pickle.load(f, encoding=\"latin1\")\n",
    "        data.append(batch[\"data\"])\n",
    "        labels.extend(batch[\"labels\"])\n",
    "        \n",
    "# each image has 3 channels with height and width of 32 pixels\n",
    "features = pd.DataFrame(np.vstack(data), columns= [f\"p{i}\" for i in range(3 * 32 * 32)], dtype=\"uint8\")\n",
    "target = pd.Series(labels, dtype=\"uint8\", name=\"labels\")"
   ]
  },
  {
   "cell_type": "code",
   "execution_count": 4,
   "id": "9b53a9c4-550d-4577-bf0f-bace74843784",
   "metadata": {},
   "outputs": [
    {
     "name": "stdout",
     "output_type": "stream",
     "text": [
      "<class 'pandas.core.frame.DataFrame'>\n",
      "RangeIndex: 60000 entries, 0 to 59999\n",
      "Columns: 3072 entries, p0 to p3071\n",
      "dtypes: uint8(3072)\n",
      "memory usage: 175.8 MB\n"
     ]
    }
   ],
   "source": [
    "features.info()"
   ]
  },
  {
   "cell_type": "code",
   "execution_count": 5,
   "id": "5a672145-6e4a-4a8f-9354-773c665e6139",
   "metadata": {},
   "outputs": [
    {
     "data": {
      "text/html": [
       "<div>\n",
       "<style scoped>\n",
       "    .dataframe tbody tr th:only-of-type {\n",
       "        vertical-align: middle;\n",
       "    }\n",
       "\n",
       "    .dataframe tbody tr th {\n",
       "        vertical-align: top;\n",
       "    }\n",
       "\n",
       "    .dataframe thead th {\n",
       "        text-align: right;\n",
       "    }\n",
       "</style>\n",
       "<table border=\"1\" class=\"dataframe\">\n",
       "  <thead>\n",
       "    <tr style=\"text-align: right;\">\n",
       "      <th></th>\n",
       "      <th>p0</th>\n",
       "      <th>p1</th>\n",
       "      <th>p2</th>\n",
       "      <th>p3</th>\n",
       "      <th>p4</th>\n",
       "      <th>p5</th>\n",
       "      <th>p6</th>\n",
       "      <th>p7</th>\n",
       "      <th>p8</th>\n",
       "      <th>p9</th>\n",
       "      <th>...</th>\n",
       "      <th>p3062</th>\n",
       "      <th>p3063</th>\n",
       "      <th>p3064</th>\n",
       "      <th>p3065</th>\n",
       "      <th>p3066</th>\n",
       "      <th>p3067</th>\n",
       "      <th>p3068</th>\n",
       "      <th>p3069</th>\n",
       "      <th>p3070</th>\n",
       "      <th>p3071</th>\n",
       "    </tr>\n",
       "  </thead>\n",
       "  <tbody>\n",
       "    <tr>\n",
       "      <th>0</th>\n",
       "      <td>59</td>\n",
       "      <td>43</td>\n",
       "      <td>50</td>\n",
       "      <td>68</td>\n",
       "      <td>98</td>\n",
       "      <td>119</td>\n",
       "      <td>139</td>\n",
       "      <td>145</td>\n",
       "      <td>149</td>\n",
       "      <td>149</td>\n",
       "      <td>...</td>\n",
       "      <td>59</td>\n",
       "      <td>58</td>\n",
       "      <td>65</td>\n",
       "      <td>59</td>\n",
       "      <td>46</td>\n",
       "      <td>57</td>\n",
       "      <td>104</td>\n",
       "      <td>140</td>\n",
       "      <td>84</td>\n",
       "      <td>72</td>\n",
       "    </tr>\n",
       "    <tr>\n",
       "      <th>1</th>\n",
       "      <td>154</td>\n",
       "      <td>126</td>\n",
       "      <td>105</td>\n",
       "      <td>102</td>\n",
       "      <td>125</td>\n",
       "      <td>155</td>\n",
       "      <td>172</td>\n",
       "      <td>180</td>\n",
       "      <td>142</td>\n",
       "      <td>111</td>\n",
       "      <td>...</td>\n",
       "      <td>22</td>\n",
       "      <td>42</td>\n",
       "      <td>67</td>\n",
       "      <td>101</td>\n",
       "      <td>122</td>\n",
       "      <td>133</td>\n",
       "      <td>136</td>\n",
       "      <td>139</td>\n",
       "      <td>142</td>\n",
       "      <td>144</td>\n",
       "    </tr>\n",
       "    <tr>\n",
       "      <th>2</th>\n",
       "      <td>255</td>\n",
       "      <td>253</td>\n",
       "      <td>253</td>\n",
       "      <td>253</td>\n",
       "      <td>253</td>\n",
       "      <td>253</td>\n",
       "      <td>253</td>\n",
       "      <td>253</td>\n",
       "      <td>253</td>\n",
       "      <td>253</td>\n",
       "      <td>...</td>\n",
       "      <td>78</td>\n",
       "      <td>83</td>\n",
       "      <td>80</td>\n",
       "      <td>69</td>\n",
       "      <td>66</td>\n",
       "      <td>72</td>\n",
       "      <td>79</td>\n",
       "      <td>83</td>\n",
       "      <td>83</td>\n",
       "      <td>84</td>\n",
       "    </tr>\n",
       "    <tr>\n",
       "      <th>3</th>\n",
       "      <td>28</td>\n",
       "      <td>37</td>\n",
       "      <td>38</td>\n",
       "      <td>42</td>\n",
       "      <td>44</td>\n",
       "      <td>40</td>\n",
       "      <td>40</td>\n",
       "      <td>24</td>\n",
       "      <td>32</td>\n",
       "      <td>43</td>\n",
       "      <td>...</td>\n",
       "      <td>53</td>\n",
       "      <td>39</td>\n",
       "      <td>59</td>\n",
       "      <td>42</td>\n",
       "      <td>44</td>\n",
       "      <td>48</td>\n",
       "      <td>38</td>\n",
       "      <td>28</td>\n",
       "      <td>37</td>\n",
       "      <td>46</td>\n",
       "    </tr>\n",
       "    <tr>\n",
       "      <th>4</th>\n",
       "      <td>170</td>\n",
       "      <td>168</td>\n",
       "      <td>177</td>\n",
       "      <td>183</td>\n",
       "      <td>181</td>\n",
       "      <td>177</td>\n",
       "      <td>181</td>\n",
       "      <td>184</td>\n",
       "      <td>189</td>\n",
       "      <td>189</td>\n",
       "      <td>...</td>\n",
       "      <td>92</td>\n",
       "      <td>88</td>\n",
       "      <td>85</td>\n",
       "      <td>82</td>\n",
       "      <td>83</td>\n",
       "      <td>79</td>\n",
       "      <td>78</td>\n",
       "      <td>82</td>\n",
       "      <td>78</td>\n",
       "      <td>80</td>\n",
       "    </tr>\n",
       "  </tbody>\n",
       "</table>\n",
       "<p>5 rows × 3072 columns</p>\n",
       "</div>"
      ],
      "text/plain": [
       "    p0   p1   p2   p3   p4   p5   p6   p7   p8   p9  ...  p3062  p3063  p3064  \\\n",
       "0   59   43   50   68   98  119  139  145  149  149  ...     59     58     65   \n",
       "1  154  126  105  102  125  155  172  180  142  111  ...     22     42     67   \n",
       "2  255  253  253  253  253  253  253  253  253  253  ...     78     83     80   \n",
       "3   28   37   38   42   44   40   40   24   32   43  ...     53     39     59   \n",
       "4  170  168  177  183  181  177  181  184  189  189  ...     92     88     85   \n",
       "\n",
       "   p3065  p3066  p3067  p3068  p3069  p3070  p3071  \n",
       "0     59     46     57    104    140     84     72  \n",
       "1    101    122    133    136    139    142    144  \n",
       "2     69     66     72     79     83     83     84  \n",
       "3     42     44     48     38     28     37     46  \n",
       "4     82     83     79     78     82     78     80  \n",
       "\n",
       "[5 rows x 3072 columns]"
      ]
     },
     "execution_count": 5,
     "metadata": {},
     "output_type": "execute_result"
    }
   ],
   "source": [
    "features.head()"
   ]
  },
  {
   "cell_type": "code",
   "execution_count": 6,
   "id": "d4983c89-dcbf-4403-8d76-7940d95c9122",
   "metadata": {},
   "outputs": [
    {
     "data": {
      "text/html": [
       "<div>\n",
       "<style scoped>\n",
       "    .dataframe tbody tr th:only-of-type {\n",
       "        vertical-align: middle;\n",
       "    }\n",
       "\n",
       "    .dataframe tbody tr th {\n",
       "        vertical-align: top;\n",
       "    }\n",
       "\n",
       "    .dataframe thead th {\n",
       "        text-align: right;\n",
       "    }\n",
       "</style>\n",
       "<table border=\"1\" class=\"dataframe\">\n",
       "  <thead>\n",
       "    <tr style=\"text-align: right;\">\n",
       "      <th></th>\n",
       "      <th>p0</th>\n",
       "      <th>p1</th>\n",
       "      <th>p2</th>\n",
       "      <th>p3</th>\n",
       "      <th>p4</th>\n",
       "      <th>p5</th>\n",
       "      <th>p6</th>\n",
       "      <th>p7</th>\n",
       "      <th>p8</th>\n",
       "      <th>p9</th>\n",
       "      <th>...</th>\n",
       "      <th>p3062</th>\n",
       "      <th>p3063</th>\n",
       "      <th>p3064</th>\n",
       "      <th>p3065</th>\n",
       "      <th>p3066</th>\n",
       "      <th>p3067</th>\n",
       "      <th>p3068</th>\n",
       "      <th>p3069</th>\n",
       "      <th>p3070</th>\n",
       "      <th>p3071</th>\n",
       "    </tr>\n",
       "  </thead>\n",
       "  <tbody>\n",
       "    <tr>\n",
       "      <th>count</th>\n",
       "      <td>60000.000000</td>\n",
       "      <td>60000.000000</td>\n",
       "      <td>60000.000000</td>\n",
       "      <td>60000.000000</td>\n",
       "      <td>60000.000000</td>\n",
       "      <td>60000.000000</td>\n",
       "      <td>60000.000000</td>\n",
       "      <td>60000.000000</td>\n",
       "      <td>60000.00000</td>\n",
       "      <td>60000.000000</td>\n",
       "      <td>...</td>\n",
       "      <td>60000.000000</td>\n",
       "      <td>60000.000000</td>\n",
       "      <td>60000.000000</td>\n",
       "      <td>60000.000000</td>\n",
       "      <td>60000.000000</td>\n",
       "      <td>60000.000000</td>\n",
       "      <td>60000.000000</td>\n",
       "      <td>60000.000000</td>\n",
       "      <td>60000.000000</td>\n",
       "      <td>60000.000000</td>\n",
       "    </tr>\n",
       "    <tr>\n",
       "      <th>mean</th>\n",
       "      <td>130.681517</td>\n",
       "      <td>130.115950</td>\n",
       "      <td>131.066200</td>\n",
       "      <td>131.665183</td>\n",
       "      <td>132.308817</td>\n",
       "      <td>132.966350</td>\n",
       "      <td>133.495883</td>\n",
       "      <td>134.026067</td>\n",
       "      <td>134.61445</td>\n",
       "      <td>135.062000</td>\n",
       "      <td>...</td>\n",
       "      <td>113.821667</td>\n",
       "      <td>113.827283</td>\n",
       "      <td>113.895817</td>\n",
       "      <td>113.908417</td>\n",
       "      <td>113.927250</td>\n",
       "      <td>114.008467</td>\n",
       "      <td>114.024900</td>\n",
       "      <td>113.999500</td>\n",
       "      <td>114.051200</td>\n",
       "      <td>114.539400</td>\n",
       "    </tr>\n",
       "    <tr>\n",
       "      <th>std</th>\n",
       "      <td>73.399021</td>\n",
       "      <td>72.434476</td>\n",
       "      <td>72.247946</td>\n",
       "      <td>71.970096</td>\n",
       "      <td>71.649751</td>\n",
       "      <td>71.482859</td>\n",
       "      <td>71.297035</td>\n",
       "      <td>71.249209</td>\n",
       "      <td>71.05503</td>\n",
       "      <td>71.031128</td>\n",
       "      <td>...</td>\n",
       "      <td>64.117121</td>\n",
       "      <td>64.259621</td>\n",
       "      <td>64.354673</td>\n",
       "      <td>64.315537</td>\n",
       "      <td>64.441507</td>\n",
       "      <td>64.451986</td>\n",
       "      <td>64.671902</td>\n",
       "      <td>64.820143</td>\n",
       "      <td>65.162783</td>\n",
       "      <td>66.008946</td>\n",
       "    </tr>\n",
       "    <tr>\n",
       "      <th>min</th>\n",
       "      <td>0.000000</td>\n",
       "      <td>0.000000</td>\n",
       "      <td>0.000000</td>\n",
       "      <td>0.000000</td>\n",
       "      <td>0.000000</td>\n",
       "      <td>0.000000</td>\n",
       "      <td>0.000000</td>\n",
       "      <td>0.000000</td>\n",
       "      <td>0.00000</td>\n",
       "      <td>0.000000</td>\n",
       "      <td>...</td>\n",
       "      <td>0.000000</td>\n",
       "      <td>0.000000</td>\n",
       "      <td>0.000000</td>\n",
       "      <td>0.000000</td>\n",
       "      <td>0.000000</td>\n",
       "      <td>0.000000</td>\n",
       "      <td>0.000000</td>\n",
       "      <td>0.000000</td>\n",
       "      <td>0.000000</td>\n",
       "      <td>0.000000</td>\n",
       "    </tr>\n",
       "    <tr>\n",
       "      <th>25%</th>\n",
       "      <td>71.000000</td>\n",
       "      <td>71.000000</td>\n",
       "      <td>73.000000</td>\n",
       "      <td>73.000000</td>\n",
       "      <td>75.000000</td>\n",
       "      <td>76.000000</td>\n",
       "      <td>76.000000</td>\n",
       "      <td>77.000000</td>\n",
       "      <td>78.00000</td>\n",
       "      <td>78.000000</td>\n",
       "      <td>...</td>\n",
       "      <td>64.000000</td>\n",
       "      <td>64.000000</td>\n",
       "      <td>64.000000</td>\n",
       "      <td>64.000000</td>\n",
       "      <td>64.000000</td>\n",
       "      <td>64.000000</td>\n",
       "      <td>64.000000</td>\n",
       "      <td>64.000000</td>\n",
       "      <td>64.000000</td>\n",
       "      <td>63.000000</td>\n",
       "    </tr>\n",
       "    <tr>\n",
       "      <th>50%</th>\n",
       "      <td>128.000000</td>\n",
       "      <td>127.000000</td>\n",
       "      <td>128.000000</td>\n",
       "      <td>129.000000</td>\n",
       "      <td>130.000000</td>\n",
       "      <td>131.000000</td>\n",
       "      <td>132.000000</td>\n",
       "      <td>133.000000</td>\n",
       "      <td>133.00000</td>\n",
       "      <td>134.000000</td>\n",
       "      <td>...</td>\n",
       "      <td>106.000000</td>\n",
       "      <td>106.000000</td>\n",
       "      <td>106.000000</td>\n",
       "      <td>106.000000</td>\n",
       "      <td>106.000000</td>\n",
       "      <td>106.000000</td>\n",
       "      <td>106.000000</td>\n",
       "      <td>106.000000</td>\n",
       "      <td>106.000000</td>\n",
       "      <td>106.000000</td>\n",
       "    </tr>\n",
       "    <tr>\n",
       "      <th>75%</th>\n",
       "      <td>189.000000</td>\n",
       "      <td>188.000000</td>\n",
       "      <td>189.000000</td>\n",
       "      <td>189.000000</td>\n",
       "      <td>189.000000</td>\n",
       "      <td>190.000000</td>\n",
       "      <td>190.000000</td>\n",
       "      <td>191.000000</td>\n",
       "      <td>191.00000</td>\n",
       "      <td>192.000000</td>\n",
       "      <td>...</td>\n",
       "      <td>157.000000</td>\n",
       "      <td>157.000000</td>\n",
       "      <td>157.000000</td>\n",
       "      <td>157.000000</td>\n",
       "      <td>157.000000</td>\n",
       "      <td>157.000000</td>\n",
       "      <td>157.000000</td>\n",
       "      <td>157.000000</td>\n",
       "      <td>157.000000</td>\n",
       "      <td>159.000000</td>\n",
       "    </tr>\n",
       "    <tr>\n",
       "      <th>max</th>\n",
       "      <td>255.000000</td>\n",
       "      <td>255.000000</td>\n",
       "      <td>255.000000</td>\n",
       "      <td>255.000000</td>\n",
       "      <td>255.000000</td>\n",
       "      <td>255.000000</td>\n",
       "      <td>255.000000</td>\n",
       "      <td>255.000000</td>\n",
       "      <td>255.00000</td>\n",
       "      <td>255.000000</td>\n",
       "      <td>...</td>\n",
       "      <td>255.000000</td>\n",
       "      <td>255.000000</td>\n",
       "      <td>255.000000</td>\n",
       "      <td>255.000000</td>\n",
       "      <td>255.000000</td>\n",
       "      <td>255.000000</td>\n",
       "      <td>255.000000</td>\n",
       "      <td>255.000000</td>\n",
       "      <td>255.000000</td>\n",
       "      <td>255.000000</td>\n",
       "    </tr>\n",
       "  </tbody>\n",
       "</table>\n",
       "<p>8 rows × 3072 columns</p>\n",
       "</div>"
      ],
      "text/plain": [
       "                 p0            p1            p2            p3            p4  \\\n",
       "count  60000.000000  60000.000000  60000.000000  60000.000000  60000.000000   \n",
       "mean     130.681517    130.115950    131.066200    131.665183    132.308817   \n",
       "std       73.399021     72.434476     72.247946     71.970096     71.649751   \n",
       "min        0.000000      0.000000      0.000000      0.000000      0.000000   \n",
       "25%       71.000000     71.000000     73.000000     73.000000     75.000000   \n",
       "50%      128.000000    127.000000    128.000000    129.000000    130.000000   \n",
       "75%      189.000000    188.000000    189.000000    189.000000    189.000000   \n",
       "max      255.000000    255.000000    255.000000    255.000000    255.000000   \n",
       "\n",
       "                 p5            p6            p7           p8            p9  \\\n",
       "count  60000.000000  60000.000000  60000.000000  60000.00000  60000.000000   \n",
       "mean     132.966350    133.495883    134.026067    134.61445    135.062000   \n",
       "std       71.482859     71.297035     71.249209     71.05503     71.031128   \n",
       "min        0.000000      0.000000      0.000000      0.00000      0.000000   \n",
       "25%       76.000000     76.000000     77.000000     78.00000     78.000000   \n",
       "50%      131.000000    132.000000    133.000000    133.00000    134.000000   \n",
       "75%      190.000000    190.000000    191.000000    191.00000    192.000000   \n",
       "max      255.000000    255.000000    255.000000    255.00000    255.000000   \n",
       "\n",
       "       ...         p3062         p3063         p3064         p3065  \\\n",
       "count  ...  60000.000000  60000.000000  60000.000000  60000.000000   \n",
       "mean   ...    113.821667    113.827283    113.895817    113.908417   \n",
       "std    ...     64.117121     64.259621     64.354673     64.315537   \n",
       "min    ...      0.000000      0.000000      0.000000      0.000000   \n",
       "25%    ...     64.000000     64.000000     64.000000     64.000000   \n",
       "50%    ...    106.000000    106.000000    106.000000    106.000000   \n",
       "75%    ...    157.000000    157.000000    157.000000    157.000000   \n",
       "max    ...    255.000000    255.000000    255.000000    255.000000   \n",
       "\n",
       "              p3066         p3067         p3068         p3069         p3070  \\\n",
       "count  60000.000000  60000.000000  60000.000000  60000.000000  60000.000000   \n",
       "mean     113.927250    114.008467    114.024900    113.999500    114.051200   \n",
       "std       64.441507     64.451986     64.671902     64.820143     65.162783   \n",
       "min        0.000000      0.000000      0.000000      0.000000      0.000000   \n",
       "25%       64.000000     64.000000     64.000000     64.000000     64.000000   \n",
       "50%      106.000000    106.000000    106.000000    106.000000    106.000000   \n",
       "75%      157.000000    157.000000    157.000000    157.000000    157.000000   \n",
       "max      255.000000    255.000000    255.000000    255.000000    255.000000   \n",
       "\n",
       "              p3071  \n",
       "count  60000.000000  \n",
       "mean     114.539400  \n",
       "std       66.008946  \n",
       "min        0.000000  \n",
       "25%       63.000000  \n",
       "50%      106.000000  \n",
       "75%      159.000000  \n",
       "max      255.000000  \n",
       "\n",
       "[8 rows x 3072 columns]"
      ]
     },
     "execution_count": 6,
     "metadata": {},
     "output_type": "execute_result"
    }
   ],
   "source": [
    "features.describe()"
   ]
  },
  {
   "cell_type": "code",
   "execution_count": 7,
   "id": "2154ea76-e45a-454d-ad56-6f60c9ce4995",
   "metadata": {},
   "outputs": [
    {
     "name": "stdout",
     "output_type": "stream",
     "text": [
      "<class 'pandas.core.series.Series'>\n",
      "RangeIndex: 60000 entries, 0 to 59999\n",
      "Series name: labels\n",
      "Non-Null Count  Dtype\n",
      "--------------  -----\n",
      "60000 non-null  uint8\n",
      "dtypes: uint8(1)\n",
      "memory usage: 58.7 KB\n"
     ]
    }
   ],
   "source": [
    "target.info()"
   ]
  },
  {
   "cell_type": "code",
   "execution_count": 8,
   "id": "ace3b927-90ee-469a-acda-2bdb1bef54c8",
   "metadata": {},
   "outputs": [
    {
     "data": {
      "text/plain": [
       "0    6\n",
       "1    9\n",
       "2    9\n",
       "3    4\n",
       "4    1\n",
       "Name: labels, dtype: uint8"
      ]
     },
     "execution_count": 8,
     "metadata": {},
     "output_type": "execute_result"
    }
   ],
   "source": [
    "target.head()"
   ]
  },
  {
   "cell_type": "code",
   "execution_count": 9,
   "id": "f9a5d4e9-8c96-4da9-b9b7-33a0edbe018e",
   "metadata": {},
   "outputs": [
    {
     "data": {
      "image/png": "[encoded data removed]",
      "text/plain": [
       "<Figure size 432x288 with 1 Axes>"
      ]
     },
     "metadata": {
      "needs_background": "light"
     },
     "output_type": "display_data"
    }
   ],
   "source": [
    "_ = (target.value_counts()\n",
    "           .sort_index()\n",
    "           .plot(kind=\"bar\"))"
   ]
  },
  {
   "cell_type": "markdown",
   "id": "48bb4f01-9ee6-4bd2-a401-e6eecdb46276",
   "metadata": {},
   "source": [
    "Write out the features and the target to disk."
   ]
  },
  {
   "cell_type": "code",
   "execution_count": 20,
   "id": "67adbdb2-2340-4098-bff4-86e938ed9166",
   "metadata": {},
   "outputs": [],
   "source": [
    "_ = (features.join(target)\n",
    "             .to_csv(RAW_DATA_DIR / \"cifar-10.csv\", index=False))"
   ]
  },
  {
   "cell_type": "markdown",
   "id": "7a2212c9-f227-4b8f-ac41-6deb6f714976",
   "metadata": {},
   "source": [
    "# Creating a test dataset"
   ]
  },
  {
   "cell_type": "code",
   "execution_count": null,
   "id": "f791e74d-cddd-4383-8a6c-5b80df4a5daf",
   "metadata": {},
   "outputs": [],
   "source": [
    "model_selection.train_test_split?"
   ]
  },
  {
   "cell_type": "code",
   "execution_count": 11,
   "id": "beff5a36-07c7-404f-916b-260c789aff91",
   "metadata": {},
   "outputs": [],
   "source": [
    "SEED = 42\n",
    "TEST_SIZE = 1e-1\n",
    "\n",
    "# split the dataset into training and testing data\n",
    "_random_state = (np.random\n",
    "                   .RandomState(SEED))\n",
    "train_features, test_features, train_target, test_target = model_selection.train_test_split(\n",
    "    features,\n",
    "    target,\n",
    "    test_size=TEST_SIZE,\n",
    "    random_state=_random_state\n",
    ")"
   ]
  },
  {
   "cell_type": "code",
   "execution_count": 12,
   "id": "e9ed741c-996c-4df3-8680-49f14cc0dcf0",
   "metadata": {},
   "outputs": [
    {
     "name": "stdout",
     "output_type": "stream",
     "text": [
      "<class 'pandas.core.frame.DataFrame'>\n",
      "Int64Index: 54000 entries, 50404 to 56422\n",
      "Columns: 3072 entries, p0 to p3071\n",
      "dtypes: uint8(3072)\n",
      "memory usage: 158.6 MB\n"
     ]
    }
   ],
   "source": [
    "train_features.info()"
   ]
  },
  {
   "cell_type": "code",
   "execution_count": 13,
   "id": "8115616b-7609-4510-8347-b02e497bed84",
   "metadata": {},
   "outputs": [
    {
     "data": {
      "text/html": [
       "<div>\n",
       "<style scoped>\n",
       "    .dataframe tbody tr th:only-of-type {\n",
       "        vertical-align: middle;\n",
       "    }\n",
       "\n",
       "    .dataframe tbody tr th {\n",
       "        vertical-align: top;\n",
       "    }\n",
       "\n",
       "    .dataframe thead th {\n",
       "        text-align: right;\n",
       "    }\n",
       "</style>\n",
       "<table border=\"1\" class=\"dataframe\">\n",
       "  <thead>\n",
       "    <tr style=\"text-align: right;\">\n",
       "      <th></th>\n",
       "      <th>p0</th>\n",
       "      <th>p1</th>\n",
       "      <th>p2</th>\n",
       "      <th>p3</th>\n",
       "      <th>p4</th>\n",
       "      <th>p5</th>\n",
       "      <th>p6</th>\n",
       "      <th>p7</th>\n",
       "      <th>p8</th>\n",
       "      <th>p9</th>\n",
       "      <th>...</th>\n",
       "      <th>p3062</th>\n",
       "      <th>p3063</th>\n",
       "      <th>p3064</th>\n",
       "      <th>p3065</th>\n",
       "      <th>p3066</th>\n",
       "      <th>p3067</th>\n",
       "      <th>p3068</th>\n",
       "      <th>p3069</th>\n",
       "      <th>p3070</th>\n",
       "      <th>p3071</th>\n",
       "    </tr>\n",
       "  </thead>\n",
       "  <tbody>\n",
       "    <tr>\n",
       "      <th>50404</th>\n",
       "      <td>215</td>\n",
       "      <td>201</td>\n",
       "      <td>190</td>\n",
       "      <td>187</td>\n",
       "      <td>183</td>\n",
       "      <td>182</td>\n",
       "      <td>184</td>\n",
       "      <td>184</td>\n",
       "      <td>186</td>\n",
       "      <td>189</td>\n",
       "      <td>...</td>\n",
       "      <td>69</td>\n",
       "      <td>69</td>\n",
       "      <td>69</td>\n",
       "      <td>69</td>\n",
       "      <td>80</td>\n",
       "      <td>88</td>\n",
       "      <td>95</td>\n",
       "      <td>95</td>\n",
       "      <td>95</td>\n",
       "      <td>96</td>\n",
       "    </tr>\n",
       "    <tr>\n",
       "      <th>26810</th>\n",
       "      <td>190</td>\n",
       "      <td>168</td>\n",
       "      <td>148</td>\n",
       "      <td>150</td>\n",
       "      <td>157</td>\n",
       "      <td>158</td>\n",
       "      <td>175</td>\n",
       "      <td>210</td>\n",
       "      <td>217</td>\n",
       "      <td>218</td>\n",
       "      <td>...</td>\n",
       "      <td>116</td>\n",
       "      <td>116</td>\n",
       "      <td>111</td>\n",
       "      <td>105</td>\n",
       "      <td>111</td>\n",
       "      <td>117</td>\n",
       "      <td>121</td>\n",
       "      <td>119</td>\n",
       "      <td>116</td>\n",
       "      <td>125</td>\n",
       "    </tr>\n",
       "    <tr>\n",
       "      <th>19681</th>\n",
       "      <td>131</td>\n",
       "      <td>126</td>\n",
       "      <td>134</td>\n",
       "      <td>162</td>\n",
       "      <td>173</td>\n",
       "      <td>177</td>\n",
       "      <td>181</td>\n",
       "      <td>183</td>\n",
       "      <td>184</td>\n",
       "      <td>187</td>\n",
       "      <td>...</td>\n",
       "      <td>125</td>\n",
       "      <td>129</td>\n",
       "      <td>134</td>\n",
       "      <td>137</td>\n",
       "      <td>141</td>\n",
       "      <td>147</td>\n",
       "      <td>152</td>\n",
       "      <td>157</td>\n",
       "      <td>111</td>\n",
       "      <td>48</td>\n",
       "    </tr>\n",
       "    <tr>\n",
       "      <th>7616</th>\n",
       "      <td>162</td>\n",
       "      <td>155</td>\n",
       "      <td>158</td>\n",
       "      <td>161</td>\n",
       "      <td>154</td>\n",
       "      <td>144</td>\n",
       "      <td>151</td>\n",
       "      <td>142</td>\n",
       "      <td>136</td>\n",
       "      <td>136</td>\n",
       "      <td>...</td>\n",
       "      <td>118</td>\n",
       "      <td>112</td>\n",
       "      <td>115</td>\n",
       "      <td>115</td>\n",
       "      <td>107</td>\n",
       "      <td>116</td>\n",
       "      <td>107</td>\n",
       "      <td>99</td>\n",
       "      <td>94</td>\n",
       "      <td>94</td>\n",
       "    </tr>\n",
       "    <tr>\n",
       "      <th>20363</th>\n",
       "      <td>31</td>\n",
       "      <td>37</td>\n",
       "      <td>47</td>\n",
       "      <td>75</td>\n",
       "      <td>54</td>\n",
       "      <td>44</td>\n",
       "      <td>45</td>\n",
       "      <td>77</td>\n",
       "      <td>143</td>\n",
       "      <td>122</td>\n",
       "      <td>...</td>\n",
       "      <td>109</td>\n",
       "      <td>109</td>\n",
       "      <td>99</td>\n",
       "      <td>100</td>\n",
       "      <td>100</td>\n",
       "      <td>106</td>\n",
       "      <td>109</td>\n",
       "      <td>111</td>\n",
       "      <td>103</td>\n",
       "      <td>103</td>\n",
       "    </tr>\n",
       "  </tbody>\n",
       "</table>\n",
       "<p>5 rows × 3072 columns</p>\n",
       "</div>"
      ],
      "text/plain": [
       "        p0   p1   p2   p3   p4   p5   p6   p7   p8   p9  ...  p3062  p3063  \\\n",
       "50404  215  201  190  187  183  182  184  184  186  189  ...     69     69   \n",
       "26810  190  168  148  150  157  158  175  210  217  218  ...    116    116   \n",
       "19681  131  126  134  162  173  177  181  183  184  187  ...    125    129   \n",
       "7616   162  155  158  161  154  144  151  142  136  136  ...    118    112   \n",
       "20363   31   37   47   75   54   44   45   77  143  122  ...    109    109   \n",
       "\n",
       "       p3064  p3065  p3066  p3067  p3068  p3069  p3070  p3071  \n",
       "50404     69     69     80     88     95     95     95     96  \n",
       "26810    111    105    111    117    121    119    116    125  \n",
       "19681    134    137    141    147    152    157    111     48  \n",
       "7616     115    115    107    116    107     99     94     94  \n",
       "20363     99    100    100    106    109    111    103    103  \n",
       "\n",
       "[5 rows x 3072 columns]"
      ]
     },
     "execution_count": 13,
     "metadata": {},
     "output_type": "execute_result"
    }
   ],
   "source": [
    "train_features.head()"
   ]
  },
  {
   "cell_type": "code",
   "execution_count": 14,
   "id": "3722a295-4c88-4d24-b5cc-b84282f3de57",
   "metadata": {},
   "outputs": [
    {
     "data": {
      "text/plain": [
       "50404    8\n",
       "26810    7\n",
       "19681    3\n",
       "7616     2\n",
       "20363    4\n",
       "Name: labels, dtype: uint8"
      ]
     },
     "execution_count": 14,
     "metadata": {},
     "output_type": "execute_result"
    }
   ],
   "source": [
    "train_target.head()"
   ]
  },
  {
   "cell_type": "code",
   "execution_count": 15,
   "id": "8a75323c-1b45-46b4-80bc-f26b003d50bb",
   "metadata": {},
   "outputs": [
    {
     "data": {
      "text/html": [
       "<div>\n",
       "<style scoped>\n",
       "    .dataframe tbody tr th:only-of-type {\n",
       "        vertical-align: middle;\n",
       "    }\n",
       "\n",
       "    .dataframe tbody tr th {\n",
       "        vertical-align: top;\n",
       "    }\n",
       "\n",
       "    .dataframe thead th {\n",
       "        text-align: right;\n",
       "    }\n",
       "</style>\n",
       "<table border=\"1\" class=\"dataframe\">\n",
       "  <thead>\n",
       "    <tr style=\"text-align: right;\">\n",
       "      <th></th>\n",
       "      <th>p0</th>\n",
       "      <th>p1</th>\n",
       "      <th>p2</th>\n",
       "      <th>p3</th>\n",
       "      <th>p4</th>\n",
       "      <th>p5</th>\n",
       "      <th>p6</th>\n",
       "      <th>p7</th>\n",
       "      <th>p8</th>\n",
       "      <th>p9</th>\n",
       "      <th>...</th>\n",
       "      <th>p3062</th>\n",
       "      <th>p3063</th>\n",
       "      <th>p3064</th>\n",
       "      <th>p3065</th>\n",
       "      <th>p3066</th>\n",
       "      <th>p3067</th>\n",
       "      <th>p3068</th>\n",
       "      <th>p3069</th>\n",
       "      <th>p3070</th>\n",
       "      <th>p3071</th>\n",
       "    </tr>\n",
       "  </thead>\n",
       "  <tbody>\n",
       "    <tr>\n",
       "      <th>count</th>\n",
       "      <td>54000.000000</td>\n",
       "      <td>54000.000000</td>\n",
       "      <td>54000.000000</td>\n",
       "      <td>54000.000000</td>\n",
       "      <td>54000.000000</td>\n",
       "      <td>54000.000000</td>\n",
       "      <td>54000.000000</td>\n",
       "      <td>54000.000000</td>\n",
       "      <td>54000.000000</td>\n",
       "      <td>54000.000000</td>\n",
       "      <td>...</td>\n",
       "      <td>54000.000000</td>\n",
       "      <td>54000.000000</td>\n",
       "      <td>54000.000000</td>\n",
       "      <td>54000.000000</td>\n",
       "      <td>54000.000000</td>\n",
       "      <td>54000.000000</td>\n",
       "      <td>54000.000000</td>\n",
       "      <td>54000.000000</td>\n",
       "      <td>54000.000000</td>\n",
       "      <td>54000.000000</td>\n",
       "    </tr>\n",
       "    <tr>\n",
       "      <th>mean</th>\n",
       "      <td>130.716389</td>\n",
       "      <td>130.144074</td>\n",
       "      <td>131.085778</td>\n",
       "      <td>131.679204</td>\n",
       "      <td>132.323611</td>\n",
       "      <td>132.987815</td>\n",
       "      <td>133.503907</td>\n",
       "      <td>134.007185</td>\n",
       "      <td>134.579222</td>\n",
       "      <td>135.053444</td>\n",
       "      <td>...</td>\n",
       "      <td>113.893593</td>\n",
       "      <td>113.883037</td>\n",
       "      <td>113.991907</td>\n",
       "      <td>114.029370</td>\n",
       "      <td>114.060241</td>\n",
       "      <td>114.148407</td>\n",
       "      <td>114.148852</td>\n",
       "      <td>114.121481</td>\n",
       "      <td>114.180537</td>\n",
       "      <td>114.678722</td>\n",
       "    </tr>\n",
       "    <tr>\n",
       "      <th>std</th>\n",
       "      <td>73.450408</td>\n",
       "      <td>72.470832</td>\n",
       "      <td>72.287725</td>\n",
       "      <td>71.996719</td>\n",
       "      <td>71.679310</td>\n",
       "      <td>71.517900</td>\n",
       "      <td>71.296393</td>\n",
       "      <td>71.253962</td>\n",
       "      <td>71.064465</td>\n",
       "      <td>71.050287</td>\n",
       "      <td>...</td>\n",
       "      <td>64.204452</td>\n",
       "      <td>64.341473</td>\n",
       "      <td>64.438166</td>\n",
       "      <td>64.411602</td>\n",
       "      <td>64.534979</td>\n",
       "      <td>64.525717</td>\n",
       "      <td>64.747011</td>\n",
       "      <td>64.909484</td>\n",
       "      <td>65.247452</td>\n",
       "      <td>66.060960</td>\n",
       "    </tr>\n",
       "    <tr>\n",
       "      <th>min</th>\n",
       "      <td>0.000000</td>\n",
       "      <td>0.000000</td>\n",
       "      <td>0.000000</td>\n",
       "      <td>0.000000</td>\n",
       "      <td>0.000000</td>\n",
       "      <td>0.000000</td>\n",
       "      <td>0.000000</td>\n",
       "      <td>0.000000</td>\n",
       "      <td>0.000000</td>\n",
       "      <td>0.000000</td>\n",
       "      <td>...</td>\n",
       "      <td>0.000000</td>\n",
       "      <td>0.000000</td>\n",
       "      <td>0.000000</td>\n",
       "      <td>0.000000</td>\n",
       "      <td>0.000000</td>\n",
       "      <td>0.000000</td>\n",
       "      <td>0.000000</td>\n",
       "      <td>0.000000</td>\n",
       "      <td>0.000000</td>\n",
       "      <td>0.000000</td>\n",
       "    </tr>\n",
       "    <tr>\n",
       "      <th>25%</th>\n",
       "      <td>71.000000</td>\n",
       "      <td>71.000000</td>\n",
       "      <td>73.000000</td>\n",
       "      <td>73.000000</td>\n",
       "      <td>75.000000</td>\n",
       "      <td>76.000000</td>\n",
       "      <td>76.000000</td>\n",
       "      <td>77.000000</td>\n",
       "      <td>78.000000</td>\n",
       "      <td>78.000000</td>\n",
       "      <td>...</td>\n",
       "      <td>64.000000</td>\n",
       "      <td>64.000000</td>\n",
       "      <td>64.000000</td>\n",
       "      <td>64.000000</td>\n",
       "      <td>64.000000</td>\n",
       "      <td>64.000000</td>\n",
       "      <td>64.000000</td>\n",
       "      <td>64.000000</td>\n",
       "      <td>64.000000</td>\n",
       "      <td>63.000000</td>\n",
       "    </tr>\n",
       "    <tr>\n",
       "      <th>50%</th>\n",
       "      <td>128.000000</td>\n",
       "      <td>127.000000</td>\n",
       "      <td>128.000000</td>\n",
       "      <td>129.000000</td>\n",
       "      <td>130.000000</td>\n",
       "      <td>131.000000</td>\n",
       "      <td>132.000000</td>\n",
       "      <td>132.000000</td>\n",
       "      <td>133.000000</td>\n",
       "      <td>134.000000</td>\n",
       "      <td>...</td>\n",
       "      <td>106.000000</td>\n",
       "      <td>106.000000</td>\n",
       "      <td>106.000000</td>\n",
       "      <td>106.000000</td>\n",
       "      <td>106.000000</td>\n",
       "      <td>106.000000</td>\n",
       "      <td>106.000000</td>\n",
       "      <td>106.000000</td>\n",
       "      <td>106.000000</td>\n",
       "      <td>106.000000</td>\n",
       "    </tr>\n",
       "    <tr>\n",
       "      <th>75%</th>\n",
       "      <td>189.000000</td>\n",
       "      <td>188.000000</td>\n",
       "      <td>189.000000</td>\n",
       "      <td>189.000000</td>\n",
       "      <td>189.000000</td>\n",
       "      <td>190.000000</td>\n",
       "      <td>190.000000</td>\n",
       "      <td>191.000000</td>\n",
       "      <td>191.000000</td>\n",
       "      <td>192.000000</td>\n",
       "      <td>...</td>\n",
       "      <td>157.000000</td>\n",
       "      <td>157.000000</td>\n",
       "      <td>157.000000</td>\n",
       "      <td>157.000000</td>\n",
       "      <td>157.000000</td>\n",
       "      <td>157.000000</td>\n",
       "      <td>157.000000</td>\n",
       "      <td>157.000000</td>\n",
       "      <td>158.000000</td>\n",
       "      <td>159.000000</td>\n",
       "    </tr>\n",
       "    <tr>\n",
       "      <th>max</th>\n",
       "      <td>255.000000</td>\n",
       "      <td>255.000000</td>\n",
       "      <td>255.000000</td>\n",
       "      <td>255.000000</td>\n",
       "      <td>255.000000</td>\n",
       "      <td>255.000000</td>\n",
       "      <td>255.000000</td>\n",
       "      <td>255.000000</td>\n",
       "      <td>255.000000</td>\n",
       "      <td>255.000000</td>\n",
       "      <td>...</td>\n",
       "      <td>255.000000</td>\n",
       "      <td>255.000000</td>\n",
       "      <td>255.000000</td>\n",
       "      <td>255.000000</td>\n",
       "      <td>255.000000</td>\n",
       "      <td>255.000000</td>\n",
       "      <td>255.000000</td>\n",
       "      <td>255.000000</td>\n",
       "      <td>255.000000</td>\n",
       "      <td>255.000000</td>\n",
       "    </tr>\n",
       "  </tbody>\n",
       "</table>\n",
       "<p>8 rows × 3072 columns</p>\n",
       "</div>"
      ],
      "text/plain": [
       "                 p0            p1            p2            p3            p4  \\\n",
       "count  54000.000000  54000.000000  54000.000000  54000.000000  54000.000000   \n",
       "mean     130.716389    130.144074    131.085778    131.679204    132.323611   \n",
       "std       73.450408     72.470832     72.287725     71.996719     71.679310   \n",
       "min        0.000000      0.000000      0.000000      0.000000      0.000000   \n",
       "25%       71.000000     71.000000     73.000000     73.000000     75.000000   \n",
       "50%      128.000000    127.000000    128.000000    129.000000    130.000000   \n",
       "75%      189.000000    188.000000    189.000000    189.000000    189.000000   \n",
       "max      255.000000    255.000000    255.000000    255.000000    255.000000   \n",
       "\n",
       "                 p5            p6            p7            p8            p9  \\\n",
       "count  54000.000000  54000.000000  54000.000000  54000.000000  54000.000000   \n",
       "mean     132.987815    133.503907    134.007185    134.579222    135.053444   \n",
       "std       71.517900     71.296393     71.253962     71.064465     71.050287   \n",
       "min        0.000000      0.000000      0.000000      0.000000      0.000000   \n",
       "25%       76.000000     76.000000     77.000000     78.000000     78.000000   \n",
       "50%      131.000000    132.000000    132.000000    133.000000    134.000000   \n",
       "75%      190.000000    190.000000    191.000000    191.000000    192.000000   \n",
       "max      255.000000    255.000000    255.000000    255.000000    255.000000   \n",
       "\n",
       "       ...         p3062         p3063         p3064         p3065  \\\n",
       "count  ...  54000.000000  54000.000000  54000.000000  54000.000000   \n",
       "mean   ...    113.893593    113.883037    113.991907    114.029370   \n",
       "std    ...     64.204452     64.341473     64.438166     64.411602   \n",
       "min    ...      0.000000      0.000000      0.000000      0.000000   \n",
       "25%    ...     64.000000     64.000000     64.000000     64.000000   \n",
       "50%    ...    106.000000    106.000000    106.000000    106.000000   \n",
       "75%    ...    157.000000    157.000000    157.000000    157.000000   \n",
       "max    ...    255.000000    255.000000    255.000000    255.000000   \n",
       "\n",
       "              p3066         p3067         p3068         p3069         p3070  \\\n",
       "count  54000.000000  54000.000000  54000.000000  54000.000000  54000.000000   \n",
       "mean     114.060241    114.148407    114.148852    114.121481    114.180537   \n",
       "std       64.534979     64.525717     64.747011     64.909484     65.247452   \n",
       "min        0.000000      0.000000      0.000000      0.000000      0.000000   \n",
       "25%       64.000000     64.000000     64.000000     64.000000     64.000000   \n",
       "50%      106.000000    106.000000    106.000000    106.000000    106.000000   \n",
       "75%      157.000000    157.000000    157.000000    157.000000    158.000000   \n",
       "max      255.000000    255.000000    255.000000    255.000000    255.000000   \n",
       "\n",
       "              p3071  \n",
       "count  54000.000000  \n",
       "mean     114.678722  \n",
       "std       66.060960  \n",
       "min        0.000000  \n",
       "25%       63.000000  \n",
       "50%      106.000000  \n",
       "75%      159.000000  \n",
       "max      255.000000  \n",
       "\n",
       "[8 rows x 3072 columns]"
      ]
     },
     "execution_count": 15,
     "metadata": {},
     "output_type": "execute_result"
    }
   ],
   "source": [
    "train_features.describe()"
   ]
  },
  {
   "cell_type": "code",
   "execution_count": 21,
   "id": "6ede1948-a85a-450f-8c0b-8c18b56ed4d3",
   "metadata": {},
   "outputs": [],
   "source": [
    "_ = (train_features.join(train_target)\n",
    "                   .to_csv(RAW_DATA_DIR / \"train.csv\", index=False))\n",
    "\n",
    "_ = (test_features.join(test_target)\n",
    "                   .to_csv(RAW_DATA_DIR / \"test.csv\", index=False))"
   ]
  },
  {
   "cell_type": "markdown",
   "id": "4280e020-f990-434c-98b9-361321134432",
   "metadata": {},
   "source": [
    "# Prepare the data for machine learning algorithms"
   ]
  },
  {
   "cell_type": "code",
   "execution_count": 15,
   "id": "ceecb90e-2a8c-473f-ad7c-860cc5ef205e",
   "metadata": {},
   "outputs": [],
   "source": [
    "TRAIN_N_JOBS = -1\n",
    "VERBOSITY = 1"
   ]
  },
  {
   "cell_type": "markdown",
   "id": "626fd519-ffb6-4ae9-be55-53d4a54e53c5",
   "metadata": {},
   "source": [
    "## Feature scaling"
   ]
  },
  {
   "cell_type": "code",
   "execution_count": null,
   "id": "506f4f98-aa73-46b0-82ce-ebf0d4a0ff81",
   "metadata": {},
   "outputs": [],
   "source": [
    "preprocessing.MinMaxScaler?"
   ]
  },
  {
   "cell_type": "code",
   "execution_count": 16,
   "id": "c00fe28e-a285-4e87-979e-462be36d0815",
   "metadata": {},
   "outputs": [],
   "source": [
    "# hyper-parameters\n",
    "DATA_MIN = 0\n",
    "DATA_MAX = 1\n",
    "\n",
    "preprocessor = preprocessing.MinMaxScaler(feature_range=(DATA_MIN, DATA_MAX))"
   ]
  },
  {
   "cell_type": "code",
   "execution_count": 17,
   "id": "33ca8616-d29f-4d47-888c-841f6b823b2e",
   "metadata": {},
   "outputs": [],
   "source": [
    "preprocessed_train_features = preprocessor.fit_transform(train_features)"
   ]
  },
  {
   "cell_type": "code",
   "execution_count": 19,
   "id": "e07170a9-6cb0-4474-8bab-15fec52acc0f",
   "metadata": {},
   "outputs": [
    {
     "data": {
      "text/plain": [
       "(54000, 3072)"
      ]
     },
     "execution_count": 19,
     "metadata": {},
     "output_type": "execute_result"
    }
   ],
   "source": [
    "preprocessed_train_features.shape"
   ]
  },
  {
   "cell_type": "code",
   "execution_count": 20,
   "id": "df6bf42d-6a72-4b7d-b768-412d5edcb010",
   "metadata": {},
   "outputs": [
    {
     "data": {
      "text/plain": [
       "array([[0.84313726, 0.7882353 , 0.74509805, 0.73333335, 0.7176471 ],\n",
       "       [0.34509805, 0.3529412 , 0.3529412 , 0.3529412 , 0.36078432],\n",
       "       [0.48235294, 0.48235294, 0.48235294, 0.48235294, 0.47058824],\n",
       "       ...,\n",
       "       [0.7294118 , 0.7254902 , 0.7411765 , 0.7254902 , 0.75686276],\n",
       "       [0.7058824 , 0.7058824 , 0.7019608 , 0.7137255 , 0.72156864],\n",
       "       [0.41960785, 0.39215687, 0.42745098, 0.47843137, 0.5137255 ]],\n",
       "      dtype=float32)"
      ]
     },
     "execution_count": 20,
     "metadata": {},
     "output_type": "execute_result"
    }
   ],
   "source": [
    "preprocessed_train_features[:, :5]"
   ]
  },
  {
   "cell_type": "code",
   "execution_count": 21,
   "id": "52de2cc7-960c-43a3-b2de-0a7780b06879",
   "metadata": {},
   "outputs": [
    {
     "data": {
      "text/plain": [
       "array([0., 0., 0., ..., 0., 0., 0.], dtype=float32)"
      ]
     },
     "execution_count": 21,
     "metadata": {},
     "output_type": "execute_result"
    }
   ],
   "source": [
    "preprocessed_train_features.min(axis=0)"
   ]
  },
  {
   "cell_type": "code",
   "execution_count": 22,
   "id": "034122d4-e0e8-4db9-95b1-0c46b733209d",
   "metadata": {},
   "outputs": [
    {
     "data": {
      "text/plain": [
       "array([0.5119392 , 0.50965226, 0.51343244, ..., 0.4469593 , 0.44714293,\n",
       "       0.4490103 ], dtype=float32)"
      ]
     },
     "execution_count": 22,
     "metadata": {},
     "output_type": "execute_result"
    }
   ],
   "source": [
    "preprocessed_train_features.mean(axis=0)"
   ]
  },
  {
   "cell_type": "code",
   "execution_count": 23,
   "id": "d2306826-abb1-4575-bd53-14f0742131a1",
   "metadata": {},
   "outputs": [
    {
     "data": {
      "text/plain": [
       "array([1., 1., 1., ..., 1., 1., 1.], dtype=float32)"
      ]
     },
     "execution_count": 23,
     "metadata": {},
     "output_type": "execute_result"
    }
   ],
   "source": [
    "preprocessed_train_features.max(axis=0)"
   ]
  },
  {
   "cell_type": "markdown",
   "id": "54c62f5c-21cd-4138-8776-baca812ba3d9",
   "metadata": {},
   "source": [
    "## Feature Engineering"
   ]
  },
  {
   "cell_type": "markdown",
   "id": "55260465-43db-4821-b2c5-a92ba5ec7a42",
   "metadata": {
    "tags": []
   },
   "source": [
    "## Dimensionality Reduction"
   ]
  },
  {
   "cell_type": "code",
   "execution_count": 191,
   "id": "c47345e5-5f5e-4b81-aa4c-c74757d98bb2",
   "metadata": {
    "collapsed": true,
    "jupyter": {
     "outputs_hidden": true
    },
    "tags": []
   },
   "outputs": [
    {
     "data": {
      "text/plain": [
       "\u001b[0;31mInit signature:\u001b[0m\n",
       "\u001b[0mdecomposition\u001b[0m\u001b[0;34m.\u001b[0m\u001b[0mPCA\u001b[0m\u001b[0;34m(\u001b[0m\u001b[0;34m\u001b[0m\n",
       "\u001b[0;34m\u001b[0m    \u001b[0mn_components\u001b[0m\u001b[0;34m=\u001b[0m\u001b[0;32mNone\u001b[0m\u001b[0;34m,\u001b[0m\u001b[0;34m\u001b[0m\n",
       "\u001b[0;34m\u001b[0m    \u001b[0;34m*\u001b[0m\u001b[0;34m,\u001b[0m\u001b[0;34m\u001b[0m\n",
       "\u001b[0;34m\u001b[0m    \u001b[0mcopy\u001b[0m\u001b[0;34m=\u001b[0m\u001b[0;32mTrue\u001b[0m\u001b[0;34m,\u001b[0m\u001b[0;34m\u001b[0m\n",
       "\u001b[0;34m\u001b[0m    \u001b[0mwhiten\u001b[0m\u001b[0;34m=\u001b[0m\u001b[0;32mFalse\u001b[0m\u001b[0;34m,\u001b[0m\u001b[0;34m\u001b[0m\n",
       "\u001b[0;34m\u001b[0m    \u001b[0msvd_solver\u001b[0m\u001b[0;34m=\u001b[0m\u001b[0;34m'auto'\u001b[0m\u001b[0;34m,\u001b[0m\u001b[0;34m\u001b[0m\n",
       "\u001b[0;34m\u001b[0m    \u001b[0mtol\u001b[0m\u001b[0;34m=\u001b[0m\u001b[0;36m0.0\u001b[0m\u001b[0;34m,\u001b[0m\u001b[0;34m\u001b[0m\n",
       "\u001b[0;34m\u001b[0m    \u001b[0miterated_power\u001b[0m\u001b[0;34m=\u001b[0m\u001b[0;34m'auto'\u001b[0m\u001b[0;34m,\u001b[0m\u001b[0;34m\u001b[0m\n",
       "\u001b[0;34m\u001b[0m    \u001b[0mrandom_state\u001b[0m\u001b[0;34m=\u001b[0m\u001b[0;32mNone\u001b[0m\u001b[0;34m,\u001b[0m\u001b[0;34m\u001b[0m\n",
       "\u001b[0;34m\u001b[0m\u001b[0;34m)\u001b[0m\u001b[0;34m\u001b[0m\u001b[0;34m\u001b[0m\u001b[0m\n",
       "\u001b[0;31mDocstring:\u001b[0m     \n",
       "Principal component analysis (PCA).\n",
       "\n",
       "Linear dimensionality reduction using Singular Value Decomposition of the\n",
       "data to project it to a lower dimensional space. The input data is centered\n",
       "but not scaled for each feature before applying the SVD.\n",
       "\n",
       "It uses the LAPACK implementation of the full SVD or a randomized truncated\n",
       "SVD by the method of Halko et al. 2009, depending on the shape of the input\n",
       "data and the number of components to extract.\n",
       "\n",
       "It can also use the scipy.sparse.linalg ARPACK implementation of the\n",
       "truncated SVD.\n",
       "\n",
       "Notice that this class does not support sparse input. See\n",
       ":class:`TruncatedSVD` for an alternative with sparse data.\n",
       "\n",
       "Read more in the :ref:`User Guide <PCA>`.\n",
       "\n",
       "Parameters\n",
       "----------\n",
       "n_components : int, float or 'mle', default=None\n",
       "    Number of components to keep.\n",
       "    if n_components is not set all components are kept::\n",
       "\n",
       "        n_components == min(n_samples, n_features)\n",
       "\n",
       "    If ``n_components == 'mle'`` and ``svd_solver == 'full'``, Minka's\n",
       "    MLE is used to guess the dimension. Use of ``n_components == 'mle'``\n",
       "    will interpret ``svd_solver == 'auto'`` as ``svd_solver == 'full'``.\n",
       "\n",
       "    If ``0 < n_components < 1`` and ``svd_solver == 'full'``, select the\n",
       "    number of components such that the amount of variance that needs to be\n",
       "    explained is greater than the percentage specified by n_components.\n",
       "\n",
       "    If ``svd_solver == 'arpack'``, the number of components must be\n",
       "    strictly less than the minimum of n_features and n_samples.\n",
       "\n",
       "    Hence, the None case results in::\n",
       "\n",
       "        n_components == min(n_samples, n_features) - 1\n",
       "\n",
       "copy : bool, default=True\n",
       "    If False, data passed to fit are overwritten and running\n",
       "    fit(X).transform(X) will not yield the expected results,\n",
       "    use fit_transform(X) instead.\n",
       "\n",
       "whiten : bool, default=False\n",
       "    When True (False by default) the `components_` vectors are multiplied\n",
       "    by the square root of n_samples and then divided by the singular values\n",
       "    to ensure uncorrelated outputs with unit component-wise variances.\n",
       "\n",
       "    Whitening will remove some information from the transformed signal\n",
       "    (the relative variance scales of the components) but can sometime\n",
       "    improve the predictive accuracy of the downstream estimators by\n",
       "    making their data respect some hard-wired assumptions.\n",
       "\n",
       "svd_solver : {'auto', 'full', 'arpack', 'randomized'}, default='auto'\n",
       "    If auto :\n",
       "        The solver is selected by a default policy based on `X.shape` and\n",
       "        `n_components`: if the input data is larger than 500x500 and the\n",
       "        number of components to extract is lower than 80% of the smallest\n",
       "        dimension of the data, then the more efficient 'randomized'\n",
       "        method is enabled. Otherwise the exact full SVD is computed and\n",
       "        optionally truncated afterwards.\n",
       "    If full :\n",
       "        run exact full SVD calling the standard LAPACK solver via\n",
       "        `scipy.linalg.svd` and select the components by postprocessing\n",
       "    If arpack :\n",
       "        run SVD truncated to n_components calling ARPACK solver via\n",
       "        `scipy.sparse.linalg.svds`. It requires strictly\n",
       "        0 < n_components < min(X.shape)\n",
       "    If randomized :\n",
       "        run randomized SVD by the method of Halko et al.\n",
       "\n",
       "    .. versionadded:: 0.18.0\n",
       "\n",
       "tol : float, default=0.0\n",
       "    Tolerance for singular values computed by svd_solver == 'arpack'.\n",
       "    Must be of range [0.0, infinity).\n",
       "\n",
       "    .. versionadded:: 0.18.0\n",
       "\n",
       "iterated_power : int or 'auto', default='auto'\n",
       "    Number of iterations for the power method computed by\n",
       "    svd_solver == 'randomized'.\n",
       "    Must be of range [0, infinity).\n",
       "\n",
       "    .. versionadded:: 0.18.0\n",
       "\n",
       "random_state : int, RandomState instance or None, default=None\n",
       "    Used when the 'arpack' or 'randomized' solvers are used. Pass an int\n",
       "    for reproducible results across multiple function calls.\n",
       "    See :term:`Glossary <random_state>`.\n",
       "\n",
       "    .. versionadded:: 0.18.0\n",
       "\n",
       "Attributes\n",
       "----------\n",
       "components_ : ndarray of shape (n_components, n_features)\n",
       "    Principal axes in feature space, representing the directions of\n",
       "    maximum variance in the data. Equivalently, the right singular\n",
       "    vectors of the centered input data, parallel to its eigenvectors.\n",
       "    The components are sorted by ``explained_variance_``.\n",
       "\n",
       "explained_variance_ : ndarray of shape (n_components,)\n",
       "    The amount of variance explained by each of the selected components.\n",
       "    The variance estimation uses `n_samples - 1` degrees of freedom.\n",
       "\n",
       "    Equal to n_components largest eigenvalues\n",
       "    of the covariance matrix of X.\n",
       "\n",
       "    .. versionadded:: 0.18\n",
       "\n",
       "explained_variance_ratio_ : ndarray of shape (n_components,)\n",
       "    Percentage of variance explained by each of the selected components.\n",
       "\n",
       "    If ``n_components`` is not set then all components are stored and the\n",
       "    sum of the ratios is equal to 1.0.\n",
       "\n",
       "singular_values_ : ndarray of shape (n_components,)\n",
       "    The singular values corresponding to each of the selected components.\n",
       "    The singular values are equal to the 2-norms of the ``n_components``\n",
       "    variables in the lower-dimensional space.\n",
       "\n",
       "    .. versionadded:: 0.19\n",
       "\n",
       "mean_ : ndarray of shape (n_features,)\n",
       "    Per-feature empirical mean, estimated from the training set.\n",
       "\n",
       "    Equal to `X.mean(axis=0)`.\n",
       "\n",
       "n_components_ : int\n",
       "    The estimated number of components. When n_components is set\n",
       "    to 'mle' or a number between 0 and 1 (with svd_solver == 'full') this\n",
       "    number is estimated from input data. Otherwise it equals the parameter\n",
       "    n_components, or the lesser value of n_features and n_samples\n",
       "    if n_components is None.\n",
       "\n",
       "n_features_ : int\n",
       "    Number of features in the training data.\n",
       "\n",
       "n_samples_ : int\n",
       "    Number of samples in the training data.\n",
       "\n",
       "noise_variance_ : float\n",
       "    The estimated noise covariance following the Probabilistic PCA model\n",
       "    from Tipping and Bishop 1999. See \"Pattern Recognition and\n",
       "    Machine Learning\" by C. Bishop, 12.2.1 p. 574 or\n",
       "    http://www.miketipping.com/papers/met-mppca.pdf. It is required to\n",
       "    compute the estimated data covariance and score samples.\n",
       "\n",
       "    Equal to the average of (min(n_features, n_samples) - n_components)\n",
       "    smallest eigenvalues of the covariance matrix of X.\n",
       "\n",
       "n_features_in_ : int\n",
       "    Number of features seen during :term:`fit`.\n",
       "\n",
       "    .. versionadded:: 0.24\n",
       "\n",
       "feature_names_in_ : ndarray of shape (`n_features_in_`,)\n",
       "    Names of features seen during :term:`fit`. Defined only when `X`\n",
       "    has feature names that are all strings.\n",
       "\n",
       "    .. versionadded:: 1.0\n",
       "\n",
       "See Also\n",
       "--------\n",
       "KernelPCA : Kernel Principal Component Analysis.\n",
       "SparsePCA : Sparse Principal Component Analysis.\n",
       "TruncatedSVD : Dimensionality reduction using truncated SVD.\n",
       "IncrementalPCA : Incremental Principal Component Analysis.\n",
       "\n",
       "References\n",
       "----------\n",
       "For n_components == 'mle', this class uses the method from:\n",
       "`Minka, T. P.. \"Automatic choice of dimensionality for PCA\".\n",
       "In NIPS, pp. 598-604 <https://tminka.github.io/papers/pca/minka-pca.pdf>`_\n",
       "\n",
       "Implements the probabilistic PCA model from:\n",
       "`Tipping, M. E., and Bishop, C. M. (1999). \"Probabilistic principal\n",
       "component analysis\". Journal of the Royal Statistical Society:\n",
       "Series B (Statistical Methodology), 61(3), 611-622.\n",
       "<http://www.miketipping.com/papers/met-mppca.pdf>`_\n",
       "via the score and score_samples methods.\n",
       "\n",
       "For svd_solver == 'arpack', refer to `scipy.sparse.linalg.svds`.\n",
       "\n",
       "For svd_solver == 'randomized', see:\n",
       "`Halko, N., Martinsson, P. G., and Tropp, J. A. (2011).\n",
       "\"Finding structure with randomness: Probabilistic algorithms for\n",
       "constructing approximate matrix decompositions\".\n",
       "SIAM review, 53(2), 217-288.\n",
       "<https://doi.org/10.1137/090771806>`_\n",
       "and also\n",
       "`Martinsson, P. G., Rokhlin, V., and Tygert, M. (2011).\n",
       "\"A randomized algorithm for the decomposition of matrices\".\n",
       "Applied and Computational Harmonic Analysis, 30(1), 47-68\n",
       "<https://doi.org/10.1016/j.acha.2010.02.003>`_.\n",
       "\n",
       "Examples\n",
       "--------\n",
       ">>> import numpy as np\n",
       ">>> from sklearn.decomposition import PCA\n",
       ">>> X = np.array([[-1, -1], [-2, -1], [-3, -2], [1, 1], [2, 1], [3, 2]])\n",
       ">>> pca = PCA(n_components=2)\n",
       ">>> pca.fit(X)\n",
       "PCA(n_components=2)\n",
       ">>> print(pca.explained_variance_ratio_)\n",
       "[0.9924... 0.0075...]\n",
       ">>> print(pca.singular_values_)\n",
       "[6.30061... 0.54980...]\n",
       "\n",
       ">>> pca = PCA(n_components=2, svd_solver='full')\n",
       ">>> pca.fit(X)\n",
       "PCA(n_components=2, svd_solver='full')\n",
       ">>> print(pca.explained_variance_ratio_)\n",
       "[0.9924... 0.00755...]\n",
       ">>> print(pca.singular_values_)\n",
       "[6.30061... 0.54980...]\n",
       "\n",
       ">>> pca = PCA(n_components=1, svd_solver='arpack')\n",
       ">>> pca.fit(X)\n",
       "PCA(n_components=1, svd_solver='arpack')\n",
       ">>> print(pca.explained_variance_ratio_)\n",
       "[0.99244...]\n",
       ">>> print(pca.singular_values_)\n",
       "[6.30061...]\n",
       "\u001b[0;31mFile:\u001b[0m           ~/Training/ai-micro-credentials/introduction-to-machine-learning/env/lib/python3.9/site-packages/sklearn/decomposition/_pca.py\n",
       "\u001b[0;31mType:\u001b[0m           ABCMeta\n",
       "\u001b[0;31mSubclasses:\u001b[0m     \n"
      ]
     },
     "metadata": {},
     "output_type": "display_data"
    }
   ],
   "source": [
    "decomposition.PCA?"
   ]
  },
  {
   "cell_type": "code",
   "execution_count": 24,
   "id": "cffe9c01-03e6-44f4-a803-faf3f939fe9e",
   "metadata": {},
   "outputs": [],
   "source": [
    "# hyper-parameters\n",
    "N_COMPONENTS = 250\n",
    "WHITEN = False\n",
    "\n",
    "decomposer = decomposition.PCA(n_components=N_COMPONENTS, random_state=_random_state, whiten=WHITEN)\n",
    "engineered_train_features = decomposer.fit_transform(preprocessed_train_features)"
   ]
  },
  {
   "cell_type": "code",
   "execution_count": 25,
   "id": "afff6d94-d47a-4e8f-b958-490924398545",
   "metadata": {},
   "outputs": [
    {
     "data": {
      "text/plain": [
       "(54000, 250)"
      ]
     },
     "execution_count": 25,
     "metadata": {},
     "output_type": "execute_result"
    }
   ],
   "source": [
    "engineered_train_features.shape"
   ]
  },
  {
   "cell_type": "code",
   "execution_count": 26,
   "id": "71b1db02-41f7-4fc3-80c2-4e8e5226c1bf",
   "metadata": {},
   "outputs": [
    {
     "data": {
      "text/plain": [
       "array([[  3.1448092 ,  -8.862815  ,  -4.346826  ,  -2.330716  ,\n",
       "         -1.0931646 ],\n",
       "       [ -3.0193415 ,  -0.8990809 ,  -2.5097537 ,  -1.9891044 ,\n",
       "         -1.0048767 ],\n",
       "       [ -6.24813   ,   2.0549815 ,   0.48118702,   4.061942  ,\n",
       "         -2.4457383 ],\n",
       "       ...,\n",
       "       [ -0.4053622 ,  -3.421339  ,   1.0982977 ,   0.56382704,\n",
       "          0.7519292 ],\n",
       "       [ -2.6314113 , -10.915803  ,  -2.8085542 ,  -0.87653154,\n",
       "          1.0724978 ],\n",
       "       [ -1.223127  ,   4.84004   ,   1.4457136 ,   1.9450134 ,\n",
       "         -0.42253965]], dtype=float32)"
      ]
     },
     "execution_count": 26,
     "metadata": {},
     "output_type": "execute_result"
    }
   ],
   "source": [
    "engineered_train_features[:, :5]"
   ]
  },
  {
   "cell_type": "code",
   "execution_count": 27,
   "id": "4f166dc3-3c42-470c-aa87-b6cece88fc21",
   "metadata": {},
   "outputs": [
    {
     "data": {
      "text/plain": [
       "array([-6.82473171e-08, -7.29914049e-08, -1.26189661e-07, -1.23337465e-08,\n",
       "       -3.61159991e-08, -2.09366835e-08,  3.03644256e-08, -1.65568466e-08,\n",
       "       -4.31592824e-08, -1.86540454e-08, -3.27174305e-08,  5.24134558e-09,\n",
       "        4.26956888e-08, -2.31381918e-08, -5.64433904e-08, -3.84615539e-08,\n",
       "        9.52040722e-08, -7.92995678e-08,  2.01184296e-08,  9.12433293e-08,\n",
       "        4.03374800e-09,  3.04568708e-08,  2.68513407e-08,  7.56371890e-08,\n",
       "        4.12988435e-08, -3.19491917e-08,  9.36124067e-09, -4.09743315e-08,\n",
       "       -8.91304666e-08, -4.61958081e-08, -3.66027706e-08, -5.96959850e-08,\n",
       "        3.15885309e-08,  1.35329728e-07,  1.25282028e-07,  1.48608180e-07,\n",
       "        3.65800048e-08,  1.57792250e-08,  3.10556771e-08,  1.72178787e-08,\n",
       "        3.29023173e-08, -6.86999400e-08,  1.00632235e-07, -9.24865429e-09,\n",
       "        8.98530388e-08, -4.16855492e-08, -5.56929507e-08,  9.80917250e-08,\n",
       "       -3.44128530e-08, -7.81163010e-08,  7.53336451e-08, -1.19809471e-07,\n",
       "       -8.85218654e-08, -1.29045432e-07, -5.86761502e-08,  6.87790660e-08,\n",
       "        3.97557454e-09,  1.47787782e-08, -9.50295664e-09, -2.79057364e-08,\n",
       "       -5.72441898e-08, -1.66152773e-07, -1.26384478e-07, -9.61945830e-08,\n",
       "        3.81894694e-08,  1.49951006e-07,  1.76429396e-08,  1.15977393e-07,\n",
       "       -6.06325479e-09,  9.86920483e-08,  3.21113127e-08, -2.66689391e-08,\n",
       "        6.49414700e-09, -1.43307020e-07, -7.67843034e-08, -1.02516331e-07,\n",
       "        5.52631647e-08,  1.23701440e-07,  1.89195077e-08,  2.97310248e-08,\n",
       "        1.04401671e-07,  8.80782807e-08, -2.23522932e-07, -1.54776032e-08,\n",
       "        3.85058776e-08,  1.36148600e-07, -4.08744363e-08,  7.37459160e-08,\n",
       "       -4.90495182e-08, -5.28087511e-08, -5.16474259e-08, -4.83956608e-09,\n",
       "        7.93812447e-08, -2.80583357e-09, -7.00986504e-08, -1.53011470e-08,\n",
       "       -1.63669416e-08,  5.72549510e-08,  4.28059295e-08,  5.80961768e-08,\n",
       "        1.16267689e-08,  1.33202860e-07, -5.18676622e-08, -2.25699122e-08,\n",
       "        1.43626224e-07, -1.47074189e-07,  2.24995116e-08, -2.04435646e-09,\n",
       "       -4.57838176e-08, -7.93624793e-08,  1.42285392e-08, -1.43551134e-07,\n",
       "        5.77006087e-09,  1.10478311e-07,  4.03918747e-08, -1.56811126e-07,\n",
       "        2.11938662e-08,  2.24394938e-08, -4.19070325e-08, -1.08885956e-07,\n",
       "       -2.73069993e-08, -1.51389102e-07,  5.93556031e-08, -8.77512818e-08,\n",
       "       -1.45468718e-07,  1.67624961e-07,  2.11306750e-09, -9.40510247e-08,\n",
       "        3.74900964e-08,  3.05534869e-08,  1.69063199e-07,  1.29702741e-07,\n",
       "       -1.29263436e-08,  5.65512508e-08,  1.05135967e-09, -6.99592988e-08,\n",
       "       -1.32125152e-07,  1.87954313e-07, -2.47786991e-09, -7.82528957e-08,\n",
       "        1.31869413e-07,  6.63919186e-09, -1.90032026e-07,  1.25322908e-08,\n",
       "        1.27256826e-07, -1.11206951e-07, -2.46039974e-07,  1.08143730e-07,\n",
       "        5.68171963e-08,  1.11148587e-07,  6.50198402e-08,  4.51383784e-08,\n",
       "       -2.25575434e-07, -8.25918960e-08,  2.61333941e-08, -3.61932635e-08,\n",
       "        2.24458120e-07, -6.30556443e-08, -1.14462475e-08,  3.50023797e-08,\n",
       "       -6.41100399e-08,  1.50716417e-07, -2.51502343e-07, -5.27988142e-08,\n",
       "       -2.76073678e-07,  1.25206185e-07, -1.21388588e-08,  1.33189545e-07,\n",
       "       -1.48903991e-08,  4.50417943e-08, -5.03928277e-09,  1.30504375e-07,\n",
       "        1.44355752e-07,  2.31033539e-08, -5.20993062e-08,  1.00422511e-07,\n",
       "        1.13688131e-07, -1.69089933e-08,  1.72993651e-07,  5.46386936e-08,\n",
       "        1.74335852e-07, -1.50868601e-07,  1.57046372e-07,  1.64839065e-07,\n",
       "        1.04363318e-08,  1.45130755e-07,  1.89923313e-07, -1.84480655e-07,\n",
       "        1.25037161e-07, -1.39678036e-07, -6.45885336e-08,  1.55220917e-07,\n",
       "       -1.37505296e-08,  2.53798220e-07, -1.49238161e-07,  2.68350604e-08,\n",
       "        1.69964622e-07,  6.09650002e-08, -9.27438251e-08,  1.39416116e-07,\n",
       "       -9.01052175e-08, -1.47771786e-07, -7.02766343e-08,  3.38038362e-08,\n",
       "        1.09770923e-07,  1.95307862e-07, -2.70963682e-07, -3.50637777e-08,\n",
       "       -6.77746215e-08,  1.04396122e-07, -3.09782592e-07,  6.30533634e-08,\n",
       "        5.50771766e-08,  3.21892806e-08, -1.03351731e-07, -1.21729798e-07,\n",
       "       -1.06371488e-07,  5.48379298e-08,  1.80144966e-07,  4.26117666e-08,\n",
       "        8.11582055e-08,  1.51932653e-07,  2.18518494e-07,  4.63920919e-08,\n",
       "        3.19428324e-07, -2.06036077e-07,  1.29699643e-07,  8.91375773e-09,\n",
       "        5.03264630e-08, -7.85408503e-08, -2.28645291e-07, -4.93938295e-08,\n",
       "       -1.22996113e-07, -3.47432980e-08, -3.22785354e-08, -1.22217116e-08,\n",
       "       -2.17143864e-07, -1.87017719e-07, -3.23337268e-08, -9.25033703e-08,\n",
       "       -1.06734532e-07, -1.26508098e-07,  8.21120238e-08, -3.27385763e-08,\n",
       "       -3.26888028e-08,  1.51377236e-07, -1.70971504e-08,  7.29642267e-08,\n",
       "        2.32359881e-07, -9.14841625e-09], dtype=float32)"
      ]
     },
     "execution_count": 27,
     "metadata": {},
     "output_type": "execute_result"
    }
   ],
   "source": [
    "engineered_train_features.mean(axis=0)"
   ]
  },
  {
   "cell_type": "code",
   "execution_count": 28,
   "id": "40548043-1900-4790-b1f6-06a156383260",
   "metadata": {},
   "outputs": [
    {
     "data": {
      "text/plain": [
       "array([7.435774  , 4.6135144 , 3.5772007 , 2.654004  , 2.6175659 ,\n",
       "       2.3090043 , 2.268646  , 2.0276532 , 1.9755507 , 1.6629373 ,\n",
       "       1.5751101 , 1.4234409 , 1.4148061 , 1.3811264 , 1.3258848 ,\n",
       "       1.2485186 , 1.1872598 , 1.1651027 , 1.1402059 , 1.1093268 ,\n",
       "       1.0622326 , 1.058485  , 0.96959376, 0.96665233, 0.9560413 ,\n",
       "       0.94181097, 0.92626256, 0.9199961 , 0.8738207 , 0.8699789 ,\n",
       "       0.8332043 , 0.79958415, 0.78483075, 0.7692734 , 0.7651731 ,\n",
       "       0.7467796 , 0.70545584, 0.70377547, 0.6939377 , 0.6866739 ,\n",
       "       0.679627  , 0.662136  , 0.65912586, 0.6487021 , 0.63399893,\n",
       "       0.6252533 , 0.6068163 , 0.60312337, 0.59030735, 0.58873963,\n",
       "       0.58173674, 0.57502353, 0.57172894, 0.5673413 , 0.554702  ,\n",
       "       0.5502048 , 0.5459831 , 0.54277396, 0.5390564 , 0.5334956 ,\n",
       "       0.5270382 , 0.5209132 , 0.5171787 , 0.5117481 , 0.5054218 ,\n",
       "       0.5042065 , 0.49481183, 0.48688343, 0.48109484, 0.48016566,\n",
       "       0.4747348 , 0.47124615, 0.46614003, 0.46242467, 0.46181646,\n",
       "       0.4593829 , 0.4578984 , 0.44623023, 0.44435984, 0.44043273,\n",
       "       0.43562227, 0.4343997 , 0.43184438, 0.43052813, 0.42386928,\n",
       "       0.4219528 , 0.41889548, 0.41475773, 0.4108404 , 0.409084  ,\n",
       "       0.40561655, 0.40188438, 0.39888683, 0.39597872, 0.39319822,\n",
       "       0.38956755, 0.38680607, 0.37738463, 0.37679195, 0.37668973,\n",
       "       0.37531358, 0.37223724, 0.36809245, 0.36617136, 0.3633507 ,\n",
       "       0.35934272, 0.35906765, 0.357281  , 0.35666966, 0.35463145,\n",
       "       0.35133263, 0.3507125 , 0.34512842, 0.3438109 , 0.33974802,\n",
       "       0.33948985, 0.33678108, 0.33553   , 0.3332032 , 0.33263695,\n",
       "       0.3307467 , 0.32733524, 0.32668966, 0.3265124 , 0.32487312,\n",
       "       0.32305434, 0.32114276, 0.31882596, 0.31731853, 0.3136405 ,\n",
       "       0.3128037 , 0.31165734, 0.3066179 , 0.30573577, 0.30440906,\n",
       "       0.30264807, 0.30194008, 0.3011471 , 0.29810613, 0.29652655,\n",
       "       0.29604608, 0.29502067, 0.2935397 , 0.2923089 , 0.29085147,\n",
       "       0.28961936, 0.28814232, 0.28670856, 0.2852875 , 0.28341806,\n",
       "       0.2810071 , 0.28083447, 0.28037262, 0.27906698, 0.27805987,\n",
       "       0.27701983, 0.27424353, 0.27324253, 0.2722006 , 0.27165517,\n",
       "       0.2704245 , 0.26868626, 0.26745534, 0.26623872, 0.26348463,\n",
       "       0.26251566, 0.2593634 , 0.25832707, 0.2576434 , 0.2568319 ,\n",
       "       0.2566722 , 0.25536534, 0.2542328 , 0.2526507 , 0.25252375,\n",
       "       0.2517619 , 0.25007045, 0.2487396 , 0.24844182, 0.24760726,\n",
       "       0.24676551, 0.24634388, 0.24478652, 0.24411607, 0.24387197,\n",
       "       0.24238047, 0.24222077, 0.24084173, 0.239793  , 0.23773219,\n",
       "       0.23609266, 0.23535822, 0.23483436, 0.23345464, 0.23280051,\n",
       "       0.2317056 , 0.23141257, 0.23070563, 0.23011161, 0.22954313,\n",
       "       0.22794858, 0.22759466, 0.22588928, 0.22558774, 0.22492802,\n",
       "       0.22428234, 0.22211772, 0.22200264, 0.22117645, 0.21922395,\n",
       "       0.2186378 , 0.21782924, 0.21710815, 0.21618226, 0.21576002,\n",
       "       0.21519686, 0.21414213, 0.21347964, 0.21249062, 0.21182488,\n",
       "       0.21123096, 0.21016192, 0.20955399, 0.20882958, 0.20871232,\n",
       "       0.20781647, 0.20727316, 0.20663875, 0.2057443 , 0.20476407,\n",
       "       0.2043236 , 0.20350102, 0.2026546 , 0.20172748, 0.20104259,\n",
       "       0.19998953, 0.19844764, 0.19831255, 0.19753985, 0.19631281,\n",
       "       0.19564475, 0.19485554, 0.1943352 , 0.19365782, 0.1926843 ,\n",
       "       0.19188224, 0.19079877, 0.19000821, 0.18969697, 0.18829145],\n",
       "      dtype=float32)"
      ]
     },
     "execution_count": 28,
     "metadata": {},
     "output_type": "execute_result"
    }
   ],
   "source": [
    "engineered_train_features.std(axis=0)"
   ]
  },
  {
   "cell_type": "code",
   "execution_count": 30,
   "id": "91e6542c-bcdd-425f-8ce6-eea4b3f7bd45",
   "metadata": {},
   "outputs": [
    {
     "data": {
      "image/png": "[encoded data removed]",
      "text/plain": [
       "<Figure size 432x288 with 1 Axes>"
      ]
     },
     "metadata": {
      "needs_background": "light"
     },
     "output_type": "display_data"
    }
   ],
   "source": [
    "fig, ax = plt.subplots(1, 1)\n",
    "_ = ax.scatter(engineered_train_features[:,0], engineered_train_features[:,1], c=train_target, alpha=0.05)\n",
    "_ = ax.set_xlabel(\"Component 1\")\n",
    "_ = ax.set_ylabel(\"Component 2\")\n",
    "_ = ax.set_title(type(decomposer))"
   ]
  },
  {
   "cell_type": "markdown",
   "id": "54c7ec60-138c-4be1-9934-8eae3089b1f5",
   "metadata": {},
   "source": [
    "### Exercise\n",
    "\n",
    "Take a close look at the doc string for the `decomposition.PCA` algorithm. What happens if you set `n_components` to a number between 0 and 1 (i.e., `n_components=0.95`)? Why might you want to do this? What does setting `whiten=True` do to the output of the algorithm? Re-run the PCA algorithm above setting `whiten=True` to confirm your answer. Why might you want to set `whiten=True`? "
   ]
  },
  {
   "cell_type": "markdown",
   "id": "ecac447b-dfae-48e3-8788-4e5158bdd50e",
   "metadata": {},
   "source": [
    "### Exercise\n",
    "\n",
    "Explore the documentation of the `decomposition.KernelPCA` algorithm. How can you recover PCA using this algorithm? Confirm your hypothesis. Explore different kernels."
   ]
  },
  {
   "cell_type": "code",
   "execution_count": 32,
   "id": "b6614f8e-fb78-4462-bca2-50926fb2783a",
   "metadata": {
    "tags": []
   },
   "outputs": [
    {
     "data": {
      "text/plain": [
       "\u001b[0;31mInit signature:\u001b[0m\n",
       "\u001b[0mdecomposition\u001b[0m\u001b[0;34m.\u001b[0m\u001b[0mFastICA\u001b[0m\u001b[0;34m(\u001b[0m\u001b[0;34m\u001b[0m\n",
       "\u001b[0;34m\u001b[0m    \u001b[0mn_components\u001b[0m\u001b[0;34m=\u001b[0m\u001b[0;32mNone\u001b[0m\u001b[0;34m,\u001b[0m\u001b[0;34m\u001b[0m\n",
       "\u001b[0;34m\u001b[0m    \u001b[0;34m*\u001b[0m\u001b[0;34m,\u001b[0m\u001b[0;34m\u001b[0m\n",
       "\u001b[0;34m\u001b[0m    \u001b[0malgorithm\u001b[0m\u001b[0;34m=\u001b[0m\u001b[0;34m'parallel'\u001b[0m\u001b[0;34m,\u001b[0m\u001b[0;34m\u001b[0m\n",
       "\u001b[0;34m\u001b[0m    \u001b[0mwhiten\u001b[0m\u001b[0;34m=\u001b[0m\u001b[0;32mTrue\u001b[0m\u001b[0;34m,\u001b[0m\u001b[0;34m\u001b[0m\n",
       "\u001b[0;34m\u001b[0m    \u001b[0mfun\u001b[0m\u001b[0;34m=\u001b[0m\u001b[0;34m'logcosh'\u001b[0m\u001b[0;34m,\u001b[0m\u001b[0;34m\u001b[0m\n",
       "\u001b[0;34m\u001b[0m    \u001b[0mfun_args\u001b[0m\u001b[0;34m=\u001b[0m\u001b[0;32mNone\u001b[0m\u001b[0;34m,\u001b[0m\u001b[0;34m\u001b[0m\n",
       "\u001b[0;34m\u001b[0m    \u001b[0mmax_iter\u001b[0m\u001b[0;34m=\u001b[0m\u001b[0;36m200\u001b[0m\u001b[0;34m,\u001b[0m\u001b[0;34m\u001b[0m\n",
       "\u001b[0;34m\u001b[0m    \u001b[0mtol\u001b[0m\u001b[0;34m=\u001b[0m\u001b[0;36m0.0001\u001b[0m\u001b[0;34m,\u001b[0m\u001b[0;34m\u001b[0m\n",
       "\u001b[0;34m\u001b[0m    \u001b[0mw_init\u001b[0m\u001b[0;34m=\u001b[0m\u001b[0;32mNone\u001b[0m\u001b[0;34m,\u001b[0m\u001b[0;34m\u001b[0m\n",
       "\u001b[0;34m\u001b[0m    \u001b[0mrandom_state\u001b[0m\u001b[0;34m=\u001b[0m\u001b[0;32mNone\u001b[0m\u001b[0;34m,\u001b[0m\u001b[0;34m\u001b[0m\n",
       "\u001b[0;34m\u001b[0m\u001b[0;34m)\u001b[0m\u001b[0;34m\u001b[0m\u001b[0;34m\u001b[0m\u001b[0m\n",
       "\u001b[0;31mDocstring:\u001b[0m     \n",
       "FastICA: a fast algorithm for Independent Component Analysis.\n",
       "\n",
       "The implementation is based on [1]_.\n",
       "\n",
       "Read more in the :ref:`User Guide <ICA>`.\n",
       "\n",
       "Parameters\n",
       "----------\n",
       "n_components : int, default=None\n",
       "    Number of components to use. If None is passed, all are used.\n",
       "\n",
       "algorithm : {'parallel', 'deflation'}, default='parallel'\n",
       "    Apply parallel or deflational algorithm for FastICA.\n",
       "\n",
       "whiten : bool, default=True\n",
       "    If whiten is false, the data is already considered to be\n",
       "    whitened, and no whitening is performed.\n",
       "\n",
       "fun : {'logcosh', 'exp', 'cube'} or callable, default='logcosh'\n",
       "    The functional form of the G function used in the\n",
       "    approximation to neg-entropy. Could be either 'logcosh', 'exp',\n",
       "    or 'cube'.\n",
       "    You can also provide your own function. It should return a tuple\n",
       "    containing the value of the function, and of its derivative, in the\n",
       "    point. Example::\n",
       "\n",
       "        def my_g(x):\n",
       "            return x ** 3, (3 * x ** 2).mean(axis=-1)\n",
       "\n",
       "fun_args : dict, default=None\n",
       "    Arguments to send to the functional form.\n",
       "    If empty and if fun='logcosh', fun_args will take value\n",
       "    {'alpha' : 1.0}.\n",
       "\n",
       "max_iter : int, default=200\n",
       "    Maximum number of iterations during fit.\n",
       "\n",
       "tol : float, default=1e-4\n",
       "    Tolerance on update at each iteration.\n",
       "\n",
       "w_init : ndarray of shape (n_components, n_components), default=None\n",
       "    The mixing matrix to be used to initialize the algorithm.\n",
       "\n",
       "random_state : int, RandomState instance or None, default=None\n",
       "    Used to initialize ``w_init`` when not specified, with a\n",
       "    normal distribution. Pass an int, for reproducible results\n",
       "    across multiple function calls.\n",
       "    See :term:`Glossary <random_state>`.\n",
       "\n",
       "Attributes\n",
       "----------\n",
       "components_ : ndarray of shape (n_components, n_features)\n",
       "    The linear operator to apply to the data to get the independent\n",
       "    sources. This is equal to the unmixing matrix when ``whiten`` is\n",
       "    False, and equal to ``np.dot(unmixing_matrix, self.whitening_)`` when\n",
       "    ``whiten`` is True.\n",
       "\n",
       "mixing_ : ndarray of shape (n_features, n_components)\n",
       "    The pseudo-inverse of ``components_``. It is the linear operator\n",
       "    that maps independent sources to the data.\n",
       "\n",
       "mean_ : ndarray of shape(n_features,)\n",
       "    The mean over features. Only set if `self.whiten` is True.\n",
       "\n",
       "n_features_in_ : int\n",
       "    Number of features seen during :term:`fit`.\n",
       "\n",
       "    .. versionadded:: 0.24\n",
       "\n",
       "feature_names_in_ : ndarray of shape (`n_features_in_`,)\n",
       "    Names of features seen during :term:`fit`. Defined only when `X`\n",
       "    has feature names that are all strings.\n",
       "\n",
       "    .. versionadded:: 1.0\n",
       "\n",
       "n_iter_ : int\n",
       "    If the algorithm is \"deflation\", n_iter is the\n",
       "    maximum number of iterations run across all components. Else\n",
       "    they are just the number of iterations taken to converge.\n",
       "\n",
       "whitening_ : ndarray of shape (n_components, n_features)\n",
       "    Only set if whiten is 'True'. This is the pre-whitening matrix\n",
       "    that projects data onto the first `n_components` principal components.\n",
       "\n",
       "See Also\n",
       "--------\n",
       "PCA : Principal component analysis (PCA).\n",
       "IncrementalPCA : Incremental principal components analysis (IPCA).\n",
       "KernelPCA : Kernel Principal component analysis (KPCA).\n",
       "MiniBatchSparsePCA : Mini-batch Sparse Principal Components Analysis.\n",
       "SparsePCA : Sparse Principal Components Analysis (SparsePCA).\n",
       "\n",
       "References\n",
       "----------\n",
       ".. [1] A. Hyvarinen and E. Oja, Independent Component Analysis:\n",
       "       Algorithms and Applications, Neural Networks, 13(4-5), 2000,\n",
       "       pp. 411-430.\n",
       "\n",
       "Examples\n",
       "--------\n",
       ">>> from sklearn.datasets import load_digits\n",
       ">>> from sklearn.decomposition import FastICA\n",
       ">>> X, _ = load_digits(return_X_y=True)\n",
       ">>> transformer = FastICA(n_components=7,\n",
       "...         random_state=0)\n",
       ">>> X_transformed = transformer.fit_transform(X)\n",
       ">>> X_transformed.shape\n",
       "(1797, 7)\n",
       "\u001b[0;31mFile:\u001b[0m           ~/Training/ai-micro-credentials/introduction-to-machine-learning/env/lib/python3.9/site-packages/sklearn/decomposition/_fastica.py\n",
       "\u001b[0;31mType:\u001b[0m           type\n",
       "\u001b[0;31mSubclasses:\u001b[0m     \n"
      ]
     },
     "metadata": {},
     "output_type": "display_data"
    }
   ],
   "source": [
    "decomposition.FastICA?"
   ]
  },
  {
   "cell_type": "code",
   "execution_count": 31,
   "id": "9485ceb2-1420-443a-828e-a6b6972df5ad",
   "metadata": {
    "tags": []
   },
   "outputs": [
    {
     "ename": "KeyboardInterrupt",
     "evalue": "",
     "output_type": "error",
     "traceback": [
      "\u001b[0;31m---------------------------------------------------------------------------\u001b[0m",
      "\u001b[0;31mKeyboardInterrupt\u001b[0m                         Traceback (most recent call last)",
      "File \u001b[0;32m~/Training/ai-micro-credentials/introduction-to-machine-learning/env/lib/python3.9/site-packages/joblib/parallel.py:935\u001b[0m, in \u001b[0;36mParallel.retrieve\u001b[0;34m(self)\u001b[0m\n\u001b[1;32m    934\u001b[0m \u001b[38;5;28;01mif\u001b[39;00m \u001b[38;5;28mgetattr\u001b[39m(\u001b[38;5;28mself\u001b[39m\u001b[38;5;241m.\u001b[39m_backend, \u001b[38;5;124m'\u001b[39m\u001b[38;5;124msupports_timeout\u001b[39m\u001b[38;5;124m'\u001b[39m, \u001b[38;5;28;01mFalse\u001b[39;00m):\n\u001b[0;32m--> 935\u001b[0m     \u001b[38;5;28mself\u001b[39m\u001b[38;5;241m.\u001b[39m_output\u001b[38;5;241m.\u001b[39mextend(\u001b[43mjob\u001b[49m\u001b[38;5;241;43m.\u001b[39;49m\u001b[43mget\u001b[49m\u001b[43m(\u001b[49m\u001b[43mtimeout\u001b[49m\u001b[38;5;241;43m=\u001b[39;49m\u001b[38;5;28;43mself\u001b[39;49m\u001b[38;5;241;43m.\u001b[39;49m\u001b[43mtimeout\u001b[49m\u001b[43m)\u001b[49m)\n\u001b[1;32m    936\u001b[0m \u001b[38;5;28;01melse\u001b[39;00m:\n",
      "File \u001b[0;32m~/Training/ai-micro-credentials/introduction-to-machine-learning/env/lib/python3.9/multiprocessing/pool.py:765\u001b[0m, in \u001b[0;36mApplyResult.get\u001b[0;34m(self, timeout)\u001b[0m\n\u001b[1;32m    764\u001b[0m \u001b[38;5;28;01mdef\u001b[39;00m \u001b[38;5;21mget\u001b[39m(\u001b[38;5;28mself\u001b[39m, timeout\u001b[38;5;241m=\u001b[39m\u001b[38;5;28;01mNone\u001b[39;00m):\n\u001b[0;32m--> 765\u001b[0m     \u001b[38;5;28;43mself\u001b[39;49m\u001b[38;5;241;43m.\u001b[39;49m\u001b[43mwait\u001b[49m\u001b[43m(\u001b[49m\u001b[43mtimeout\u001b[49m\u001b[43m)\u001b[49m\n\u001b[1;32m    766\u001b[0m     \u001b[38;5;28;01mif\u001b[39;00m \u001b[38;5;129;01mnot\u001b[39;00m \u001b[38;5;28mself\u001b[39m\u001b[38;5;241m.\u001b[39mready():\n",
      "File \u001b[0;32m~/Training/ai-micro-credentials/introduction-to-machine-learning/env/lib/python3.9/multiprocessing/pool.py:762\u001b[0m, in \u001b[0;36mApplyResult.wait\u001b[0;34m(self, timeout)\u001b[0m\n\u001b[1;32m    761\u001b[0m \u001b[38;5;28;01mdef\u001b[39;00m \u001b[38;5;21mwait\u001b[39m(\u001b[38;5;28mself\u001b[39m, timeout\u001b[38;5;241m=\u001b[39m\u001b[38;5;28;01mNone\u001b[39;00m):\n\u001b[0;32m--> 762\u001b[0m     \u001b[38;5;28;43mself\u001b[39;49m\u001b[38;5;241;43m.\u001b[39;49m\u001b[43m_event\u001b[49m\u001b[38;5;241;43m.\u001b[39;49m\u001b[43mwait\u001b[49m\u001b[43m(\u001b[49m\u001b[43mtimeout\u001b[49m\u001b[43m)\u001b[49m\n",
      "File \u001b[0;32m~/Training/ai-micro-credentials/introduction-to-machine-learning/env/lib/python3.9/threading.py:574\u001b[0m, in \u001b[0;36mEvent.wait\u001b[0;34m(self, timeout)\u001b[0m\n\u001b[1;32m    573\u001b[0m \u001b[38;5;28;01mif\u001b[39;00m \u001b[38;5;129;01mnot\u001b[39;00m signaled:\n\u001b[0;32m--> 574\u001b[0m     signaled \u001b[38;5;241m=\u001b[39m \u001b[38;5;28;43mself\u001b[39;49m\u001b[38;5;241;43m.\u001b[39;49m\u001b[43m_cond\u001b[49m\u001b[38;5;241;43m.\u001b[39;49m\u001b[43mwait\u001b[49m\u001b[43m(\u001b[49m\u001b[43mtimeout\u001b[49m\u001b[43m)\u001b[49m\n\u001b[1;32m    575\u001b[0m \u001b[38;5;28;01mreturn\u001b[39;00m signaled\n",
      "File \u001b[0;32m~/Training/ai-micro-credentials/introduction-to-machine-learning/env/lib/python3.9/threading.py:312\u001b[0m, in \u001b[0;36mCondition.wait\u001b[0;34m(self, timeout)\u001b[0m\n\u001b[1;32m    311\u001b[0m \u001b[38;5;28;01mif\u001b[39;00m timeout \u001b[38;5;129;01mis\u001b[39;00m \u001b[38;5;28;01mNone\u001b[39;00m:\n\u001b[0;32m--> 312\u001b[0m     \u001b[43mwaiter\u001b[49m\u001b[38;5;241;43m.\u001b[39;49m\u001b[43macquire\u001b[49m\u001b[43m(\u001b[49m\u001b[43m)\u001b[49m\n\u001b[1;32m    313\u001b[0m     gotit \u001b[38;5;241m=\u001b[39m \u001b[38;5;28;01mTrue\u001b[39;00m\n",
      "\u001b[0;31mKeyboardInterrupt\u001b[0m: ",
      "\nDuring handling of the above exception, another exception occurred:\n",
      "\u001b[0;31mKeyboardInterrupt\u001b[0m                         Traceback (most recent call last)",
      "Input \u001b[0;32mIn [31]\u001b[0m, in \u001b[0;36m<cell line: 11>\u001b[0;34m()\u001b[0m\n\u001b[1;32m      2\u001b[0m KERNEL \u001b[38;5;241m=\u001b[39m \u001b[38;5;124m\"\u001b[39m\u001b[38;5;124mlinear\u001b[39m\u001b[38;5;124m\"\u001b[39m\n\u001b[1;32m      4\u001b[0m decomposer \u001b[38;5;241m=\u001b[39m decomposition\u001b[38;5;241m.\u001b[39mKernelPCA(\n\u001b[1;32m      5\u001b[0m     eigen_solver\u001b[38;5;241m=\u001b[39m\u001b[38;5;124m\"\u001b[39m\u001b[38;5;124mrandomized\u001b[39m\u001b[38;5;124m\"\u001b[39m,\n\u001b[1;32m      6\u001b[0m     kernel\u001b[38;5;241m=\u001b[39mKERNEL,\n\u001b[0;32m   (...)\u001b[0m\n\u001b[1;32m      9\u001b[0m     random_state\u001b[38;5;241m=\u001b[39m_random_state,\n\u001b[1;32m     10\u001b[0m )\n\u001b[0;32m---> 11\u001b[0m engineered_train_features \u001b[38;5;241m=\u001b[39m \u001b[43mdecomposer\u001b[49m\u001b[38;5;241;43m.\u001b[39;49m\u001b[43mfit_transform\u001b[49m\u001b[43m(\u001b[49m\u001b[43mpreprocessed_train_features\u001b[49m\u001b[43m)\u001b[49m\n",
      "File \u001b[0;32m~/Training/ai-micro-credentials/introduction-to-machine-learning/env/lib/python3.9/site-packages/sklearn/decomposition/_kernel_pca.py:464\u001b[0m, in \u001b[0;36mKernelPCA.fit_transform\u001b[0;34m(self, X, y, **params)\u001b[0m\n\u001b[1;32m    443\u001b[0m \u001b[38;5;28;01mdef\u001b[39;00m \u001b[38;5;21mfit_transform\u001b[39m(\u001b[38;5;28mself\u001b[39m, X, y\u001b[38;5;241m=\u001b[39m\u001b[38;5;28;01mNone\u001b[39;00m, \u001b[38;5;241m*\u001b[39m\u001b[38;5;241m*\u001b[39mparams):\n\u001b[1;32m    444\u001b[0m     \u001b[38;5;124;03m\"\"\"Fit the model from data in X and transform X.\u001b[39;00m\n\u001b[1;32m    445\u001b[0m \n\u001b[1;32m    446\u001b[0m \u001b[38;5;124;03m    Parameters\u001b[39;00m\n\u001b[0;32m   (...)\u001b[0m\n\u001b[1;32m    462\u001b[0m \u001b[38;5;124;03m        Returns the instance itself.\u001b[39;00m\n\u001b[1;32m    463\u001b[0m \u001b[38;5;124;03m    \"\"\"\u001b[39;00m\n\u001b[0;32m--> 464\u001b[0m     \u001b[38;5;28;43mself\u001b[39;49m\u001b[38;5;241;43m.\u001b[39;49m\u001b[43mfit\u001b[49m\u001b[43m(\u001b[49m\u001b[43mX\u001b[49m\u001b[43m,\u001b[49m\u001b[43m \u001b[49m\u001b[38;5;241;43m*\u001b[39;49m\u001b[38;5;241;43m*\u001b[39;49m\u001b[43mparams\u001b[49m\u001b[43m)\u001b[49m\n\u001b[1;32m    466\u001b[0m     \u001b[38;5;66;03m# no need to use the kernel to transform X, use shortcut expression\u001b[39;00m\n\u001b[1;32m    467\u001b[0m     X_transformed \u001b[38;5;241m=\u001b[39m \u001b[38;5;28mself\u001b[39m\u001b[38;5;241m.\u001b[39meigenvectors_ \u001b[38;5;241m*\u001b[39m np\u001b[38;5;241m.\u001b[39msqrt(\u001b[38;5;28mself\u001b[39m\u001b[38;5;241m.\u001b[39meigenvalues_)\n",
      "File \u001b[0;32m~/Training/ai-micro-credentials/introduction-to-machine-learning/env/lib/python3.9/site-packages/sklearn/decomposition/_kernel_pca.py:431\u001b[0m, in \u001b[0;36mKernelPCA.fit\u001b[0;34m(self, X, y)\u001b[0m\n\u001b[1;32m    429\u001b[0m X \u001b[38;5;241m=\u001b[39m \u001b[38;5;28mself\u001b[39m\u001b[38;5;241m.\u001b[39m_validate_data(X, accept_sparse\u001b[38;5;241m=\u001b[39m\u001b[38;5;124m\"\u001b[39m\u001b[38;5;124mcsr\u001b[39m\u001b[38;5;124m\"\u001b[39m, copy\u001b[38;5;241m=\u001b[39m\u001b[38;5;28mself\u001b[39m\u001b[38;5;241m.\u001b[39mcopy_X)\n\u001b[1;32m    430\u001b[0m \u001b[38;5;28mself\u001b[39m\u001b[38;5;241m.\u001b[39m_centerer \u001b[38;5;241m=\u001b[39m KernelCenterer()\n\u001b[0;32m--> 431\u001b[0m K \u001b[38;5;241m=\u001b[39m \u001b[38;5;28;43mself\u001b[39;49m\u001b[38;5;241;43m.\u001b[39;49m\u001b[43m_get_kernel\u001b[49m\u001b[43m(\u001b[49m\u001b[43mX\u001b[49m\u001b[43m)\u001b[49m\n\u001b[1;32m    432\u001b[0m \u001b[38;5;28mself\u001b[39m\u001b[38;5;241m.\u001b[39m_fit_transform(K)\n\u001b[1;32m    434\u001b[0m \u001b[38;5;28;01mif\u001b[39;00m \u001b[38;5;28mself\u001b[39m\u001b[38;5;241m.\u001b[39mfit_inverse_transform:\n\u001b[1;32m    435\u001b[0m     \u001b[38;5;66;03m# no need to use the kernel to transform X, use shortcut expression\u001b[39;00m\n",
      "File \u001b[0;32m~/Training/ai-micro-credentials/introduction-to-machine-learning/env/lib/python3.9/site-packages/sklearn/decomposition/_kernel_pca.py:310\u001b[0m, in \u001b[0;36mKernelPCA._get_kernel\u001b[0;34m(self, X, Y)\u001b[0m\n\u001b[1;32m    308\u001b[0m \u001b[38;5;28;01melse\u001b[39;00m:\n\u001b[1;32m    309\u001b[0m     params \u001b[38;5;241m=\u001b[39m {\u001b[38;5;124m\"\u001b[39m\u001b[38;5;124mgamma\u001b[39m\u001b[38;5;124m\"\u001b[39m: \u001b[38;5;28mself\u001b[39m\u001b[38;5;241m.\u001b[39mgamma, \u001b[38;5;124m\"\u001b[39m\u001b[38;5;124mdegree\u001b[39m\u001b[38;5;124m\"\u001b[39m: \u001b[38;5;28mself\u001b[39m\u001b[38;5;241m.\u001b[39mdegree, \u001b[38;5;124m\"\u001b[39m\u001b[38;5;124mcoef0\u001b[39m\u001b[38;5;124m\"\u001b[39m: \u001b[38;5;28mself\u001b[39m\u001b[38;5;241m.\u001b[39mcoef0}\n\u001b[0;32m--> 310\u001b[0m \u001b[38;5;28;01mreturn\u001b[39;00m \u001b[43mpairwise_kernels\u001b[49m\u001b[43m(\u001b[49m\n\u001b[1;32m    311\u001b[0m \u001b[43m    \u001b[49m\u001b[43mX\u001b[49m\u001b[43m,\u001b[49m\u001b[43m \u001b[49m\u001b[43mY\u001b[49m\u001b[43m,\u001b[49m\u001b[43m \u001b[49m\u001b[43mmetric\u001b[49m\u001b[38;5;241;43m=\u001b[39;49m\u001b[38;5;28;43mself\u001b[39;49m\u001b[38;5;241;43m.\u001b[39;49m\u001b[43mkernel\u001b[49m\u001b[43m,\u001b[49m\u001b[43m \u001b[49m\u001b[43mfilter_params\u001b[49m\u001b[38;5;241;43m=\u001b[39;49m\u001b[38;5;28;43;01mTrue\u001b[39;49;00m\u001b[43m,\u001b[49m\u001b[43m \u001b[49m\u001b[43mn_jobs\u001b[49m\u001b[38;5;241;43m=\u001b[39;49m\u001b[38;5;28;43mself\u001b[39;49m\u001b[38;5;241;43m.\u001b[39;49m\u001b[43mn_jobs\u001b[49m\u001b[43m,\u001b[49m\u001b[43m \u001b[49m\u001b[38;5;241;43m*\u001b[39;49m\u001b[38;5;241;43m*\u001b[39;49m\u001b[43mparams\u001b[49m\n\u001b[1;32m    312\u001b[0m \u001b[43m\u001b[49m\u001b[43m)\u001b[49m\n",
      "File \u001b[0;32m~/Training/ai-micro-credentials/introduction-to-machine-learning/env/lib/python3.9/site-packages/sklearn/metrics/pairwise.py:2053\u001b[0m, in \u001b[0;36mpairwise_kernels\u001b[0;34m(X, Y, metric, filter_params, n_jobs, **kwds)\u001b[0m\n\u001b[1;32m   2050\u001b[0m \u001b[38;5;28;01melse\u001b[39;00m:\n\u001b[1;32m   2051\u001b[0m     \u001b[38;5;28;01mraise\u001b[39;00m \u001b[38;5;167;01mValueError\u001b[39;00m(\u001b[38;5;124m\"\u001b[39m\u001b[38;5;124mUnknown kernel \u001b[39m\u001b[38;5;132;01m%r\u001b[39;00m\u001b[38;5;124m\"\u001b[39m \u001b[38;5;241m%\u001b[39m metric)\n\u001b[0;32m-> 2053\u001b[0m \u001b[38;5;28;01mreturn\u001b[39;00m \u001b[43m_parallel_pairwise\u001b[49m\u001b[43m(\u001b[49m\u001b[43mX\u001b[49m\u001b[43m,\u001b[49m\u001b[43m \u001b[49m\u001b[43mY\u001b[49m\u001b[43m,\u001b[49m\u001b[43m \u001b[49m\u001b[43mfunc\u001b[49m\u001b[43m,\u001b[49m\u001b[43m \u001b[49m\u001b[43mn_jobs\u001b[49m\u001b[43m,\u001b[49m\u001b[43m \u001b[49m\u001b[38;5;241;43m*\u001b[39;49m\u001b[38;5;241;43m*\u001b[39;49m\u001b[43mkwds\u001b[49m\u001b[43m)\u001b[49m\n",
      "File \u001b[0;32m~/Training/ai-micro-credentials/introduction-to-machine-learning/env/lib/python3.9/site-packages/sklearn/metrics/pairwise.py:1435\u001b[0m, in \u001b[0;36m_parallel_pairwise\u001b[0;34m(X, Y, func, n_jobs, **kwds)\u001b[0m\n\u001b[1;32m   1433\u001b[0m fd \u001b[38;5;241m=\u001b[39m delayed(_dist_wrapper)\n\u001b[1;32m   1434\u001b[0m ret \u001b[38;5;241m=\u001b[39m np\u001b[38;5;241m.\u001b[39mempty((X\u001b[38;5;241m.\u001b[39mshape[\u001b[38;5;241m0\u001b[39m], Y\u001b[38;5;241m.\u001b[39mshape[\u001b[38;5;241m0\u001b[39m]), dtype\u001b[38;5;241m=\u001b[39mdtype, order\u001b[38;5;241m=\u001b[39m\u001b[38;5;124m\"\u001b[39m\u001b[38;5;124mF\u001b[39m\u001b[38;5;124m\"\u001b[39m)\n\u001b[0;32m-> 1435\u001b[0m \u001b[43mParallel\u001b[49m\u001b[43m(\u001b[49m\u001b[43mbackend\u001b[49m\u001b[38;5;241;43m=\u001b[39;49m\u001b[38;5;124;43m\"\u001b[39;49m\u001b[38;5;124;43mthreading\u001b[39;49m\u001b[38;5;124;43m\"\u001b[39;49m\u001b[43m,\u001b[49m\u001b[43m \u001b[49m\u001b[43mn_jobs\u001b[49m\u001b[38;5;241;43m=\u001b[39;49m\u001b[43mn_jobs\u001b[49m\u001b[43m)\u001b[49m\u001b[43m(\u001b[49m\n\u001b[1;32m   1436\u001b[0m \u001b[43m    \u001b[49m\u001b[43mfd\u001b[49m\u001b[43m(\u001b[49m\u001b[43mfunc\u001b[49m\u001b[43m,\u001b[49m\u001b[43m \u001b[49m\u001b[43mret\u001b[49m\u001b[43m,\u001b[49m\u001b[43m \u001b[49m\u001b[43ms\u001b[49m\u001b[43m,\u001b[49m\u001b[43m \u001b[49m\u001b[43mX\u001b[49m\u001b[43m,\u001b[49m\u001b[43m \u001b[49m\u001b[43mY\u001b[49m\u001b[43m[\u001b[49m\u001b[43ms\u001b[49m\u001b[43m]\u001b[49m\u001b[43m,\u001b[49m\u001b[43m \u001b[49m\u001b[38;5;241;43m*\u001b[39;49m\u001b[38;5;241;43m*\u001b[39;49m\u001b[43mkwds\u001b[49m\u001b[43m)\u001b[49m\n\u001b[1;32m   1437\u001b[0m \u001b[43m    \u001b[49m\u001b[38;5;28;43;01mfor\u001b[39;49;00m\u001b[43m \u001b[49m\u001b[43ms\u001b[49m\u001b[43m \u001b[49m\u001b[38;5;129;43;01min\u001b[39;49;00m\u001b[43m \u001b[49m\u001b[43mgen_even_slices\u001b[49m\u001b[43m(\u001b[49m\u001b[43m_num_samples\u001b[49m\u001b[43m(\u001b[49m\u001b[43mY\u001b[49m\u001b[43m)\u001b[49m\u001b[43m,\u001b[49m\u001b[43m \u001b[49m\u001b[43meffective_n_jobs\u001b[49m\u001b[43m(\u001b[49m\u001b[43mn_jobs\u001b[49m\u001b[43m)\u001b[49m\u001b[43m)\u001b[49m\n\u001b[1;32m   1438\u001b[0m \u001b[43m\u001b[49m\u001b[43m)\u001b[49m\n\u001b[1;32m   1440\u001b[0m \u001b[38;5;28;01mif\u001b[39;00m (X \u001b[38;5;129;01mis\u001b[39;00m Y \u001b[38;5;129;01mor\u001b[39;00m Y \u001b[38;5;129;01mis\u001b[39;00m \u001b[38;5;28;01mNone\u001b[39;00m) \u001b[38;5;129;01mand\u001b[39;00m func \u001b[38;5;129;01mis\u001b[39;00m euclidean_distances:\n\u001b[1;32m   1441\u001b[0m     \u001b[38;5;66;03m# zeroing diagonal for euclidean norm.\u001b[39;00m\n\u001b[1;32m   1442\u001b[0m     \u001b[38;5;66;03m# TODO: do it also for other norms.\u001b[39;00m\n\u001b[1;32m   1443\u001b[0m     np\u001b[38;5;241m.\u001b[39mfill_diagonal(ret, \u001b[38;5;241m0\u001b[39m)\n",
      "File \u001b[0;32m~/Training/ai-micro-credentials/introduction-to-machine-learning/env/lib/python3.9/site-packages/joblib/parallel.py:1056\u001b[0m, in \u001b[0;36mParallel.__call__\u001b[0;34m(self, iterable)\u001b[0m\n\u001b[1;32m   1053\u001b[0m     \u001b[38;5;28mself\u001b[39m\u001b[38;5;241m.\u001b[39m_iterating \u001b[38;5;241m=\u001b[39m \u001b[38;5;28;01mFalse\u001b[39;00m\n\u001b[1;32m   1055\u001b[0m \u001b[38;5;28;01mwith\u001b[39;00m \u001b[38;5;28mself\u001b[39m\u001b[38;5;241m.\u001b[39m_backend\u001b[38;5;241m.\u001b[39mretrieval_context():\n\u001b[0;32m-> 1056\u001b[0m     \u001b[38;5;28;43mself\u001b[39;49m\u001b[38;5;241;43m.\u001b[39;49m\u001b[43mretrieve\u001b[49m\u001b[43m(\u001b[49m\u001b[43m)\u001b[49m\n\u001b[1;32m   1057\u001b[0m \u001b[38;5;66;03m# Make sure that we get a last message telling us we are done\u001b[39;00m\n\u001b[1;32m   1058\u001b[0m elapsed_time \u001b[38;5;241m=\u001b[39m time\u001b[38;5;241m.\u001b[39mtime() \u001b[38;5;241m-\u001b[39m \u001b[38;5;28mself\u001b[39m\u001b[38;5;241m.\u001b[39m_start_time\n",
      "File \u001b[0;32m~/Training/ai-micro-credentials/introduction-to-machine-learning/env/lib/python3.9/site-packages/joblib/parallel.py:956\u001b[0m, in \u001b[0;36mParallel.retrieve\u001b[0;34m(self)\u001b[0m\n\u001b[1;32m    950\u001b[0m backend \u001b[38;5;241m=\u001b[39m \u001b[38;5;28mself\u001b[39m\u001b[38;5;241m.\u001b[39m_backend\n\u001b[1;32m    951\u001b[0m \u001b[38;5;28;01mif\u001b[39;00m (backend \u001b[38;5;129;01mis\u001b[39;00m \u001b[38;5;129;01mnot\u001b[39;00m \u001b[38;5;28;01mNone\u001b[39;00m \u001b[38;5;129;01mand\u001b[39;00m\n\u001b[1;32m    952\u001b[0m         \u001b[38;5;28mhasattr\u001b[39m(backend, \u001b[38;5;124m'\u001b[39m\u001b[38;5;124mabort_everything\u001b[39m\u001b[38;5;124m'\u001b[39m)):\n\u001b[1;32m    953\u001b[0m     \u001b[38;5;66;03m# If the backend is managed externally we need to make sure\u001b[39;00m\n\u001b[1;32m    954\u001b[0m     \u001b[38;5;66;03m# to leave it in a working state to allow for future jobs\u001b[39;00m\n\u001b[1;32m    955\u001b[0m     \u001b[38;5;66;03m# scheduling.\u001b[39;00m\n\u001b[0;32m--> 956\u001b[0m     ensure_ready \u001b[38;5;241m=\u001b[39m \u001b[38;5;28;43mself\u001b[39;49m\u001b[38;5;241;43m.\u001b[39;49m\u001b[43m_managed_backend\u001b[49m\n\u001b[1;32m    957\u001b[0m     backend\u001b[38;5;241m.\u001b[39mabort_everything(ensure_ready\u001b[38;5;241m=\u001b[39mensure_ready)\n\u001b[1;32m    958\u001b[0m \u001b[38;5;28;01mraise\u001b[39;00m\n",
      "\u001b[0;31mKeyboardInterrupt\u001b[0m: "
     ]
    }
   ],
   "source": [
    "# define some hyperparameters\n",
    "KERNEL = \"linear\"\n",
    "\n",
    "decomposer = decomposition.KernelPCA(\n",
    "    eigen_solver=\"randomized\",\n",
    "    kernel=KERNEL,\n",
    "    n_components=N_COMPONENTS,\n",
    "    n_jobs=TRAIN_N_JOBS,\n",
    "    random_state=_random_state,\n",
    ")\n",
    "engineered_train_features = decomposer.fit_transform(preprocessed_train_features)"
   ]
  },
  {
   "cell_type": "code",
   "execution_count": null,
   "id": "576a71ff-bc33-4dcb-a0d9-e8cc593bef64",
   "metadata": {},
   "outputs": [],
   "source": []
  },
  {
   "cell_type": "code",
   "execution_count": null,
   "id": "3910baef-97d1-455a-9e32-93c54c453c22",
   "metadata": {},
   "outputs": [],
   "source": [
    "fig, ax = plt.subplots(1, 1)\n",
    "_ = ax.scatter(engineered_train_features[:,0], engineered_train_features[:,1], c=train_target, alpha=0.05)\n",
    "_ = ax.set_xlabel(\"Component 1\")\n",
    "_ = ax.set_ylabel(\"Component 2\")\n",
    "_ = ax.set_title(type(decomposer))"
   ]
  },
  {
   "cell_type": "code",
   "execution_count": null,
   "id": "4f54667d-415b-41da-8bb2-6ac3b31811a9",
   "metadata": {},
   "outputs": [],
   "source": []
  },
  {
   "cell_type": "markdown",
   "id": "6b258fe6-475d-46f1-8349-9be26ae9f70e",
   "metadata": {},
   "source": [
    "## Transformation pipelines"
   ]
  },
  {
   "cell_type": "code",
   "execution_count": null,
   "id": "462144af-2e79-4ec8-b0bd-d9c9933ac32f",
   "metadata": {},
   "outputs": [],
   "source": []
  },
  {
   "cell_type": "code",
   "execution_count": 69,
   "id": "0034f083-3b70-4113-a971-883ee1f5d1ed",
   "metadata": {},
   "outputs": [
    {
     "name": "stdout",
     "output_type": "stream",
     "text": [
      "[Pipeline] ............... (step 1 of 2) Processing pca, total=  34.9s\n",
      "[Pipeline] ...... (step 2 of 2) Processing minmaxscaler, total=   0.1s\n"
     ]
    }
   ],
   "source": [
    "preparation_pipeline = pipeline.make_pipeline(\n",
    "    preprocessing.MinMaxScaler(feature_range=(DATA_MIN, DATA_MAX)),\n",
    "    decomposition.PCA(n_components=N_COMPONENTS, random_state=_random_state, whiten=WHITEN),\n",
    "    verbose=True,\n",
    ")\n",
    "\n",
    "prepared_train_features = preparation_pipeline.fit_transform(train_features)"
   ]
  },
  {
   "cell_type": "code",
   "execution_count": 73,
   "id": "f3c91d3d-f2ea-48a1-b7fa-204bc9f1ddab",
   "metadata": {},
   "outputs": [
    {
     "data": {
      "text/plain": [
       "array([0., 0., 0., 0., 0., 0., 0., 0., 0., 0., 0., 0., 0., 0., 0., 0., 0.,\n",
       "       0., 0., 0., 0., 0., 0., 0., 0., 0., 0., 0., 0., 0., 0., 0., 0., 0.,\n",
       "       0., 0., 0., 0., 0., 0., 0., 0., 0., 0., 0., 0., 0., 0., 0., 0., 0.,\n",
       "       0., 0., 0., 0., 0., 0., 0., 0., 0., 0., 0., 0., 0., 0., 0., 0., 0.,\n",
       "       0., 0., 0., 0., 0., 0., 0., 0., 0., 0., 0., 0., 0., 0., 0., 0., 0.,\n",
       "       0., 0., 0., 0., 0., 0., 0., 0., 0., 0., 0., 0., 0., 0., 0., 0., 0.,\n",
       "       0., 0., 0., 0., 0., 0., 0., 0., 0., 0., 0., 0., 0., 0., 0., 0., 0.,\n",
       "       0., 0., 0., 0., 0., 0., 0., 0., 0., 0., 0., 0., 0., 0., 0., 0., 0.,\n",
       "       0., 0., 0., 0., 0., 0., 0., 0., 0., 0., 0., 0., 0., 0., 0., 0., 0.,\n",
       "       0., 0., 0., 0., 0., 0., 0., 0., 0., 0., 0., 0., 0., 0., 0., 0., 0.,\n",
       "       0., 0., 0., 0., 0., 0., 0., 0., 0., 0., 0., 0., 0., 0., 0., 0., 0.,\n",
       "       0., 0., 0., 0., 0., 0., 0., 0., 0., 0., 0., 0., 0., 0., 0., 0., 0.,\n",
       "       0., 0., 0., 0., 0., 0., 0., 0., 0., 0., 0., 0., 0.])"
      ]
     },
     "execution_count": 73,
     "metadata": {},
     "output_type": "execute_result"
    }
   ],
   "source": [
    "prepared_train_features.min(axis=0)"
   ]
  },
  {
   "cell_type": "code",
   "execution_count": 74,
   "id": "bc6d4c3f-a34f-4f94-8dc6-e833f2902b47",
   "metadata": {},
   "outputs": [
    {
     "data": {
      "text/plain": [
       "array([0.47846739, 0.44967182, 0.48269768, 0.47451942, 0.46019379,\n",
       "       0.49521579, 0.49808116, 0.48429881, 0.44402805, 0.42460106,\n",
       "       0.45540122, 0.37477341, 0.49561654, 0.48985072, 0.49399286,\n",
       "       0.47797721, 0.36608505, 0.49080662, 0.47419291, 0.43556766,\n",
       "       0.47284536, 0.48251413, 0.48757576, 0.48784904, 0.46908483,\n",
       "       0.45718786, 0.48157383, 0.49302339, 0.43686232, 0.45743304,\n",
       "       0.49273923, 0.4886735 , 0.47356631, 0.47184561, 0.46415774,\n",
       "       0.42611529, 0.49457412, 0.48442359, 0.49545126, 0.46951548,\n",
       "       0.49866142, 0.48545648, 0.48259352, 0.4606646 , 0.47746631,\n",
       "       0.44246341, 0.43097092, 0.48934292, 0.46427017, 0.46813988,\n",
       "       0.49157192, 0.45609154, 0.47298608, 0.43529997, 0.47717167,\n",
       "       0.47595756, 0.49466898, 0.45865973, 0.41220985, 0.48932225,\n",
       "       0.48059383, 0.47275229, 0.47617366, 0.48520128, 0.49286   ,\n",
       "       0.49016688, 0.40854129, 0.47241295, 0.48826193, 0.47804404,\n",
       "       0.47136574, 0.42857186, 0.46184163, 0.48891764, 0.47064063,\n",
       "       0.47976236, 0.45811599, 0.48631973, 0.49314749, 0.4582701 ,\n",
       "       0.45698658, 0.49131521, 0.48590803, 0.41940951, 0.4238743 ,\n",
       "       0.47253445, 0.47373382, 0.46247238, 0.47945137, 0.4914534 ,\n",
       "       0.46321049, 0.46069275, 0.43494564, 0.43369469, 0.45486231,\n",
       "       0.45188647, 0.47894523, 0.48011443, 0.47958467, 0.48032348,\n",
       "       0.4914517 , 0.47283468, 0.45565032, 0.48994982, 0.48609967,\n",
       "       0.47436387, 0.49465944, 0.40356099, 0.46728545, 0.41269562,\n",
       "       0.41995981, 0.46321633, 0.48671399, 0.48614487, 0.4742877 ,\n",
       "       0.48142739, 0.45094247, 0.42960839, 0.49756892, 0.45819683,\n",
       "       0.48984259, 0.45540281, 0.48996938, 0.45733611, 0.43102937,\n",
       "       0.42577765, 0.47123169, 0.41248523, 0.47471218, 0.48820619,\n",
       "       0.41595294, 0.49978932, 0.47349743, 0.41772542, 0.472535  ,\n",
       "       0.48031015, 0.47235411, 0.48888112, 0.45710041, 0.49111324,\n",
       "       0.47112469, 0.48038404, 0.46651633, 0.41647027, 0.46614714,\n",
       "       0.49357197, 0.3778679 , 0.49833022, 0.43531648, 0.4130033 ,\n",
       "       0.48071959, 0.49769645, 0.46631351, 0.48576212, 0.43453826,\n",
       "       0.49711321, 0.4772145 , 0.48660304, 0.46827559, 0.47484317,\n",
       "       0.48766228, 0.49980953, 0.48418085, 0.49794756, 0.44677261,\n",
       "       0.48573184, 0.46599071, 0.46478579, 0.42297484, 0.48800053,\n",
       "       0.42633191, 0.45164699, 0.48849846, 0.4680644 , 0.46369808,\n",
       "       0.47597744, 0.45072471, 0.46719615, 0.4322867 , 0.49165337,\n",
       "       0.46953952, 0.47748156, 0.47814834, 0.43041283, 0.48507228,\n",
       "       0.45330829, 0.47667885, 0.44958633, 0.46990299, 0.36869761,\n",
       "       0.49027111, 0.35364164, 0.46517456, 0.48523383, 0.49894557,\n",
       "       0.47722953, 0.49837757, 0.49514351, 0.4996625 , 0.46333469,\n",
       "       0.49851076, 0.49780148, 0.46832293, 0.44328367, 0.4957458 ,\n",
       "       0.45329532, 0.46121373, 0.49736242, 0.48359963, 0.48443316,\n",
       "       0.48513209, 0.47713054, 0.36434817, 0.48103037, 0.49512102,\n",
       "       0.48560708, 0.45690556])"
      ]
     },
     "execution_count": 74,
     "metadata": {},
     "output_type": "execute_result"
    }
   ],
   "source": [
    "prepared_train_features.mean(axis=0)"
   ]
  },
  {
   "cell_type": "code",
   "execution_count": 75,
   "id": "c20f7251-59d6-4d93-b0fe-97a5f7e1c91f",
   "metadata": {},
   "outputs": [
    {
     "data": {
      "text/plain": [
       "array([1., 1., 1., 1., 1., 1., 1., 1., 1., 1., 1., 1., 1., 1., 1., 1., 1.,\n",
       "       1., 1., 1., 1., 1., 1., 1., 1., 1., 1., 1., 1., 1., 1., 1., 1., 1.,\n",
       "       1., 1., 1., 1., 1., 1., 1., 1., 1., 1., 1., 1., 1., 1., 1., 1., 1.,\n",
       "       1., 1., 1., 1., 1., 1., 1., 1., 1., 1., 1., 1., 1., 1., 1., 1., 1.,\n",
       "       1., 1., 1., 1., 1., 1., 1., 1., 1., 1., 1., 1., 1., 1., 1., 1., 1.,\n",
       "       1., 1., 1., 1., 1., 1., 1., 1., 1., 1., 1., 1., 1., 1., 1., 1., 1.,\n",
       "       1., 1., 1., 1., 1., 1., 1., 1., 1., 1., 1., 1., 1., 1., 1., 1., 1.,\n",
       "       1., 1., 1., 1., 1., 1., 1., 1., 1., 1., 1., 1., 1., 1., 1., 1., 1.,\n",
       "       1., 1., 1., 1., 1., 1., 1., 1., 1., 1., 1., 1., 1., 1., 1., 1., 1.,\n",
       "       1., 1., 1., 1., 1., 1., 1., 1., 1., 1., 1., 1., 1., 1., 1., 1., 1.,\n",
       "       1., 1., 1., 1., 1., 1., 1., 1., 1., 1., 1., 1., 1., 1., 1., 1., 1.,\n",
       "       1., 1., 1., 1., 1., 1., 1., 1., 1., 1., 1., 1., 1., 1., 1., 1., 1.,\n",
       "       1., 1., 1., 1., 1., 1., 1., 1., 1., 1., 1., 1., 1.])"
      ]
     },
     "execution_count": 75,
     "metadata": {},
     "output_type": "execute_result"
    }
   ],
   "source": [
    "prepared_train_features.max(axis=0)"
   ]
  },
  {
   "cell_type": "markdown",
   "id": "01b292be-f7b9-4958-a6d0-c957ebcc50a5",
   "metadata": {},
   "source": [
    "# Select and train a model"
   ]
  },
  {
   "cell_type": "code",
   "execution_count": 215,
   "id": "39b95464-98cc-4fbc-901b-c7c9b6b02eaa",
   "metadata": {
    "collapsed": true,
    "jupyter": {
     "outputs_hidden": true
    },
    "tags": []
   },
   "outputs": [
    {
     "data": {
      "text/plain": [
       "\u001b[0;31mInit signature:\u001b[0m\n",
       "\u001b[0mlinear_model\u001b[0m\u001b[0;34m.\u001b[0m\u001b[0mSGDClassifier\u001b[0m\u001b[0;34m(\u001b[0m\u001b[0;34m\u001b[0m\n",
       "\u001b[0;34m\u001b[0m    \u001b[0mloss\u001b[0m\u001b[0;34m=\u001b[0m\u001b[0;34m'hinge'\u001b[0m\u001b[0;34m,\u001b[0m\u001b[0;34m\u001b[0m\n",
       "\u001b[0;34m\u001b[0m    \u001b[0;34m*\u001b[0m\u001b[0;34m,\u001b[0m\u001b[0;34m\u001b[0m\n",
       "\u001b[0;34m\u001b[0m    \u001b[0mpenalty\u001b[0m\u001b[0;34m=\u001b[0m\u001b[0;34m'l2'\u001b[0m\u001b[0;34m,\u001b[0m\u001b[0;34m\u001b[0m\n",
       "\u001b[0;34m\u001b[0m    \u001b[0malpha\u001b[0m\u001b[0;34m=\u001b[0m\u001b[0;36m0.0001\u001b[0m\u001b[0;34m,\u001b[0m\u001b[0;34m\u001b[0m\n",
       "\u001b[0;34m\u001b[0m    \u001b[0ml1_ratio\u001b[0m\u001b[0;34m=\u001b[0m\u001b[0;36m0.15\u001b[0m\u001b[0;34m,\u001b[0m\u001b[0;34m\u001b[0m\n",
       "\u001b[0;34m\u001b[0m    \u001b[0mfit_intercept\u001b[0m\u001b[0;34m=\u001b[0m\u001b[0;32mTrue\u001b[0m\u001b[0;34m,\u001b[0m\u001b[0;34m\u001b[0m\n",
       "\u001b[0;34m\u001b[0m    \u001b[0mmax_iter\u001b[0m\u001b[0;34m=\u001b[0m\u001b[0;36m1000\u001b[0m\u001b[0;34m,\u001b[0m\u001b[0;34m\u001b[0m\n",
       "\u001b[0;34m\u001b[0m    \u001b[0mtol\u001b[0m\u001b[0;34m=\u001b[0m\u001b[0;36m0.001\u001b[0m\u001b[0;34m,\u001b[0m\u001b[0;34m\u001b[0m\n",
       "\u001b[0;34m\u001b[0m    \u001b[0mshuffle\u001b[0m\u001b[0;34m=\u001b[0m\u001b[0;32mTrue\u001b[0m\u001b[0;34m,\u001b[0m\u001b[0;34m\u001b[0m\n",
       "\u001b[0;34m\u001b[0m    \u001b[0mverbose\u001b[0m\u001b[0;34m=\u001b[0m\u001b[0;36m0\u001b[0m\u001b[0;34m,\u001b[0m\u001b[0;34m\u001b[0m\n",
       "\u001b[0;34m\u001b[0m    \u001b[0mepsilon\u001b[0m\u001b[0;34m=\u001b[0m\u001b[0;36m0.1\u001b[0m\u001b[0;34m,\u001b[0m\u001b[0;34m\u001b[0m\n",
       "\u001b[0;34m\u001b[0m    \u001b[0mn_jobs\u001b[0m\u001b[0;34m=\u001b[0m\u001b[0;32mNone\u001b[0m\u001b[0;34m,\u001b[0m\u001b[0;34m\u001b[0m\n",
       "\u001b[0;34m\u001b[0m    \u001b[0mrandom_state\u001b[0m\u001b[0;34m=\u001b[0m\u001b[0;32mNone\u001b[0m\u001b[0;34m,\u001b[0m\u001b[0;34m\u001b[0m\n",
       "\u001b[0;34m\u001b[0m    \u001b[0mlearning_rate\u001b[0m\u001b[0;34m=\u001b[0m\u001b[0;34m'optimal'\u001b[0m\u001b[0;34m,\u001b[0m\u001b[0;34m\u001b[0m\n",
       "\u001b[0;34m\u001b[0m    \u001b[0meta0\u001b[0m\u001b[0;34m=\u001b[0m\u001b[0;36m0.0\u001b[0m\u001b[0;34m,\u001b[0m\u001b[0;34m\u001b[0m\n",
       "\u001b[0;34m\u001b[0m    \u001b[0mpower_t\u001b[0m\u001b[0;34m=\u001b[0m\u001b[0;36m0.5\u001b[0m\u001b[0;34m,\u001b[0m\u001b[0;34m\u001b[0m\n",
       "\u001b[0;34m\u001b[0m    \u001b[0mearly_stopping\u001b[0m\u001b[0;34m=\u001b[0m\u001b[0;32mFalse\u001b[0m\u001b[0;34m,\u001b[0m\u001b[0;34m\u001b[0m\n",
       "\u001b[0;34m\u001b[0m    \u001b[0mvalidation_fraction\u001b[0m\u001b[0;34m=\u001b[0m\u001b[0;36m0.1\u001b[0m\u001b[0;34m,\u001b[0m\u001b[0;34m\u001b[0m\n",
       "\u001b[0;34m\u001b[0m    \u001b[0mn_iter_no_change\u001b[0m\u001b[0;34m=\u001b[0m\u001b[0;36m5\u001b[0m\u001b[0;34m,\u001b[0m\u001b[0;34m\u001b[0m\n",
       "\u001b[0;34m\u001b[0m    \u001b[0mclass_weight\u001b[0m\u001b[0;34m=\u001b[0m\u001b[0;32mNone\u001b[0m\u001b[0;34m,\u001b[0m\u001b[0;34m\u001b[0m\n",
       "\u001b[0;34m\u001b[0m    \u001b[0mwarm_start\u001b[0m\u001b[0;34m=\u001b[0m\u001b[0;32mFalse\u001b[0m\u001b[0;34m,\u001b[0m\u001b[0;34m\u001b[0m\n",
       "\u001b[0;34m\u001b[0m    \u001b[0maverage\u001b[0m\u001b[0;34m=\u001b[0m\u001b[0;32mFalse\u001b[0m\u001b[0;34m,\u001b[0m\u001b[0;34m\u001b[0m\n",
       "\u001b[0;34m\u001b[0m\u001b[0;34m)\u001b[0m\u001b[0;34m\u001b[0m\u001b[0;34m\u001b[0m\u001b[0m\n",
       "\u001b[0;31mDocstring:\u001b[0m     \n",
       "Linear classifiers (SVM, logistic regression, etc.) with SGD training.\n",
       "\n",
       "This estimator implements regularized linear models with stochastic\n",
       "gradient descent (SGD) learning: the gradient of the loss is estimated\n",
       "each sample at a time and the model is updated along the way with a\n",
       "decreasing strength schedule (aka learning rate). SGD allows minibatch\n",
       "(online/out-of-core) learning via the `partial_fit` method.\n",
       "For best results using the default learning rate schedule, the data should\n",
       "have zero mean and unit variance.\n",
       "\n",
       "This implementation works with data represented as dense or sparse arrays\n",
       "of floating point values for the features. The model it fits can be\n",
       "controlled with the loss parameter; by default, it fits a linear support\n",
       "vector machine (SVM).\n",
       "\n",
       "The regularizer is a penalty added to the loss function that shrinks model\n",
       "parameters towards the zero vector using either the squared euclidean norm\n",
       "L2 or the absolute norm L1 or a combination of both (Elastic Net). If the\n",
       "parameter update crosses the 0.0 value because of the regularizer, the\n",
       "update is truncated to 0.0 to allow for learning sparse models and achieve\n",
       "online feature selection.\n",
       "\n",
       "Read more in the :ref:`User Guide <sgd>`.\n",
       "\n",
       "Parameters\n",
       "----------\n",
       "loss : str, default='hinge'\n",
       "    The loss function to be used. Defaults to 'hinge', which gives a\n",
       "    linear SVM.\n",
       "\n",
       "    The possible options are 'hinge', 'log', 'modified_huber',\n",
       "    'squared_hinge', 'perceptron', or a regression loss: 'squared_error',\n",
       "    'huber', 'epsilon_insensitive', or 'squared_epsilon_insensitive'.\n",
       "\n",
       "    The 'log' loss gives logistic regression, a probabilistic classifier.\n",
       "    'modified_huber' is another smooth loss that brings tolerance to\n",
       "    outliers as well as probability estimates.\n",
       "    'squared_hinge' is like hinge but is quadratically penalized.\n",
       "    'perceptron' is the linear loss used by the perceptron algorithm.\n",
       "    The other losses are designed for regression but can be useful in\n",
       "    classification as well; see\n",
       "    :class:`~sklearn.linear_model.SGDRegressor` for a description.\n",
       "\n",
       "    More details about the losses formulas can be found in the\n",
       "    :ref:`User Guide <sgd_mathematical_formulation>`.\n",
       "\n",
       "    .. deprecated:: 1.0\n",
       "        The loss 'squared_loss' was deprecated in v1.0 and will be removed\n",
       "        in version 1.2. Use `loss='squared_error'` which is equivalent.\n",
       "\n",
       "penalty : {'l2', 'l1', 'elasticnet'}, default='l2'\n",
       "    The penalty (aka regularization term) to be used. Defaults to 'l2'\n",
       "    which is the standard regularizer for linear SVM models. 'l1' and\n",
       "    'elasticnet' might bring sparsity to the model (feature selection)\n",
       "    not achievable with 'l2'.\n",
       "\n",
       "alpha : float, default=0.0001\n",
       "    Constant that multiplies the regularization term. The higher the\n",
       "    value, the stronger the regularization.\n",
       "    Also used to compute the learning rate when set to `learning_rate` is\n",
       "    set to 'optimal'.\n",
       "\n",
       "l1_ratio : float, default=0.15\n",
       "    The Elastic Net mixing parameter, with 0 <= l1_ratio <= 1.\n",
       "    l1_ratio=0 corresponds to L2 penalty, l1_ratio=1 to L1.\n",
       "    Only used if `penalty` is 'elasticnet'.\n",
       "\n",
       "fit_intercept : bool, default=True\n",
       "    Whether the intercept should be estimated or not. If False, the\n",
       "    data is assumed to be already centered.\n",
       "\n",
       "max_iter : int, default=1000\n",
       "    The maximum number of passes over the training data (aka epochs).\n",
       "    It only impacts the behavior in the ``fit`` method, and not the\n",
       "    :meth:`partial_fit` method.\n",
       "\n",
       "    .. versionadded:: 0.19\n",
       "\n",
       "tol : float, default=1e-3\n",
       "    The stopping criterion. If it is not None, training will stop\n",
       "    when (loss > best_loss - tol) for ``n_iter_no_change`` consecutive\n",
       "    epochs.\n",
       "    Convergence is checked against the training loss or the\n",
       "    validation loss depending on the `early_stopping` parameter.\n",
       "\n",
       "    .. versionadded:: 0.19\n",
       "\n",
       "shuffle : bool, default=True\n",
       "    Whether or not the training data should be shuffled after each epoch.\n",
       "\n",
       "verbose : int, default=0\n",
       "    The verbosity level.\n",
       "\n",
       "epsilon : float, default=0.1\n",
       "    Epsilon in the epsilon-insensitive loss functions; only if `loss` is\n",
       "    'huber', 'epsilon_insensitive', or 'squared_epsilon_insensitive'.\n",
       "    For 'huber', determines the threshold at which it becomes less\n",
       "    important to get the prediction exactly right.\n",
       "    For epsilon-insensitive, any differences between the current prediction\n",
       "    and the correct label are ignored if they are less than this threshold.\n",
       "\n",
       "n_jobs : int, default=None\n",
       "    The number of CPUs to use to do the OVA (One Versus All, for\n",
       "    multi-class problems) computation.\n",
       "    ``None`` means 1 unless in a :obj:`joblib.parallel_backend` context.\n",
       "    ``-1`` means using all processors. See :term:`Glossary <n_jobs>`\n",
       "    for more details.\n",
       "\n",
       "random_state : int, RandomState instance, default=None\n",
       "    Used for shuffling the data, when ``shuffle`` is set to ``True``.\n",
       "    Pass an int for reproducible output across multiple function calls.\n",
       "    See :term:`Glossary <random_state>`.\n",
       "\n",
       "learning_rate : str, default='optimal'\n",
       "    The learning rate schedule:\n",
       "\n",
       "    - 'constant': `eta = eta0`\n",
       "    - 'optimal': `eta = 1.0 / (alpha * (t + t0))`\n",
       "      where t0 is chosen by a heuristic proposed by Leon Bottou.\n",
       "    - 'invscaling': `eta = eta0 / pow(t, power_t)`\n",
       "    - 'adaptive': eta = eta0, as long as the training keeps decreasing.\n",
       "      Each time n_iter_no_change consecutive epochs fail to decrease the\n",
       "      training loss by tol or fail to increase validation score by tol if\n",
       "      early_stopping is True, the current learning rate is divided by 5.\n",
       "\n",
       "        .. versionadded:: 0.20\n",
       "            Added 'adaptive' option\n",
       "\n",
       "eta0 : float, default=0.0\n",
       "    The initial learning rate for the 'constant', 'invscaling' or\n",
       "    'adaptive' schedules. The default value is 0.0 as eta0 is not used by\n",
       "    the default schedule 'optimal'.\n",
       "\n",
       "power_t : float, default=0.5\n",
       "    The exponent for inverse scaling learning rate [default 0.5].\n",
       "\n",
       "early_stopping : bool, default=False\n",
       "    Whether to use early stopping to terminate training when validation\n",
       "    score is not improving. If set to True, it will automatically set aside\n",
       "    a stratified fraction of training data as validation and terminate\n",
       "    training when validation score returned by the `score` method is not\n",
       "    improving by at least tol for n_iter_no_change consecutive epochs.\n",
       "\n",
       "    .. versionadded:: 0.20\n",
       "        Added 'early_stopping' option\n",
       "\n",
       "validation_fraction : float, default=0.1\n",
       "    The proportion of training data to set aside as validation set for\n",
       "    early stopping. Must be between 0 and 1.\n",
       "    Only used if `early_stopping` is True.\n",
       "\n",
       "    .. versionadded:: 0.20\n",
       "        Added 'validation_fraction' option\n",
       "\n",
       "n_iter_no_change : int, default=5\n",
       "    Number of iterations with no improvement to wait before stopping\n",
       "    fitting.\n",
       "    Convergence is checked against the training loss or the\n",
       "    validation loss depending on the `early_stopping` parameter.\n",
       "\n",
       "    .. versionadded:: 0.20\n",
       "        Added 'n_iter_no_change' option\n",
       "\n",
       "class_weight : dict, {class_label: weight} or \"balanced\", default=None\n",
       "    Preset for the class_weight fit parameter.\n",
       "\n",
       "    Weights associated with classes. If not given, all classes\n",
       "    are supposed to have weight one.\n",
       "\n",
       "    The \"balanced\" mode uses the values of y to automatically adjust\n",
       "    weights inversely proportional to class frequencies in the input data\n",
       "    as ``n_samples / (n_classes * np.bincount(y))``.\n",
       "\n",
       "warm_start : bool, default=False\n",
       "    When set to True, reuse the solution of the previous call to fit as\n",
       "    initialization, otherwise, just erase the previous solution.\n",
       "    See :term:`the Glossary <warm_start>`.\n",
       "\n",
       "    Repeatedly calling fit or partial_fit when warm_start is True can\n",
       "    result in a different solution than when calling fit a single time\n",
       "    because of the way the data is shuffled.\n",
       "    If a dynamic learning rate is used, the learning rate is adapted\n",
       "    depending on the number of samples already seen. Calling ``fit`` resets\n",
       "    this counter, while ``partial_fit`` will result in increasing the\n",
       "    existing counter.\n",
       "\n",
       "average : bool or int, default=False\n",
       "    When set to True, computes the averaged SGD weights across all\n",
       "    updates and stores the result in the ``coef_`` attribute. If set to\n",
       "    an int greater than 1, averaging will begin once the total number of\n",
       "    samples seen reaches `average`. So ``average=10`` will begin\n",
       "    averaging after seeing 10 samples.\n",
       "\n",
       "Attributes\n",
       "----------\n",
       "coef_ : ndarray of shape (1, n_features) if n_classes == 2 else             (n_classes, n_features)\n",
       "    Weights assigned to the features.\n",
       "\n",
       "intercept_ : ndarray of shape (1,) if n_classes == 2 else (n_classes,)\n",
       "    Constants in decision function.\n",
       "\n",
       "n_iter_ : int\n",
       "    The actual number of iterations before reaching the stopping criterion.\n",
       "    For multiclass fits, it is the maximum over every binary fit.\n",
       "\n",
       "loss_function_ : concrete ``LossFunction``\n",
       "\n",
       "classes_ : array of shape (n_classes,)\n",
       "\n",
       "t_ : int\n",
       "    Number of weight updates performed during training.\n",
       "    Same as ``(n_iter_ * n_samples)``.\n",
       "\n",
       "n_features_in_ : int\n",
       "    Number of features seen during :term:`fit`.\n",
       "\n",
       "    .. versionadded:: 0.24\n",
       "\n",
       "feature_names_in_ : ndarray of shape (`n_features_in_`,)\n",
       "    Names of features seen during :term:`fit`. Defined only when `X`\n",
       "    has feature names that are all strings.\n",
       "\n",
       "    .. versionadded:: 1.0\n",
       "\n",
       "See Also\n",
       "--------\n",
       "sklearn.svm.LinearSVC : Linear support vector classification.\n",
       "LogisticRegression : Logistic regression.\n",
       "Perceptron : Inherits from SGDClassifier. ``Perceptron()`` is equivalent to\n",
       "    ``SGDClassifier(loss=\"perceptron\", eta0=1, learning_rate=\"constant\",\n",
       "    penalty=None)``.\n",
       "\n",
       "Examples\n",
       "--------\n",
       ">>> import numpy as np\n",
       ">>> from sklearn.linear_model import SGDClassifier\n",
       ">>> from sklearn.preprocessing import StandardScaler\n",
       ">>> from sklearn.pipeline import make_pipeline\n",
       ">>> X = np.array([[-1, -1], [-2, -1], [1, 1], [2, 1]])\n",
       ">>> Y = np.array([1, 1, 2, 2])\n",
       ">>> # Always scale the input. The most convenient way is to use a pipeline.\n",
       ">>> clf = make_pipeline(StandardScaler(),\n",
       "...                     SGDClassifier(max_iter=1000, tol=1e-3))\n",
       ">>> clf.fit(X, Y)\n",
       "Pipeline(steps=[('standardscaler', StandardScaler()),\n",
       "                ('sgdclassifier', SGDClassifier())])\n",
       ">>> print(clf.predict([[-0.8, -1]]))\n",
       "[1]\n",
       "\u001b[0;31mFile:\u001b[0m           ~/Training/ai-micro-credentials/introduction-to-machine-learning/env/lib/python3.9/site-packages/sklearn/linear_model/_stochastic_gradient.py\n",
       "\u001b[0;31mType:\u001b[0m           ABCMeta\n",
       "\u001b[0;31mSubclasses:\u001b[0m     \n"
      ]
     },
     "metadata": {},
     "output_type": "display_data"
    }
   ],
   "source": [
    "linear_model.SGDClassifier?"
   ]
  },
  {
   "cell_type": "code",
   "execution_count": 221,
   "id": "fb8b4ca5-1613-4cbe-8ab2-9a20e1eb1493",
   "metadata": {},
   "outputs": [],
   "source": [
    "TRAIN_N_JOBS = -1\n",
    "VERBOSITY = 1"
   ]
  },
  {
   "cell_type": "code",
   "execution_count": 216,
   "id": "53df85d9-c099-404b-8fcb-d9650a7d9d78",
   "metadata": {
    "tags": []
   },
   "outputs": [
    {
     "data": {
      "text/plain": [
       "0.3837407407407407"
      ]
     },
     "execution_count": 216,
     "metadata": {},
     "output_type": "execute_result"
    }
   ],
   "source": [
    "# select and estimator and fit\n",
    "estimator = linear_model.SGDClassifier(loss=\"log\",\n",
    "                                       random_state=_random_state,\n",
    "                                       n_jobs=TRAIN_N_JOBS,\n",
    "                                       verbose=VERBOSITY)\n",
    "_ = estimator.fit(prepared_train_features, train_target)\n",
    "\n",
    "# make predictions\n",
    "predictions = estimator.predict(prepared_train_features)\n",
    "\n",
    "# report the accuracy on the training data\n",
    "metrics.accuracy_score(\n",
    "    train_target,\n",
    "    predictions,\n",
    ")"
   ]
  },
  {
   "cell_type": "code",
   "execution_count": null,
   "id": "163cd1e0-6abe-4565-a1a3-1ebc279eb176",
   "metadata": {},
   "outputs": [],
   "source": [
    "tree.DecisionTreeClassifier?"
   ]
  },
  {
   "cell_type": "code",
   "execution_count": 217,
   "id": "2b62bbb1-9a89-4b3f-93db-f55cb6db0ef8",
   "metadata": {},
   "outputs": [
    {
     "data": {
      "text/plain": [
       "1.0"
      ]
     },
     "execution_count": 217,
     "metadata": {},
     "output_type": "execute_result"
    }
   ],
   "source": [
    "# select and estimator and fit\n",
    "estimator = tree.DecisionTreeClassifier(random_state=_random_state,)\n",
    "_ = estimator.fit(prepared_train_features, train_target)\n",
    "\n",
    "# make predictions\n",
    "predictions = estimator.predict(prepared_train_features)\n",
    "\n",
    "# report the accuracy on the training data\n",
    "metrics.accuracy_score(\n",
    "    train_target,\n",
    "    predictions,\n",
    ")"
   ]
  },
  {
   "cell_type": "code",
   "execution_count": null,
   "id": "1501b50b-5f60-4f2c-9698-5d517223474e",
   "metadata": {},
   "outputs": [],
   "source": [
    "ensemble.RandomForestClassifier?"
   ]
  },
  {
   "cell_type": "code",
   "execution_count": 218,
   "id": "ff90a8fe-9956-4e9d-ab44-11d915ff9b84",
   "metadata": {},
   "outputs": [
    {
     "data": {
      "text/plain": [
       "1.0"
      ]
     },
     "execution_count": 218,
     "metadata": {},
     "output_type": "execute_result"
    }
   ],
   "source": [
    "# select and estimator and fit\n",
    "estimator = ensemble.RandomForestClassifier(random_state=_random_state,\n",
    "                                            n_jobs=TRAIN_N_JOBS,\n",
    "                                            verbose=VERBOSITY)\n",
    "_ = estimator.fit(prepared_train_features, train_target)\n",
    "\n",
    "# make predictions\n",
    "predictions = estimator.predict(prepared_train_features)\n",
    "\n",
    "# report the accuracy on the training data\n",
    "metrics.accuracy_score(\n",
    "    train_target,\n",
    "    predictions,\n",
    ")"
   ]
  },
  {
   "cell_type": "markdown",
   "id": "0ee941b4-56b4-4420-9ef8-16aee83d4d37",
   "metadata": {},
   "source": [
    "### Exercise\n",
    "\n",
    "Explore the various options for `linear_model.SGDClassifier`. Can you find something that does better than Logistic Regression?"
   ]
  },
  {
   "cell_type": "code",
   "execution_count": null,
   "id": "1dd02700-0a0c-45a0-b2d9-3af333a974f0",
   "metadata": {},
   "outputs": [],
   "source": []
  },
  {
   "cell_type": "markdown",
   "id": "8118a936-394c-4501-80d2-8429c0f5a138",
   "metadata": {},
   "source": [
    "## Better evaluation using cross-validation"
   ]
  },
  {
   "cell_type": "code",
   "execution_count": 219,
   "id": "0144be4b-90c1-4b92-b06f-30adc54b1e0c",
   "metadata": {},
   "outputs": [],
   "source": [
    "CV_FOLDS = 8\n",
    "CV_N_JOBS = CV_FOLDS"
   ]
  },
  {
   "cell_type": "code",
   "execution_count": 220,
   "id": "7b79c127-ebb4-4565-b9d4-f4cad144cd39",
   "metadata": {},
   "outputs": [],
   "source": [
    "estimator = linear_model.SGDClassifier(loss=\"log\",\n",
    "                                       random_state=_random_state,\n",
    "                                       n_jobs=TRAIN_N_JOBS,\n",
    "                                       verbose=VERBOSITY)\n",
    "\n",
    "estimator_scores = model_selection.cross_val_score(estimator,\n",
    "                                                   X=prepared_train_features,\n",
    "                                                   y=train_target,\n",
    "                                                   cv=CV_FOLDS,\n",
    "                                                   scoring=\"accuracy\",\n",
    "                                                   n_jobs=CV_N_JOBS)"
   ]
  },
  {
   "cell_type": "code",
   "execution_count": 222,
   "id": "6d54d5c1-570d-45bf-a971-93745c6e6470",
   "metadata": {},
   "outputs": [
    {
     "data": {
      "text/plain": [
       "0.3579074074074074"
      ]
     },
     "execution_count": 222,
     "metadata": {},
     "output_type": "execute_result"
    }
   ],
   "source": [
    "estimator_scores.mean()"
   ]
  },
  {
   "cell_type": "code",
   "execution_count": 223,
   "id": "e51cc464-e680-4933-b477-9aeed953ae3a",
   "metadata": {},
   "outputs": [],
   "source": [
    "estimator = tree.DecisionTreeClassifier(random_state=_random_state)\n",
    "\n",
    "estimator_scores = model_selection.cross_val_score(estimator,\n",
    "                                                   X=prepared_train_features,\n",
    "                                                   y=train_target,\n",
    "                                                   cv=CV_FOLDS,\n",
    "                                                   scoring=\"accuracy\",\n",
    "                                                   n_jobs=CV_N_JOBS)"
   ]
  },
  {
   "cell_type": "code",
   "execution_count": 224,
   "id": "96f0d372-e6ce-4e09-8d47-70fac84ef91c",
   "metadata": {},
   "outputs": [
    {
     "data": {
      "text/plain": [
       "0.2570555555555556"
      ]
     },
     "execution_count": 224,
     "metadata": {},
     "output_type": "execute_result"
    }
   ],
   "source": [
    "estimator_scores.mean()"
   ]
  },
  {
   "cell_type": "code",
   "execution_count": 225,
   "id": "f595a6ef-86ac-4f1b-9a43-cc69449a82cb",
   "metadata": {},
   "outputs": [
    {
     "name": "stderr",
     "output_type": "stream",
     "text": [
      "[Parallel(n_jobs=-1)]: Using backend ThreadingBackend with 8 concurrent workers.\n",
      "[Parallel(n_jobs=-1)]: Using backend ThreadingBackend with 8 concurrent workers.\n",
      "[Parallel(n_jobs=-1)]: Using backend ThreadingBackend with 8 concurrent workers.\n",
      "[Parallel(n_jobs=-1)]: Using backend ThreadingBackend with 8 concurrent workers.\n",
      "[Parallel(n_jobs=-1)]: Using backend ThreadingBackend with 8 concurrent workers.\n",
      "[Parallel(n_jobs=-1)]: Using backend ThreadingBackend with 8 concurrent workers.\n",
      "[Parallel(n_jobs=-1)]: Using backend ThreadingBackend with 8 concurrent workers.\n",
      "[Parallel(n_jobs=-1)]: Using backend ThreadingBackend with 8 concurrent workers.\n",
      "[Parallel(n_jobs=-1)]: Done  34 tasks      | elapsed:   44.4s\n",
      "[Parallel(n_jobs=-1)]: Done  34 tasks      | elapsed:   44.6s\n",
      "[Parallel(n_jobs=-1)]: Done  34 tasks      | elapsed:   44.6s\n",
      "[Parallel(n_jobs=-1)]: Done  34 tasks      | elapsed:   44.8s\n",
      "[Parallel(n_jobs=-1)]: Done  34 tasks      | elapsed:   44.9s\n",
      "[Parallel(n_jobs=-1)]: Done  34 tasks      | elapsed:   44.7s\n",
      "[Parallel(n_jobs=-1)]: Done  34 tasks      | elapsed:   44.6s\n",
      "[Parallel(n_jobs=-1)]: Done  34 tasks      | elapsed:   44.9s\n",
      "[Parallel(n_jobs=-1)]: Done 100 out of 100 | elapsed:  1.9min finished\n",
      "[Parallel(n_jobs=-1)]: Done 100 out of 100 | elapsed:  1.9min finished\n",
      "[Parallel(n_jobs=8)]: Using backend ThreadingBackend with 8 concurrent workers.\n",
      "[Parallel(n_jobs=8)]: Using backend ThreadingBackend with 8 concurrent workers.\n",
      "[Parallel(n_jobs=8)]: Done  34 tasks      | elapsed:    0.1s\n",
      "[Parallel(n_jobs=8)]: Done  34 tasks      | elapsed:    0.1s\n",
      "[Parallel(n_jobs=8)]: Done 100 out of 100 | elapsed:    0.1s finished\n",
      "[Parallel(n_jobs=8)]: Done 100 out of 100 | elapsed:    0.2s finished\n",
      "[Parallel(n_jobs=-1)]: Done 100 out of 100 | elapsed:  1.9min finished\n",
      "[Parallel(n_jobs=8)]: Using backend ThreadingBackend with 8 concurrent workers.\n",
      "[Parallel(n_jobs=8)]: Done  34 tasks      | elapsed:    0.0s\n",
      "[Parallel(n_jobs=8)]: Done 100 out of 100 | elapsed:    0.1s finished\n",
      "[Parallel(n_jobs=-1)]: Done 100 out of 100 | elapsed:  1.9min finished\n",
      "[Parallel(n_jobs=8)]: Using backend ThreadingBackend with 8 concurrent workers.\n",
      "[Parallel(n_jobs=8)]: Done  34 tasks      | elapsed:    0.0s\n",
      "[Parallel(n_jobs=8)]: Done 100 out of 100 | elapsed:    0.1s finished\n",
      "[Parallel(n_jobs=-1)]: Done 100 out of 100 | elapsed:  1.9min finished\n",
      "[Parallel(n_jobs=8)]: Using backend ThreadingBackend with 8 concurrent workers.\n",
      "[Parallel(n_jobs=8)]: Done  34 tasks      | elapsed:    0.0s\n",
      "[Parallel(n_jobs=8)]: Done 100 out of 100 | elapsed:    0.1s finished\n",
      "[Parallel(n_jobs=-1)]: Done 100 out of 100 | elapsed:  1.9min finished\n",
      "[Parallel(n_jobs=-1)]: Done 100 out of 100 | elapsed:  1.9min finished\n",
      "[Parallel(n_jobs=8)]: Using backend ThreadingBackend with 8 concurrent workers.\n",
      "[Parallel(n_jobs=8)]: Done  34 tasks      | elapsed:    0.0s\n",
      "[Parallel(n_jobs=8)]: Using backend ThreadingBackend with 8 concurrent workers.\n",
      "[Parallel(n_jobs=-1)]: Done 100 out of 100 | elapsed:  1.9min finished\n",
      "[Parallel(n_jobs=8)]: Using backend ThreadingBackend with 8 concurrent workers.\n",
      "[Parallel(n_jobs=8)]: Done  34 tasks      | elapsed:    0.1s\n",
      "[Parallel(n_jobs=8)]: Done 100 out of 100 | elapsed:    0.1s finished\n",
      "[Parallel(n_jobs=8)]: Done  34 tasks      | elapsed:    0.1s\n",
      "[Parallel(n_jobs=8)]: Done 100 out of 100 | elapsed:    0.2s finished\n",
      "[Parallel(n_jobs=8)]: Done 100 out of 100 | elapsed:    0.1s finished\n"
     ]
    }
   ],
   "source": [
    "estimator = ensemble.RandomForestClassifier(random_state=_random_state,\n",
    "                                            n_jobs=TRAIN_N_JOBS,\n",
    "                                            verbose=VERBOSITY)\n",
    "\n",
    "estimator_scores = model_selection.cross_val_score(estimator,\n",
    "                                                   X=prepared_train_features,\n",
    "                                                   y=train_target,\n",
    "                                                   cv=CV_FOLDS,\n",
    "                                                   scoring=\"accuracy\",\n",
    "                                                   n_jobs=CV_N_JOBS)"
   ]
  },
  {
   "cell_type": "code",
   "execution_count": 226,
   "id": "44b5d59d-80ea-4e25-bee1-76c1f59647f8",
   "metadata": {},
   "outputs": [
    {
     "data": {
      "text/plain": [
       "0.433962962962963"
      ]
     },
     "execution_count": 226,
     "metadata": {},
     "output_type": "execute_result"
    }
   ],
   "source": [
    "estimator_scores.mean()"
   ]
  },
  {
   "cell_type": "markdown",
   "id": "2f616a7a-5c07-405e-ad8b-32dba5be8bc3",
   "metadata": {},
   "source": [
    "### Exercise:\n",
    "\n",
    "Explore other classification algorithms available in Scikit-Learn. See if you can find a model that outperforms `ensemble.RandomForestClassifier`."
   ]
  },
  {
   "cell_type": "code",
   "execution_count": null,
   "id": "f65fdbbb-5c35-4a13-81c5-fcd4eb6fcb45",
   "metadata": {},
   "outputs": [],
   "source": []
  },
  {
   "cell_type": "code",
   "execution_count": 227,
   "id": "e0d1513c-5972-4f1d-909e-a58bd9be3ff2",
   "metadata": {},
   "outputs": [
    {
     "name": "stdout",
     "output_type": "stream",
     "text": [
      "Binning 0.084 GB of training data: 1.433 s\n",
      "Binning 0.009 GB of validation data: 0.032 s\n",
      "Fitting gradient boosted rounds:\n",
      "[1/100] 10 trees, 310 leaves (31 on avg), max depth = 15, train loss: 2.17302, val loss: 2.19649, in 0.403s\n",
      "[2/100] 10 trees, 310 leaves (31 on avg), max depth = 13, train loss: 2.08118, val loss: 2.12030, in 0.378s\n",
      "[3/100] 10 trees, 310 leaves (31 on avg), max depth = 14, train loss: 2.00849, val loss: 2.06144, in 0.354s\n",
      "[4/100] 10 trees, 310 leaves (31 on avg), max depth = 12, train loss: 1.94850, val loss: 2.01273, in 0.366s\n",
      "[5/100] 10 trees, 310 leaves (31 on avg), max depth = 15, train loss: 1.89547, val loss: 1.97182, in 0.351s\n",
      "[6/100] 10 trees, 310 leaves (31 on avg), max depth = 16, train loss: 1.84877, val loss: 1.93640, in 0.374s\n",
      "[7/100] 10 trees, 310 leaves (31 on avg), max depth = 14, train loss: 1.80740, val loss: 1.90543, in 0.343s\n",
      "[8/100] 10 trees, 310 leaves (31 on avg), max depth = 14, train loss: 1.77033, val loss: 1.87804, in 0.344s\n",
      "[9/100] 10 trees, 310 leaves (31 on avg), max depth = 13, train loss: 1.73568, val loss: 1.85267, in 0.342s\n",
      "[10/100] 10 trees, 310 leaves (31 on avg), max depth = 16, train loss: 1.70392, val loss: 1.82945, in 0.369s\n",
      "[11/100] 10 trees, 310 leaves (31 on avg), max depth = 16, train loss: 1.67456, val loss: 1.81082, in 0.351s\n",
      "[12/100] 10 trees, 310 leaves (31 on avg), max depth = 19, train loss: 1.64575, val loss: 1.79158, in 0.422s\n",
      "[13/100] 10 trees, 310 leaves (31 on avg), max depth = 20, train loss: 1.61990, val loss: 1.77514, in 0.379s\n",
      "[14/100] 10 trees, 310 leaves (31 on avg), max depth = 15, train loss: 1.59488, val loss: 1.75958, in 0.377s\n",
      "[15/100] 10 trees, 310 leaves (31 on avg), max depth = 16, train loss: 1.57107, val loss: 1.74470, in 0.414s\n",
      "[16/100] 10 trees, 310 leaves (31 on avg), max depth = 18, train loss: 1.54852, val loss: 1.72983, in 0.398s\n",
      "[17/100] 10 trees, 310 leaves (31 on avg), max depth = 22, train loss: 1.52780, val loss: 1.71689, in 0.364s\n",
      "[18/100] 10 trees, 310 leaves (31 on avg), max depth = 18, train loss: 1.50782, val loss: 1.70402, in 0.331s\n",
      "[19/100] 10 trees, 310 leaves (31 on avg), max depth = 14, train loss: 1.48793, val loss: 1.69319, in 0.349s\n",
      "[20/100] 10 trees, 310 leaves (31 on avg), max depth = 14, train loss: 1.46912, val loss: 1.68096, in 0.359s\n",
      "[21/100] 10 trees, 310 leaves (31 on avg), max depth = 15, train loss: 1.45125, val loss: 1.67205, in 0.372s\n",
      "[22/100] 10 trees, 310 leaves (31 on avg), max depth = 18, train loss: 1.43429, val loss: 1.66313, in 0.325s\n",
      "[23/100] 10 trees, 310 leaves (31 on avg), max depth = 20, train loss: 1.41750, val loss: 1.65500, in 0.376s\n",
      "[24/100] 10 trees, 310 leaves (31 on avg), max depth = 18, train loss: 1.40109, val loss: 1.64462, in 0.334s\n",
      "[25/100] 10 trees, 310 leaves (31 on avg), max depth = 18, train loss: 1.38570, val loss: 1.63742, in 0.347s\n",
      "[26/100] 10 trees, 310 leaves (31 on avg), max depth = 13, train loss: 1.37061, val loss: 1.62993, in 0.340s\n",
      "[27/100] 10 trees, 310 leaves (31 on avg), max depth = 18, train loss: 1.35526, val loss: 1.62205, in 0.332s\n",
      "[28/100] 10 trees, 310 leaves (31 on avg), max depth = 16, train loss: 1.34113, val loss: 1.61634, in 0.344s\n",
      "[29/100] 10 trees, 310 leaves (31 on avg), max depth = 16, train loss: 1.32672, val loss: 1.60919, in 0.365s\n",
      "[30/100] 10 trees, 310 leaves (31 on avg), max depth = 15, train loss: 1.31327, val loss: 1.60224, in 0.387s\n",
      "[31/100] 10 trees, 310 leaves (31 on avg), max depth = 17, train loss: 1.30013, val loss: 1.59658, in 0.330s\n",
      "[32/100] 10 trees, 310 leaves (31 on avg), max depth = 15, train loss: 1.28748, val loss: 1.59093, in 0.454s\n",
      "[33/100] 10 trees, 310 leaves (31 on avg), max depth = 14, train loss: 1.27486, val loss: 1.58499, in 0.327s\n",
      "[34/100] 10 trees, 310 leaves (31 on avg), max depth = 18, train loss: 1.26241, val loss: 1.57993, in 0.349s\n",
      "[35/100] 10 trees, 310 leaves (31 on avg), max depth = 16, train loss: 1.25018, val loss: 1.57500, in 0.323s\n",
      "[36/100] 10 trees, 310 leaves (31 on avg), max depth = 18, train loss: 1.23821, val loss: 1.57015, in 0.351s\n",
      "[37/100] 10 trees, 310 leaves (31 on avg), max depth = 16, train loss: 1.22678, val loss: 1.56515, in 0.319s\n",
      "[38/100] 10 trees, 310 leaves (31 on avg), max depth = 19, train loss: 1.21506, val loss: 1.56068, in 0.331s\n",
      "[39/100] 10 trees, 310 leaves (31 on avg), max depth = 19, train loss: 1.20412, val loss: 1.55663, in 0.343s\n",
      "[40/100] 10 trees, 310 leaves (31 on avg), max depth = 14, train loss: 1.19318, val loss: 1.55213, in 0.397s\n",
      "[41/100] 10 trees, 310 leaves (31 on avg), max depth = 20, train loss: 1.18229, val loss: 1.54760, in 0.370s\n",
      "[42/100] 10 trees, 310 leaves (31 on avg), max depth = 16, train loss: 1.17169, val loss: 1.54422, in 0.335s\n",
      "[43/100] 10 trees, 310 leaves (31 on avg), max depth = 16, train loss: 1.16118, val loss: 1.54054, in 0.447s\n",
      "[44/100] 10 trees, 310 leaves (31 on avg), max depth = 16, train loss: 1.15065, val loss: 1.53703, in 0.335s\n",
      "[45/100] 10 trees, 310 leaves (31 on avg), max depth = 15, train loss: 1.14062, val loss: 1.53399, in 0.328s\n",
      "[46/100] 10 trees, 310 leaves (31 on avg), max depth = 16, train loss: 1.13086, val loss: 1.53077, in 0.338s\n",
      "[47/100] 10 trees, 310 leaves (31 on avg), max depth = 18, train loss: 1.12103, val loss: 1.52717, in 0.355s\n",
      "[48/100] 10 trees, 310 leaves (31 on avg), max depth = 15, train loss: 1.11140, val loss: 1.52367, in 0.369s\n",
      "[49/100] 10 trees, 310 leaves (31 on avg), max depth = 18, train loss: 1.10173, val loss: 1.52082, in 0.352s\n",
      "[50/100] 10 trees, 310 leaves (31 on avg), max depth = 14, train loss: 1.09241, val loss: 1.51875, in 0.321s\n",
      "[51/100] 10 trees, 310 leaves (31 on avg), max depth = 13, train loss: 1.08351, val loss: 1.51608, in 0.363s\n",
      "[52/100] 10 trees, 310 leaves (31 on avg), max depth = 17, train loss: 1.07471, val loss: 1.51414, in 0.328s\n",
      "[53/100] 10 trees, 310 leaves (31 on avg), max depth = 15, train loss: 1.06578, val loss: 1.51095, in 0.313s\n",
      "[54/100] 10 trees, 310 leaves (31 on avg), max depth = 16, train loss: 1.05702, val loss: 1.50864, in 0.450s\n",
      "[55/100] 10 trees, 310 leaves (31 on avg), max depth = 18, train loss: 1.04831, val loss: 1.50625, in 0.368s\n",
      "[56/100] 10 trees, 310 leaves (31 on avg), max depth = 16, train loss: 1.03979, val loss: 1.50360, in 0.330s\n",
      "[57/100] 10 trees, 310 leaves (31 on avg), max depth = 15, train loss: 1.03125, val loss: 1.50051, in 0.334s\n",
      "[58/100] 10 trees, 310 leaves (31 on avg), max depth = 18, train loss: 1.02289, val loss: 1.49742, in 0.328s\n",
      "[59/100] 10 trees, 310 leaves (31 on avg), max depth = 16, train loss: 1.01472, val loss: 1.49469, in 0.328s\n",
      "[60/100] 10 trees, 310 leaves (31 on avg), max depth = 17, train loss: 1.00671, val loss: 1.49224, in 0.382s\n",
      "[61/100] 10 trees, 310 leaves (31 on avg), max depth = 13, train loss: 0.99881, val loss: 1.48975, in 0.343s\n",
      "[62/100] 10 trees, 310 leaves (31 on avg), max depth = 16, train loss: 0.99079, val loss: 1.48728, in 0.362s\n",
      "[63/100] 10 trees, 310 leaves (31 on avg), max depth = 18, train loss: 0.98289, val loss: 1.48498, in 0.388s\n",
      "[64/100] 10 trees, 310 leaves (31 on avg), max depth = 16, train loss: 0.97509, val loss: 1.48344, in 0.340s\n",
      "[65/100] 10 trees, 310 leaves (31 on avg), max depth = 17, train loss: 0.96775, val loss: 1.48138, in 0.306s\n",
      "[66/100] 10 trees, 310 leaves (31 on avg), max depth = 15, train loss: 0.96036, val loss: 1.47902, in 0.356s\n",
      "[67/100] 10 trees, 310 leaves (31 on avg), max depth = 14, train loss: 0.95289, val loss: 1.47748, in 0.313s\n",
      "[68/100] 10 trees, 310 leaves (31 on avg), max depth = 19, train loss: 0.94565, val loss: 1.47622, in 0.306s\n",
      "[69/100] 10 trees, 310 leaves (31 on avg), max depth = 15, train loss: 0.93873, val loss: 1.47512, in 0.315s\n",
      "[70/100] 10 trees, 310 leaves (31 on avg), max depth = 15, train loss: 0.93166, val loss: 1.47335, in 0.311s\n",
      "[71/100] 10 trees, 310 leaves (31 on avg), max depth = 14, train loss: 0.92459, val loss: 1.47139, in 0.317s\n",
      "[72/100] 10 trees, 310 leaves (31 on avg), max depth = 17, train loss: 0.91752, val loss: 1.46997, in 0.309s\n",
      "[73/100] 10 trees, 310 leaves (31 on avg), max depth = 14, train loss: 0.91082, val loss: 1.46813, in 0.300s\n",
      "[74/100] 10 trees, 310 leaves (31 on avg), max depth = 15, train loss: 0.90384, val loss: 1.46654, in 0.320s\n",
      "[75/100] 10 trees, 310 leaves (31 on avg), max depth = 16, train loss: 0.89710, val loss: 1.46488, in 0.376s\n",
      "[76/100] 10 trees, 310 leaves (31 on avg), max depth = 14, train loss: 0.89025, val loss: 1.46383, in 0.385s\n",
      "[77/100] 10 trees, 310 leaves (31 on avg), max depth = 16, train loss: 0.88388, val loss: 1.46217, in 0.305s\n",
      "[78/100] 10 trees, 310 leaves (31 on avg), max depth = 13, train loss: 0.87731, val loss: 1.46059, in 0.320s\n",
      "[79/100] 10 trees, 310 leaves (31 on avg), max depth = 14, train loss: 0.87068, val loss: 1.45969, in 0.337s\n",
      "[80/100] 10 trees, 310 leaves (31 on avg), max depth = 15, train loss: 0.86420, val loss: 1.45870, in 0.326s\n",
      "[81/100] 10 trees, 310 leaves (31 on avg), max depth = 13, train loss: 0.85781, val loss: 1.45689, in 0.327s\n",
      "[82/100] 10 trees, 310 leaves (31 on avg), max depth = 15, train loss: 0.85187, val loss: 1.45551, in 0.305s\n",
      "[83/100] 10 trees, 310 leaves (31 on avg), max depth = 12, train loss: 0.84562, val loss: 1.45439, in 0.332s\n",
      "[84/100] 10 trees, 310 leaves (31 on avg), max depth = 15, train loss: 0.83981, val loss: 1.45357, in 0.357s\n",
      "[85/100] 10 trees, 310 leaves (31 on avg), max depth = 16, train loss: 0.83395, val loss: 1.45253, in 0.339s\n",
      "[86/100] 10 trees, 310 leaves (31 on avg), max depth = 15, train loss: 0.82794, val loss: 1.45118, in 0.366s\n",
      "[87/100] 10 trees, 310 leaves (31 on avg), max depth = 16, train loss: 0.82197, val loss: 1.44948, in 0.343s\n",
      "[88/100] 10 trees, 310 leaves (31 on avg), max depth = 14, train loss: 0.81604, val loss: 1.44851, in 0.317s\n",
      "[89/100] 10 trees, 310 leaves (31 on avg), max depth = 14, train loss: 0.81028, val loss: 1.44757, in 0.319s\n",
      "[90/100] 10 trees, 310 leaves (31 on avg), max depth = 16, train loss: 0.80437, val loss: 1.44592, in 0.316s\n",
      "[91/100] 10 trees, 310 leaves (31 on avg), max depth = 18, train loss: 0.79865, val loss: 1.44399, in 0.305s\n",
      "[92/100] 10 trees, 310 leaves (31 on avg), max depth = 16, train loss: 0.79297, val loss: 1.44244, in 0.324s\n",
      "[93/100] 10 trees, 310 leaves (31 on avg), max depth = 18, train loss: 0.78758, val loss: 1.44134, in 0.316s\n",
      "[94/100] 10 trees, 310 leaves (31 on avg), max depth = 15, train loss: 0.78186, val loss: 1.44083, in 0.312s\n",
      "[95/100] 10 trees, 310 leaves (31 on avg), max depth = 14, train loss: 0.77661, val loss: 1.43982, in 0.338s\n",
      "[96/100] 10 trees, 310 leaves (31 on avg), max depth = 17, train loss: 0.77130, val loss: 1.43816, in 0.353s\n",
      "[97/100] 10 trees, 310 leaves (31 on avg), max depth = 15, train loss: 0.76590, val loss: 1.43742, in 0.312s\n",
      "[98/100] 10 trees, 310 leaves (31 on avg), max depth = 15, train loss: 0.76079, val loss: 1.43619, in 0.370s\n",
      "[99/100] 10 trees, 310 leaves (31 on avg), max depth = 14, train loss: 0.75585, val loss: 1.43522, in 0.354s\n",
      "[100/100] 10 trees, 310 leaves (31 on avg), max depth = 12, train loss: 0.75069, val loss: 1.43453, in 0.335s\n",
      "Fit 1000 trees in 36.514 s, (31000 total leaves)\n",
      "Time spent computing histograms: 18.050s\n",
      "Time spent finding best splits:  5.633s\n",
      "Time spent applying splits:      2.370s\n",
      "Time spent predicting:           0.117s\n"
     ]
    },
    {
     "data": {
      "text/plain": [
       "0.8182592592592592"
      ]
     },
     "execution_count": 227,
     "metadata": {},
     "output_type": "execute_result"
    }
   ],
   "source": [
    "estimator = ensemble.HistGradientBoostingClassifier(random_state=_random_state,\n",
    "                                                    verbose=VERBOSITY)\n",
    "_ = estimator.fit(prepared_train_features, train_target)\n",
    "\n",
    "# make predictions\n",
    "predictions = estimator.predict(prepared_train_features)\n",
    "\n",
    "# report the accuracy on the training data\n",
    "metrics.accuracy_score(\n",
    "    train_target,\n",
    "    predictions,\n",
    ")"
   ]
  },
  {
   "cell_type": "code",
   "execution_count": 229,
   "id": "016de61c-6c21-40c4-9c2e-9aed6f33030e",
   "metadata": {},
   "outputs": [],
   "source": [
    "estimator = ensemble.HistGradientBoostingClassifier(random_state=_random_state,\n",
    "                                                    verbose=0)\n",
    "estimator_scores = model_selection.cross_val_score(estimator,\n",
    "                                                   X=prepared_train_features,\n",
    "                                                   y=train_target,\n",
    "                                                   cv=CV_FOLDS,\n",
    "                                                   scoring=\"accuracy\",\n",
    "                                                   n_jobs=CV_N_JOBS)"
   ]
  },
  {
   "cell_type": "code",
   "execution_count": 230,
   "id": "02b4689c-28b4-42d5-b026-f207d8e2490a",
   "metadata": {},
   "outputs": [
    {
     "data": {
      "text/plain": [
       "0.5065185185185186"
      ]
     },
     "execution_count": 230,
     "metadata": {},
     "output_type": "execute_result"
    }
   ],
   "source": [
    "estimator_scores.mean()"
   ]
  },
  {
   "cell_type": "markdown",
   "id": "9479a1fb-0e1d-43d5-98f7-7f2162ab0a2d",
   "metadata": {},
   "source": [
    "### Exercise:\n",
    "\n",
    "Several of the models that we tried were able to memorize the training data, but performed poorly when using CV: they overfit and need to be regularized. Pick a model. Explore the documentation for your model. Hand-tune some of the hyper-parameters of the model in order to regularize the model and reduce overfitting."
   ]
  },
  {
   "cell_type": "code",
   "execution_count": null,
   "id": "42a8a63b-1bd8-479a-9b07-243da3e48833",
   "metadata": {},
   "outputs": [],
   "source": []
  },
  {
   "cell_type": "markdown",
   "id": "b4480006-5cd1-467d-bc1d-be8a52d7abd6",
   "metadata": {},
   "source": [
    "# Fine-tune your models\n",
    "\n",
    "Two key parameters are `n_estimators` and `max_features`"
   ]
  },
  {
   "cell_type": "markdown",
   "id": "09227c31-3011-4e3e-b024-7e4cc7468093",
   "metadata": {},
   "source": [
    "## Grid Search"
   ]
  },
  {
   "cell_type": "code",
   "execution_count": 165,
   "id": "536c7ffa-c6b6-4003-a1a0-57abc5d27080",
   "metadata": {},
   "outputs": [],
   "source": [
    "parameter_grid = [\n",
    "#    {\"n_estimators\": [12, 25, 50, 100], \"max_features\": [2, 4, 8, \"sqrt\"]}, # 3 * 3 = 9 parameter combinations to try\n",
    "    {\"max_depth\": [None], \"min_samples_split\": [128, 256, 512, 1024]}\n",
    "]\n",
    "\n",
    "_random_state = np.random.RandomState(42)\n",
    "_estimator = ensemble.RandomForestClassifier(\n",
    "    random_state=_random_state\n",
    ")\n",
    "estimator = model_selection.GridSearchCV(\n",
    "    _estimator,\n",
    "    parameter_grid,\n",
    "    cv=CV_FOLDS,\n",
    "    scoring=\"accuracy\",\n",
    "    return_train_score=True,\n",
    "    n_jobs=CV_N_JOBS,\n",
    "    verbose=10)"
   ]
  },
  {
   "cell_type": "code",
   "execution_count": 166,
   "id": "b40d47f2-a368-44cb-9c28-50667776077d",
   "metadata": {},
   "outputs": [
    {
     "name": "stdout",
     "output_type": "stream",
     "text": [
      "Fitting 8 folds for each of 4 candidates, totalling 32 fits\n",
      "[CV 8/8; 1/4] START max_depth=None, min_samples_split=128.......................\n",
      "[CV 4/8; 1/4] START max_depth=None, min_samples_split=128.......................\n",
      "[CV 1/8; 1/4] START max_depth=None, min_samples_split=128.......................\n",
      "[CV 5/8; 1/4] START max_depth=None, min_samples_split=128.......................\n",
      "[CV 2/8; 1/4] START max_depth=None, min_samples_split=128.......................\n",
      "[CV 6/8; 1/4] START max_depth=None, min_samples_split=128.......................\n",
      "[CV 7/8; 1/4] START max_depth=None, min_samples_split=128.......................\n",
      "[CV 3/8; 1/4] START max_depth=None, min_samples_split=128.......................\n",
      "[CV 8/8; 1/4] END max_depth=None, min_samples_split=128;, score=(train=0.664, test=0.451) total time= 1.4min\n",
      "[CV 1/8; 2/4] START max_depth=None, min_samples_split=256.......................\n",
      "[CV 2/8; 1/4] END max_depth=None, min_samples_split=128;, score=(train=0.667, test=0.445) total time= 1.4min\n",
      "[CV 2/8; 2/4] START max_depth=None, min_samples_split=256.......................\n",
      "[CV 1/8; 1/4] END max_depth=None, min_samples_split=128;, score=(train=0.665, test=0.443) total time= 1.4min\n",
      "[CV 3/8; 2/4] START max_depth=None, min_samples_split=256.......................\n",
      "[CV 4/8; 1/4] END max_depth=None, min_samples_split=128;, score=(train=0.666, test=0.450) total time= 1.4min\n",
      "[CV 6/8; 1/4] END max_depth=None, min_samples_split=128;, score=(train=0.666, test=0.437) total time= 1.4min\n",
      "[CV 4/8; 2/4] START max_depth=None, min_samples_split=256.......................\n",
      "[CV 7/8; 1/4] END max_depth=None, min_samples_split=128;, score=(train=0.668, test=0.448) total time= 1.4min\n",
      "[CV 3/8; 1/4] END max_depth=None, min_samples_split=128;, score=(train=0.665, test=0.451) total time= 1.4min\n",
      "[CV 5/8; 2/4] START max_depth=None, min_samples_split=256.......................\n",
      "[CV 6/8; 2/4] START max_depth=None, min_samples_split=256.......................\n",
      "[CV 7/8; 2/4] START max_depth=None, min_samples_split=256.......................\n",
      "[CV 5/8; 1/4] END max_depth=None, min_samples_split=128;, score=(train=0.664, test=0.442) total time= 1.4min\n",
      "[CV 8/8; 2/4] START max_depth=None, min_samples_split=256.......................\n",
      "[CV 1/8; 2/4] END max_depth=None, min_samples_split=256;, score=(train=0.554, test=0.424) total time= 1.3min\n",
      "[CV 1/8; 3/4] START max_depth=None, min_samples_split=512.......................\n",
      "[CV 2/8; 2/4] END max_depth=None, min_samples_split=256;, score=(train=0.552, test=0.436) total time= 1.3min\n",
      "[CV 2/8; 3/4] START max_depth=None, min_samples_split=512.......................\n",
      "[CV 5/8; 2/4] END max_depth=None, min_samples_split=256;, score=(train=0.555, test=0.427) total time= 1.3min\n",
      "[CV 3/8; 3/4] START max_depth=None, min_samples_split=512.......................\n",
      "[CV 3/8; 2/4] END max_depth=None, min_samples_split=256;, score=(train=0.553, test=0.435) total time= 1.3min\n",
      "[CV 4/8; 3/4] START max_depth=None, min_samples_split=512.......................\n",
      "[CV 4/8; 2/4] END max_depth=None, min_samples_split=256;, score=(train=0.553, test=0.437) total time= 1.3min\n",
      "[CV 5/8; 3/4] START max_depth=None, min_samples_split=512.......................\n",
      "[CV 8/8; 2/4] END max_depth=None, min_samples_split=256;, score=(train=0.555, test=0.442) total time= 1.3min\n",
      "[CV 6/8; 2/4] END max_depth=None, min_samples_split=256;, score=(train=0.557, test=0.424) total time= 1.3min\n",
      "[CV 6/8; 3/4] START max_depth=None, min_samples_split=512.......................\n",
      "[CV 7/8; 3/4] START max_depth=None, min_samples_split=512.......................\n",
      "[CV 7/8; 2/4] END max_depth=None, min_samples_split=256;, score=(train=0.557, test=0.437) total time= 1.3min\n",
      "[CV 8/8; 3/4] START max_depth=None, min_samples_split=512.......................\n",
      "[CV 1/8; 3/4] END max_depth=None, min_samples_split=512;, score=(train=0.483, test=0.416) total time= 1.2min\n",
      "[CV 1/8; 4/4] START max_depth=None, min_samples_split=1024......................\n",
      "[CV 2/8; 3/4] END max_depth=None, min_samples_split=512;, score=(train=0.486, test=0.421) total time= 1.2min\n",
      "[CV 2/8; 4/4] START max_depth=None, min_samples_split=1024......................\n",
      "[CV 5/8; 3/4] END max_depth=None, min_samples_split=512;, score=(train=0.481, test=0.415) total time= 1.2min\n",
      "[CV 3/8; 4/4] START max_depth=None, min_samples_split=1024......................\n",
      "[CV 8/8; 3/4] END max_depth=None, min_samples_split=512;, score=(train=0.482, test=0.422) total time= 1.2min\n",
      "[CV 4/8; 4/4] START max_depth=None, min_samples_split=1024......................\n",
      "[CV 3/8; 3/4] END max_depth=None, min_samples_split=512;, score=(train=0.484, test=0.431) total time= 1.2min\n",
      "[CV 4/8; 3/4] END max_depth=None, min_samples_split=512;, score=(train=0.480, test=0.418) total time= 1.2min\n",
      "[CV 7/8; 3/4] END max_depth=None, min_samples_split=512;, score=(train=0.481, test=0.421) total time= 1.2min\n",
      "[CV 5/8; 4/4] START max_depth=None, min_samples_split=1024......................\n",
      "[CV 6/8; 4/4] START max_depth=None, min_samples_split=1024......................\n",
      "[CV 7/8; 4/4] START max_depth=None, min_samples_split=1024......................\n",
      "[CV 6/8; 3/4] END max_depth=None, min_samples_split=512;, score=(train=0.480, test=0.413) total time= 1.2min\n",
      "[CV 8/8; 4/4] START max_depth=None, min_samples_split=1024......................\n",
      "[CV 2/8; 4/4] END max_depth=None, min_samples_split=1024;, score=(train=0.431, test=0.395) total time= 1.1min\n",
      "[CV 1/8; 4/4] END max_depth=None, min_samples_split=1024;, score=(train=0.432, test=0.394) total time= 1.1min\n",
      "[CV 3/8; 4/4] END max_depth=None, min_samples_split=1024;, score=(train=0.431, test=0.405) total time= 1.1min\n",
      "[CV 4/8; 4/4] END max_depth=None, min_samples_split=1024;, score=(train=0.431, test=0.393) total time= 1.1min\n",
      "[CV 8/8; 4/4] END max_depth=None, min_samples_split=1024;, score=(train=0.434, test=0.404) total time= 1.1min\n",
      "[CV 7/8; 4/4] END max_depth=None, min_samples_split=1024;, score=(train=0.429, test=0.400) total time= 1.1min\n",
      "[CV 6/8; 4/4] END max_depth=None, min_samples_split=1024;, score=(train=0.433, test=0.390) total time= 1.1min\n",
      "[CV 5/8; 4/4] END max_depth=None, min_samples_split=1024;, score=(train=0.433, test=0.395) total time= 1.1min\n"
     ]
    }
   ],
   "source": [
    "_ = estimator.fit(prepared_train_features, train_target)"
   ]
  },
  {
   "cell_type": "code",
   "execution_count": 167,
   "id": "f39895ae-2739-44fc-9b9e-a8456f5c667f",
   "metadata": {},
   "outputs": [
    {
     "data": {
      "text/plain": [
       "0.4459444444444445"
      ]
     },
     "execution_count": 167,
     "metadata": {},
     "output_type": "execute_result"
    }
   ],
   "source": [
    "estimator.best_score_"
   ]
  },
  {
   "cell_type": "code",
   "execution_count": 168,
   "id": "b28c7059-dec2-4f07-b2fb-058e860025a5",
   "metadata": {},
   "outputs": [
    {
     "data": {
      "text/plain": [
       "{'max_depth': None, 'min_samples_split': 128}"
      ]
     },
     "execution_count": 168,
     "metadata": {},
     "output_type": "execute_result"
    }
   ],
   "source": [
    "estimator.best_params_"
   ]
  },
  {
   "cell_type": "code",
   "execution_count": 163,
   "id": "6d56606c-1216-41e8-9f49-4c8afaa86cb7",
   "metadata": {},
   "outputs": [
    {
     "data": {
      "text/plain": [
       "RandomForestClassifier(min_samples_split=32,\n",
       "                       random_state=RandomState(MT19937) at 0x12FD74E40)"
      ]
     },
     "execution_count": 163,
     "metadata": {},
     "output_type": "execute_result"
    }
   ],
   "source": [
    "estimator.best_estimator_"
   ]
  },
  {
   "cell_type": "code",
   "execution_count": 164,
   "id": "f7592290-c608-485e-bb55-2bcce503167d",
   "metadata": {},
   "outputs": [
    {
     "data": {
      "text/plain": [
       "56"
      ]
     },
     "execution_count": 164,
     "metadata": {},
     "output_type": "execute_result"
    }
   ],
   "source": [
    "max([e.get_depth() for e in estimator.best_estimator_.estimators_])"
   ]
  },
  {
   "cell_type": "code",
   "execution_count": 124,
   "id": "7f7b63ee-6d09-4de9-8a7b-26bf301cde76",
   "metadata": {},
   "outputs": [],
   "source": [
    "timestamp = time.strftime(\"%Y%m%d-%H%M%S\")\n",
    "_ = joblib.dump(estimator, f\"../results/models/grid-search-cv-random-forest-classifier-{timestamp}.pkl\")"
   ]
  },
  {
   "cell_type": "markdown",
   "id": "3fe59c5d-9048-4385-9766-874f332e44db",
   "metadata": {},
   "source": [
    "For reference here is how you would reload the trained model from the file."
   ]
  },
  {
   "cell_type": "code",
   "execution_count": 125,
   "id": "846db76e-d988-48ab-b43a-8329f3f889f9",
   "metadata": {},
   "outputs": [],
   "source": [
    "reloaded_estimator = joblib.load(f\"../results/models/grid-search-cv-random-forest-classifier-{timestamp}.pkl\")"
   ]
  },
  {
   "cell_type": "code",
   "execution_count": 126,
   "id": "0db94fb6-e955-4edc-95d0-edfa55d6bf71",
   "metadata": {},
   "outputs": [
    {
     "data": {
      "text/plain": [
       "{'max_features': 'auto', 'n_estimators': 100}"
      ]
     },
     "execution_count": 126,
     "metadata": {},
     "output_type": "execute_result"
    }
   ],
   "source": [
    "reloaded_estimator.best_params_"
   ]
  },
  {
   "cell_type": "markdown",
   "id": "915154a7-3da0-4e9c-b6a7-673d34e8a736",
   "metadata": {},
   "source": [
    "## Randomized Search"
   ]
  },
  {
   "cell_type": "code",
   "execution_count": 129,
   "id": "5c5716f6-e9a9-49cf-93c5-81d18a71fb53",
   "metadata": {},
   "outputs": [],
   "source": [
    "from scipy import stats\n",
    "\n",
    "\n",
    "_param_distributions = {\n",
    "    \"n_estimators\": stats.geom(p=0.01),\n",
    "    \"min_samples_split\": stats.beta(a=1, b=99),\n",
    "    \"min_samples_leaf\": stats.beta(a=1, b=999),\n",
    "}\n",
    "\n",
    "_random_state = np.random.RandomState(42)\n",
    "_estimator = ensemble.RandomForestClassifier(random_state=_random_state)\n",
    "\n",
    "estimator = model_selection.RandomizedSearchCV(\n",
    "    _estimator,\n",
    "    param_distributions=_param_distributions,\n",
    "    scoring=\"accuracy\",\n",
    "    random_state=_random_state,\n",
    "    n_iter=10,\n",
    "    cv=CV_FOLDS,\n",
    "    n_jobs=CV_N_JOBS,\n",
    "    verbose=10\n",
    ")"
   ]
  },
  {
   "cell_type": "code",
   "execution_count": 130,
   "id": "94002a67-8041-4321-bd67-dd34ea02d44a",
   "metadata": {},
   "outputs": [
    {
     "name": "stdout",
     "output_type": "stream",
     "text": [
      "Fitting 8 folds for each of 10 candidates, totalling 80 fits\n",
      "[CV 1/8; 1/10] START min_samples_leaf=0.00048658611411275555, min_samples_split=0.0005870677503007284, n_estimators=92\n",
      "[CV 5/8; 1/10] START min_samples_leaf=0.00048658611411275555, min_samples_split=0.0005870677503007284, n_estimators=92\n",
      "[CV 3/8; 1/10] START min_samples_leaf=0.00048658611411275555, min_samples_split=0.0005870677503007284, n_estimators=92\n",
      "[CV 2/8; 1/10] START min_samples_leaf=0.00048658611411275555, min_samples_split=0.0005870677503007284, n_estimators=92\n",
      "[CV 4/8; 1/10] START min_samples_leaf=0.00048658611411275555, min_samples_split=0.0005870677503007284, n_estimators=92\n",
      "[CV 7/8; 1/10] START min_samples_leaf=0.00048658611411275555, min_samples_split=0.0005870677503007284, n_estimators=92\n",
      "[CV 6/8; 1/10] START min_samples_leaf=0.00048658611411275555, min_samples_split=0.0005870677503007284, n_estimators=92\n",
      "[CV 8/8; 1/10] START min_samples_leaf=0.00048658611411275555, min_samples_split=0.0005870677503007284, n_estimators=92\n",
      "[CV 4/8; 1/10] END min_samples_leaf=0.00048658611411275555, min_samples_split=0.0005870677503007284, n_estimators=92;, score=0.445 total time= 1.3min\n",
      "[CV 7/8; 1/10] END min_samples_leaf=0.00048658611411275555, min_samples_split=0.0005870677503007284, n_estimators=92;, score=0.450 total time= 1.3min\n",
      "[CV 1/8; 2/10] START min_samples_leaf=0.001249828663231378, min_samples_split=0.0019415164208264953, n_estimators=75\n",
      "[CV 5/8; 1/10] END min_samples_leaf=0.00048658611411275555, min_samples_split=0.0005870677503007284, n_estimators=92;, score=0.449 total time= 1.3min\n",
      "[CV 2/8; 2/10] START min_samples_leaf=0.001249828663231378, min_samples_split=0.0019415164208264953, n_estimators=75\n",
      "[CV 3/8; 2/10] START min_samples_leaf=0.001249828663231378, min_samples_split=0.0019415164208264953, n_estimators=75\n",
      "[CV 2/8; 1/10] END min_samples_leaf=0.00048658611411275555, min_samples_split=0.0005870677503007284, n_estimators=92;, score=0.447 total time= 1.3min\n",
      "[CV 3/8; 1/10] END min_samples_leaf=0.00048658611411275555, min_samples_split=0.0005870677503007284, n_estimators=92;, score=0.449 total time= 1.3min\n",
      "[CV 4/8; 2/10] START min_samples_leaf=0.001249828663231378, min_samples_split=0.0019415164208264953, n_estimators=75\n",
      "[CV 8/8; 1/10] END min_samples_leaf=0.00048658611411275555, min_samples_split=0.0005870677503007284, n_estimators=92;, score=0.451 total time= 1.3min\n",
      "[CV 5/8; 2/10] START min_samples_leaf=0.001249828663231378, min_samples_split=0.0019415164208264953, n_estimators=75\n",
      "[CV 1/8; 1/10] END min_samples_leaf=0.00048658611411275555, min_samples_split=0.0005870677503007284, n_estimators=92;, score=0.443 total time= 1.3min\n",
      "[CV 6/8; 1/10] END min_samples_leaf=0.00048658611411275555, min_samples_split=0.0005870677503007284, n_estimators=92;, score=0.444 total time= 1.3min\n",
      "[CV 6/8; 2/10] START min_samples_leaf=0.001249828663231378, min_samples_split=0.0019415164208264953, n_estimators=75\n",
      "[CV 7/8; 2/10] START min_samples_leaf=0.001249828663231378, min_samples_split=0.0019415164208264953, n_estimators=75\n",
      "[CV 8/8; 2/10] START min_samples_leaf=0.001249828663231378, min_samples_split=0.0019415164208264953, n_estimators=75\n",
      "[CV 2/8; 2/10] END min_samples_leaf=0.001249828663231378, min_samples_split=0.0019415164208264953, n_estimators=75;, score=0.433 total time=  55.0s\n",
      "[CV 1/8; 2/10] END min_samples_leaf=0.001249828663231378, min_samples_split=0.0019415164208264953, n_estimators=75;, score=0.431 total time=  55.1s\n",
      "[CV 3/8; 2/10] END min_samples_leaf=0.001249828663231378, min_samples_split=0.0019415164208264953, n_estimators=75;, score=0.436 total time=  55.0s\n",
      "[CV 3/8; 3/10] START min_samples_leaf=0.0005516056707987959, min_samples_split=0.004082359619323434, n_estimators=61\n",
      "[CV 2/8; 3/10] START min_samples_leaf=0.0005516056707987959, min_samples_split=0.004082359619323434, n_estimators=61\n",
      "[CV 1/8; 3/10] START min_samples_leaf=0.0005516056707987959, min_samples_split=0.004082359619323434, n_estimators=61\n",
      "[CV 6/8; 2/10] END min_samples_leaf=0.001249828663231378, min_samples_split=0.0019415164208264953, n_estimators=75;, score=0.424 total time=  55.3s\n",
      "[CV 8/8; 2/10] END min_samples_leaf=0.001249828663231378, min_samples_split=0.0019415164208264953, n_estimators=75;, score=0.443 total time=  55.2s\n",
      "[CV 7/8; 2/10] END min_samples_leaf=0.001249828663231378, min_samples_split=0.0019415164208264953, n_estimators=75;, score=0.435 total time=  55.3s\n",
      "[CV 4/8; 2/10] END min_samples_leaf=0.001249828663231378, min_samples_split=0.0019415164208264953, n_estimators=75;, score=0.435 total time=  55.6s\n",
      "[CV 4/8; 3/10] START min_samples_leaf=0.0005516056707987959, min_samples_split=0.004082359619323434, n_estimators=61\n",
      "[CV 7/8; 3/10] START min_samples_leaf=0.0005516056707987959, min_samples_split=0.004082359619323434, n_estimators=61\n",
      "[CV 5/8; 3/10] START min_samples_leaf=0.0005516056707987959, min_samples_split=0.004082359619323434, n_estimators=61\n",
      "[CV 6/8; 3/10] START min_samples_leaf=0.0005516056707987959, min_samples_split=0.004082359619323434, n_estimators=61\n",
      "[CV 5/8; 2/10] END min_samples_leaf=0.001249828663231378, min_samples_split=0.0019415164208264953, n_estimators=75;, score=0.430 total time=  55.7s\n",
      "[CV 8/8; 3/10] START min_samples_leaf=0.0005516056707987959, min_samples_split=0.004082359619323434, n_estimators=61\n",
      "[CV 2/8; 3/10] END min_samples_leaf=0.0005516056707987959, min_samples_split=0.004082359619323434, n_estimators=61;, score=0.432 total time=  46.2s\n",
      "[CV 1/8; 4/10] START min_samples_leaf=0.0015343454458390795, min_samples_split=0.0005580783782473347, n_estimators=19\n",
      "[CV 3/8; 3/10] END min_samples_leaf=0.0005516056707987959, min_samples_split=0.004082359619323434, n_estimators=61;, score=0.433 total time=  46.3s\n",
      "[CV 2/8; 4/10] START min_samples_leaf=0.0015343454458390795, min_samples_split=0.0005580783782473347, n_estimators=19\n",
      "[CV 1/8; 3/10] END min_samples_leaf=0.0005516056707987959, min_samples_split=0.004082359619323434, n_estimators=61;, score=0.430 total time=  46.6s\n",
      "[CV 3/8; 4/10] START min_samples_leaf=0.0015343454458390795, min_samples_split=0.0005580783782473347, n_estimators=19\n",
      "[CV 5/8; 3/10] END min_samples_leaf=0.0005516056707987959, min_samples_split=0.004082359619323434, n_estimators=61;, score=0.434 total time=  46.5s\n",
      "[CV 4/8; 4/10] START min_samples_leaf=0.0015343454458390795, min_samples_split=0.0005580783782473347, n_estimators=19\n",
      "[CV 6/8; 3/10] END min_samples_leaf=0.0005516056707987959, min_samples_split=0.004082359619323434, n_estimators=61;, score=0.417 total time=  46.6s\n",
      "[CV 5/8; 4/10] START min_samples_leaf=0.0015343454458390795, min_samples_split=0.0005580783782473347, n_estimators=19\n",
      "[CV 8/8; 3/10] END min_samples_leaf=0.0005516056707987959, min_samples_split=0.004082359619323434, n_estimators=61;, score=0.438 total time=  46.7s\n",
      "[CV 6/8; 4/10] START min_samples_leaf=0.0015343454458390795, min_samples_split=0.0005580783782473347, n_estimators=19\n",
      "[CV 7/8; 3/10] END min_samples_leaf=0.0005516056707987959, min_samples_split=0.004082359619323434, n_estimators=61;, score=0.436 total time=  47.0s\n",
      "[CV 7/8; 4/10] START min_samples_leaf=0.0015343454458390795, min_samples_split=0.0005580783782473347, n_estimators=19\n",
      "[CV 4/8; 3/10] END min_samples_leaf=0.0005516056707987959, min_samples_split=0.004082359619323434, n_estimators=61;, score=0.435 total time=  47.2s\n",
      "[CV 8/8; 4/10] START min_samples_leaf=0.0015343454458390795, min_samples_split=0.0005580783782473347, n_estimators=19\n",
      "[CV 1/8; 4/10] END min_samples_leaf=0.0015343454458390795, min_samples_split=0.0005580783782473347, n_estimators=19;, score=0.403 total time=  13.8s\n",
      "[CV 1/8; 5/10] START min_samples_leaf=6.864473734658055e-05, min_samples_split=0.010524249244785061, n_estimators=13\n",
      "[CV 2/8; 4/10] END min_samples_leaf=0.0015343454458390795, min_samples_split=0.0005580783782473347, n_estimators=19;, score=0.389 total time=  14.0s\n",
      "[CV 3/8; 4/10] END min_samples_leaf=0.0015343454458390795, min_samples_split=0.0005580783782473347, n_estimators=19;, score=0.403 total time=  13.8s\n",
      "[CV 2/8; 5/10] START min_samples_leaf=6.864473734658055e-05, min_samples_split=0.010524249244785061, n_estimators=13\n",
      "[CV 3/8; 5/10] START min_samples_leaf=6.864473734658055e-05, min_samples_split=0.010524249244785061, n_estimators=13\n",
      "[CV 4/8; 4/10] END min_samples_leaf=0.0015343454458390795, min_samples_split=0.0005580783782473347, n_estimators=19;, score=0.401 total time=  14.0s\n",
      "[CV 4/8; 5/10] START min_samples_leaf=6.864473734658055e-05, min_samples_split=0.010524249244785061, n_estimators=13\n",
      "[CV 5/8; 4/10] END min_samples_leaf=0.0015343454458390795, min_samples_split=0.0005580783782473347, n_estimators=19;, score=0.402 total time=  14.1s\n",
      "[CV 5/8; 5/10] START min_samples_leaf=6.864473734658055e-05, min_samples_split=0.010524249244785061, n_estimators=13\n",
      "[CV 6/8; 4/10] END min_samples_leaf=0.0015343454458390795, min_samples_split=0.0005580783782473347, n_estimators=19;, score=0.398 total time=  14.0s\n",
      "[CV 6/8; 5/10] START min_samples_leaf=6.864473734658055e-05, min_samples_split=0.010524249244785061, n_estimators=13\n",
      "[CV 7/8; 4/10] END min_samples_leaf=0.0015343454458390795, min_samples_split=0.0005580783782473347, n_estimators=19;, score=0.397 total time=  14.0s\n",
      "[CV 7/8; 5/10] START min_samples_leaf=6.864473734658055e-05, min_samples_split=0.010524249244785061, n_estimators=13\n",
      "[CV 8/8; 4/10] END min_samples_leaf=0.0015343454458390795, min_samples_split=0.0005580783782473347, n_estimators=19;, score=0.404 total time=  14.1s\n",
      "[CV 8/8; 5/10] START min_samples_leaf=6.864473734658055e-05, min_samples_split=0.010524249244785061, n_estimators=13\n",
      "[CV 1/8; 5/10] END min_samples_leaf=6.864473734658055e-05, min_samples_split=0.010524249244785061, n_estimators=13;, score=0.375 total time=   9.3s\n",
      "[CV 1/8; 6/10] START min_samples_leaf=0.0006665045727165634, min_samples_split=0.008364597915074202, n_estimators=21\n",
      "[CV 2/8; 5/10] END min_samples_leaf=6.864473734658055e-05, min_samples_split=0.010524249244785061, n_estimators=13;, score=0.380 total time=   9.4s\n",
      "[CV 3/8; 5/10] END min_samples_leaf=6.864473734658055e-05, min_samples_split=0.010524249244785061, n_estimators=13;, score=0.385 total time=   9.4s\n",
      "[CV 2/8; 6/10] START min_samples_leaf=0.0006665045727165634, min_samples_split=0.008364597915074202, n_estimators=21\n",
      "[CV 3/8; 6/10] START min_samples_leaf=0.0006665045727165634, min_samples_split=0.008364597915074202, n_estimators=21\n",
      "[CV 4/8; 5/10] END min_samples_leaf=6.864473734658055e-05, min_samples_split=0.010524249244785061, n_estimators=13;, score=0.382 total time=   9.3s\n",
      "[CV 4/8; 6/10] START min_samples_leaf=0.0006665045727165634, min_samples_split=0.008364597915074202, n_estimators=21\n",
      "[CV 5/8; 5/10] END min_samples_leaf=6.864473734658055e-05, min_samples_split=0.010524249244785061, n_estimators=13;, score=0.380 total time=   9.3s\n",
      "[CV 5/8; 6/10] START min_samples_leaf=0.0006665045727165634, min_samples_split=0.008364597915074202, n_estimators=21\n",
      "[CV 6/8; 5/10] END min_samples_leaf=6.864473734658055e-05, min_samples_split=0.010524249244785061, n_estimators=13;, score=0.381 total time=   9.3s\n",
      "[CV 7/8; 5/10] END min_samples_leaf=6.864473734658055e-05, min_samples_split=0.010524249244785061, n_estimators=13;, score=0.379 total time=   9.2s\n",
      "[CV 6/8; 6/10] START min_samples_leaf=0.0006665045727165634, min_samples_split=0.008364597915074202, n_estimators=21\n",
      "[CV 7/8; 6/10] START min_samples_leaf=0.0006665045727165634, min_samples_split=0.008364597915074202, n_estimators=21\n",
      "[CV 8/8; 5/10] END min_samples_leaf=6.864473734658055e-05, min_samples_split=0.010524249244785061, n_estimators=13;, score=0.380 total time=   9.4s\n",
      "[CV 8/8; 6/10] START min_samples_leaf=0.0006665045727165634, min_samples_split=0.008364597915074202, n_estimators=21\n",
      "[CV 1/8; 6/10] END min_samples_leaf=0.0006665045727165634, min_samples_split=0.008364597915074202, n_estimators=21;, score=0.398 total time=  14.8s\n",
      "[CV 1/8; 7/10] START min_samples_leaf=0.0034613614940351505, min_samples_split=0.0008596746928520758, n_estimators=5\n",
      "[CV 2/8; 6/10] END min_samples_leaf=0.0006665045727165634, min_samples_split=0.008364597915074202, n_estimators=21;, score=0.399 total time=  14.7s\n",
      "[CV 2/8; 7/10] START min_samples_leaf=0.0034613614940351505, min_samples_split=0.0008596746928520758, n_estimators=5\n",
      "[CV 3/8; 6/10] END min_samples_leaf=0.0006665045727165634, min_samples_split=0.008364597915074202, n_estimators=21;, score=0.400 total time=  14.8s\n",
      "[CV 3/8; 7/10] START min_samples_leaf=0.0034613614940351505, min_samples_split=0.0008596746928520758, n_estimators=5\n",
      "[CV 4/8; 6/10] END min_samples_leaf=0.0006665045727165634, min_samples_split=0.008364597915074202, n_estimators=21;, score=0.396 total time=  15.0s\n",
      "[CV 4/8; 7/10] START min_samples_leaf=0.0034613614940351505, min_samples_split=0.0008596746928520758, n_estimators=5\n",
      "[CV 7/8; 6/10] END min_samples_leaf=0.0006665045727165634, min_samples_split=0.008364597915074202, n_estimators=21;, score=0.407 total time=  14.7s\n",
      "[CV 5/8; 6/10] END min_samples_leaf=0.0006665045727165634, min_samples_split=0.008364597915074202, n_estimators=21;, score=0.396 total time=  14.8s\n",
      "[CV 5/8; 7/10] START min_samples_leaf=0.0034613614940351505, min_samples_split=0.0008596746928520758, n_estimators=5\n",
      "[CV 6/8; 6/10] END min_samples_leaf=0.0006665045727165634, min_samples_split=0.008364597915074202, n_estimators=21;, score=0.392 total time=  14.8s\n",
      "[CV 6/8; 7/10] START min_samples_leaf=0.0034613614940351505, min_samples_split=0.0008596746928520758, n_estimators=5\n",
      "[CV 7/8; 7/10] START min_samples_leaf=0.0034613614940351505, min_samples_split=0.0008596746928520758, n_estimators=5\n",
      "[CV 8/8; 6/10] END min_samples_leaf=0.0006665045727165634, min_samples_split=0.008364597915074202, n_estimators=21;, score=0.406 total time=  14.8s\n",
      "[CV 8/8; 7/10] START min_samples_leaf=0.0034613614940351505, min_samples_split=0.0008596746928520758, n_estimators=5\n",
      "[CV 1/8; 7/10] END min_samples_leaf=0.0034613614940351505, min_samples_split=0.0008596746928520758, n_estimators=5;, score=0.323 total time=   3.3s\n",
      "[CV 1/8; 8/10] START min_samples_leaf=0.0004129137216396695, min_samples_split=0.004789233605970227, n_estimators=78\n",
      "[CV 3/8; 7/10] END min_samples_leaf=0.0034613614940351505, min_samples_split=0.0008596746928520758, n_estimators=5;, score=0.328 total time=   3.3s\n",
      "[CV 2/8; 7/10] END min_samples_leaf=0.0034613614940351505, min_samples_split=0.0008596746928520758, n_estimators=5;, score=0.333 total time=   3.4s\n",
      "[CV 2/8; 8/10] START min_samples_leaf=0.0004129137216396695, min_samples_split=0.004789233605970227, n_estimators=78\n",
      "[CV 3/8; 8/10] START min_samples_leaf=0.0004129137216396695, min_samples_split=0.004789233605970227, n_estimators=78\n",
      "[CV 4/8; 7/10] END min_samples_leaf=0.0034613614940351505, min_samples_split=0.0008596746928520758, n_estimators=5;, score=0.322 total time=   3.3s\n",
      "[CV 4/8; 8/10] START min_samples_leaf=0.0004129137216396695, min_samples_split=0.004789233605970227, n_estimators=78\n",
      "[CV 7/8; 7/10] END min_samples_leaf=0.0034613614940351505, min_samples_split=0.0008596746928520758, n_estimators=5;, score=0.329 total time=   3.4s\n",
      "[CV 5/8; 7/10] END min_samples_leaf=0.0034613614940351505, min_samples_split=0.0008596746928520758, n_estimators=5;, score=0.333 total time=   3.5s\n",
      "[CV 6/8; 7/10] END min_samples_leaf=0.0034613614940351505, min_samples_split=0.0008596746928520758, n_estimators=5;, score=0.317 total time=   3.5s\n",
      "[CV 6/8; 8/10] START min_samples_leaf=0.0004129137216396695, min_samples_split=0.004789233605970227, n_estimators=78\n",
      "[CV 5/8; 8/10] START min_samples_leaf=0.0004129137216396695, min_samples_split=0.004789233605970227, n_estimators=78\n",
      "[CV 7/8; 8/10] START min_samples_leaf=0.0004129137216396695, min_samples_split=0.004789233605970227, n_estimators=78\n",
      "[CV 8/8; 7/10] END min_samples_leaf=0.0034613614940351505, min_samples_split=0.0008596746928520758, n_estimators=5;, score=0.329 total time=   3.3s\n",
      "[CV 8/8; 8/10] START min_samples_leaf=0.0004129137216396695, min_samples_split=0.004789233605970227, n_estimators=78\n",
      "[CV 1/8; 8/10] END min_samples_leaf=0.0004129137216396695, min_samples_split=0.004789233605970227, n_estimators=78;, score=0.429 total time=  59.6s\n",
      "[CV 1/8; 9/10] START min_samples_leaf=0.00014931091597670737, min_samples_split=0.013506162377752779, n_estimators=45\n",
      "[CV 3/8; 8/10] END min_samples_leaf=0.0004129137216396695, min_samples_split=0.004789233605970227, n_estimators=78;, score=0.435 total time=  59.4s\n",
      "[CV 2/8; 9/10] START min_samples_leaf=0.00014931091597670737, min_samples_split=0.013506162377752779, n_estimators=45\n",
      "[CV 2/8; 8/10] END min_samples_leaf=0.0004129137216396695, min_samples_split=0.004789233605970227, n_estimators=78;, score=0.431 total time=  59.6s\n",
      "[CV 3/8; 9/10] START min_samples_leaf=0.00014931091597670737, min_samples_split=0.013506162377752779, n_estimators=45\n",
      "[CV 6/8; 8/10] END min_samples_leaf=0.0004129137216396695, min_samples_split=0.004789233605970227, n_estimators=78;, score=0.423 total time=  59.2s\n",
      "[CV 4/8; 9/10] START min_samples_leaf=0.00014931091597670737, min_samples_split=0.013506162377752779, n_estimators=45\n",
      "[CV 4/8; 8/10] END min_samples_leaf=0.0004129137216396695, min_samples_split=0.004789233605970227, n_estimators=78;, score=0.432 total time=  59.6s\n",
      "[CV 5/8; 9/10] START min_samples_leaf=0.00014931091597670737, min_samples_split=0.013506162377752779, n_estimators=45\n",
      "[CV 7/8; 8/10] END min_samples_leaf=0.0004129137216396695, min_samples_split=0.004789233605970227, n_estimators=78;, score=0.434 total time=  59.6s\n",
      "[CV 6/8; 9/10] START min_samples_leaf=0.00014931091597670737, min_samples_split=0.013506162377752779, n_estimators=45\n",
      "[CV 5/8; 8/10] END min_samples_leaf=0.0004129137216396695, min_samples_split=0.004789233605970227, n_estimators=78;, score=0.437 total time=  59.9s\n",
      "[CV 7/8; 9/10] START min_samples_leaf=0.00014931091597670737, min_samples_split=0.013506162377752779, n_estimators=45\n",
      "[CV 8/8; 8/10] END min_samples_leaf=0.0004129137216396695, min_samples_split=0.004789233605970227, n_estimators=78;, score=0.437 total time=  59.8s\n",
      "[CV 8/8; 9/10] START min_samples_leaf=0.00014931091597670737, min_samples_split=0.013506162377752779, n_estimators=45\n",
      "[CV 1/8; 9/10] END min_samples_leaf=0.00014931091597670737, min_samples_split=0.013506162377752779, n_estimators=45;, score=0.402 total time=  29.5s\n",
      "[CV 2/8; 9/10] END min_samples_leaf=0.00014931091597670737, min_samples_split=0.013506162377752779, n_estimators=45;, score=0.403 total time=  29.4s\n",
      "[CV 1/8; 10/10] START min_samples_leaf=0.00012201597570394589, min_samples_split=0.0006038819178630597, n_estimators=40\n",
      "[CV 2/8; 10/10] START min_samples_leaf=0.00012201597570394589, min_samples_split=0.0006038819178630597, n_estimators=40\n",
      "[CV 3/8; 9/10] END min_samples_leaf=0.00014931091597670737, min_samples_split=0.013506162377752779, n_estimators=45;, score=0.412 total time=  29.3s\n",
      "[CV 3/8; 10/10] START min_samples_leaf=0.00012201597570394589, min_samples_split=0.0006038819178630597, n_estimators=40\n",
      "[CV 6/8; 9/10] END min_samples_leaf=0.00014931091597670737, min_samples_split=0.013506162377752779, n_estimators=45;, score=0.396 total time=  28.9s\n",
      "[CV 4/8; 10/10] START min_samples_leaf=0.00012201597570394589, min_samples_split=0.0006038819178630597, n_estimators=40\n",
      "[CV 5/8; 9/10] END min_samples_leaf=0.00014931091597670737, min_samples_split=0.013506162377752779, n_estimators=45;, score=0.404 total time=  29.4s\n",
      "[CV 4/8; 9/10] END min_samples_leaf=0.00014931091597670737, min_samples_split=0.013506162377752779, n_estimators=45;, score=0.405 total time=  29.5s\n",
      "[CV 5/8; 10/10] START min_samples_leaf=0.00012201597570394589, min_samples_split=0.0006038819178630597, n_estimators=40\n",
      "[CV 6/8; 10/10] START min_samples_leaf=0.00012201597570394589, min_samples_split=0.0006038819178630597, n_estimators=40\n",
      "[CV 7/8; 9/10] END min_samples_leaf=0.00014931091597670737, min_samples_split=0.013506162377752779, n_estimators=45;, score=0.414 total time=  29.0s\n",
      "[CV 7/8; 10/10] START min_samples_leaf=0.00012201597570394589, min_samples_split=0.0006038819178630597, n_estimators=40\n",
      "[CV 8/8; 9/10] END min_samples_leaf=0.00014931091597670737, min_samples_split=0.013506162377752779, n_estimators=45;, score=0.411 total time=  29.1s\n",
      "[CV 8/8; 10/10] START min_samples_leaf=0.00012201597570394589, min_samples_split=0.0006038819178630597, n_estimators=40\n",
      "[CV 2/8; 10/10] END min_samples_leaf=0.00012201597570394589, min_samples_split=0.0006038819178630597, n_estimators=40;, score=0.428 total time=  37.3s\n",
      "[CV 1/8; 10/10] END min_samples_leaf=0.00012201597570394589, min_samples_split=0.0006038819178630597, n_estimators=40;, score=0.434 total time=  37.4s\n",
      "[CV 3/8; 10/10] END min_samples_leaf=0.00012201597570394589, min_samples_split=0.0006038819178630597, n_estimators=40;, score=0.430 total time=  37.4s\n",
      "[CV 6/8; 10/10] END min_samples_leaf=0.00012201597570394589, min_samples_split=0.0006038819178630597, n_estimators=40;, score=0.430 total time=  37.1s\n",
      "[CV 4/8; 10/10] END min_samples_leaf=0.00012201597570394589, min_samples_split=0.0006038819178630597, n_estimators=40;, score=0.432 total time=  37.3s\n",
      "[CV 7/8; 10/10] END min_samples_leaf=0.00012201597570394589, min_samples_split=0.0006038819178630597, n_estimators=40;, score=0.429 total time=  37.2s\n",
      "[CV 5/8; 10/10] END min_samples_leaf=0.00012201597570394589, min_samples_split=0.0006038819178630597, n_estimators=40;, score=0.427 total time=  37.5s\n",
      "[CV 8/8; 10/10] END min_samples_leaf=0.00012201597570394589, min_samples_split=0.0006038819178630597, n_estimators=40;, score=0.428 total time=  36.9s\n"
     ]
    }
   ],
   "source": [
    "_ = estimator.fit(prepared_train_features, train_target)"
   ]
  },
  {
   "cell_type": "code",
   "execution_count": 131,
   "id": "60942518-a452-4fe9-9a8e-f451e7319dbd",
   "metadata": {},
   "outputs": [
    {
     "data": {
      "text/plain": [
       "0.4470185185185185"
      ]
     },
     "execution_count": 131,
     "metadata": {},
     "output_type": "execute_result"
    }
   ],
   "source": [
    "estimator.best_score_"
   ]
  },
  {
   "cell_type": "code",
   "execution_count": 132,
   "id": "cc5973c6-38bf-4e23-af78-a44f3b475245",
   "metadata": {},
   "outputs": [
    {
     "data": {
      "text/plain": [
       "{'min_samples_leaf': 0.00048658611411275555,\n",
       " 'min_samples_split': 0.0005870677503007284,\n",
       " 'n_estimators': 92}"
      ]
     },
     "execution_count": 132,
     "metadata": {},
     "output_type": "execute_result"
    }
   ],
   "source": [
    "estimator.best_params_"
   ]
  },
  {
   "cell_type": "code",
   "execution_count": 133,
   "id": "f34250b6-57b3-4d9b-a6ec-e061bb060241",
   "metadata": {},
   "outputs": [],
   "source": [
    "timestamp = time.strftime(\"%Y%m%d-%H%M%S\")\n",
    "_ = joblib.dump(estimator, f\"../results/models/randomized-search-cv-random-forest-classifier-{timestamp}.pkl\")"
   ]
  },
  {
   "cell_type": "markdown",
   "id": "04d930c4-e117-4b17-a491-b5e29428c69c",
   "metadata": {},
   "source": [
    "### Exercise:\n",
    "\n",
    "Fine-tune one of your models using Grid Search; fine-tune another model using Randomized Search."
   ]
  },
  {
   "cell_type": "markdown",
   "id": "e3c60520-bd29-4cbe-ba84-7095ecc35a82",
   "metadata": {},
   "source": [
    "# Analyze the best models and their errors"
   ]
  },
  {
   "cell_type": "code",
   "execution_count": 134,
   "id": "a3e023ff-15bb-46c8-9878-9a2575618330",
   "metadata": {},
   "outputs": [
    {
     "name": "stdout",
     "output_type": "stream",
     "text": [
      "Fitting 8 folds for each of 10 candidates, totalling 80 fits\n",
      "[CV 3/8; 1/10] START min_samples_leaf=0.0012740020283231776, min_samples_split=0.001251580605759922, n_estimators=143\n",
      "[CV 2/8; 1/10] START min_samples_leaf=0.0012740020283231776, min_samples_split=0.001251580605759922, n_estimators=143\n",
      "[CV 4/8; 1/10] START min_samples_leaf=0.0012740020283231776, min_samples_split=0.001251580605759922, n_estimators=143\n",
      "[CV 7/8; 1/10] START min_samples_leaf=0.0012740020283231776, min_samples_split=0.001251580605759922, n_estimators=143[CV 1/8; 1/10] START min_samples_leaf=0.0012740020283231776, min_samples_split=0.001251580605759922, n_estimators=143\n",
      "\n",
      "[CV 6/8; 1/10] START min_samples_leaf=0.0012740020283231776, min_samples_split=0.001251580605759922, n_estimators=143\n",
      "[CV 8/8; 1/10] START min_samples_leaf=0.0012740020283231776, min_samples_split=0.001251580605759922, n_estimators=143\n",
      "[CV 5/8; 1/10] START min_samples_leaf=0.0012740020283231776, min_samples_split=0.001251580605759922, n_estimators=143\n",
      "[CV 1/8; 2/10] START min_samples_leaf=0.0008252418664524474, min_samples_split=0.004825525201381483, n_estimators=12\n",
      "[CV 2/8; 2/10] START min_samples_leaf=0.0008252418664524474, min_samples_split=0.004825525201381483, n_estimators=12\n",
      "[CV 3/8; 2/10] START min_samples_leaf=0.0008252418664524474, min_samples_split=0.004825525201381483, n_estimators=12\n"
     ]
    },
    {
     "ename": "KeyboardInterrupt",
     "evalue": "",
     "output_type": "error",
     "traceback": [
      "\u001b[0;31m---------------------------------------------------------------------------\u001b[0m",
      "\u001b[0;31mKeyboardInterrupt\u001b[0m                         Traceback (most recent call last)",
      "Input \u001b[0;32mIn [134]\u001b[0m, in \u001b[0;36m<cell line: 1>\u001b[0;34m()\u001b[0m\n\u001b[0;32m----> 1\u001b[0m _ \u001b[38;5;241m=\u001b[39m \u001b[43mestimator\u001b[49m\u001b[38;5;241;43m.\u001b[39;49m\u001b[43mfit\u001b[49m\u001b[43m(\u001b[49m\u001b[43mprepared_train_features\u001b[49m\u001b[43m,\u001b[49m\u001b[43m \u001b[49m\u001b[43mtrain_target\u001b[49m\u001b[43m)\u001b[49m\n\u001b[1;32m      3\u001b[0m \u001b[38;5;66;03m# make predictions\u001b[39;00m\n\u001b[1;32m      4\u001b[0m predictions \u001b[38;5;241m=\u001b[39m estimator\u001b[38;5;241m.\u001b[39mpredict(prepared_train_features)\n",
      "File \u001b[0;32m~/Training/ai-micro-credentials/introduction-to-machine-learning/env/lib/python3.9/site-packages/sklearn/model_selection/_search.py:891\u001b[0m, in \u001b[0;36mBaseSearchCV.fit\u001b[0;34m(self, X, y, groups, **fit_params)\u001b[0m\n\u001b[1;32m    885\u001b[0m     results \u001b[38;5;241m=\u001b[39m \u001b[38;5;28mself\u001b[39m\u001b[38;5;241m.\u001b[39m_format_results(\n\u001b[1;32m    886\u001b[0m         all_candidate_params, n_splits, all_out, all_more_results\n\u001b[1;32m    887\u001b[0m     )\n\u001b[1;32m    889\u001b[0m     \u001b[38;5;28;01mreturn\u001b[39;00m results\n\u001b[0;32m--> 891\u001b[0m \u001b[38;5;28;43mself\u001b[39;49m\u001b[38;5;241;43m.\u001b[39;49m\u001b[43m_run_search\u001b[49m\u001b[43m(\u001b[49m\u001b[43mevaluate_candidates\u001b[49m\u001b[43m)\u001b[49m\n\u001b[1;32m    893\u001b[0m \u001b[38;5;66;03m# multimetric is determined here because in the case of a callable\u001b[39;00m\n\u001b[1;32m    894\u001b[0m \u001b[38;5;66;03m# self.scoring the return type is only known after calling\u001b[39;00m\n\u001b[1;32m    895\u001b[0m first_test_score \u001b[38;5;241m=\u001b[39m all_out[\u001b[38;5;241m0\u001b[39m][\u001b[38;5;124m\"\u001b[39m\u001b[38;5;124mtest_scores\u001b[39m\u001b[38;5;124m\"\u001b[39m]\n",
      "File \u001b[0;32m~/Training/ai-micro-credentials/introduction-to-machine-learning/env/lib/python3.9/site-packages/sklearn/model_selection/_search.py:1766\u001b[0m, in \u001b[0;36mRandomizedSearchCV._run_search\u001b[0;34m(self, evaluate_candidates)\u001b[0m\n\u001b[1;32m   1764\u001b[0m \u001b[38;5;28;01mdef\u001b[39;00m \u001b[38;5;21m_run_search\u001b[39m(\u001b[38;5;28mself\u001b[39m, evaluate_candidates):\n\u001b[1;32m   1765\u001b[0m     \u001b[38;5;124;03m\"\"\"Search n_iter candidates from param_distributions\"\"\"\u001b[39;00m\n\u001b[0;32m-> 1766\u001b[0m     \u001b[43mevaluate_candidates\u001b[49m\u001b[43m(\u001b[49m\n\u001b[1;32m   1767\u001b[0m \u001b[43m        \u001b[49m\u001b[43mParameterSampler\u001b[49m\u001b[43m(\u001b[49m\n\u001b[1;32m   1768\u001b[0m \u001b[43m            \u001b[49m\u001b[38;5;28;43mself\u001b[39;49m\u001b[38;5;241;43m.\u001b[39;49m\u001b[43mparam_distributions\u001b[49m\u001b[43m,\u001b[49m\u001b[43m \u001b[49m\u001b[38;5;28;43mself\u001b[39;49m\u001b[38;5;241;43m.\u001b[39;49m\u001b[43mn_iter\u001b[49m\u001b[43m,\u001b[49m\u001b[43m \u001b[49m\u001b[43mrandom_state\u001b[49m\u001b[38;5;241;43m=\u001b[39;49m\u001b[38;5;28;43mself\u001b[39;49m\u001b[38;5;241;43m.\u001b[39;49m\u001b[43mrandom_state\u001b[49m\n\u001b[1;32m   1769\u001b[0m \u001b[43m        \u001b[49m\u001b[43m)\u001b[49m\n\u001b[1;32m   1770\u001b[0m \u001b[43m    \u001b[49m\u001b[43m)\u001b[49m\n",
      "File \u001b[0;32m~/Training/ai-micro-credentials/introduction-to-machine-learning/env/lib/python3.9/site-packages/sklearn/model_selection/_search.py:838\u001b[0m, in \u001b[0;36mBaseSearchCV.fit.<locals>.evaluate_candidates\u001b[0;34m(candidate_params, cv, more_results)\u001b[0m\n\u001b[1;32m    830\u001b[0m \u001b[38;5;28;01mif\u001b[39;00m \u001b[38;5;28mself\u001b[39m\u001b[38;5;241m.\u001b[39mverbose \u001b[38;5;241m>\u001b[39m \u001b[38;5;241m0\u001b[39m:\n\u001b[1;32m    831\u001b[0m     \u001b[38;5;28mprint\u001b[39m(\n\u001b[1;32m    832\u001b[0m         \u001b[38;5;124m\"\u001b[39m\u001b[38;5;124mFitting \u001b[39m\u001b[38;5;132;01m{0}\u001b[39;00m\u001b[38;5;124m folds for each of \u001b[39m\u001b[38;5;132;01m{1}\u001b[39;00m\u001b[38;5;124m candidates,\u001b[39m\u001b[38;5;124m\"\u001b[39m\n\u001b[1;32m    833\u001b[0m         \u001b[38;5;124m\"\u001b[39m\u001b[38;5;124m totalling \u001b[39m\u001b[38;5;132;01m{2}\u001b[39;00m\u001b[38;5;124m fits\u001b[39m\u001b[38;5;124m\"\u001b[39m\u001b[38;5;241m.\u001b[39mformat(\n\u001b[1;32m    834\u001b[0m             n_splits, n_candidates, n_candidates \u001b[38;5;241m*\u001b[39m n_splits\n\u001b[1;32m    835\u001b[0m         )\n\u001b[1;32m    836\u001b[0m     )\n\u001b[0;32m--> 838\u001b[0m out \u001b[38;5;241m=\u001b[39m \u001b[43mparallel\u001b[49m\u001b[43m(\u001b[49m\n\u001b[1;32m    839\u001b[0m \u001b[43m    \u001b[49m\u001b[43mdelayed\u001b[49m\u001b[43m(\u001b[49m\u001b[43m_fit_and_score\u001b[49m\u001b[43m)\u001b[49m\u001b[43m(\u001b[49m\n\u001b[1;32m    840\u001b[0m \u001b[43m        \u001b[49m\u001b[43mclone\u001b[49m\u001b[43m(\u001b[49m\u001b[43mbase_estimator\u001b[49m\u001b[43m)\u001b[49m\u001b[43m,\u001b[49m\n\u001b[1;32m    841\u001b[0m \u001b[43m        \u001b[49m\u001b[43mX\u001b[49m\u001b[43m,\u001b[49m\n\u001b[1;32m    842\u001b[0m \u001b[43m        \u001b[49m\u001b[43my\u001b[49m\u001b[43m,\u001b[49m\n\u001b[1;32m    843\u001b[0m \u001b[43m        \u001b[49m\u001b[43mtrain\u001b[49m\u001b[38;5;241;43m=\u001b[39;49m\u001b[43mtrain\u001b[49m\u001b[43m,\u001b[49m\n\u001b[1;32m    844\u001b[0m \u001b[43m        \u001b[49m\u001b[43mtest\u001b[49m\u001b[38;5;241;43m=\u001b[39;49m\u001b[43mtest\u001b[49m\u001b[43m,\u001b[49m\n\u001b[1;32m    845\u001b[0m \u001b[43m        \u001b[49m\u001b[43mparameters\u001b[49m\u001b[38;5;241;43m=\u001b[39;49m\u001b[43mparameters\u001b[49m\u001b[43m,\u001b[49m\n\u001b[1;32m    846\u001b[0m \u001b[43m        \u001b[49m\u001b[43msplit_progress\u001b[49m\u001b[38;5;241;43m=\u001b[39;49m\u001b[43m(\u001b[49m\u001b[43msplit_idx\u001b[49m\u001b[43m,\u001b[49m\u001b[43m \u001b[49m\u001b[43mn_splits\u001b[49m\u001b[43m)\u001b[49m\u001b[43m,\u001b[49m\n\u001b[1;32m    847\u001b[0m \u001b[43m        \u001b[49m\u001b[43mcandidate_progress\u001b[49m\u001b[38;5;241;43m=\u001b[39;49m\u001b[43m(\u001b[49m\u001b[43mcand_idx\u001b[49m\u001b[43m,\u001b[49m\u001b[43m \u001b[49m\u001b[43mn_candidates\u001b[49m\u001b[43m)\u001b[49m\u001b[43m,\u001b[49m\n\u001b[1;32m    848\u001b[0m \u001b[43m        \u001b[49m\u001b[38;5;241;43m*\u001b[39;49m\u001b[38;5;241;43m*\u001b[39;49m\u001b[43mfit_and_score_kwargs\u001b[49m\u001b[43m,\u001b[49m\n\u001b[1;32m    849\u001b[0m \u001b[43m    \u001b[49m\u001b[43m)\u001b[49m\n\u001b[1;32m    850\u001b[0m \u001b[43m    \u001b[49m\u001b[38;5;28;43;01mfor\u001b[39;49;00m\u001b[43m \u001b[49m\u001b[43m(\u001b[49m\u001b[43mcand_idx\u001b[49m\u001b[43m,\u001b[49m\u001b[43m \u001b[49m\u001b[43mparameters\u001b[49m\u001b[43m)\u001b[49m\u001b[43m,\u001b[49m\u001b[43m \u001b[49m\u001b[43m(\u001b[49m\u001b[43msplit_idx\u001b[49m\u001b[43m,\u001b[49m\u001b[43m \u001b[49m\u001b[43m(\u001b[49m\u001b[43mtrain\u001b[49m\u001b[43m,\u001b[49m\u001b[43m \u001b[49m\u001b[43mtest\u001b[49m\u001b[43m)\u001b[49m\u001b[43m)\u001b[49m\u001b[43m \u001b[49m\u001b[38;5;129;43;01min\u001b[39;49;00m\u001b[43m \u001b[49m\u001b[43mproduct\u001b[49m\u001b[43m(\u001b[49m\n\u001b[1;32m    851\u001b[0m \u001b[43m        \u001b[49m\u001b[38;5;28;43menumerate\u001b[39;49m\u001b[43m(\u001b[49m\u001b[43mcandidate_params\u001b[49m\u001b[43m)\u001b[49m\u001b[43m,\u001b[49m\u001b[43m \u001b[49m\u001b[38;5;28;43menumerate\u001b[39;49m\u001b[43m(\u001b[49m\u001b[43mcv\u001b[49m\u001b[38;5;241;43m.\u001b[39;49m\u001b[43msplit\u001b[49m\u001b[43m(\u001b[49m\u001b[43mX\u001b[49m\u001b[43m,\u001b[49m\u001b[43m \u001b[49m\u001b[43my\u001b[49m\u001b[43m,\u001b[49m\u001b[43m \u001b[49m\u001b[43mgroups\u001b[49m\u001b[43m)\u001b[49m\u001b[43m)\u001b[49m\n\u001b[1;32m    852\u001b[0m \u001b[43m    \u001b[49m\u001b[43m)\u001b[49m\n\u001b[1;32m    853\u001b[0m \u001b[43m\u001b[49m\u001b[43m)\u001b[49m\n\u001b[1;32m    855\u001b[0m \u001b[38;5;28;01mif\u001b[39;00m \u001b[38;5;28mlen\u001b[39m(out) \u001b[38;5;241m<\u001b[39m \u001b[38;5;241m1\u001b[39m:\n\u001b[1;32m    856\u001b[0m     \u001b[38;5;28;01mraise\u001b[39;00m \u001b[38;5;167;01mValueError\u001b[39;00m(\n\u001b[1;32m    857\u001b[0m         \u001b[38;5;124m\"\u001b[39m\u001b[38;5;124mNo fits were performed. \u001b[39m\u001b[38;5;124m\"\u001b[39m\n\u001b[1;32m    858\u001b[0m         \u001b[38;5;124m\"\u001b[39m\u001b[38;5;124mWas the CV iterator empty? \u001b[39m\u001b[38;5;124m\"\u001b[39m\n\u001b[1;32m    859\u001b[0m         \u001b[38;5;124m\"\u001b[39m\u001b[38;5;124mWere there no candidates?\u001b[39m\u001b[38;5;124m\"\u001b[39m\n\u001b[1;32m    860\u001b[0m     )\n",
      "File \u001b[0;32m~/Training/ai-micro-credentials/introduction-to-machine-learning/env/lib/python3.9/site-packages/joblib/parallel.py:1056\u001b[0m, in \u001b[0;36mParallel.__call__\u001b[0;34m(self, iterable)\u001b[0m\n\u001b[1;32m   1053\u001b[0m     \u001b[38;5;28mself\u001b[39m\u001b[38;5;241m.\u001b[39m_iterating \u001b[38;5;241m=\u001b[39m \u001b[38;5;28;01mFalse\u001b[39;00m\n\u001b[1;32m   1055\u001b[0m \u001b[38;5;28;01mwith\u001b[39;00m \u001b[38;5;28mself\u001b[39m\u001b[38;5;241m.\u001b[39m_backend\u001b[38;5;241m.\u001b[39mretrieval_context():\n\u001b[0;32m-> 1056\u001b[0m     \u001b[38;5;28;43mself\u001b[39;49m\u001b[38;5;241;43m.\u001b[39;49m\u001b[43mretrieve\u001b[49m\u001b[43m(\u001b[49m\u001b[43m)\u001b[49m\n\u001b[1;32m   1057\u001b[0m \u001b[38;5;66;03m# Make sure that we get a last message telling us we are done\u001b[39;00m\n\u001b[1;32m   1058\u001b[0m elapsed_time \u001b[38;5;241m=\u001b[39m time\u001b[38;5;241m.\u001b[39mtime() \u001b[38;5;241m-\u001b[39m \u001b[38;5;28mself\u001b[39m\u001b[38;5;241m.\u001b[39m_start_time\n",
      "File \u001b[0;32m~/Training/ai-micro-credentials/introduction-to-machine-learning/env/lib/python3.9/site-packages/joblib/parallel.py:935\u001b[0m, in \u001b[0;36mParallel.retrieve\u001b[0;34m(self)\u001b[0m\n\u001b[1;32m    933\u001b[0m \u001b[38;5;28;01mtry\u001b[39;00m:\n\u001b[1;32m    934\u001b[0m     \u001b[38;5;28;01mif\u001b[39;00m \u001b[38;5;28mgetattr\u001b[39m(\u001b[38;5;28mself\u001b[39m\u001b[38;5;241m.\u001b[39m_backend, \u001b[38;5;124m'\u001b[39m\u001b[38;5;124msupports_timeout\u001b[39m\u001b[38;5;124m'\u001b[39m, \u001b[38;5;28;01mFalse\u001b[39;00m):\n\u001b[0;32m--> 935\u001b[0m         \u001b[38;5;28mself\u001b[39m\u001b[38;5;241m.\u001b[39m_output\u001b[38;5;241m.\u001b[39mextend(\u001b[43mjob\u001b[49m\u001b[38;5;241;43m.\u001b[39;49m\u001b[43mget\u001b[49m\u001b[43m(\u001b[49m\u001b[43mtimeout\u001b[49m\u001b[38;5;241;43m=\u001b[39;49m\u001b[38;5;28;43mself\u001b[39;49m\u001b[38;5;241;43m.\u001b[39;49m\u001b[43mtimeout\u001b[49m\u001b[43m)\u001b[49m)\n\u001b[1;32m    936\u001b[0m     \u001b[38;5;28;01melse\u001b[39;00m:\n\u001b[1;32m    937\u001b[0m         \u001b[38;5;28mself\u001b[39m\u001b[38;5;241m.\u001b[39m_output\u001b[38;5;241m.\u001b[39mextend(job\u001b[38;5;241m.\u001b[39mget())\n",
      "File \u001b[0;32m~/Training/ai-micro-credentials/introduction-to-machine-learning/env/lib/python3.9/site-packages/joblib/_parallel_backends.py:542\u001b[0m, in \u001b[0;36mLokyBackend.wrap_future_result\u001b[0;34m(future, timeout)\u001b[0m\n\u001b[1;32m    539\u001b[0m \u001b[38;5;124;03m\"\"\"Wrapper for Future.result to implement the same behaviour as\u001b[39;00m\n\u001b[1;32m    540\u001b[0m \u001b[38;5;124;03mAsyncResults.get from multiprocessing.\"\"\"\u001b[39;00m\n\u001b[1;32m    541\u001b[0m \u001b[38;5;28;01mtry\u001b[39;00m:\n\u001b[0;32m--> 542\u001b[0m     \u001b[38;5;28;01mreturn\u001b[39;00m \u001b[43mfuture\u001b[49m\u001b[38;5;241;43m.\u001b[39;49m\u001b[43mresult\u001b[49m\u001b[43m(\u001b[49m\u001b[43mtimeout\u001b[49m\u001b[38;5;241;43m=\u001b[39;49m\u001b[43mtimeout\u001b[49m\u001b[43m)\u001b[49m\n\u001b[1;32m    543\u001b[0m \u001b[38;5;28;01mexcept\u001b[39;00m CfTimeoutError \u001b[38;5;28;01mas\u001b[39;00m e:\n\u001b[1;32m    544\u001b[0m     \u001b[38;5;28;01mraise\u001b[39;00m \u001b[38;5;167;01mTimeoutError\u001b[39;00m \u001b[38;5;28;01mfrom\u001b[39;00m \u001b[38;5;21;01me\u001b[39;00m\n",
      "File \u001b[0;32m~/Training/ai-micro-credentials/introduction-to-machine-learning/env/lib/python3.9/concurrent/futures/_base.py:441\u001b[0m, in \u001b[0;36mFuture.result\u001b[0;34m(self, timeout)\u001b[0m\n\u001b[1;32m    438\u001b[0m \u001b[38;5;28;01melif\u001b[39;00m \u001b[38;5;28mself\u001b[39m\u001b[38;5;241m.\u001b[39m_state \u001b[38;5;241m==\u001b[39m FINISHED:\n\u001b[1;32m    439\u001b[0m     \u001b[38;5;28;01mreturn\u001b[39;00m \u001b[38;5;28mself\u001b[39m\u001b[38;5;241m.\u001b[39m__get_result()\n\u001b[0;32m--> 441\u001b[0m \u001b[38;5;28;43mself\u001b[39;49m\u001b[38;5;241;43m.\u001b[39;49m\u001b[43m_condition\u001b[49m\u001b[38;5;241;43m.\u001b[39;49m\u001b[43mwait\u001b[49m\u001b[43m(\u001b[49m\u001b[43mtimeout\u001b[49m\u001b[43m)\u001b[49m\n\u001b[1;32m    443\u001b[0m \u001b[38;5;28;01mif\u001b[39;00m \u001b[38;5;28mself\u001b[39m\u001b[38;5;241m.\u001b[39m_state \u001b[38;5;129;01min\u001b[39;00m [CANCELLED, CANCELLED_AND_NOTIFIED]:\n\u001b[1;32m    444\u001b[0m     \u001b[38;5;28;01mraise\u001b[39;00m CancelledError()\n",
      "File \u001b[0;32m~/Training/ai-micro-credentials/introduction-to-machine-learning/env/lib/python3.9/threading.py:312\u001b[0m, in \u001b[0;36mCondition.wait\u001b[0;34m(self, timeout)\u001b[0m\n\u001b[1;32m    310\u001b[0m \u001b[38;5;28;01mtry\u001b[39;00m:    \u001b[38;5;66;03m# restore state no matter what (e.g., KeyboardInterrupt)\u001b[39;00m\n\u001b[1;32m    311\u001b[0m     \u001b[38;5;28;01mif\u001b[39;00m timeout \u001b[38;5;129;01mis\u001b[39;00m \u001b[38;5;28;01mNone\u001b[39;00m:\n\u001b[0;32m--> 312\u001b[0m         \u001b[43mwaiter\u001b[49m\u001b[38;5;241;43m.\u001b[39;49m\u001b[43macquire\u001b[49m\u001b[43m(\u001b[49m\u001b[43m)\u001b[49m\n\u001b[1;32m    313\u001b[0m         gotit \u001b[38;5;241m=\u001b[39m \u001b[38;5;28;01mTrue\u001b[39;00m\n\u001b[1;32m    314\u001b[0m     \u001b[38;5;28;01melse\u001b[39;00m:\n",
      "\u001b[0;31mKeyboardInterrupt\u001b[0m: "
     ]
    }
   ],
   "source": [
    "# make predictions\n",
    "predictions = (estimator.best_estimator\n",
    "                        .predict(prepared_train_features))\n",
    "\n",
    "# generate a classification report\n",
    "classification_report = metrics.classification_report(\n",
    "    train_target,\n",
    "    predictions,\n",
    ")\n",
    "print(classification_report)"
   ]
  },
  {
   "cell_type": "code",
   "execution_count": null,
   "id": "581e6bfb-8317-4864-b64f-3c6d0787a48a",
   "metadata": {},
   "outputs": [],
   "source": []
  },
  {
   "cell_type": "markdown",
   "id": "efe7255e-4f60-469c-b541-f6935d9cb6e1",
   "metadata": {},
   "source": [
    "# Evaluate your models on the test dataset"
   ]
  },
  {
   "cell_type": "code",
   "execution_count": null,
   "id": "8a73ca70-1d2b-4053-b500-5d0be0c19f62",
   "metadata": {},
   "outputs": [],
   "source": []
  }
 ],
 "metadata": {
  "kernelspec": {
   "display_name": "Python 3 (ipykernel)",
   "language": "python",
   "name": "python3"
  },
  "language_info": {
   "codemirror_mode": {
    "name": "ipython",
    "version": 3
   },
   "file_extension": ".py",
   "mimetype": "text/x-python",
   "name": "python",
   "nbconvert_exporter": "python",
   "pygments_lexer": "ipython3",
   "version": "3.9.10"
  }
 },
 "nbformat": 4,
 "nbformat_minor": 5
}
