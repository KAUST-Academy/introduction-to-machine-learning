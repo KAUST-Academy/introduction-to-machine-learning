{
 "cells": [
  {
   "cell_type": "markdown",
   "id": "s1hexuqJMoiT",
   "metadata": {
    "id": "s1hexuqJMoiT"
   },
   "source": [
    "# Running and Quitting"
   ]
  },
  {
   "cell_type": "code",
   "execution_count": 1,
   "id": "v2uSMAlTMunh",
   "metadata": {
    "colab": {
     "base_uri": "https://localhost:8080/"
    },
    "id": "v2uSMAlTMunh",
    "outputId": "5ca355e2-b9df-4e8c-9206-139efd78b309"
   },
   "outputs": [
    {
     "data": {
      "text/plain": [
       "4"
      ]
     },
     "execution_count": 1,
     "metadata": {},
     "output_type": "execute_result"
    }
   ],
   "source": [
    "2 + 2"
   ]
  },
  {
   "cell_type": "markdown",
   "id": "FDgzmjtOOKvu",
   "metadata": {
    "id": "FDgzmjtOOKvu"
   },
   "source": [
    "## Markdown does most of what HTML does!\n",
    "\n",
    "This is an unordered list\n",
    "\n",
    "* item 1\n",
    "* item 2\n",
    "* item 3\n",
    "\n",
    "This is an ordered list\n",
    "\n",
    "1. number 1\n",
    "2. number 2\n",
    "3. number 3\n",
    "\n",
    "# This is a heading!\n",
    "\n",
    "## This is a sub-heading!\n",
    "\n",
    "### This is a sub-sub-heading!\n",
    "\n",
    "You can also create nestes lists.\n",
    "\n",
    "* item 1\n",
    "  * sub-item 1\n",
    "\n",
    "* item 1\n",
    "  1. number 1\n",
    "\n",
    "You can also embed a [link](https://software-carpentry.org/lessons/)!"
   ]
  },
  {
   "cell_type": "code",
   "execution_count": 2,
   "id": "AMijPpJgNurU",
   "metadata": {
    "colab": {
     "base_uri": "https://localhost:8080/"
    },
    "id": "AMijPpJgNurU",
    "outputId": "47ba3042-28aa-4558-f6d5-d35a667b3ab3"
   },
   "outputs": [
    {
     "data": {
      "text/plain": [
       "20"
      ]
     },
     "execution_count": 2,
     "metadata": {},
     "output_type": "execute_result"
    }
   ],
   "source": [
    "7 + 3\n",
    "2 + 2\n",
    "4 * 5"
   ]
  },
  {
   "cell_type": "code",
   "execution_count": 3,
   "id": "sIC2tPmBS_u5",
   "metadata": {
    "colab": {
     "base_uri": "https://localhost:8080/"
    },
    "id": "sIC2tPmBS_u5",
    "outputId": "86803550-330b-4dcd-8aa2-d212aca8999c"
   },
   "outputs": [
    {
     "name": "stdout",
     "output_type": "stream",
     "text": [
      "54\n"
     ]
    }
   ],
   "source": [
    "x = 6 * 7 + 12\n",
    "print(x)"
   ]
  },
  {
   "cell_type": "markdown",
   "id": "tI-XuAWqTQPI",
   "metadata": {
    "id": "tI-XuAWqTQPI"
   },
   "source": [
    "x = 6 * 7 + 12\n",
    "print(x)\n",
    "\n",
    "x = 6 * 7 + 12\n",
    "\n",
    "print(x)\n",
    "\n",
    "## Question: Can you access the value of a Python variable inside a markdown cell?\n",
    "\n",
    "## Answer: ??? {{x}}"
   ]
  },
  {
   "cell_type": "markdown",
   "id": "hlm-Y1RjUCF1",
   "metadata": {
    "id": "hlm-Y1RjUCF1"
   },
   "source": [
    "## Mathematics in text cells using LaTex\n",
    "\n",
    "$\\sum_{i=1}^{N} 2^{-i} \\approx 1$\n",
    "\n",
    "If you want the expression centered using two dollar symobls $$ to surround the expression (instead of only one)...\n",
    "\n",
    "$$ \\sum_{i=1}^{N} 2^{-i} \\approx 1 $$\n",
    "\n"
   ]
  },
  {
   "cell_type": "markdown",
   "id": "qexI7FgqVUQK",
   "metadata": {
    "id": "qexI7FgqVUQK"
   },
   "source": [
    "# Variables and Assignment"
   ]
  },
  {
   "cell_type": "code",
   "execution_count": 4,
   "id": "E2XrH0yBTKsf",
   "metadata": {
    "id": "E2XrH0yBTKsf"
   },
   "outputs": [],
   "source": [
    "age = 42"
   ]
  },
  {
   "cell_type": "code",
   "execution_count": 5,
   "id": "3H-r5CJPV0WF",
   "metadata": {
    "id": "3H-r5CJPV0WF"
   },
   "outputs": [],
   "source": [
    "first_name = \"Ahmed\""
   ]
  },
  {
   "cell_type": "markdown",
   "id": "bfnWoxafWXJw",
   "metadata": {
    "id": "bfnWoxafWXJw"
   },
   "source": [
    "The below are conventions for defining \"protected\" or \"private\" variables. But this is just convention neither of these are really protected/private. "
   ]
  },
  {
   "cell_type": "code",
   "execution_count": 7,
   "id": "aCt9hV71V_0N",
   "metadata": {
    "id": "aCt9hV71V_0N"
   },
   "outputs": [],
   "source": [
    "_protected_variable = 42\n",
    "__private_variable = 88"
   ]
  },
  {
   "cell_type": "code",
   "execution_count": 8,
   "id": "i2x8HlfkWWPn",
   "metadata": {
    "colab": {
     "base_uri": "https://localhost:8080/"
    },
    "id": "i2x8HlfkWWPn",
    "outputId": "64552b85-cde6-4c0d-fe50-77ac5567d03d"
   },
   "outputs": [
    {
     "data": {
      "text/plain": [
       "-5"
      ]
     },
     "execution_count": 8,
     "metadata": {},
     "output_type": "execute_result"
    }
   ],
   "source": [
    "3 + 4 \n",
    "5 * 5\n",
    "2 - 7"
   ]
  },
  {
   "cell_type": "markdown",
   "id": "9iZeQTzLW7e6",
   "metadata": {
    "id": "9iZeQTzLW7e6"
   },
   "source": [
    "Use print function to display values..."
   ]
  },
  {
   "cell_type": "code",
   "execution_count": 9,
   "id": "K5MehzQ4W0fG",
   "metadata": {
    "colab": {
     "base_uri": "https://localhost:8080/"
    },
    "id": "K5MehzQ4W0fG",
    "outputId": "c00dad36-0d5a-4cb4-f943-e6dfa8bf5935"
   },
   "outputs": [
    {
     "name": "stdout",
     "output_type": "stream",
     "text": [
      "7\n",
      "25\n",
      "-5\n"
     ]
    }
   ],
   "source": [
    "print(3 + 4) \n",
    "print(5 * 5)\n",
    "print(2 - 7)"
   ]
  },
  {
   "cell_type": "code",
   "execution_count": 13,
   "id": "FuZ008c2XCb1",
   "metadata": {
    "colab": {
     "base_uri": "https://localhost:8080/"
    },
    "id": "FuZ008c2XCb1",
    "outputId": "4f95880d-460e-4081-ce06-9c3bd56029aa"
   },
   "outputs": [
    {
     "name": "stdout",
     "output_type": "stream",
     "text": [
      "Ahmed is 42 years old\n"
     ]
    }
   ],
   "source": [
    "print(first_name, \"is\", age, \"years old\", sep=\" \")"
   ]
  },
  {
   "cell_type": "code",
   "execution_count": 14,
   "id": "t5WUJ3h2Xcyi",
   "metadata": {
    "colab": {
     "base_uri": "https://localhost:8080/",
     "height": 201
    },
    "id": "t5WUJ3h2Xcyi",
    "outputId": "383b11d5-ae72-474b-e246-75ca4a7076c2"
   },
   "outputs": [
    {
     "ename": "NameError",
     "evalue": "ignored",
     "output_type": "error",
     "traceback": [
      "\u001b[0;31m---------------------------------------------------------------------------\u001b[0m",
      "\u001b[0;31mNameError\u001b[0m                                 Traceback (most recent call last)",
      "\u001b[0;32m<ipython-input-14-a637c5453549>\u001b[0m in \u001b[0;36m<module>\u001b[0;34m\u001b[0m\n\u001b[0;32m----> 1\u001b[0;31m \u001b[0mprint\u001b[0m\u001b[0;34m(\u001b[0m\u001b[0mlast_name\u001b[0m\u001b[0;34m)\u001b[0m\u001b[0;34m\u001b[0m\u001b[0;34m\u001b[0m\u001b[0m\n\u001b[0m",
      "\u001b[0;31mNameError\u001b[0m: name 'last_name' is not defined"
     ]
    }
   ],
   "source": [
    "print(last_name)"
   ]
  },
  {
   "cell_type": "code",
   "execution_count": 16,
   "id": "TZK1EgWHX2Ma",
   "metadata": {
    "id": "TZK1EgWHX2Ma"
   },
   "outputs": [],
   "source": [
    "age = age + 1"
   ]
  },
  {
   "cell_type": "code",
   "execution_count": 17,
   "id": "VEQdkUkvYaeC",
   "metadata": {
    "colab": {
     "base_uri": "https://localhost:8080/"
    },
    "id": "VEQdkUkvYaeC",
    "outputId": "5ac20b76-9140-4487-d74e-ba26d118db4f"
   },
   "outputs": [
    {
     "name": "stdout",
     "output_type": "stream",
     "text": [
      "Ahmed age next year will be 43\n"
     ]
    }
   ],
   "source": [
    "print(first_name, \"age next year will be\", age)"
   ]
  },
  {
   "cell_type": "code",
   "execution_count": 18,
   "id": "vHlgS2ELYpHv",
   "metadata": {
    "colab": {
     "base_uri": "https://localhost:8080/"
    },
    "id": "vHlgS2ELYpHv",
    "outputId": "4a06e168-7049-4711-da63-11e2cd486cd3"
   },
   "outputs": [
    {
     "name": "stdout",
     "output_type": "stream",
     "text": [
      "b\n"
     ]
    }
   ],
   "source": [
    "atom_name = \"boron\"\n",
    "print(atom_name[0])"
   ]
  },
  {
   "cell_type": "code",
   "execution_count": 19,
   "id": "vbRMasOyY9_H",
   "metadata": {
    "colab": {
     "base_uri": "https://localhost:8080/",
     "height": 36
    },
    "id": "vbRMasOyY9_H",
    "outputId": "a237553c-e27a-4a85-cc62-3d59a3e98904"
   },
   "outputs": [
    {
     "data": {
      "application/vnd.google.colaboratory.intrinsic+json": {
       "type": "string"
      },
      "text/plain": [
       "'bor'"
      ]
     },
     "execution_count": 19,
     "metadata": {},
     "output_type": "execute_result"
    }
   ],
   "source": [
    "atom_name[0:3]"
   ]
  },
  {
   "cell_type": "code",
   "execution_count": 20,
   "id": "yZHkqzjfZSJj",
   "metadata": {
    "colab": {
     "base_uri": "https://localhost:8080/"
    },
    "id": "yZHkqzjfZSJj",
    "outputId": "a59ee538-2fa8-40d1-8e61-f008c980cf44"
   },
   "outputs": [
    {
     "name": "stdout",
     "output_type": "stream",
     "text": [
      "n\n"
     ]
    }
   ],
   "source": [
    "last_letter = atom_name[-1]\n",
    "print(last_letter)"
   ]
  },
  {
   "cell_type": "code",
   "execution_count": 22,
   "id": "-DYENeqrZoAZ",
   "metadata": {
    "colab": {
     "base_uri": "https://localhost:8080/"
    },
    "id": "-DYENeqrZoAZ",
    "outputId": "93e7278e-c8b0-4d4a-c31c-57d9890434c3"
   },
   "outputs": [
    {
     "name": "stdout",
     "output_type": "stream",
     "text": [
      "length is 5\n"
     ]
    }
   ],
   "source": [
    "print(\"length is\", len(atom_name))"
   ]
  },
  {
   "cell_type": "code",
   "execution_count": 23,
   "id": "rEjnlzMIZr9u",
   "metadata": {
    "colab": {
     "base_uri": "https://localhost:8080/"
    },
    "id": "rEjnlzMIZr9u",
    "outputId": "e5d3098e-3f76-4a50-dd09-fffcbdd63139"
   },
   "outputs": [
    {
     "name": "stdout",
     "output_type": "stream",
     "text": [
      "Object `swap` not found.\n"
     ]
    }
   ],
   "source": [
    "swap?"
   ]
  },
  {
   "cell_type": "code",
   "execution_count": 24,
   "id": "SujC2Sjcc2Ct",
   "metadata": {
    "id": "SujC2Sjcc2Ct"
   },
   "outputs": [],
   "source": [
    "species_name = \"Acacia buxifolia\""
   ]
  },
  {
   "cell_type": "code",
   "execution_count": 25,
   "id": "v_M85j4vdSKr",
   "metadata": {
    "colab": {
     "base_uri": "https://localhost:8080/",
     "height": 36
    },
    "id": "v_M85j4vdSKr",
    "outputId": "07341173-31c9-40c6-c15e-38828676217e"
   },
   "outputs": [
    {
     "data": {
      "application/vnd.google.colaboratory.intrinsic+json": {
       "type": "string"
      },
      "text/plain": [
       "'acia b'"
      ]
     },
     "execution_count": 25,
     "metadata": {},
     "output_type": "execute_result"
    }
   ],
   "source": [
    "species_name[2:8]"
   ]
  },
  {
   "cell_type": "code",
   "execution_count": 26,
   "id": "K3Sa2xCsdXQ9",
   "metadata": {
    "colab": {
     "base_uri": "https://localhost:8080/",
     "height": 36
    },
    "id": "K3Sa2xCsdXQ9",
    "outputId": "9f55bc1b-c2a8-48af-bfc0-d7a08fa976a3"
   },
   "outputs": [
    {
     "data": {
      "application/vnd.google.colaboratory.intrinsic+json": {
       "type": "string"
      },
      "text/plain": [
       "'folia'"
      ]
     },
     "execution_count": 26,
     "metadata": {},
     "output_type": "execute_result"
    }
   ],
   "source": [
    "species_name[11:]"
   ]
  },
  {
   "cell_type": "code",
   "execution_count": 27,
   "id": "g_9UzugYdk2h",
   "metadata": {
    "colab": {
     "base_uri": "https://localhost:8080/",
     "height": 36
    },
    "id": "g_9UzugYdk2h",
    "outputId": "4d7319a4-33db-4f86-ff2d-7ca204504733"
   },
   "outputs": [
    {
     "data": {
      "application/vnd.google.colaboratory.intrinsic+json": {
       "type": "string"
      },
      "text/plain": [
       "'Acac'"
      ]
     },
     "execution_count": 27,
     "metadata": {},
     "output_type": "execute_result"
    }
   ],
   "source": [
    "species_name[:4]"
   ]
  },
  {
   "cell_type": "code",
   "execution_count": 28,
   "id": "TKqId00xdtvl",
   "metadata": {
    "colab": {
     "base_uri": "https://localhost:8080/",
     "height": 36
    },
    "id": "TKqId00xdtvl",
    "outputId": "4a001508-73ef-45fb-f5f9-0c9380f00d05"
   },
   "outputs": [
    {
     "data": {
      "application/vnd.google.colaboratory.intrinsic+json": {
       "type": "string"
      },
      "text/plain": [
       "'Acacia buxifolia'"
      ]
     },
     "execution_count": 28,
     "metadata": {},
     "output_type": "execute_result"
    }
   ],
   "source": [
    "species_name[:]"
   ]
  },
  {
   "cell_type": "code",
   "execution_count": 30,
   "id": "i202e4ANd0X6",
   "metadata": {
    "colab": {
     "base_uri": "https://localhost:8080/",
     "height": 36
    },
    "id": "i202e4ANd0X6",
    "outputId": "d6d49169-afed-4f69-a07d-b27b75007681"
   },
   "outputs": [
    {
     "data": {
      "application/vnd.google.colaboratory.intrinsic+json": {
       "type": "string"
      },
      "text/plain": [
       "'folia'"
      ]
     },
     "execution_count": 30,
     "metadata": {},
     "output_type": "execute_result"
    }
   ],
   "source": [
    "species_name[11:]"
   ]
  },
  {
   "cell_type": "code",
   "execution_count": 31,
   "id": "O_pvR0whd7k5",
   "metadata": {
    "colab": {
     "base_uri": "https://localhost:8080/",
     "height": 36
    },
    "id": "O_pvR0whd7k5",
    "outputId": "cde945ca-8a06-4e22-bb46-5ed9139f2c6f"
   },
   "outputs": [
    {
     "data": {
      "application/vnd.google.colaboratory.intrinsic+json": {
       "type": "string"
      },
      "text/plain": [
       "'foli'"
      ]
     },
     "execution_count": 31,
     "metadata": {},
     "output_type": "execute_result"
    }
   ],
   "source": [
    "species_name[11:-1]"
   ]
  },
  {
   "cell_type": "code",
   "execution_count": 33,
   "id": "QyoiZeQEeEeY",
   "metadata": {
    "colab": {
     "base_uri": "https://localhost:8080/",
     "height": 36
    },
    "id": "QyoiZeQEeEeY",
    "outputId": "999ac292-c9b5-4b26-d83f-b3a19e2e1a3e"
   },
   "outputs": [
    {
     "data": {
      "application/vnd.google.colaboratory.intrinsic+json": {
       "type": "string"
      },
      "text/plain": [
       "'fo'"
      ]
     },
     "execution_count": 33,
     "metadata": {},
     "output_type": "execute_result"
    }
   ],
   "source": [
    "species_name[11:-3]"
   ]
  },
  {
   "cell_type": "code",
   "execution_count": 34,
   "id": "WUymLCegeKiv",
   "metadata": {
    "colab": {
     "base_uri": "https://localhost:8080/",
     "height": 36
    },
    "id": "WUymLCegeKiv",
    "outputId": "ae234e45-2e19-4b12-cb14-a5dff8795629"
   },
   "outputs": [
    {
     "data": {
      "application/vnd.google.colaboratory.intrinsic+json": {
       "type": "string"
      },
      "text/plain": [
       "'fo'"
      ]
     },
     "execution_count": 34,
     "metadata": {},
     "output_type": "execute_result"
    }
   ],
   "source": [
    "species_name[-5:-3]"
   ]
  },
  {
   "cell_type": "code",
   "execution_count": 35,
   "id": "rhDIoqI7eVGg",
   "metadata": {
    "colab": {
     "base_uri": "https://localhost:8080/",
     "height": 36
    },
    "id": "rhDIoqI7eVGg",
    "outputId": "86d90e81-258e-4728-8d06-fc4c12593879"
   },
   "outputs": [
    {
     "data": {
      "application/vnd.google.colaboratory.intrinsic+json": {
       "type": "string"
      },
      "text/plain": [
       "'a'"
      ]
     },
     "execution_count": 35,
     "metadata": {},
     "output_type": "execute_result"
    }
   ],
   "source": [
    "species_name[-1:]"
   ]
  },
  {
   "cell_type": "code",
   "execution_count": 36,
   "id": "3KbskFWxeyQx",
   "metadata": {
    "colab": {
     "base_uri": "https://localhost:8080/",
     "height": 36
    },
    "id": "3KbskFWxeyQx",
    "outputId": "fc45d5ec-d1bb-405e-f584-9c4bf700b016"
   },
   "outputs": [
    {
     "data": {
      "application/vnd.google.colaboratory.intrinsic+json": {
       "type": "string"
      },
      "text/plain": [
       "'ailofixub aicacA'"
      ]
     },
     "execution_count": 36,
     "metadata": {},
     "output_type": "execute_result"
    }
   ],
   "source": [
    "species_name[-1::-1]"
   ]
  },
  {
   "cell_type": "code",
   "execution_count": null,
   "id": "wvyZazhTe7JG",
   "metadata": {
    "id": "wvyZazhTe7JG"
   },
   "outputs": [],
   "source": [
    "species_name[start:stop:step]"
   ]
  },
  {
   "cell_type": "code",
   "execution_count": 37,
   "id": "ntT3x7-BfFy-",
   "metadata": {
    "colab": {
     "base_uri": "https://localhost:8080/",
     "height": 36
    },
    "id": "ntT3x7-BfFy-",
    "outputId": "09b3d711-58af-4f14-b7aa-422ac994cb91"
   },
   "outputs": [
    {
     "data": {
      "application/vnd.google.colaboratory.intrinsic+json": {
       "type": "string"
      },
      "text/plain": [
       "'Aai u'"
      ]
     },
     "execution_count": 37,
     "metadata": {},
     "output_type": "execute_result"
    }
   ],
   "source": [
    "species_name[0:10:2]"
   ]
  },
  {
   "cell_type": "markdown",
   "id": "-6TqoW3GkqLH",
   "metadata": {
    "id": "-6TqoW3GkqLH"
   },
   "source": [
    "# Data Types and Type Conversion"
   ]
  },
  {
   "cell_type": "code",
   "execution_count": 38,
   "id": "AmjT5d6gfKmE",
   "metadata": {
    "colab": {
     "base_uri": "https://localhost:8080/"
    },
    "id": "AmjT5d6gfKmE",
    "outputId": "cd40cdf2-413a-4d63-d68a-22a419b8f3b8"
   },
   "outputs": [
    {
     "data": {
      "text/plain": [
       "int"
      ]
     },
     "execution_count": 38,
     "metadata": {},
     "output_type": "execute_result"
    }
   ],
   "source": [
    "type(52)"
   ]
  },
  {
   "cell_type": "code",
   "execution_count": 39,
   "id": "E8E_vxUelOgM",
   "metadata": {
    "colab": {
     "base_uri": "https://localhost:8080/"
    },
    "id": "E8E_vxUelOgM",
    "outputId": "d370b1e5-15df-4573-ea0b-1f410f82cc90"
   },
   "outputs": [
    {
     "data": {
      "text/plain": [
       "str"
      ]
     },
     "execution_count": 39,
     "metadata": {},
     "output_type": "execute_result"
    }
   ],
   "source": [
    "fitness = \"average\"\n",
    "type(fitness)"
   ]
  },
  {
   "cell_type": "code",
   "execution_count": 40,
   "id": "7IqT_SbplUvi",
   "metadata": {
    "colab": {
     "base_uri": "https://localhost:8080/"
    },
    "id": "7IqT_SbplUvi",
    "outputId": "02d9b950-eb42-45fb-a1cf-3584c31f0b9f"
   },
   "outputs": [
    {
     "data": {
      "text/plain": [
       "2"
      ]
     },
     "execution_count": 40,
     "metadata": {},
     "output_type": "execute_result"
    }
   ],
   "source": [
    "5 - 3"
   ]
  },
  {
   "cell_type": "code",
   "execution_count": 41,
   "id": "6uHiRiK2labJ",
   "metadata": {
    "colab": {
     "base_uri": "https://localhost:8080/",
     "height": 201
    },
    "id": "6uHiRiK2labJ",
    "outputId": "e8ae10aa-06f8-4a09-c67e-feaab5e134b4"
   },
   "outputs": [
    {
     "ename": "TypeError",
     "evalue": "ignored",
     "output_type": "error",
     "traceback": [
      "\u001b[0;31m---------------------------------------------------------------------------\u001b[0m",
      "\u001b[0;31mTypeError\u001b[0m                                 Traceback (most recent call last)",
      "\u001b[0;32m<ipython-input-41-e4dd8eebe8cb>\u001b[0m in \u001b[0;36m<module>\u001b[0;34m\u001b[0m\n\u001b[0;32m----> 1\u001b[0;31m \u001b[0;34m\"hello\"\u001b[0m \u001b[0;34m-\u001b[0m \u001b[0;34m\"h\"\u001b[0m\u001b[0;34m\u001b[0m\u001b[0;34m\u001b[0m\u001b[0m\n\u001b[0m",
      "\u001b[0;31mTypeError\u001b[0m: unsupported operand type(s) for -: 'str' and 'str'"
     ]
    }
   ],
   "source": [
    "\"hello\" - \"h\""
   ]
  },
  {
   "cell_type": "code",
   "execution_count": 42,
   "id": "rgUmmn9zlfjJ",
   "metadata": {
    "colab": {
     "base_uri": "https://localhost:8080/",
     "height": 36
    },
    "id": "rgUmmn9zlfjJ",
    "outputId": "5e741582-e3b7-4f2e-d3df-7b3043037ffe"
   },
   "outputs": [
    {
     "data": {
      "application/vnd.google.colaboratory.intrinsic+json": {
       "type": "string"
      },
      "text/plain": [
       "'hello'"
      ]
     },
     "execution_count": 42,
     "metadata": {},
     "output_type": "execute_result"
    }
   ],
   "source": [
    "\"h\" + \"ello\""
   ]
  },
  {
   "cell_type": "code",
   "execution_count": 43,
   "id": "ACAN3IPwlp1d",
   "metadata": {
    "colab": {
     "base_uri": "https://localhost:8080/",
     "height": 36
    },
    "id": "ACAN3IPwlp1d",
    "outputId": "8a2ea930-686c-498b-9333-553e0866747e"
   },
   "outputs": [
    {
     "data": {
      "application/vnd.google.colaboratory.intrinsic+json": {
       "type": "string"
      },
      "text/plain": [
       "'hhh'"
      ]
     },
     "execution_count": 43,
     "metadata": {},
     "output_type": "execute_result"
    }
   ],
   "source": [
    "\"h\" * 3"
   ]
  },
  {
   "cell_type": "code",
   "execution_count": 44,
   "id": "fH2sQlsxlvqj",
   "metadata": {
    "colab": {
     "base_uri": "https://localhost:8080/"
    },
    "id": "fH2sQlsxlvqj",
    "outputId": "5df0cd86-271f-4e60-9076-d492337ea96e"
   },
   "outputs": [
    {
     "data": {
      "text/plain": [
       "5"
      ]
     },
     "execution_count": 44,
     "metadata": {},
     "output_type": "execute_result"
    }
   ],
   "source": [
    "len(atom_name)"
   ]
  },
  {
   "cell_type": "code",
   "execution_count": 45,
   "id": "5Fe4jAejl27X",
   "metadata": {
    "colab": {
     "base_uri": "https://localhost:8080/",
     "height": 201
    },
    "id": "5Fe4jAejl27X",
    "outputId": "1b07894a-fe06-4cce-f944-3531c6f73ca8"
   },
   "outputs": [
    {
     "ename": "TypeError",
     "evalue": "ignored",
     "output_type": "error",
     "traceback": [
      "\u001b[0;31m---------------------------------------------------------------------------\u001b[0m",
      "\u001b[0;31mTypeError\u001b[0m                                 Traceback (most recent call last)",
      "\u001b[0;32m<ipython-input-45-80120bd611a4>\u001b[0m in \u001b[0;36m<module>\u001b[0;34m\u001b[0m\n\u001b[0;32m----> 1\u001b[0;31m \u001b[0mlen\u001b[0m\u001b[0;34m(\u001b[0m\u001b[0;36m43\u001b[0m\u001b[0;34m)\u001b[0m\u001b[0;34m\u001b[0m\u001b[0;34m\u001b[0m\u001b[0m\n\u001b[0m",
      "\u001b[0;31mTypeError\u001b[0m: object of type 'int' has no len()"
     ]
    }
   ],
   "source": [
    "len(43)"
   ]
  },
  {
   "cell_type": "code",
   "execution_count": 46,
   "id": "lDrxm2Yil4gX",
   "metadata": {
    "colab": {
     "base_uri": "https://localhost:8080/",
     "height": 201
    },
    "id": "lDrxm2Yil4gX",
    "outputId": "ed1e1a21-f011-46b1-b8e0-831ad9e278c6"
   },
   "outputs": [
    {
     "ename": "TypeError",
     "evalue": "ignored",
     "output_type": "error",
     "traceback": [
      "\u001b[0;31m---------------------------------------------------------------------------\u001b[0m",
      "\u001b[0;31mTypeError\u001b[0m                                 Traceback (most recent call last)",
      "\u001b[0;32m<ipython-input-46-a11677f986f5>\u001b[0m in \u001b[0;36m<module>\u001b[0;34m\u001b[0m\n\u001b[0;32m----> 1\u001b[0;31m \u001b[0;36m1\u001b[0m \u001b[0;34m+\u001b[0m \u001b[0;34m'2'\u001b[0m\u001b[0;34m\u001b[0m\u001b[0;34m\u001b[0m\u001b[0m\n\u001b[0m",
      "\u001b[0;31mTypeError\u001b[0m: unsupported operand type(s) for +: 'int' and 'str'"
     ]
    }
   ],
   "source": [
    "1 + '2'"
   ]
  },
  {
   "cell_type": "code",
   "execution_count": 47,
   "id": "9B1XUC7LmHXJ",
   "metadata": {
    "colab": {
     "base_uri": "https://localhost:8080/"
    },
    "id": "9B1XUC7LmHXJ",
    "outputId": "b342b9cc-6872-4893-9631-1fe81efec397"
   },
   "outputs": [
    {
     "data": {
      "text/plain": [
       "3"
      ]
     },
     "execution_count": 47,
     "metadata": {},
     "output_type": "execute_result"
    }
   ],
   "source": [
    "1 + int('2')"
   ]
  },
  {
   "cell_type": "code",
   "execution_count": 48,
   "id": "dBann2NHmSdK",
   "metadata": {
    "colab": {
     "base_uri": "https://localhost:8080/",
     "height": 36
    },
    "id": "dBann2NHmSdK",
    "outputId": "02f38bec-6061-47ef-8ceb-9d8f65dfc895"
   },
   "outputs": [
    {
     "data": {
      "application/vnd.google.colaboratory.intrinsic+json": {
       "type": "string"
      },
      "text/plain": [
       "'12'"
      ]
     },
     "execution_count": 48,
     "metadata": {},
     "output_type": "execute_result"
    }
   ],
   "source": [
    "str(1) + '2'"
   ]
  },
  {
   "cell_type": "code",
   "execution_count": 49,
   "id": "IJZ350MkmVsR",
   "metadata": {
    "colab": {
     "base_uri": "https://localhost:8080/"
    },
    "id": "IJZ350MkmVsR",
    "outputId": "b801667e-f6d5-4c33-96bd-e90fe04dbcd0"
   },
   "outputs": [
    {
     "data": {
      "text/plain": [
       "12"
      ]
     },
     "execution_count": 49,
     "metadata": {},
     "output_type": "execute_result"
    }
   ],
   "source": [
    "int(str(1) + '2')"
   ]
  },
  {
   "cell_type": "code",
   "execution_count": 50,
   "id": "N4P_wVWwmakv",
   "metadata": {
    "colab": {
     "base_uri": "https://localhost:8080/"
    },
    "id": "N4P_wVWwmakv",
    "outputId": "0f457f1c-8aa6-4935-ea9a-82d9dfb1ec0d"
   },
   "outputs": [
    {
     "data": {
      "text/plain": [
       "0.5"
      ]
     },
     "execution_count": 50,
     "metadata": {},
     "output_type": "execute_result"
    }
   ],
   "source": [
    "1 / 2"
   ]
  },
  {
   "cell_type": "code",
   "execution_count": 51,
   "id": "1TgrqHx4m8Cj",
   "metadata": {
    "colab": {
     "base_uri": "https://localhost:8080/"
    },
    "id": "1TgrqHx4m8Cj",
    "outputId": "ae8e1599-e394-48e0-f698-50125950b7d9"
   },
   "outputs": [
    {
     "data": {
      "text/plain": [
       "0.5"
      ]
     },
     "execution_count": 51,
     "metadata": {},
     "output_type": "execute_result"
    }
   ],
   "source": [
    "1 / 2.0"
   ]
  },
  {
   "cell_type": "code",
   "execution_count": 52,
   "id": "akjeFjLGnC4e",
   "metadata": {
    "id": "akjeFjLGnC4e"
   },
   "outputs": [],
   "source": [
    "variable_one = 1\n",
    "variable_two = 5 + variable_one"
   ]
  },
  {
   "cell_type": "code",
   "execution_count": 53,
   "id": "C5XEFmGCnNmS",
   "metadata": {
    "id": "C5XEFmGCnNmS"
   },
   "outputs": [],
   "source": [
    "variable_one = 5"
   ]
  },
  {
   "cell_type": "code",
   "execution_count": 54,
   "id": "Vmxp2emXnQIq",
   "metadata": {
    "colab": {
     "base_uri": "https://localhost:8080/"
    },
    "id": "Vmxp2emXnQIq",
    "outputId": "517da796-6729-41a8-a3ef-d3b5a214c2d8"
   },
   "outputs": [
    {
     "data": {
      "text/plain": [
       "(5, 6)"
      ]
     },
     "execution_count": 54,
     "metadata": {},
     "output_type": "execute_result"
    }
   ],
   "source": [
    "variable_one, variable_two"
   ]
  },
  {
   "cell_type": "code",
   "execution_count": 56,
   "id": "7S11joh0nUj6",
   "metadata": {
    "colab": {
     "base_uri": "https://localhost:8080/"
    },
    "id": "7S11joh0nUj6",
    "outputId": "beb450ec-652b-4ee2-c600-56c671d94872"
   },
   "outputs": [
    {
     "data": {
      "text/plain": [
       "0.3333333333333333"
      ]
     },
     "execution_count": 56,
     "metadata": {},
     "output_type": "execute_result"
    }
   ],
   "source": [
    "1.0 / 3.0"
   ]
  },
  {
   "cell_type": "code",
   "execution_count": 57,
   "id": "ucRbuC7Qnppc",
   "metadata": {
    "colab": {
     "base_uri": "https://localhost:8080/"
    },
    "id": "ucRbuC7Qnppc",
    "outputId": "4db0faba-b8ac-4e40-84a0-c84a30c7d6ba"
   },
   "outputs": [
    {
     "name": "stdout",
     "output_type": "stream",
     "text": [
      "5 // 3: 1\n",
      "5 / 3: 1.6666666666666667\n",
      "5 % 3: 2\n"
     ]
    }
   ],
   "source": [
    "print('5 // 3:', 5 // 3)\n",
    "print('5 / 3:', 5 / 3)\n",
    "print('5 % 3:', 5 % 3)"
   ]
  },
  {
   "cell_type": "code",
   "execution_count": 58,
   "id": "purov4iPq0Fz",
   "metadata": {
    "colab": {
     "base_uri": "https://localhost:8080/"
    },
    "id": "purov4iPq0Fz",
    "outputId": "7fa6742c-e98c-4e3c-df4f-c50d23386e93"
   },
   "outputs": [
    {
     "data": {
      "text/plain": [
       "14.285714285714286"
      ]
     },
     "execution_count": 58,
     "metadata": {},
     "output_type": "execute_result"
    }
   ],
   "source": [
    "number_subjects = 600\n",
    "subjects_per_survey = 42\n",
    "\n",
    "number_subjects / subjects_per_survey"
   ]
  },
  {
   "cell_type": "code",
   "execution_count": 60,
   "id": "rDi74lfprNlG",
   "metadata": {
    "colab": {
     "base_uri": "https://localhost:8080/"
    },
    "id": "rDi74lfprNlG",
    "outputId": "553ded75-c5bd-4a43-e4ec-0cdde828c396"
   },
   "outputs": [
    {
     "data": {
      "text/plain": [
       "15"
      ]
     },
     "execution_count": 60,
     "metadata": {},
     "output_type": "execute_result"
    }
   ],
   "source": [
    "(number_subjects // subjects_per_survey) + 1"
   ]
  },
  {
   "cell_type": "code",
   "execution_count": 63,
   "id": "AtNLLwEIrVus",
   "metadata": {
    "colab": {
     "base_uri": "https://localhost:8080/"
    },
    "id": "AtNLLwEIrVus",
    "outputId": "593412ad-2300-4696-8f7b-d77f781253ae"
   },
   "outputs": [
    {
     "data": {
      "text/plain": [
       "complex"
      ]
     },
     "execution_count": 63,
     "metadata": {},
     "output_type": "execute_result"
    }
   ],
   "source": [
    "type(1.3 + 2.5j)"
   ]
  },
  {
   "cell_type": "code",
   "execution_count": 64,
   "id": "8Psu16k9ryyL",
   "metadata": {
    "id": "8Psu16k9ryyL"
   },
   "outputs": [],
   "source": [
    "number = 1.3 + 2.5j"
   ]
  },
  {
   "cell_type": "code",
   "execution_count": 65,
   "id": "gwaJHTlMr_Mf",
   "metadata": {
    "colab": {
     "base_uri": "https://localhost:8080/"
    },
    "id": "gwaJHTlMr_Mf",
    "outputId": "9dffc8e2-1274-496b-efc5-8b2f56fa0b2b"
   },
   "outputs": [
    {
     "data": {
      "text/plain": [
       "complex"
      ]
     },
     "execution_count": 65,
     "metadata": {},
     "output_type": "execute_result"
    }
   ],
   "source": [
    "type(number)"
   ]
  },
  {
   "cell_type": "code",
   "execution_count": 66,
   "id": "8jo4Q4MMsA_q",
   "metadata": {
    "colab": {
     "base_uri": "https://localhost:8080/"
    },
    "id": "8jo4Q4MMsA_q",
    "outputId": "d5359852-8507-4980-f555-ff90f977e0a4"
   },
   "outputs": [
    {
     "data": {
      "text/plain": [
       "1.3"
      ]
     },
     "execution_count": 66,
     "metadata": {},
     "output_type": "execute_result"
    }
   ],
   "source": [
    "number.real"
   ]
  },
  {
   "cell_type": "code",
   "execution_count": 67,
   "id": "KhlagQMMsCyN",
   "metadata": {
    "colab": {
     "base_uri": "https://localhost:8080/"
    },
    "id": "KhlagQMMsCyN",
    "outputId": "e6fef26d-4eb9-4b8c-c40b-0c2479b1c6a1"
   },
   "outputs": [
    {
     "data": {
      "text/plain": [
       "2.5"
      ]
     },
     "execution_count": 67,
     "metadata": {},
     "output_type": "execute_result"
    }
   ],
   "source": [
    "number.imag"
   ]
  },
  {
   "cell_type": "code",
   "execution_count": 68,
   "id": "n-7J9auisK7p",
   "metadata": {
    "colab": {
     "base_uri": "https://localhost:8080/"
    },
    "id": "n-7J9auisK7p",
    "outputId": "80fed1b0-a728-46f7-de27-16ed00172398"
   },
   "outputs": [
    {
     "data": {
      "text/plain": [
       "(4+2j)"
      ]
     },
     "execution_count": 68,
     "metadata": {},
     "output_type": "execute_result"
    }
   ],
   "source": [
    "1 + 2j + 3"
   ]
  },
  {
   "cell_type": "code",
   "execution_count": 69,
   "id": "_O0SDyEtscha",
   "metadata": {
    "colab": {
     "base_uri": "https://localhost:8080/"
    },
    "id": "_O0SDyEtscha",
    "outputId": "8fdae9a5-51d2-461b-cdf0-53aee6f599ec"
   },
   "outputs": [
    {
     "data": {
      "text/plain": [
       "(4+2j)"
      ]
     },
     "execution_count": 69,
     "metadata": {},
     "output_type": "execute_result"
    }
   ],
   "source": [
    "(1 + 2j) + (3 + 0j)"
   ]
  },
  {
   "cell_type": "code",
   "execution_count": 70,
   "id": "R7YjXG1islxY",
   "metadata": {
    "colab": {
     "base_uri": "https://localhost:8080/"
    },
    "id": "R7YjXG1islxY",
    "outputId": "55b00ad7-b4f2-49c7-d18d-fa5c43c20e66"
   },
   "outputs": [
    {
     "data": {
      "text/plain": [
       "4j"
      ]
     },
     "execution_count": 70,
     "metadata": {},
     "output_type": "execute_result"
    }
   ],
   "source": [
    "4j"
   ]
  },
  {
   "cell_type": "code",
   "execution_count": 71,
   "id": "q6_RsEBesrqq",
   "metadata": {
    "colab": {
     "base_uri": "https://localhost:8080/"
    },
    "id": "q6_RsEBesrqq",
    "outputId": "a5f26228-d465-4e29-81b9-5626cb412a9e"
   },
   "outputs": [
    {
     "data": {
      "text/plain": [
       "4j"
      ]
     },
     "execution_count": 71,
     "metadata": {},
     "output_type": "execute_result"
    }
   ],
   "source": [
    "0 + 4j"
   ]
  },
  {
   "cell_type": "code",
   "execution_count": 72,
   "id": "0f6rM4dSsxBn",
   "metadata": {
    "id": "0f6rM4dSsxBn"
   },
   "outputs": [],
   "source": [
    "pure_imaginary_number = 4j"
   ]
  },
  {
   "cell_type": "code",
   "execution_count": 73,
   "id": "gU5UskSwsz_B",
   "metadata": {
    "colab": {
     "base_uri": "https://localhost:8080/"
    },
    "id": "gU5UskSwsz_B",
    "outputId": "470d45e9-71a1-4975-8c39-a7785b1cbd49"
   },
   "outputs": [
    {
     "data": {
      "text/plain": [
       "0.0"
      ]
     },
     "execution_count": 73,
     "metadata": {},
     "output_type": "execute_result"
    }
   ],
   "source": [
    "pure_imaginary_number.real"
   ]
  },
  {
   "cell_type": "markdown",
   "id": "f26as_3Itb5H",
   "metadata": {
    "id": "f26as_3Itb5H"
   },
   "source": [
    "# Built-in functions and help"
   ]
  },
  {
   "cell_type": "code",
   "execution_count": 74,
   "id": "w7quQBuBs1rK",
   "metadata": {
    "colab": {
     "base_uri": "https://localhost:8080/"
    },
    "id": "w7quQBuBs1rK",
    "outputId": "6045f9af-40ba-4a53-aec9-c6fd4d86347f"
   },
   "outputs": [
    {
     "data": {
      "text/plain": [
       "6"
      ]
     },
     "execution_count": 74,
     "metadata": {},
     "output_type": "execute_result"
    }
   ],
   "source": [
    "# this is a comment and will be ignored when code is executed\n",
    "2 + 4"
   ]
  },
  {
   "cell_type": "code",
   "execution_count": 75,
   "id": "wo2G3SOutNxc",
   "metadata": {
    "colab": {
     "base_uri": "https://localhost:8080/"
    },
    "id": "wo2G3SOutNxc",
    "outputId": "064e0ba3-d847-44fd-d2a1-417a96353f48"
   },
   "outputs": [
    {
     "data": {
      "text/plain": [
       "4"
      ]
     },
     "execution_count": 75,
     "metadata": {},
     "output_type": "execute_result"
    }
   ],
   "source": [
    "2 + 2 # this is an inline comment"
   ]
  },
  {
   "cell_type": "code",
   "execution_count": 76,
   "id": "8UarILw_tTVd",
   "metadata": {
    "colab": {
     "base_uri": "https://localhost:8080/"
    },
    "id": "8UarILw_tTVd",
    "outputId": "4cdf45d3-2aae-4ee4-ba53-486bdba26f82"
   },
   "outputs": [
    {
     "name": "stdout",
     "output_type": "stream",
     "text": [
      "before\n",
      "\n",
      "after\n"
     ]
    }
   ],
   "source": [
    "print(\"before\")\n",
    "print()\n",
    "print(\"after\")"
   ]
  },
  {
   "cell_type": "code",
   "execution_count": 78,
   "id": "4TFz-2MjtkR9",
   "metadata": {
    "colab": {
     "base_uri": "https://localhost:8080/"
    },
    "id": "4TFz-2MjtkR9",
    "outputId": "14786a0a-2a2a-41f6-bbcc-607aee5abc21"
   },
   "outputs": [
    {
     "name": "stdout",
     "output_type": "stream",
     "text": [
      "example\n"
     ]
    }
   ],
   "source": [
    "result = print(\"example\")"
   ]
  },
  {
   "cell_type": "code",
   "execution_count": 80,
   "id": "gMHABXlCtqQY",
   "metadata": {
    "colab": {
     "base_uri": "https://localhost:8080/"
    },
    "id": "gMHABXlCtqQY",
    "outputId": "0fba8381-edc0-4c94-c555-1f5c1107e542"
   },
   "outputs": [
    {
     "data": {
      "text/plain": [
       "NoneType"
      ]
     },
     "execution_count": 80,
     "metadata": {},
     "output_type": "execute_result"
    }
   ],
   "source": [
    "type(result)"
   ]
  },
  {
   "cell_type": "code",
   "execution_count": 81,
   "id": "7qyf3W9StuPy",
   "metadata": {
    "colab": {
     "base_uri": "https://localhost:8080/"
    },
    "id": "7qyf3W9StuPy",
    "outputId": "7faae0cd-57e9-429b-d593-35065d48e234"
   },
   "outputs": [
    {
     "name": "stdout",
     "output_type": "stream",
     "text": [
      "None\n"
     ]
    }
   ],
   "source": [
    "print(result)"
   ]
  },
  {
   "cell_type": "code",
   "execution_count": 82,
   "id": "G1wTutZ4tzeU",
   "metadata": {
    "colab": {
     "base_uri": "https://localhost:8080/"
    },
    "id": "G1wTutZ4tzeU",
    "outputId": "8754a7b5-aa76-48ac-e183-af25ee423967"
   },
   "outputs": [
    {
     "data": {
      "text/plain": [
       "4"
      ]
     },
     "execution_count": 82,
     "metadata": {},
     "output_type": "execute_result"
    }
   ],
   "source": [
    "max(1, 2, 3, 4)"
   ]
  },
  {
   "cell_type": "code",
   "execution_count": 83,
   "id": "pkrgCj68uDoZ",
   "metadata": {
    "colab": {
     "base_uri": "https://localhost:8080/"
    },
    "id": "pkrgCj68uDoZ",
    "outputId": "9064fa77-e8a7-4222-95a3-6cf8ee541fa0"
   },
   "outputs": [
    {
     "data": {
      "text/plain": [
       "-1000"
      ]
     },
     "execution_count": 83,
     "metadata": {},
     "output_type": "execute_result"
    }
   ],
   "source": [
    "min(-23, 4, -1000, 45)"
   ]
  },
  {
   "cell_type": "code",
   "execution_count": 84,
   "id": "HXgFpkONuF3t",
   "metadata": {
    "colab": {
     "base_uri": "https://localhost:8080/",
     "height": 201
    },
    "id": "HXgFpkONuF3t",
    "outputId": "61a28298-70bd-44dc-d948-348579e25791"
   },
   "outputs": [
    {
     "ename": "TypeError",
     "evalue": "ignored",
     "output_type": "error",
     "traceback": [
      "\u001b[0;31m---------------------------------------------------------------------------\u001b[0m",
      "\u001b[0;31mTypeError\u001b[0m                                 Traceback (most recent call last)",
      "\u001b[0;32m<ipython-input-84-d670c787145c>\u001b[0m in \u001b[0;36m<module>\u001b[0;34m\u001b[0m\n\u001b[0;32m----> 1\u001b[0;31m \u001b[0mmax\u001b[0m\u001b[0;34m(\u001b[0m\u001b[0;34m'a'\u001b[0m\u001b[0;34m,\u001b[0m \u001b[0;36m1\u001b[0m\u001b[0;34m)\u001b[0m\u001b[0;34m\u001b[0m\u001b[0;34m\u001b[0m\u001b[0m\n\u001b[0m",
      "\u001b[0;31mTypeError\u001b[0m: '>' not supported between instances of 'int' and 'str'"
     ]
    }
   ],
   "source": [
    "max('a', 1)"
   ]
  },
  {
   "cell_type": "code",
   "execution_count": 85,
   "id": "FfJslXk5uKJ5",
   "metadata": {
    "colab": {
     "base_uri": "https://localhost:8080/",
     "height": 36
    },
    "id": "FfJslXk5uKJ5",
    "outputId": "3621e9a2-6bc5-4bf1-9d46-84954dc5ecbd"
   },
   "outputs": [
    {
     "data": {
      "application/vnd.google.colaboratory.intrinsic+json": {
       "type": "string"
      },
      "text/plain": [
       "'b'"
      ]
     },
     "execution_count": 85,
     "metadata": {},
     "output_type": "execute_result"
    }
   ],
   "source": [
    "max('a', 'b', 'A')"
   ]
  },
  {
   "cell_type": "code",
   "execution_count": 86,
   "id": "kya6n025uQbi",
   "metadata": {
    "colab": {
     "base_uri": "https://localhost:8080/",
     "height": 36
    },
    "id": "kya6n025uQbi",
    "outputId": "0cc130c7-8110-4cac-fcd5-db1c9d8feb6d"
   },
   "outputs": [
    {
     "data": {
      "application/vnd.google.colaboratory.intrinsic+json": {
       "type": "string"
      },
      "text/plain": [
       "'A'"
      ]
     },
     "execution_count": 86,
     "metadata": {},
     "output_type": "execute_result"
    }
   ],
   "source": [
    "min('a', 'b', 'A')"
   ]
  },
  {
   "cell_type": "code",
   "execution_count": 87,
   "id": "6z8Yrb8GuTpC",
   "metadata": {
    "colab": {
     "base_uri": "https://localhost:8080/"
    },
    "id": "6z8Yrb8GuTpC",
    "outputId": "cf70c464-6cd8-4f48-c234-014759c87010"
   },
   "outputs": [
    {
     "data": {
      "text/plain": [
       "4"
      ]
     },
     "execution_count": 87,
     "metadata": {},
     "output_type": "execute_result"
    }
   ],
   "source": [
    "round(3.71234)"
   ]
  },
  {
   "cell_type": "code",
   "execution_count": 89,
   "id": "LpV6Kak1ufMc",
   "metadata": {
    "colab": {
     "base_uri": "https://localhost:8080/"
    },
    "id": "LpV6Kak1ufMc",
    "outputId": "e0cd2087-345c-427b-c4b0-99b6a7f5d9bf"
   },
   "outputs": [
    {
     "data": {
      "text/plain": [
       "3.71"
      ]
     },
     "execution_count": 89,
     "metadata": {},
     "output_type": "execute_result"
    }
   ],
   "source": [
    "round(3.71234, ndigits=2)"
   ]
  },
  {
   "cell_type": "code",
   "execution_count": 90,
   "id": "xFxJVEWWullg",
   "metadata": {
    "id": "xFxJVEWWullg"
   },
   "outputs": [],
   "source": [
    "some_string = \"Hello World\""
   ]
  },
  {
   "cell_type": "code",
   "execution_count": 93,
   "id": "QkU2JgZeu0gH",
   "metadata": {
    "colab": {
     "base_uri": "https://localhost:8080/",
     "height": 36
    },
    "id": "QkU2JgZeu0gH",
    "outputId": "c9e2dd38-626c-47fe-c364-8b590d473b4f"
   },
   "outputs": [
    {
     "data": {
      "application/vnd.google.colaboratory.intrinsic+json": {
       "type": "string"
      },
      "text/plain": [
       "'Hello world'"
      ]
     },
     "execution_count": 93,
     "metadata": {},
     "output_type": "execute_result"
    }
   ],
   "source": [
    "some_string.capitalize()"
   ]
  },
  {
   "cell_type": "code",
   "execution_count": 94,
   "id": "uaJJdQnPu-3z",
   "metadata": {
    "colab": {
     "base_uri": "https://localhost:8080/",
     "height": 36
    },
    "id": "uaJJdQnPu-3z",
    "outputId": "7bf1e825-2aab-4008-ba1c-e900d6c52058"
   },
   "outputs": [
    {
     "data": {
      "application/vnd.google.colaboratory.intrinsic+json": {
       "type": "string"
      },
      "text/plain": [
       "'HELLO WORLD'"
      ]
     },
     "execution_count": 94,
     "metadata": {},
     "output_type": "execute_result"
    }
   ],
   "source": [
    "some_string.upper()"
   ]
  },
  {
   "cell_type": "code",
   "execution_count": 95,
   "id": "XreNR5nhvQc3",
   "metadata": {
    "id": "XreNR5nhvQc3"
   },
   "outputs": [],
   "source": [
    "max?"
   ]
  },
  {
   "cell_type": "code",
   "execution_count": 96,
   "id": "NjgDsB2avwcH",
   "metadata": {
    "colab": {
     "base_uri": "https://localhost:8080/",
     "height": 131
    },
    "id": "NjgDsB2avwcH",
    "outputId": "708d1456-d61c-40e0-9209-320f4cc52a85"
   },
   "outputs": [
    {
     "ename": "SyntaxError",
     "evalue": "ignored",
     "output_type": "error",
     "traceback": [
      "\u001b[0;36m  File \u001b[0;32m\"<ipython-input-96-d457c7c7665c>\"\u001b[0;36m, line \u001b[0;32m1\u001b[0m\n\u001b[0;31m    name = \"Feng\u001b[0m\n\u001b[0m                ^\u001b[0m\n\u001b[0;31mSyntaxError\u001b[0m\u001b[0;31m:\u001b[0m EOL while scanning string literal\n"
     ]
    }
   ],
   "source": [
    "name = \"Feng"
   ]
  },
  {
   "cell_type": "code",
   "execution_count": 97,
   "id": "fDInKvbdwQaO",
   "metadata": {
    "colab": {
     "base_uri": "https://localhost:8080/",
     "height": 131
    },
    "id": "fDInKvbdwQaO",
    "outputId": "11391612-81ad-4298-9604-7917252e9312"
   },
   "outputs": [
    {
     "ename": "SyntaxError",
     "evalue": "ignored",
     "output_type": "error",
     "traceback": [
      "\u001b[0;36m  File \u001b[0;32m\"<ipython-input-97-e25141f6dd69>\"\u001b[0;36m, line \u001b[0;32m1\u001b[0m\n\u001b[0;31m    age = = 42\u001b[0m\n\u001b[0m          ^\u001b[0m\n\u001b[0;31mSyntaxError\u001b[0m\u001b[0;31m:\u001b[0m invalid syntax\n"
     ]
    }
   ],
   "source": [
    "age = = 42"
   ]
  },
  {
   "cell_type": "code",
   "execution_count": 98,
   "id": "RjpFcGO_wZk2",
   "metadata": {
    "colab": {
     "base_uri": "https://localhost:8080/"
    },
    "id": "RjpFcGO_wZk2",
    "outputId": "ca324a4a-1700-4c81-ce5f-08dacae3c35b"
   },
   "outputs": [
    {
     "data": {
      "text/plain": [
       "False"
      ]
     },
     "execution_count": 98,
     "metadata": {},
     "output_type": "execute_result"
    }
   ],
   "source": [
    "age == 42"
   ]
  },
  {
   "cell_type": "code",
   "execution_count": 99,
   "id": "E4o7-VNLwcKl",
   "metadata": {
    "colab": {
     "base_uri": "https://localhost:8080/",
     "height": 131
    },
    "id": "E4o7-VNLwcKl",
    "outputId": "13e8935a-d4dd-4fdd-f113-85a1fefaa9f8"
   },
   "outputs": [
    {
     "ename": "SyntaxError",
     "evalue": "ignored",
     "output_type": "error",
     "traceback": [
      "\u001b[0;36m  File \u001b[0;32m\"<ipython-input-99-fe69f65f3ba9>\"\u001b[0;36m, line \u001b[0;32m1\u001b[0m\n\u001b[0;31m    print(\"hello world\"\u001b[0m\n\u001b[0m                       ^\u001b[0m\n\u001b[0;31mSyntaxError\u001b[0m\u001b[0;31m:\u001b[0m unexpected EOF while parsing\n"
     ]
    }
   ],
   "source": [
    "print(\"hello world\""
   ]
  },
  {
   "cell_type": "code",
   "execution_count": 101,
   "id": "zhYO2rLywkkB",
   "metadata": {
    "id": "zhYO2rLywkkB"
   },
   "outputs": [],
   "source": [
    "age = 42\n",
    "some_computation = 100 - age"
   ]
  },
  {
   "cell_type": "code",
   "execution_count": 102,
   "id": "IEt2XQAZw6FQ",
   "metadata": {
    "colab": {
     "base_uri": "https://localhost:8080/"
    },
    "id": "IEt2XQAZw6FQ",
    "outputId": "5de0e92e-3d3a-4307-d9f3-ae3ab4afe30e"
   },
   "outputs": [
    {
     "data": {
      "text/plain": [
       "58"
      ]
     },
     "execution_count": 102,
     "metadata": {},
     "output_type": "execute_result"
    }
   ],
   "source": [
    "some_computation"
   ]
  },
  {
   "cell_type": "markdown",
   "id": "_TAUTzgZ0WHJ",
   "metadata": {
    "id": "_TAUTzgZ0WHJ"
   },
   "source": [
    "# Libraries"
   ]
  },
  {
   "cell_type": "code",
   "execution_count": 103,
   "id": "IkwQE7Z2xAgP",
   "metadata": {
    "id": "IkwQE7Z2xAgP"
   },
   "outputs": [],
   "source": [
    "import math"
   ]
  },
  {
   "cell_type": "code",
   "execution_count": 104,
   "id": "MY9DBhcZ09hw",
   "metadata": {
    "id": "MY9DBhcZ09hw"
   },
   "outputs": [],
   "source": [
    "math.pi?"
   ]
  },
  {
   "cell_type": "code",
   "execution_count": 105,
   "id": "oGXqdM-H1Icz",
   "metadata": {
    "colab": {
     "base_uri": "https://localhost:8080/"
    },
    "id": "oGXqdM-H1Icz",
    "outputId": "c3f6e712-c1e3-4cdb-a2bd-ae86d4a2b4d7"
   },
   "outputs": [
    {
     "data": {
      "text/plain": [
       "-1.0"
      ]
     },
     "execution_count": 105,
     "metadata": {},
     "output_type": "execute_result"
    }
   ],
   "source": [
    "math.cos(math.pi)"
   ]
  },
  {
   "cell_type": "code",
   "execution_count": 106,
   "id": "-z8hMoQy1RUv",
   "metadata": {
    "colab": {
     "base_uri": "https://localhost:8080/"
    },
    "id": "-z8hMoQy1RUv",
    "outputId": "be1d391b-b087-4c9b-b6a9-f3405bca7642"
   },
   "outputs": [
    {
     "data": {
      "text/plain": [
       "1.2246467991473532e-16"
      ]
     },
     "execution_count": 106,
     "metadata": {},
     "output_type": "execute_result"
    }
   ],
   "source": [
    "math.sin(math.pi)"
   ]
  },
  {
   "cell_type": "code",
   "execution_count": 107,
   "id": "trfybeyg1VB4",
   "metadata": {
    "colab": {
     "base_uri": "https://localhost:8080/"
    },
    "id": "trfybeyg1VB4",
    "outputId": "479f87b9-1d4b-4591-dadb-0555e5f67989"
   },
   "outputs": [
    {
     "data": {
      "text/plain": [
       "-1.2246467991473532e-16"
      ]
     },
     "execution_count": 107,
     "metadata": {},
     "output_type": "execute_result"
    }
   ],
   "source": [
    "math.sin(math.pi) / math.cos(math.pi)"
   ]
  },
  {
   "cell_type": "code",
   "execution_count": 108,
   "id": "U3D37Zor1gdv",
   "metadata": {
    "colab": {
     "base_uri": "https://localhost:8080/"
    },
    "id": "U3D37Zor1gdv",
    "outputId": "99d720fe-b633-437e-f718-58afe12c71e4"
   },
   "outputs": [
    {
     "data": {
      "text/plain": [
       "-1.2246467991473532e-16"
      ]
     },
     "execution_count": 108,
     "metadata": {},
     "output_type": "execute_result"
    }
   ],
   "source": [
    "math.tan(math.pi)"
   ]
  },
  {
   "cell_type": "code",
   "execution_count": 109,
   "id": "bxdDXs8d1oKl",
   "metadata": {
    "colab": {
     "base_uri": "https://localhost:8080/"
    },
    "id": "bxdDXs8d1oKl",
    "outputId": "c8286348-57f4-428b-b253-2eec59ede0fc"
   },
   "outputs": [
    {
     "data": {
      "text/plain": [
       "1.633123935319537e+16"
      ]
     },
     "execution_count": 109,
     "metadata": {},
     "output_type": "execute_result"
    }
   ],
   "source": [
    "math.tan(math.pi / 2)"
   ]
  },
  {
   "cell_type": "code",
   "execution_count": 110,
   "id": "QYDRkklN1vo7",
   "metadata": {
    "colab": {
     "base_uri": "https://localhost:8080/"
    },
    "id": "QYDRkklN1vo7",
    "outputId": "417beea6-b2f6-4066-b5fe-480213cde14d"
   },
   "outputs": [
    {
     "data": {
      "text/plain": [
       "6.123233995736766e-17"
      ]
     },
     "execution_count": 110,
     "metadata": {},
     "output_type": "execute_result"
    }
   ],
   "source": [
    "math.cos(math.pi / 2)"
   ]
  },
  {
   "cell_type": "code",
   "execution_count": 111,
   "id": "RJvqLjDy10ia",
   "metadata": {
    "colab": {
     "base_uri": "https://localhost:8080/"
    },
    "id": "RJvqLjDy10ia",
    "outputId": "bcddc0bb-bf5b-401e-916f-c472dfa0163f"
   },
   "outputs": [
    {
     "data": {
      "text/plain": [
       "1.0"
      ]
     },
     "execution_count": 111,
     "metadata": {},
     "output_type": "execute_result"
    }
   ],
   "source": [
    "math.sin(math.pi / 2)"
   ]
  },
  {
   "cell_type": "code",
   "execution_count": 112,
   "id": "lN1kAuvj1_tz",
   "metadata": {
    "id": "lN1kAuvj1_tz"
   },
   "outputs": [],
   "source": [
    "from math import cos, sin, pi, tan"
   ]
  },
  {
   "cell_type": "code",
   "execution_count": 113,
   "id": "-ts3Ha952Sgo",
   "metadata": {
    "colab": {
     "base_uri": "https://localhost:8080/"
    },
    "id": "-ts3Ha952Sgo",
    "outputId": "1a5ef3a7-2fea-482a-cf83-fb8aad4956ae"
   },
   "outputs": [
    {
     "data": {
      "text/plain": [
       "-1.2246467991473532e-16"
      ]
     },
     "execution_count": 113,
     "metadata": {},
     "output_type": "execute_result"
    }
   ],
   "source": [
    "sin(pi) / cos(pi)"
   ]
  },
  {
   "cell_type": "code",
   "execution_count": 114,
   "id": "QRwvFMjR2WzC",
   "metadata": {
    "colab": {
     "base_uri": "https://localhost:8080/"
    },
    "id": "QRwvFMjR2WzC",
    "outputId": "6819e2f7-b646-44f8-853c-7b76f20fe5c8"
   },
   "outputs": [
    {
     "data": {
      "text/plain": [
       "-1.2246467991473532e-16"
      ]
     },
     "execution_count": 114,
     "metadata": {},
     "output_type": "execute_result"
    }
   ],
   "source": [
    "tan(pi)"
   ]
  },
  {
   "cell_type": "code",
   "execution_count": 115,
   "id": "OCpE-Znm2YCT",
   "metadata": {
    "id": "OCpE-Znm2YCT"
   },
   "outputs": [],
   "source": [
    "import math as m"
   ]
  },
  {
   "cell_type": "code",
   "execution_count": 116,
   "id": "jA3Wfqwe2iHU",
   "metadata": {
    "colab": {
     "base_uri": "https://localhost:8080/"
    },
    "id": "jA3Wfqwe2iHU",
    "outputId": "ac3f6567-124c-433f-87ef-a69b1291c355"
   },
   "outputs": [
    {
     "data": {
      "text/plain": [
       "-1.0"
      ]
     },
     "execution_count": 116,
     "metadata": {},
     "output_type": "execute_result"
    }
   ],
   "source": [
    "m.cos(m.pi)"
   ]
  },
  {
   "cell_type": "code",
   "execution_count": 117,
   "id": "SuE5xlPZ2j4S",
   "metadata": {
    "id": "SuE5xlPZ2j4S"
   },
   "outputs": [],
   "source": [
    "import math as dolphin"
   ]
  },
  {
   "cell_type": "code",
   "execution_count": 118,
   "id": "N30TlUhR2vJ4",
   "metadata": {
    "colab": {
     "base_uri": "https://localhost:8080/"
    },
    "id": "N30TlUhR2vJ4",
    "outputId": "ed16cfa7-2d51-4c7b-b88d-ffc4302faa1d"
   },
   "outputs": [
    {
     "data": {
      "text/plain": [
       "-1.0"
      ]
     },
     "execution_count": 118,
     "metadata": {},
     "output_type": "execute_result"
    }
   ],
   "source": [
    "dolphin.cos(dolphin.pi)"
   ]
  },
  {
   "cell_type": "markdown",
   "id": "ce3264ce-8b37-40f1-87fd-a4ba99bae37e",
   "metadata": {},
   "source": [
    "# Reading Tabular Data into DataFrames"
   ]
  },
  {
   "cell_type": "code",
   "execution_count": 126,
   "id": "8Ok_lIbH2xaI",
   "metadata": {
    "id": "8Ok_lIbH2xaI"
   },
   "outputs": [],
   "source": [
    "import pathlib\n",
    "import requests\n",
    "import zipfile\n",
    "\n",
    "\n",
    "DATA_DIR = pathlib.Path(\"./\")\n",
    "DATA_DIR.mkdir(parents=True, exist_ok=True)\n",
    "URL = \"https://swcarpentry.github.io/python-novice-gapminder/files/python-novice-gapminder-data.zip\"\n",
    "\n",
    "with open(DATA_DIR / \"python-novice-gapminder-data.zip\", 'wb') as f:\n",
    "    response = requests.get(URL)\n",
    "    f.write(response.content)\n",
    "\n",
    "with zipfile.ZipFile(DATA_DIR / \"python-novice-gapminder-data.zip\", \"r\") as f:\n",
    "    f.extractall(DATA_DIR)\n"
   ]
  },
  {
   "cell_type": "code",
   "execution_count": 128,
   "id": "ayrQJEuT-Cbn",
   "metadata": {
    "colab": {
     "base_uri": "https://localhost:8080/"
    },
    "id": "ayrQJEuT-Cbn",
    "outputId": "00c99a4b-807e-488b-d689-375d1181762a"
   },
   "outputs": [
    {
     "name": "stdout",
     "output_type": "stream",
     "text": [
      "gapminder\n",
      "gapminder_all.csv\n",
      "gapminder_gdp_africa.csv\n",
      "gapminder_gdp_americas.csv\n",
      "gapminder_gdp_asia.csv\n",
      "gapminder_gdp_europe.csv\n",
      "gapminder_gdp_oceania.csv\n"
     ]
    }
   ],
   "source": [
    "%%bash\n",
    "\n",
    "ls ./data"
   ]
  },
  {
   "cell_type": "code",
   "execution_count": null,
   "id": "X0ZODcr2-SYR",
   "metadata": {
    "id": "X0ZODcr2-SYR"
   },
   "outputs": [],
   "source": []
  }
 ],
 "metadata": {
  "colab": {
   "provenance": []
  },
  "kernelspec": {
   "display_name": "Python 3 (ipykernel)",
   "language": "python",
   "name": "python3"
  },
  "language_info": {
   "codemirror_mode": {
    "name": "ipython",
    "version": 3
   },
   "file_extension": ".py",
   "mimetype": "text/x-python",
   "name": "python",
   "nbconvert_exporter": "python",
   "pygments_lexer": "ipython3",
   "version": "3.9.12"
  }
 },
 "nbformat": 4,
 "nbformat_minor": 5
}
