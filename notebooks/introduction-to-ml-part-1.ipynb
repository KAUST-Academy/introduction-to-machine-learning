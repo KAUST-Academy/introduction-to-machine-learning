{
 "cells": [
  {
   "cell_type": "code",
   "execution_count": 192,
   "id": "e3ea2c52-3ead-4484-8a13-59ff459b0f78",
   "metadata": {},
   "outputs": [],
   "source": [
    "import pathlib\n",
    "import time\n",
    "\n",
    "import deepchem\n",
    "import joblib\n",
    "import matplotlib.pyplot as plt\n",
    "import numpy as np\n",
    "import pandas as pd\n",
    "from scipy import stats\n",
    "from sklearn import compose, linear_model, metrics, model_selection\n",
    "from sklearn import pipeline, preprocessing, utils"
   ]
  },
  {
   "cell_type": "markdown",
   "id": "a9b241c6-de2e-4c9a-ac4f-6c5a010e2929",
   "metadata": {
    "tags": []
   },
   "source": [
    "# MoleculeNet\n",
    "\n",
    "One of the most powerful features of DeepChem is that it comes \"batteries included\" with datasets to use. The DeepChem developer community maintains the MoleculeNet [1] suite of datasets which maintains a large collection of different scientific datasets for use in machine learning applications. The original MoleculeNet suite had 17 datasets mostly focused on molecular properties. Over the last several years, MoleculeNet has evolved into a broader collection of scientific datasets to facilitate the broad use and development of scientific machine learning tools.\n",
    "\n",
    "These datasets are integrated with the rest of the DeepChem suite so you can conveniently access these these through functions in the dc.molnet submodule. You've already seen a few examples of these loaders already as you've worked through the tutorial series. The full documentation for the MoleculeNet suite is available in our docs [2].\n",
    "\n",
    "[1] Wu, Zhenqin, et al. \"MoleculeNet: a benchmark for molecular machine learning.\" Chemical science 9.2 (2018): 513-530.\n",
    "\n",
    "[2] https://deepchem.readthedocs.io/en/latest/moleculenet.html\n",
    "\n",
    "https://pubs.acs.org/doi/pdf/10.1021/ci034243x"
   ]
  },
  {
   "cell_type": "markdown",
   "id": "e68d2238-7283-441a-b6d8-4ba3c4c682f0",
   "metadata": {},
   "source": [
    "### Download and extract the data"
   ]
  },
  {
   "cell_type": "code",
   "execution_count": 19,
   "id": "09916110-f2d8-448c-86ee-4be9ae5be169",
   "metadata": {
    "tags": []
   },
   "outputs": [],
   "source": [
    "DATA_DIR = pathlib.Path(\"../data/moleculenet/delaney\")\n",
    "DATA_DIR.mkdir(parents=True, exist_ok=True)\n",
    "\n",
    "_, (dataset,), _ = (deepchem.molnet\n",
    "                            .load_delaney(\n",
    "                                data_dir=DATA_DIR,\n",
    "                                reload=False,\n",
    "                                save_dir=DATA_DIR,\n",
    "                                splitter=None,\n",
    "                                transformers=[],\n",
    "                            )\n",
    "                    )"
   ]
  },
  {
   "cell_type": "markdown",
   "id": "02cc24c9-260e-4840-8872-723f0adc6f41",
   "metadata": {},
   "source": [
    "### Load the data\n",
    "\n",
    "We will load the data using the [Pandas](https://pandas.pydata.org/) library. Highly recommend the most recent edition of [*Python for Data Analysis*](https://learning.oreilly.com/library/view/python-for-data/9781491957653/) by Pandas creator Wes Mckinney for anyone interested in learning how to use Pandas."
   ]
  },
  {
   "cell_type": "code",
   "execution_count": 3,
   "id": "7e78bdf7-1d86-4ff5-83e1-6f80d3e9a30e",
   "metadata": {},
   "outputs": [
    {
     "name": "stdout",
     "output_type": "stream",
     "text": [
      "Compound ID,ESOL predicted log solubility in mols per litre,Minimum Degree,Molecular Weight,Number of H-Bond Donors,Number of Rings,Number of Rotatable Bonds,Polar Surface Area,measured log solubility in mols per litre,smiles\n",
      "Amigdalin,-0.9740000000000001,1,457.4320000000001,7,3,7,202.31999999999996,-0.77,OCC3OC(OCC2OC(OC(C#N)c1ccccc1)C(O)C(O)C2O)C(O)C(O)C3O \n",
      "Fenfuram,-2.885,1,201.22500000000002,1,2,2,42.24,-3.3,Cc1occc1C(=O)Nc2ccccc2\n",
      "citral,-2.5789999999999997,1,152.237,0,0,4,17.07,-2.06,CC(C)=CCCC(C)=CC(=O)\n",
      "Picene,-6.617999999999999,2,278.354,0,5,0,0.0,-7.87,c1ccc2c(c1)ccc3c2ccc4c5ccccc5ccc43\n",
      "Thiophene,-2.2319999999999998,2,84.14299999999999,0,1,0,0.0,-1.33,c1ccsc1\n",
      "benzothiazole,-2.733,2,135.191,0,2,0,12.89,-1.5,c2ccc1scnc1c2 \n",
      "\"2,2,4,6,6'-PCB\",-6.545,1,326.437,0,2,1,0.0,-7.32,Clc1cc(Cl)c(c(Cl)c1)c2c(Cl)cccc2Cl\n",
      "Estradiol,-4.138,1,272.388,2,4,0,40.46,-5.03,CC12CCC3C(CCc4cc(O)ccc34)C2CCC1O\n",
      "Dieldrin,-4.533,1,380.913,0,5,0,12.53,-6.29,ClC4=C(Cl)C5(Cl)C3C1CC(C2OC12)C3C4(Cl)C5(Cl)Cl\n"
     ]
    }
   ],
   "source": [
    "%%bash\n",
    "\n",
    "head ../data/moleculenet/delaney/delaney-processed.csv"
   ]
  },
  {
   "cell_type": "code",
   "execution_count": 118,
   "id": "c1fded7d-02a7-48c3-99e4-d19d001c8ccf",
   "metadata": {},
   "outputs": [],
   "source": [
    "_usecols = [\n",
    "    \"Minimum Degree\",\n",
    "    \"Molecular Weight\",\n",
    "    \"Number of H-Bond Donors\",\n",
    "    \"Number of Rings\",\n",
    "    \"Number of Rotatable Bonds\",\n",
    "    \"Polar Surface Area\", \n",
    "    \"measured log solubility in mols per litre\",\n",
    "    \"smiles\",\n",
    "]\n",
    "\n",
    "data = pd.read_csv(\n",
    "    DATA_DIR / \"delaney-processed.csv\",\n",
    "    usecols=_usecols,\n",
    ")"
   ]
  },
  {
   "cell_type": "markdown",
   "id": "de1d7ed7-50ae-46fb-b7c9-cb3cbd5a6f1b",
   "metadata": {},
   "source": [
    "### Explore the data"
   ]
  },
  {
   "cell_type": "code",
   "execution_count": 119,
   "id": "35f0a7b5-2310-4261-82a8-6994d1bd6a26",
   "metadata": {},
   "outputs": [
    {
     "data": {
      "text/html": [
       "<div>\n",
       "<style scoped>\n",
       "    .dataframe tbody tr th:only-of-type {\n",
       "        vertical-align: middle;\n",
       "    }\n",
       "\n",
       "    .dataframe tbody tr th {\n",
       "        vertical-align: top;\n",
       "    }\n",
       "\n",
       "    .dataframe thead th {\n",
       "        text-align: right;\n",
       "    }\n",
       "</style>\n",
       "<table border=\"1\" class=\"dataframe\">\n",
       "  <thead>\n",
       "    <tr style=\"text-align: right;\">\n",
       "      <th></th>\n",
       "      <th>Minimum Degree</th>\n",
       "      <th>Molecular Weight</th>\n",
       "      <th>Number of H-Bond Donors</th>\n",
       "      <th>Number of Rings</th>\n",
       "      <th>Number of Rotatable Bonds</th>\n",
       "      <th>Polar Surface Area</th>\n",
       "      <th>measured log solubility in mols per litre</th>\n",
       "      <th>smiles</th>\n",
       "    </tr>\n",
       "  </thead>\n",
       "  <tbody>\n",
       "    <tr>\n",
       "      <th>0</th>\n",
       "      <td>1</td>\n",
       "      <td>457.432</td>\n",
       "      <td>7</td>\n",
       "      <td>3</td>\n",
       "      <td>7</td>\n",
       "      <td>202.32</td>\n",
       "      <td>-0.77</td>\n",
       "      <td>OCC3OC(OCC2OC(OC(C#N)c1ccccc1)C(O)C(O)C2O)C(O)...</td>\n",
       "    </tr>\n",
       "    <tr>\n",
       "      <th>1</th>\n",
       "      <td>1</td>\n",
       "      <td>201.225</td>\n",
       "      <td>1</td>\n",
       "      <td>2</td>\n",
       "      <td>2</td>\n",
       "      <td>42.24</td>\n",
       "      <td>-3.30</td>\n",
       "      <td>Cc1occc1C(=O)Nc2ccccc2</td>\n",
       "    </tr>\n",
       "    <tr>\n",
       "      <th>2</th>\n",
       "      <td>1</td>\n",
       "      <td>152.237</td>\n",
       "      <td>0</td>\n",
       "      <td>0</td>\n",
       "      <td>4</td>\n",
       "      <td>17.07</td>\n",
       "      <td>-2.06</td>\n",
       "      <td>CC(C)=CCCC(C)=CC(=O)</td>\n",
       "    </tr>\n",
       "    <tr>\n",
       "      <th>3</th>\n",
       "      <td>2</td>\n",
       "      <td>278.354</td>\n",
       "      <td>0</td>\n",
       "      <td>5</td>\n",
       "      <td>0</td>\n",
       "      <td>0.00</td>\n",
       "      <td>-7.87</td>\n",
       "      <td>c1ccc2c(c1)ccc3c2ccc4c5ccccc5ccc43</td>\n",
       "    </tr>\n",
       "    <tr>\n",
       "      <th>4</th>\n",
       "      <td>2</td>\n",
       "      <td>84.143</td>\n",
       "      <td>0</td>\n",
       "      <td>1</td>\n",
       "      <td>0</td>\n",
       "      <td>0.00</td>\n",
       "      <td>-1.33</td>\n",
       "      <td>c1ccsc1</td>\n",
       "    </tr>\n",
       "  </tbody>\n",
       "</table>\n",
       "</div>"
      ],
      "text/plain": [
       "   Minimum Degree  Molecular Weight  Number of H-Bond Donors  Number of Rings  \\\n",
       "0               1           457.432                        7                3   \n",
       "1               1           201.225                        1                2   \n",
       "2               1           152.237                        0                0   \n",
       "3               2           278.354                        0                5   \n",
       "4               2            84.143                        0                1   \n",
       "\n",
       "   Number of Rotatable Bonds  Polar Surface Area  \\\n",
       "0                          7              202.32   \n",
       "1                          2               42.24   \n",
       "2                          4               17.07   \n",
       "3                          0                0.00   \n",
       "4                          0                0.00   \n",
       "\n",
       "   measured log solubility in mols per litre  \\\n",
       "0                                      -0.77   \n",
       "1                                      -3.30   \n",
       "2                                      -2.06   \n",
       "3                                      -7.87   \n",
       "4                                      -1.33   \n",
       "\n",
       "                                              smiles  \n",
       "0  OCC3OC(OCC2OC(OC(C#N)c1ccccc1)C(O)C(O)C2O)C(O)...  \n",
       "1                             Cc1occc1C(=O)Nc2ccccc2  \n",
       "2                               CC(C)=CCCC(C)=CC(=O)  \n",
       "3                 c1ccc2c(c1)ccc3c2ccc4c5ccccc5ccc43  \n",
       "4                                            c1ccsc1  "
      ]
     },
     "execution_count": 119,
     "metadata": {},
     "output_type": "execute_result"
    }
   ],
   "source": [
    "data.head()"
   ]
  },
  {
   "cell_type": "code",
   "execution_count": 120,
   "id": "075f1446-4059-4365-8971-63265f900153",
   "metadata": {},
   "outputs": [
    {
     "data": {
      "image/png": "[encoded data removed]",
      "text/plain": [
       "<Figure size 864x576 with 9 Axes>"
      ]
     },
     "metadata": {
      "needs_background": "light"
     },
     "output_type": "display_data"
    }
   ],
   "source": [
    "_ = data.hist(bins=50, figsize=(12, 8))"
   ]
  },
  {
   "cell_type": "code",
   "execution_count": 121,
   "id": "aeed0717-7763-4b87-b893-a2f761e2af64",
   "metadata": {},
   "outputs": [
    {
     "data": {
      "text/plain": [
       "measured log solubility in mols per litre    1.000000\n",
       "Number of H-Bond Donors                      0.209429\n",
       "Polar Surface Area                           0.123210\n",
       "Minimum Degree                              -0.130445\n",
       "Number of Rotatable Bonds                   -0.244256\n",
       "Number of Rings                             -0.512279\n",
       "Molecular Weight                            -0.640189\n",
       "Name: measured log solubility in mols per litre, dtype: float64"
      ]
     },
     "execution_count": 121,
     "metadata": {},
     "output_type": "execute_result"
    }
   ],
   "source": [
    "(data.corr()\n",
    "     .loc[:, \"measured log solubility in mols per litre\"]\n",
    "     .sort_values(ascending=False))"
   ]
  },
  {
   "cell_type": "code",
   "execution_count": 122,
   "id": "78eab530-5edf-4f1e-888b-4789544bc51c",
   "metadata": {},
   "outputs": [
    {
     "data": {
      "image/png": "[encoded data removed]",
      "text/plain": [
       "<Figure size 864x576 with 49 Axes>"
      ]
     },
     "metadata": {
      "needs_background": "light"
     },
     "output_type": "display_data"
    }
   ],
   "source": [
    "_ = (pd.plotting\n",
    "       .scatter_matrix(data, figsize=(12, 8)))\n",
    "plt.show()"
   ]
  },
  {
   "cell_type": "code",
   "execution_count": 123,
   "id": "bd207377-732e-4bd4-9619-3d2897a466d8",
   "metadata": {},
   "outputs": [],
   "source": [
    "cardinal_labels = [\n",
    "    \"Molecular Weight\",\n",
    "    \"Polar Surface Area\",\n",
    "]\n",
    "ordinal_labels = [\n",
    "    \"Minimum Degree\",\n",
    "    \"Number of H-Bond Donors\",\n",
    "    \"Number of Rings\",\n",
    "    \"Number of Rotatable Bonds\",\n",
    "]\n",
    "non_numeric_labels = [\n",
    "    \"smiles\"\n",
    "]\n",
    "\n",
    "# split the features into three groups and extract the target\n",
    "_target_label = \"measured log solubility in mols per litre\"\n",
    "_dropped_labels = non_numeric_labels + ordinal_labels + [_target_label]\n",
    "cardinal_features = data.drop(_dropped_labels, axis=1) \n",
    "\n",
    "_dropped_labels = non_numeric_labels + cardinal_labels + [_target_label]\n",
    "ordinal_features = data.drop(_dropped_labels, axis=1)\n",
    "\n",
    "_dropped_labels = cardinal_labels + ordinal_labels + [_target_label]\n",
    "non_numeric_features = data.drop(_dropped_labels, axis=1)\n",
    "\n",
    "target = data.loc[:, _target_label]"
   ]
  },
  {
   "cell_type": "code",
   "execution_count": 124,
   "id": "9b53a9c4-550d-4577-bf0f-bace74843784",
   "metadata": {},
   "outputs": [
    {
     "name": "stdout",
     "output_type": "stream",
     "text": [
      "<class 'pandas.core.frame.DataFrame'>\n",
      "RangeIndex: 1128 entries, 0 to 1127\n",
      "Data columns (total 2 columns):\n",
      " #   Column              Non-Null Count  Dtype  \n",
      "---  ------              --------------  -----  \n",
      " 0   Molecular Weight    1128 non-null   float64\n",
      " 1   Polar Surface Area  1128 non-null   float64\n",
      "dtypes: float64(2)\n",
      "memory usage: 17.8 KB\n"
     ]
    }
   ],
   "source": [
    "cardinal_features.info()"
   ]
  },
  {
   "cell_type": "code",
   "execution_count": 125,
   "id": "5a672145-6e4a-4a8f-9354-773c665e6139",
   "metadata": {},
   "outputs": [
    {
     "data": {
      "text/html": [
       "<div>\n",
       "<style scoped>\n",
       "    .dataframe tbody tr th:only-of-type {\n",
       "        vertical-align: middle;\n",
       "    }\n",
       "\n",
       "    .dataframe tbody tr th {\n",
       "        vertical-align: top;\n",
       "    }\n",
       "\n",
       "    .dataframe thead th {\n",
       "        text-align: right;\n",
       "    }\n",
       "</style>\n",
       "<table border=\"1\" class=\"dataframe\">\n",
       "  <thead>\n",
       "    <tr style=\"text-align: right;\">\n",
       "      <th></th>\n",
       "      <th>Molecular Weight</th>\n",
       "      <th>Polar Surface Area</th>\n",
       "    </tr>\n",
       "  </thead>\n",
       "  <tbody>\n",
       "    <tr>\n",
       "      <th>0</th>\n",
       "      <td>457.432</td>\n",
       "      <td>202.32</td>\n",
       "    </tr>\n",
       "    <tr>\n",
       "      <th>1</th>\n",
       "      <td>201.225</td>\n",
       "      <td>42.24</td>\n",
       "    </tr>\n",
       "    <tr>\n",
       "      <th>2</th>\n",
       "      <td>152.237</td>\n",
       "      <td>17.07</td>\n",
       "    </tr>\n",
       "    <tr>\n",
       "      <th>3</th>\n",
       "      <td>278.354</td>\n",
       "      <td>0.00</td>\n",
       "    </tr>\n",
       "    <tr>\n",
       "      <th>4</th>\n",
       "      <td>84.143</td>\n",
       "      <td>0.00</td>\n",
       "    </tr>\n",
       "  </tbody>\n",
       "</table>\n",
       "</div>"
      ],
      "text/plain": [
       "   Molecular Weight  Polar Surface Area\n",
       "0           457.432              202.32\n",
       "1           201.225               42.24\n",
       "2           152.237               17.07\n",
       "3           278.354                0.00\n",
       "4            84.143                0.00"
      ]
     },
     "execution_count": 125,
     "metadata": {},
     "output_type": "execute_result"
    }
   ],
   "source": [
    "cardinal_features.head()"
   ]
  },
  {
   "cell_type": "code",
   "execution_count": 126,
   "id": "d4983c89-dcbf-4403-8d76-7940d95c9122",
   "metadata": {},
   "outputs": [
    {
     "data": {
      "text/html": [
       "<div>\n",
       "<style scoped>\n",
       "    .dataframe tbody tr th:only-of-type {\n",
       "        vertical-align: middle;\n",
       "    }\n",
       "\n",
       "    .dataframe tbody tr th {\n",
       "        vertical-align: top;\n",
       "    }\n",
       "\n",
       "    .dataframe thead th {\n",
       "        text-align: right;\n",
       "    }\n",
       "</style>\n",
       "<table border=\"1\" class=\"dataframe\">\n",
       "  <thead>\n",
       "    <tr style=\"text-align: right;\">\n",
       "      <th></th>\n",
       "      <th>Molecular Weight</th>\n",
       "      <th>Polar Surface Area</th>\n",
       "    </tr>\n",
       "  </thead>\n",
       "  <tbody>\n",
       "    <tr>\n",
       "      <th>count</th>\n",
       "      <td>1128.000000</td>\n",
       "      <td>1128.000000</td>\n",
       "    </tr>\n",
       "    <tr>\n",
       "      <th>mean</th>\n",
       "      <td>203.937074</td>\n",
       "      <td>34.872881</td>\n",
       "    </tr>\n",
       "    <tr>\n",
       "      <th>std</th>\n",
       "      <td>102.738077</td>\n",
       "      <td>35.383593</td>\n",
       "    </tr>\n",
       "    <tr>\n",
       "      <th>min</th>\n",
       "      <td>16.043000</td>\n",
       "      <td>0.000000</td>\n",
       "    </tr>\n",
       "    <tr>\n",
       "      <th>25%</th>\n",
       "      <td>121.183000</td>\n",
       "      <td>0.000000</td>\n",
       "    </tr>\n",
       "    <tr>\n",
       "      <th>50%</th>\n",
       "      <td>182.179000</td>\n",
       "      <td>26.300000</td>\n",
       "    </tr>\n",
       "    <tr>\n",
       "      <th>75%</th>\n",
       "      <td>270.372000</td>\n",
       "      <td>55.440000</td>\n",
       "    </tr>\n",
       "    <tr>\n",
       "      <th>max</th>\n",
       "      <td>780.949000</td>\n",
       "      <td>268.680000</td>\n",
       "    </tr>\n",
       "  </tbody>\n",
       "</table>\n",
       "</div>"
      ],
      "text/plain": [
       "       Molecular Weight  Polar Surface Area\n",
       "count       1128.000000         1128.000000\n",
       "mean         203.937074           34.872881\n",
       "std          102.738077           35.383593\n",
       "min           16.043000            0.000000\n",
       "25%          121.183000            0.000000\n",
       "50%          182.179000           26.300000\n",
       "75%          270.372000           55.440000\n",
       "max          780.949000          268.680000"
      ]
     },
     "execution_count": 126,
     "metadata": {},
     "output_type": "execute_result"
    }
   ],
   "source": [
    "cardinal_features.describe()"
   ]
  },
  {
   "cell_type": "code",
   "execution_count": 127,
   "id": "e5ccd60d-7a3b-4f85-9806-2a88375ce465",
   "metadata": {},
   "outputs": [
    {
     "name": "stdout",
     "output_type": "stream",
     "text": [
      "<class 'pandas.core.frame.DataFrame'>\n",
      "RangeIndex: 1128 entries, 0 to 1127\n",
      "Data columns (total 4 columns):\n",
      " #   Column                     Non-Null Count  Dtype\n",
      "---  ------                     --------------  -----\n",
      " 0   Minimum Degree             1128 non-null   int64\n",
      " 1   Number of H-Bond Donors    1128 non-null   int64\n",
      " 2   Number of Rings            1128 non-null   int64\n",
      " 3   Number of Rotatable Bonds  1128 non-null   int64\n",
      "dtypes: int64(4)\n",
      "memory usage: 35.4 KB\n"
     ]
    }
   ],
   "source": [
    "ordinal_features.info()"
   ]
  },
  {
   "cell_type": "code",
   "execution_count": 128,
   "id": "66ce3256-16c7-465d-b410-6b0ed6f612cc",
   "metadata": {},
   "outputs": [
    {
     "data": {
      "text/html": [
       "<div>\n",
       "<style scoped>\n",
       "    .dataframe tbody tr th:only-of-type {\n",
       "        vertical-align: middle;\n",
       "    }\n",
       "\n",
       "    .dataframe tbody tr th {\n",
       "        vertical-align: top;\n",
       "    }\n",
       "\n",
       "    .dataframe thead th {\n",
       "        text-align: right;\n",
       "    }\n",
       "</style>\n",
       "<table border=\"1\" class=\"dataframe\">\n",
       "  <thead>\n",
       "    <tr style=\"text-align: right;\">\n",
       "      <th></th>\n",
       "      <th>Minimum Degree</th>\n",
       "      <th>Number of H-Bond Donors</th>\n",
       "      <th>Number of Rings</th>\n",
       "      <th>Number of Rotatable Bonds</th>\n",
       "    </tr>\n",
       "  </thead>\n",
       "  <tbody>\n",
       "    <tr>\n",
       "      <th>0</th>\n",
       "      <td>1</td>\n",
       "      <td>7</td>\n",
       "      <td>3</td>\n",
       "      <td>7</td>\n",
       "    </tr>\n",
       "    <tr>\n",
       "      <th>1</th>\n",
       "      <td>1</td>\n",
       "      <td>1</td>\n",
       "      <td>2</td>\n",
       "      <td>2</td>\n",
       "    </tr>\n",
       "    <tr>\n",
       "      <th>2</th>\n",
       "      <td>1</td>\n",
       "      <td>0</td>\n",
       "      <td>0</td>\n",
       "      <td>4</td>\n",
       "    </tr>\n",
       "    <tr>\n",
       "      <th>3</th>\n",
       "      <td>2</td>\n",
       "      <td>0</td>\n",
       "      <td>5</td>\n",
       "      <td>0</td>\n",
       "    </tr>\n",
       "    <tr>\n",
       "      <th>4</th>\n",
       "      <td>2</td>\n",
       "      <td>0</td>\n",
       "      <td>1</td>\n",
       "      <td>0</td>\n",
       "    </tr>\n",
       "  </tbody>\n",
       "</table>\n",
       "</div>"
      ],
      "text/plain": [
       "   Minimum Degree  Number of H-Bond Donors  Number of Rings  \\\n",
       "0               1                        7                3   \n",
       "1               1                        1                2   \n",
       "2               1                        0                0   \n",
       "3               2                        0                5   \n",
       "4               2                        0                1   \n",
       "\n",
       "   Number of Rotatable Bonds  \n",
       "0                          7  \n",
       "1                          2  \n",
       "2                          4  \n",
       "3                          0  \n",
       "4                          0  "
      ]
     },
     "execution_count": 128,
     "metadata": {},
     "output_type": "execute_result"
    }
   ],
   "source": [
    "ordinal_features.head()"
   ]
  },
  {
   "cell_type": "code",
   "execution_count": 129,
   "id": "1908d7f7-adda-4f31-858a-ca2c736f36a5",
   "metadata": {},
   "outputs": [
    {
     "name": "stdout",
     "output_type": "stream",
     "text": [
      "<class 'pandas.core.frame.DataFrame'>\n",
      "RangeIndex: 1128 entries, 0 to 1127\n",
      "Data columns (total 1 columns):\n",
      " #   Column  Non-Null Count  Dtype \n",
      "---  ------  --------------  ----- \n",
      " 0   smiles  1128 non-null   object\n",
      "dtypes: object(1)\n",
      "memory usage: 8.9+ KB\n"
     ]
    }
   ],
   "source": [
    "non_numeric_features.info()"
   ]
  },
  {
   "cell_type": "code",
   "execution_count": 130,
   "id": "e52ddcb6-9cd9-487f-b09f-f9fdd9886d63",
   "metadata": {},
   "outputs": [
    {
     "data": {
      "text/html": [
       "<div>\n",
       "<style scoped>\n",
       "    .dataframe tbody tr th:only-of-type {\n",
       "        vertical-align: middle;\n",
       "    }\n",
       "\n",
       "    .dataframe tbody tr th {\n",
       "        vertical-align: top;\n",
       "    }\n",
       "\n",
       "    .dataframe thead th {\n",
       "        text-align: right;\n",
       "    }\n",
       "</style>\n",
       "<table border=\"1\" class=\"dataframe\">\n",
       "  <thead>\n",
       "    <tr style=\"text-align: right;\">\n",
       "      <th></th>\n",
       "      <th>smiles</th>\n",
       "    </tr>\n",
       "  </thead>\n",
       "  <tbody>\n",
       "    <tr>\n",
       "      <th>0</th>\n",
       "      <td>OCC3OC(OCC2OC(OC(C#N)c1ccccc1)C(O)C(O)C2O)C(O)...</td>\n",
       "    </tr>\n",
       "    <tr>\n",
       "      <th>1</th>\n",
       "      <td>Cc1occc1C(=O)Nc2ccccc2</td>\n",
       "    </tr>\n",
       "    <tr>\n",
       "      <th>2</th>\n",
       "      <td>CC(C)=CCCC(C)=CC(=O)</td>\n",
       "    </tr>\n",
       "    <tr>\n",
       "      <th>3</th>\n",
       "      <td>c1ccc2c(c1)ccc3c2ccc4c5ccccc5ccc43</td>\n",
       "    </tr>\n",
       "    <tr>\n",
       "      <th>4</th>\n",
       "      <td>c1ccsc1</td>\n",
       "    </tr>\n",
       "  </tbody>\n",
       "</table>\n",
       "</div>"
      ],
      "text/plain": [
       "                                              smiles\n",
       "0  OCC3OC(OCC2OC(OC(C#N)c1ccccc1)C(O)C(O)C2O)C(O)...\n",
       "1                             Cc1occc1C(=O)Nc2ccccc2\n",
       "2                               CC(C)=CCCC(C)=CC(=O)\n",
       "3                 c1ccc2c(c1)ccc3c2ccc4c5ccccc5ccc43\n",
       "4                                            c1ccsc1"
      ]
     },
     "execution_count": 130,
     "metadata": {},
     "output_type": "execute_result"
    }
   ],
   "source": [
    "non_numeric_features.head()"
   ]
  },
  {
   "cell_type": "code",
   "execution_count": 131,
   "id": "4305221d-0e83-415f-b85c-018ef6a79cb7",
   "metadata": {},
   "outputs": [
    {
     "name": "stdout",
     "output_type": "stream",
     "text": [
      "<class 'pandas.core.series.Series'>\n",
      "RangeIndex: 1128 entries, 0 to 1127\n",
      "Series name: measured log solubility in mols per litre\n",
      "Non-Null Count  Dtype  \n",
      "--------------  -----  \n",
      "1128 non-null   float64\n",
      "dtypes: float64(1)\n",
      "memory usage: 8.9 KB\n"
     ]
    }
   ],
   "source": [
    "target.info()"
   ]
  },
  {
   "cell_type": "code",
   "execution_count": 132,
   "id": "f9a5d4e9-8c96-4da9-b9b7-33a0edbe018e",
   "metadata": {},
   "outputs": [
    {
     "data": {
      "text/plain": [
       "count    1128.000000\n",
       "mean       -3.050102\n",
       "std         2.096441\n",
       "min       -11.600000\n",
       "25%        -4.317500\n",
       "50%        -2.860000\n",
       "75%        -1.600000\n",
       "max         1.580000\n",
       "Name: measured log solubility in mols per litre, dtype: float64"
      ]
     },
     "execution_count": 132,
     "metadata": {},
     "output_type": "execute_result"
    }
   ],
   "source": [
    "target.describe()"
   ]
  },
  {
   "cell_type": "markdown",
   "id": "1e76e54f-947c-4123-89c6-e59eedc3621b",
   "metadata": {
    "tags": []
   },
   "source": [
    "# Look at the Big Picture\n",
    "\n",
    "Our goal over this three hands-on workshops will be to build a machine learning modeling pipeline that is capable of classifying images. Today we will mostly focus on classical machine learning algorithms implemented in Scikit-Learn; tomorrow we will revist the same problem using deep learning algorithms implemented in PyTorch. By the time you have finished this two-day workshop you should understand how to build a machine learning application capable of classifying images and be ready to apply what you have learned to a new dataset.\n",
    "\n",
    "This morning we will mostly focus on getting the data and exploring the data to gain new insights. Believe it or not these initial steps are what data scientists and machine learning engineers spend the majority of their time doing! This afternoon we will prepare our data for machine learning, see how to fit a variety of machine learning models to our dataset and shortlist a few candidate models for further analysis. We will then use hyper-parameter tuning to improve the performance of our shortlisted models to arrive at an overall best model. We will finish with a discussion of how to present the results of your model and talk about some of the aspects of deploying a trained model to make predictions.\n",
    "\n",
    "## Framing the problem\n",
    "\n",
    "### What is the business/research objective?\n",
    "\n",
    "Typically building the model is not the overall objective but rather the model itself is one part of a larger process used to answer a business/research question. Knowing the overall objective is important because it will determine your choice of machine learning algorithms to train, your measure(s) of model performance, and how much time you will spend tweaking the hyper-parameters of your model.\n",
    "\n",
    "In our example today, the overall business/research objective is to build a tool for reading electricity meter serial numbers which consist of sequences of sometimes handwritten digits. Part of this tool will be a model that can correctly classify individual handwritten digits. Our image classication model is just one of potentially many other models whose predictions are taken as inputs into another machine learning model that will be used to read off the electricity meter serial numbers. \n",
    "\n",
    "### What is the current solution?\n",
    "\n",
    "Always a good idea to know what the current solution to the problem you are trying to solve. Current solution gives a benchmark for performance. Note that the current \"best\" solution could be very simple or could be very sophisticated. Understanding the current solution helps you think of a good place to start. Example: suppose that the current solution for predicting the price of a house in a given census block is to ignore all the demographic information and predict a simple average of house prices in nearby census blocks. In this case it would probably not make sense to start building a complicated deep learning model to predict housing prices. However, if the current solution was a tuned gradient boosted machine then it probably would not make sense to try a much simpler linear regression model.\n",
    "\n",
    "With all this information, you are now ready to start designing your system. First, you need to frame the problem by answering the following questions.\n",
    "\n",
    "* Is our problem supervised, unsupervised, or reinforcement learning?\n",
    "* Is our problem a classification task, a regression task, or something else? If our problem is a classification task are we trying to classify samples into 2 categories (binary classification) or more than 2 (multi-class classification) categories? If our problem is a regression task, are we trying to predict a single value (univariate regression) or multiple values (multivariate regression) for each sample?\n",
    "* Should you use batch learning or online learning techniques?\n"
   ]
  },
  {
   "cell_type": "markdown",
   "id": "a52576a2-4c8e-4707-b021-2e424c4633ee",
   "metadata": {},
   "source": [
    "### Exercise: Selecting a metric\n",
    "\n",
    "Scikit-Learn has a number of different [possible metrics](https://scikit-learn.org/stable/modules/model_evaluation.html) that you can choose from (or you can create your own custom metric if required). Can you find a few metrics that seems appropriate for our regression model?"
   ]
  },
  {
   "cell_type": "code",
   "execution_count": null,
   "id": "9a01cae0-8437-45c6-8edc-05a51f6a70ae",
   "metadata": {},
   "outputs": [],
   "source": []
  },
  {
   "cell_type": "markdown",
   "id": "7a2212c9-f227-4b8f-ac41-6deb6f714976",
   "metadata": {},
   "source": [
    "# Creating a Test Dataset\n",
    "\n",
    "Before we look at the data any further, we need to create a test set, put it aside, and never look at it (until we are ready to test our trainined machine learning model!). Why? We don't want our machine learning model to memorize our dataset (this is called overfitting). Instead we want a model that will generalize well (i.e., make good predictions) for inputs that it didn't see during training. To do this we hold split our dataset into training and testing datasets. The training dataset will be used to train our machine learning model(s) and the testing dataset will be used to make a final evaluation of our machine learning model(s).\n",
    "\n",
    "## If you might refresh data in the future...\n",
    "\n",
    "...then you want to use some particular hashing function to compute the hash of a unique identifier for each observation of data and include the observation in the test set if resulting hash value is less than some fixed percentage of the maximum possible hash value for your algorithm. This way even if you fetch more data, your test set will never include data that was previously included in the training data."
   ]
  },
  {
   "cell_type": "code",
   "execution_count": null,
   "id": "dba37993-2014-4267-9589-fe88d0b21090",
   "metadata": {},
   "outputs": [],
   "source": [
    "import zlib\n",
    "\n",
    "\n",
    "def in_testing_data(identifier, test_size):\n",
    "    _hash = zlib.crc32(bytes(identifier))\n",
    "    return _hash & 0xffffffff < test_size * 2**32\n",
    "\n",
    "\n",
    "def split_train_test_by_id(data, test_size, id_column):\n",
    "    ids = data[id_column]\n",
    "    in_test_set = ids.apply(lambda identifier: in_testing_data(identifier, test_size))\n",
    "    return data.loc[~in_test_set], data.loc[in_test_set]\n"
   ]
  },
  {
   "cell_type": "markdown",
   "id": "b6c73954-f3a5-464b-b179-17f7fbe142fb",
   "metadata": {},
   "source": [
    "## If this is all the data you will ever have...\n",
    "\n",
    "...then you can just set a seed for the random number generator and then randomly split the data. Scikit-Learn has a [`model_selection`](https://scikit-learn.org/stable/modules/generated/sklearn.model_selection.train_test_split.html) module that contains tools for splitting datasets into training and testing sets."
   ]
  },
  {
   "cell_type": "code",
   "execution_count": null,
   "id": "f791e74d-cddd-4383-8a6c-5b80df4a5daf",
   "metadata": {},
   "outputs": [],
   "source": [
    "model_selection.train_test_split?"
   ]
  },
  {
   "cell_type": "code",
   "execution_count": 133,
   "id": "6b35bf11-0fa5-4879-bbda-e976244ec929",
   "metadata": {},
   "outputs": [],
   "source": [
    "SEED = 42\n",
    "SEED_GENERATOR = np.random.RandomState(SEED)\n",
    "\n",
    "\n",
    "def generate_seed():\n",
    "    return SEED_GENERATOR.randint(np.iinfo(\"uint16\").max)"
   ]
  },
  {
   "cell_type": "code",
   "execution_count": 160,
   "id": "beff5a36-07c7-404f-916b-260c789aff91",
   "metadata": {},
   "outputs": [],
   "source": [
    "# split the dataset into training and testing data\n",
    "_seed = generate_seed()\n",
    "_random_state = np.random.RandomState(_seed)\n",
    "train_features, test_features, train_target, test_target = model_selection.train_test_split(\n",
    "    data.drop(_target, axis=1),\n",
    "    #ordinal_features,\n",
    "    #non_numeric_features,\n",
    "    target,\n",
    "    test_size=1e-1,\n",
    "    random_state=_random_state\n",
    ")"
   ]
  },
  {
   "cell_type": "code",
   "execution_count": 135,
   "id": "e9ed741c-996c-4df3-8680-49f14cc0dcf0",
   "metadata": {},
   "outputs": [
    {
     "name": "stdout",
     "output_type": "stream",
     "text": [
      "<class 'pandas.core.frame.DataFrame'>\n",
      "Int64Index: 1015 entries, 795 to 289\n",
      "Data columns (total 2 columns):\n",
      " #   Column              Non-Null Count  Dtype  \n",
      "---  ------              --------------  -----  \n",
      " 0   Molecular Weight    1015 non-null   float64\n",
      " 1   Polar Surface Area  1015 non-null   float64\n",
      "dtypes: float64(2)\n",
      "memory usage: 23.8 KB\n"
     ]
    }
   ],
   "source": [
    "train_cardinal_features.info()"
   ]
  },
  {
   "cell_type": "code",
   "execution_count": 136,
   "id": "8115616b-7609-4510-8347-b02e497bed84",
   "metadata": {},
   "outputs": [
    {
     "name": "stdout",
     "output_type": "stream",
     "text": [
      "<class 'pandas.core.frame.DataFrame'>\n",
      "Int64Index: 1015 entries, 795 to 289\n",
      "Data columns (total 4 columns):\n",
      " #   Column                     Non-Null Count  Dtype\n",
      "---  ------                     --------------  -----\n",
      " 0   Minimum Degree             1015 non-null   int64\n",
      " 1   Number of H-Bond Donors    1015 non-null   int64\n",
      " 2   Number of Rings            1015 non-null   int64\n",
      " 3   Number of Rotatable Bonds  1015 non-null   int64\n",
      "dtypes: int64(4)\n",
      "memory usage: 39.6 KB\n"
     ]
    }
   ],
   "source": [
    "train_ordinal_features.info()"
   ]
  },
  {
   "cell_type": "code",
   "execution_count": 137,
   "id": "ffb7f42a-c7fc-45f3-a8ea-38dc5d284757",
   "metadata": {},
   "outputs": [
    {
     "name": "stdout",
     "output_type": "stream",
     "text": [
      "<class 'pandas.core.frame.DataFrame'>\n",
      "Int64Index: 1015 entries, 795 to 289\n",
      "Data columns (total 1 columns):\n",
      " #   Column  Non-Null Count  Dtype \n",
      "---  ------  --------------  ----- \n",
      " 0   smiles  1015 non-null   object\n",
      "dtypes: object(1)\n",
      "memory usage: 15.9+ KB\n"
     ]
    }
   ],
   "source": [
    "train_non_numeric_features.info()"
   ]
  },
  {
   "cell_type": "code",
   "execution_count": 138,
   "id": "3722a295-4c88-4d24-b5cc-b84282f3de57",
   "metadata": {},
   "outputs": [
    {
     "name": "stdout",
     "output_type": "stream",
     "text": [
      "<class 'pandas.core.series.Series'>\n",
      "Int64Index: 1015 entries, 795 to 289\n",
      "Series name: measured log solubility in mols per litre\n",
      "Non-Null Count  Dtype  \n",
      "--------------  -----  \n",
      "1015 non-null   float64\n",
      "dtypes: float64(1)\n",
      "memory usage: 15.9 KB\n"
     ]
    }
   ],
   "source": [
    "train_target.info()"
   ]
  },
  {
   "cell_type": "markdown",
   "id": "090af9ae-e36c-4c5d-ac2d-25e1ea1c34df",
   "metadata": {},
   "source": [
    "Again, if you want to you can write out the train and test sets to disk to avoid having to recreate them later."
   ]
  },
  {
   "cell_type": "code",
   "execution_count": null,
   "id": "6ede1948-a85a-450f-8c0b-8c18b56ed4d3",
   "metadata": {},
   "outputs": [],
   "source": [
    "_ = (train_features.join(train_target)\n",
    "                   .to_parquet(DATA_DIR / \"train.parquet\", index=False))\n",
    "\n",
    "_ = (test_features.join(test_target)\n",
    "                   .to_parquet(DATA_DIR / \"test.parquet\", index=False))"
   ]
  },
  {
   "cell_type": "markdown",
   "id": "4280e020-f990-434c-98b9-361321134432",
   "metadata": {},
   "source": [
    "# Prepare the data for machine learning algorithms\n",
    "\n",
    "Best practice is to write functions to automate the process of preparing your data for machine learning. Why?\n",
    "\n",
    "* Allows you to reproduce these transformations easily on any dataset.\n",
    "* You will gradually build a library of transformation functions that you can reuse in future projects.\n",
    "* You can use these functions in a live system to transform the new data before feeding it to your algorithms.\n",
    "* This will make it possible for you to easily experiment with various transformations and see which combination of transformations works best.\n",
    "\n",
    "We are working with an benchmark dataset that has already been prepared for analysis (mostly!). You should be aware that academic benchmark datasets are not very representative of the type of datasets that you will encounter in most practical applications. "
   ]
  },
  {
   "cell_type": "markdown",
   "id": "626fd519-ffb6-4ae9-be55-53d4a54e53c5",
   "metadata": {},
   "source": [
    "## Feature Scaling\n",
    "\n",
    "Machine learning algorithms typically don’t perform well when the input numerical attributes have very different scales. One of the most common approaches is to rescale features so that they all have zero mean and unit standard deviation. This approach, which is also called standardization, is particularly useful when attributes/features have outliers and when downstream machine learning algorithms assume that attributes/features have a Gaussian or Normal distribution. This approach is implemented in Scikit-Learn by the [`preprocessing.StandardScaler`](https://scikit-learn.org/stable/modules/generated/sklearn.preprocessing.MinMaxScaler.html#sklearn.preprocessing.StandardScaler) class."
   ]
  },
  {
   "cell_type": "code",
   "execution_count": 35,
   "id": "506f4f98-aa73-46b0-82ce-ebf0d4a0ff81",
   "metadata": {
    "collapsed": true,
    "jupyter": {
     "outputs_hidden": true
    },
    "tags": []
   },
   "outputs": [
    {
     "data": {
      "text/plain": [
       "\u001b[0;31mInit signature:\u001b[0m \u001b[0mpreprocessing\u001b[0m\u001b[0;34m.\u001b[0m\u001b[0mStandardScaler\u001b[0m\u001b[0;34m(\u001b[0m\u001b[0;34m*\u001b[0m\u001b[0;34m,\u001b[0m \u001b[0mcopy\u001b[0m\u001b[0;34m=\u001b[0m\u001b[0;32mTrue\u001b[0m\u001b[0;34m,\u001b[0m \u001b[0mwith_mean\u001b[0m\u001b[0;34m=\u001b[0m\u001b[0;32mTrue\u001b[0m\u001b[0;34m,\u001b[0m \u001b[0mwith_std\u001b[0m\u001b[0;34m=\u001b[0m\u001b[0;32mTrue\u001b[0m\u001b[0;34m)\u001b[0m\u001b[0;34m\u001b[0m\u001b[0;34m\u001b[0m\u001b[0m\n",
       "\u001b[0;31mDocstring:\u001b[0m     \n",
       "Standardize features by removing the mean and scaling to unit variance.\n",
       "\n",
       "The standard score of a sample `x` is calculated as:\n",
       "\n",
       "    z = (x - u) / s\n",
       "\n",
       "where `u` is the mean of the training samples or zero if `with_mean=False`,\n",
       "and `s` is the standard deviation of the training samples or one if\n",
       "`with_std=False`.\n",
       "\n",
       "Centering and scaling happen independently on each feature by computing\n",
       "the relevant statistics on the samples in the training set. Mean and\n",
       "standard deviation are then stored to be used on later data using\n",
       ":meth:`transform`.\n",
       "\n",
       "Standardization of a dataset is a common requirement for many\n",
       "machine learning estimators: they might behave badly if the\n",
       "individual features do not more or less look like standard normally\n",
       "distributed data (e.g. Gaussian with 0 mean and unit variance).\n",
       "\n",
       "For instance many elements used in the objective function of\n",
       "a learning algorithm (such as the RBF kernel of Support Vector\n",
       "Machines or the L1 and L2 regularizers of linear models) assume that\n",
       "all features are centered around 0 and have variance in the same\n",
       "order. If a feature has a variance that is orders of magnitude larger\n",
       "than others, it might dominate the objective function and make the\n",
       "estimator unable to learn from other features correctly as expected.\n",
       "\n",
       "This scaler can also be applied to sparse CSR or CSC matrices by passing\n",
       "`with_mean=False` to avoid breaking the sparsity structure of the data.\n",
       "\n",
       "Read more in the :ref:`User Guide <preprocessing_scaler>`.\n",
       "\n",
       "Parameters\n",
       "----------\n",
       "copy : bool, default=True\n",
       "    If False, try to avoid a copy and do inplace scaling instead.\n",
       "    This is not guaranteed to always work inplace; e.g. if the data is\n",
       "    not a NumPy array or scipy.sparse CSR matrix, a copy may still be\n",
       "    returned.\n",
       "\n",
       "with_mean : bool, default=True\n",
       "    If True, center the data before scaling.\n",
       "    This does not work (and will raise an exception) when attempted on\n",
       "    sparse matrices, because centering them entails building a dense\n",
       "    matrix which in common use cases is likely to be too large to fit in\n",
       "    memory.\n",
       "\n",
       "with_std : bool, default=True\n",
       "    If True, scale the data to unit variance (or equivalently,\n",
       "    unit standard deviation).\n",
       "\n",
       "Attributes\n",
       "----------\n",
       "scale_ : ndarray of shape (n_features,) or None\n",
       "    Per feature relative scaling of the data to achieve zero mean and unit\n",
       "    variance. Generally this is calculated using `np.sqrt(var_)`. If a\n",
       "    variance is zero, we can't achieve unit variance, and the data is left\n",
       "    as-is, giving a scaling factor of 1. `scale_` is equal to `None`\n",
       "    when `with_std=False`.\n",
       "\n",
       "    .. versionadded:: 0.17\n",
       "       *scale_*\n",
       "\n",
       "mean_ : ndarray of shape (n_features,) or None\n",
       "    The mean value for each feature in the training set.\n",
       "    Equal to ``None`` when ``with_mean=False``.\n",
       "\n",
       "var_ : ndarray of shape (n_features,) or None\n",
       "    The variance for each feature in the training set. Used to compute\n",
       "    `scale_`. Equal to ``None`` when ``with_std=False``.\n",
       "\n",
       "n_features_in_ : int\n",
       "    Number of features seen during :term:`fit`.\n",
       "\n",
       "    .. versionadded:: 0.24\n",
       "\n",
       "feature_names_in_ : ndarray of shape (`n_features_in_`,)\n",
       "    Names of features seen during :term:`fit`. Defined only when `X`\n",
       "    has feature names that are all strings.\n",
       "\n",
       "    .. versionadded:: 1.0\n",
       "\n",
       "n_samples_seen_ : int or ndarray of shape (n_features,)\n",
       "    The number of samples processed by the estimator for each feature.\n",
       "    If there are no missing samples, the ``n_samples_seen`` will be an\n",
       "    integer, otherwise it will be an array of dtype int. If\n",
       "    `sample_weights` are used it will be a float (if no missing data)\n",
       "    or an array of dtype float that sums the weights seen so far.\n",
       "    Will be reset on new calls to fit, but increments across\n",
       "    ``partial_fit`` calls.\n",
       "\n",
       "See Also\n",
       "--------\n",
       "scale : Equivalent function without the estimator API.\n",
       "\n",
       ":class:`~sklearn.decomposition.PCA` : Further removes the linear\n",
       "    correlation across features with 'whiten=True'.\n",
       "\n",
       "Notes\n",
       "-----\n",
       "NaNs are treated as missing values: disregarded in fit, and maintained in\n",
       "transform.\n",
       "\n",
       "We use a biased estimator for the standard deviation, equivalent to\n",
       "`numpy.std(x, ddof=0)`. Note that the choice of `ddof` is unlikely to\n",
       "affect model performance.\n",
       "\n",
       "For a comparison of the different scalers, transformers, and normalizers,\n",
       "see :ref:`examples/preprocessing/plot_all_scaling.py\n",
       "<sphx_glr_auto_examples_preprocessing_plot_all_scaling.py>`.\n",
       "\n",
       "Examples\n",
       "--------\n",
       ">>> from sklearn.preprocessing import StandardScaler\n",
       ">>> data = [[0, 0], [0, 0], [1, 1], [1, 1]]\n",
       ">>> scaler = StandardScaler()\n",
       ">>> print(scaler.fit(data))\n",
       "StandardScaler()\n",
       ">>> print(scaler.mean_)\n",
       "[0.5 0.5]\n",
       ">>> print(scaler.transform(data))\n",
       "[[-1. -1.]\n",
       " [-1. -1.]\n",
       " [ 1.  1.]\n",
       " [ 1.  1.]]\n",
       ">>> print(scaler.transform([[2, 2]]))\n",
       "[[3. 3.]]\n",
       "\u001b[0;31mFile:\u001b[0m           ~/Training/ai-microcredentials/introduction-to-machine-learning/env/lib/python3.9/site-packages/sklearn/preprocessing/_data.py\n",
       "\u001b[0;31mType:\u001b[0m           type\n",
       "\u001b[0;31mSubclasses:\u001b[0m     \n"
      ]
     },
     "metadata": {},
     "output_type": "display_data"
    }
   ],
   "source": [
    "preprocessing.StandardScaler?"
   ]
  },
  {
   "cell_type": "code",
   "execution_count": 139,
   "id": "c00fe28e-a285-4e87-979e-462be36d0815",
   "metadata": {},
   "outputs": [],
   "source": [
    "# hyper-parameters\n",
    "_hyperparameters = {\n",
    "    \"copy\": True,\n",
    "    \"with_mean\": True,\n",
    "    \"with_std\": True,\n",
    "}\n",
    "preprocessor = preprocessing.StandardScaler(**_hyperparameters)"
   ]
  },
  {
   "cell_type": "code",
   "execution_count": 140,
   "id": "33ca8616-d29f-4d47-888c-841f6b823b2e",
   "metadata": {},
   "outputs": [],
   "source": [
    "preprocessed_train_cardinal_features = preprocessor.fit_transform(train_cardinal_features)"
   ]
  },
  {
   "cell_type": "code",
   "execution_count": 141,
   "id": "e07170a9-6cb0-4474-8bab-15fec52acc0f",
   "metadata": {},
   "outputs": [
    {
     "data": {
      "text/plain": [
       "(1015, 2)"
      ]
     },
     "execution_count": 141,
     "metadata": {},
     "output_type": "execute_result"
    }
   ],
   "source": [
    "preprocessed_train_cardinal_features.shape"
   ]
  },
  {
   "cell_type": "code",
   "execution_count": 142,
   "id": "df6bf42d-6a72-4b7d-b768-412d5edcb010",
   "metadata": {},
   "outputs": [
    {
     "data": {
      "text/plain": [
       "array([[ 0.4796579 , -0.27772776],\n",
       "       [-0.47237914,  0.20267911],\n",
       "       [-0.12827413, -0.27108619],\n",
       "       ...,\n",
       "       [-0.77095119, -0.99114304],\n",
       "       [-1.16051203, -0.99114304],\n",
       "       [-0.13779912, -0.99114304]])"
      ]
     },
     "execution_count": 142,
     "metadata": {},
     "output_type": "execute_result"
    }
   ],
   "source": [
    "preprocessed_train_cardinal_features[:, :5]"
   ]
  },
  {
   "cell_type": "code",
   "execution_count": 143,
   "id": "034122d4-e0e8-4db9-95b1-0c46b733209d",
   "metadata": {},
   "outputs": [
    {
     "data": {
      "text/plain": [
       "array([ 2.11762737e-16, -2.27513684e-17])"
      ]
     },
     "execution_count": 143,
     "metadata": {},
     "output_type": "execute_result"
    }
   ],
   "source": [
    "preprocessed_train_cardinal_features.mean(axis=0)"
   ]
  },
  {
   "cell_type": "code",
   "execution_count": 144,
   "id": "d2306826-abb1-4575-bd53-14f0742131a1",
   "metadata": {},
   "outputs": [
    {
     "data": {
      "text/plain": [
       "array([1., 1.])"
      ]
     },
     "execution_count": 144,
     "metadata": {},
     "output_type": "execute_result"
    }
   ],
   "source": [
    "preprocessed_train_cardinal_features.std(axis=0)"
   ]
  },
  {
   "cell_type": "markdown",
   "id": "4bdd7f6c-0c01-46aa-b2c3-8dce85005f76",
   "metadata": {},
   "source": [
    "The `preprocessing.MinMaxScaler` and the `preprocessing.StandardScaler` classes are the first Scikit-Learn `Transformer` classes that we have encountered. As such now is a good to to discuss the Scikit-Learn application programming interface (API). The [Scikit-Learn API](https://scikit-learn.org/stable/modules/classes.html) is one of the best designed API's around and has heavily influenced API design choices of other libraries in the Python Data Science and Machine Learning ecosystem, in particular [Dask](https://dask.org/) and [NVIDIA RAPIDS](https://rapids.ai/). Familiarly with the Scikit-Learn API will make it easier for you to get started with these libraries.\n",
    "\n",
    "The Scikit-Learn API is built around the following key concepts.\n",
    "\n",
    "* Estimators: Any object that can estimate some parameters based on a dataset is called an estimator (e.g., an `preprocessing.MinMaxScaler` is an estimator). The estimation itself is performed by the `fit` method, and it takes only a dataset as a parameter (or two for supervised learning algorithms; the second dataset contains the labels). Any other parameter needed to guide the estimation process is considered a hyperparameter (such as the `feature_range` parameter in `preprocessing.MinMaxScaler`), and it must be set as an instance variable (generally via a constructor parameter).\n",
    "\n",
    "* Transformers: Some estimators (such as an `preprocessing.MinMaxScaler`) can also transform a dataset; these are called transformers. Once again, the API is simple: the transformation is performed by the transform method with the dataset to transform as a parameter. It returns the transformed dataset. This transformation generally relies on the learned parameters. All transformers also have a convenience method called `fit_transform` that is equivalent to calling `fit` and then `transform` (but sometimes `fit_transform` is optimized and runs much faster).\n",
    "\n",
    "* Predictors: Finally, some estimators, given a dataset, are capable of making predictions; they are called predictors. A predictor has a `predict` method that takes a dataset of new instances and returns a dataset of corresponding predictions. It also has a score method that measures the quality of the predictions, given a test set (and the corresponding labels, in the case of supervised learning algorithms).\n",
    "\n",
    "All of an estimator’s hyperparameters are accessible directly via public instance variables (e.g., `preprocessor.feature_range`), and all the estimator’s learned parameters are accessible via public instance variables with an underscore suffix (e.g., `preprocessor.scale_`). Finally, Scikit-Learn provides reasonable default values for most parameters which makes it easy to quickly create a baseline working system."
   ]
  },
  {
   "cell_type": "markdown",
   "id": "6afd0ab6-3d65-466c-b2d6-8926601d4f3d",
   "metadata": {},
   "source": [
    "### Exercise: MinMaxScaler vs StandardScaler\n",
    "\n",
    "An alternative to standard scaling is to rescale features so that they all reside within the same range (typically between 0 and 1).\n",
    "\n",
    "Create an instance of the [`preprocessing.MinMaxScaler`](https://scikit-learn.org/stable/modules/generated/sklearn.preprocessing.MinMaxScaler.html) class and use it to rescale the training dataset. Compare the two different rescaled versions of the dataset. Which of the two methods do you prefer?"
   ]
  },
  {
   "cell_type": "code",
   "execution_count": null,
   "id": "a58ce5ba-4568-4f39-a620-93b7fe402396",
   "metadata": {},
   "outputs": [],
   "source": [
    "# insert your code here!"
   ]
  },
  {
   "cell_type": "markdown",
   "id": "3d04a639-ba99-47b5-936a-7c6a555c6f08",
   "metadata": {},
   "source": [
    "As with all the transformations, it is important to fit the scalers to the training data only, not to the full dataset (including the test set). Only then can you use them to transform the training set and the test set (and new data)."
   ]
  },
  {
   "cell_type": "markdown",
   "id": "54c62f5c-21cd-4138-8776-baca812ba3d9",
   "metadata": {},
   "source": [
    "## Feature Engineering\n",
    "\n",
    "Feature engineering is one of the most important parts of any machine learning project. There are two main tasks in feature engineering.\n",
    "\n",
    "* Feature selection: selecting the best subset of features for training. \n",
    "* Feature extraction: combining existing features to produce new features for training.\n",
    "* Feature creation: finding additional data sources to use as features.\n",
    "\n",
    "Feature engineering is often the most labor intensive part of building a machine learning pipeline and often requires extensive expertise/domain knowledge relevant to the problem at hand. Recently packages such as [featuretools](https://www.featuretools.com/) have been developed to (partially) automate the process of feature engineering.\n",
    "\n",
    "The success of deep learning in various domains is in significant part due to the fact that deep learning models are able to automatically engineer features that are most useful for solving certain machine learning tasks. In effect deep learning replaces the expensive to acquire expertise/domain knowledge required to hand-engineer predictive features. \n",
    "\n",
    "A recent example that demonstrates that power of automated feature engineering is [Space2vec](https://medium.com/dessa-news/space-2-vec-fd900f5566), a deep learning based supernovae classifier developed by machine learning engineers with no expertise in Astronomy that was able to outperform the machine learning solution developed by NERSC scientists. The machine learning pipeline developed by NERSC scientists, called [AUTOSCAN](https://portal.nersc.gov/project/dessn/autoscan/), was a significant improvement over the previous solution which relied on manual classification of supernovae by astronomers. However, in order to achieve such high accuracy, the NERSC solution relied on a dataset of hand-engineered features developed by astronomers with over a century of combined training and expertise in the domain. The deep learning algorithm used by space2vec could be applied directly to the raw image data and did not rely on any hand-engineered features."
   ]
  },
  {
   "cell_type": "code",
   "execution_count": 177,
   "id": "2077a1e5-6756-4ca5-b054-7cf8b399b30c",
   "metadata": {
    "collapsed": true,
    "jupyter": {
     "outputs_hidden": true
    },
    "tags": []
   },
   "outputs": [
    {
     "data": {
      "text/plain": [
       "\u001b[0;31mSignature:\u001b[0m\n",
       "\u001b[0mdeepchem\u001b[0m\u001b[0;34m.\u001b[0m\u001b[0mmolnet\u001b[0m\u001b[0;34m.\u001b[0m\u001b[0mload_delaney\u001b[0m\u001b[0;34m(\u001b[0m\u001b[0;34m\u001b[0m\n",
       "\u001b[0;34m\u001b[0m    \u001b[0mfeaturizer\u001b[0m\u001b[0;34m:\u001b[0m \u001b[0mUnion\u001b[0m\u001b[0;34m[\u001b[0m\u001b[0mdeepchem\u001b[0m\u001b[0;34m.\u001b[0m\u001b[0mfeat\u001b[0m\u001b[0;34m.\u001b[0m\u001b[0mbase_classes\u001b[0m\u001b[0;34m.\u001b[0m\u001b[0mFeaturizer\u001b[0m\u001b[0;34m,\u001b[0m \u001b[0mstr\u001b[0m\u001b[0;34m]\u001b[0m \u001b[0;34m=\u001b[0m \u001b[0;34m'ECFP'\u001b[0m\u001b[0;34m,\u001b[0m\u001b[0;34m\u001b[0m\n",
       "\u001b[0;34m\u001b[0m    \u001b[0msplitter\u001b[0m\u001b[0;34m:\u001b[0m \u001b[0mUnion\u001b[0m\u001b[0;34m[\u001b[0m\u001b[0mdeepchem\u001b[0m\u001b[0;34m.\u001b[0m\u001b[0msplits\u001b[0m\u001b[0;34m.\u001b[0m\u001b[0msplitters\u001b[0m\u001b[0;34m.\u001b[0m\u001b[0mSplitter\u001b[0m\u001b[0;34m,\u001b[0m \u001b[0mstr\u001b[0m\u001b[0;34m,\u001b[0m \u001b[0mNoneType\u001b[0m\u001b[0;34m]\u001b[0m \u001b[0;34m=\u001b[0m \u001b[0;34m'scaffold'\u001b[0m\u001b[0;34m,\u001b[0m\u001b[0;34m\u001b[0m\n",
       "\u001b[0;34m\u001b[0m    \u001b[0mtransformers\u001b[0m\u001b[0;34m:\u001b[0m \u001b[0mList\u001b[0m\u001b[0;34m[\u001b[0m\u001b[0mUnion\u001b[0m\u001b[0;34m[\u001b[0m\u001b[0mdeepchem\u001b[0m\u001b[0;34m.\u001b[0m\u001b[0mmolnet\u001b[0m\u001b[0;34m.\u001b[0m\u001b[0mload_function\u001b[0m\u001b[0;34m.\u001b[0m\u001b[0mmolnet_loader\u001b[0m\u001b[0;34m.\u001b[0m\u001b[0mTransformerGenerator\u001b[0m\u001b[0;34m,\u001b[0m \u001b[0mstr\u001b[0m\u001b[0;34m]\u001b[0m\u001b[0;34m]\u001b[0m \u001b[0;34m=\u001b[0m \u001b[0;34m[\u001b[0m\u001b[0;34m'normalization'\u001b[0m\u001b[0;34m]\u001b[0m\u001b[0;34m,\u001b[0m\u001b[0;34m\u001b[0m\n",
       "\u001b[0;34m\u001b[0m    \u001b[0mreload\u001b[0m\u001b[0;34m:\u001b[0m \u001b[0mbool\u001b[0m \u001b[0;34m=\u001b[0m \u001b[0;32mTrue\u001b[0m\u001b[0;34m,\u001b[0m\u001b[0;34m\u001b[0m\n",
       "\u001b[0;34m\u001b[0m    \u001b[0mdata_dir\u001b[0m\u001b[0;34m:\u001b[0m \u001b[0mOptional\u001b[0m\u001b[0;34m[\u001b[0m\u001b[0mstr\u001b[0m\u001b[0;34m]\u001b[0m \u001b[0;34m=\u001b[0m \u001b[0;32mNone\u001b[0m\u001b[0;34m,\u001b[0m\u001b[0;34m\u001b[0m\n",
       "\u001b[0;34m\u001b[0m    \u001b[0msave_dir\u001b[0m\u001b[0;34m:\u001b[0m \u001b[0mOptional\u001b[0m\u001b[0;34m[\u001b[0m\u001b[0mstr\u001b[0m\u001b[0;34m]\u001b[0m \u001b[0;34m=\u001b[0m \u001b[0;32mNone\u001b[0m\u001b[0;34m,\u001b[0m\u001b[0;34m\u001b[0m\n",
       "\u001b[0;34m\u001b[0m    \u001b[0;34m**\u001b[0m\u001b[0mkwargs\u001b[0m\u001b[0;34m,\u001b[0m\u001b[0;34m\u001b[0m\n",
       "\u001b[0;34m\u001b[0m\u001b[0;34m)\u001b[0m \u001b[0;34m->\u001b[0m \u001b[0mTuple\u001b[0m\u001b[0;34m[\u001b[0m\u001b[0mList\u001b[0m\u001b[0;34m[\u001b[0m\u001b[0mstr\u001b[0m\u001b[0;34m]\u001b[0m\u001b[0;34m,\u001b[0m \u001b[0mTuple\u001b[0m\u001b[0;34m[\u001b[0m\u001b[0mdeepchem\u001b[0m\u001b[0;34m.\u001b[0m\u001b[0mdata\u001b[0m\u001b[0;34m.\u001b[0m\u001b[0mdatasets\u001b[0m\u001b[0;34m.\u001b[0m\u001b[0mDataset\u001b[0m\u001b[0;34m,\u001b[0m \u001b[0;34m...\u001b[0m\u001b[0;34m]\u001b[0m\u001b[0;34m,\u001b[0m \u001b[0mList\u001b[0m\u001b[0;34m[\u001b[0m\u001b[0mtransformers\u001b[0m\u001b[0;34m.\u001b[0m\u001b[0mTransformer\u001b[0m\u001b[0;34m]\u001b[0m\u001b[0;34m]\u001b[0m\u001b[0;34m\u001b[0m\u001b[0;34m\u001b[0m\u001b[0m\n",
       "\u001b[0;31mDocstring:\u001b[0m\n",
       "Load Delaney dataset\n",
       "\n",
       "The Delaney (ESOL) dataset a regression dataset containing structures and\n",
       "water solubility data for 1128 compounds. The dataset is widely used to\n",
       "validate machine learning models on estimating solubility directly from\n",
       "molecular structures (as encoded in SMILES strings).\n",
       "\n",
       "Scaffold splitting is recommended for this dataset.\n",
       "\n",
       "The raw data csv file contains columns below:\n",
       "\n",
       "- \"Compound ID\" - Name of the compound\n",
       "- \"smiles\" - SMILES representation of the molecular structure\n",
       "- \"measured log solubility in mols per litre\" - Log-scale water solubility\n",
       "  of the compound, used as label\n",
       "\n",
       "Parameters\n",
       "----------\n",
       "featurizer: Featurizer or str\n",
       "  the featurizer to use for processing the data.  Alternatively you can pass\n",
       "  one of the names from dc.molnet.featurizers as a shortcut.\n",
       "splitter: Splitter or str\n",
       "  the splitter to use for splitting the data into training, validation, and\n",
       "  test sets.  Alternatively you can pass one of the names from\n",
       "  dc.molnet.splitters as a shortcut.  If this is None, all the data\n",
       "  will be included in a single dataset.\n",
       "transformers: list of TransformerGenerators or strings\n",
       "  the Transformers to apply to the data.  Each one is specified by a\n",
       "  TransformerGenerator or, as a shortcut, one of the names from\n",
       "  dc.molnet.transformers.\n",
       "reload: bool\n",
       "  if True, the first call for a particular featurizer and splitter will cache\n",
       "  the datasets to disk, and subsequent calls will reload the cached datasets.\n",
       "data_dir: str\n",
       "  a directory to save the raw data in\n",
       "save_dir: str\n",
       "  a directory to save the dataset in\n",
       "\n",
       "References\n",
       "----------\n",
       ".. [1] Delaney, John S. \"ESOL: estimating aqueous solubility directly from\n",
       "   molecular structure.\" Journal of chemical information and computer\n",
       "   sciences 44.3 (2004): 1000-1005.\n",
       "\u001b[0;31mFile:\u001b[0m      ~/Training/ai-microcredentials/introduction-to-machine-learning/env/lib/python3.9/site-packages/deepchem/molnet/load_function/delaney_datasets.py\n",
       "\u001b[0;31mType:\u001b[0m      function\n"
      ]
     },
     "metadata": {},
     "output_type": "display_data"
    }
   ],
   "source": [
    "deepchem.molnet.load_delaney?"
   ]
  },
  {
   "cell_type": "code",
   "execution_count": 23,
   "id": "ec6f5355-d451-4aab-b4de-fc8ca4b6713a",
   "metadata": {},
   "outputs": [
    {
     "data": {
      "text/html": [
       "<div>\n",
       "<style scoped>\n",
       "    .dataframe tbody tr th:only-of-type {\n",
       "        vertical-align: middle;\n",
       "    }\n",
       "\n",
       "    .dataframe tbody tr th {\n",
       "        vertical-align: top;\n",
       "    }\n",
       "\n",
       "    .dataframe thead th {\n",
       "        text-align: right;\n",
       "    }\n",
       "</style>\n",
       "<table border=\"1\" class=\"dataframe\">\n",
       "  <thead>\n",
       "    <tr style=\"text-align: right;\">\n",
       "      <th></th>\n",
       "      <th>X1</th>\n",
       "      <th>X2</th>\n",
       "      <th>X3</th>\n",
       "      <th>X4</th>\n",
       "      <th>X5</th>\n",
       "      <th>X6</th>\n",
       "      <th>X7</th>\n",
       "      <th>X8</th>\n",
       "      <th>X9</th>\n",
       "      <th>X10</th>\n",
       "      <th>...</th>\n",
       "      <th>X1018</th>\n",
       "      <th>X1019</th>\n",
       "      <th>X1020</th>\n",
       "      <th>X1021</th>\n",
       "      <th>X1022</th>\n",
       "      <th>X1023</th>\n",
       "      <th>X1024</th>\n",
       "      <th>y</th>\n",
       "      <th>w</th>\n",
       "      <th>ids</th>\n",
       "    </tr>\n",
       "  </thead>\n",
       "  <tbody>\n",
       "    <tr>\n",
       "      <th>0</th>\n",
       "      <td>0.0</td>\n",
       "      <td>1.0</td>\n",
       "      <td>0.0</td>\n",
       "      <td>0.0</td>\n",
       "      <td>1.0</td>\n",
       "      <td>0.0</td>\n",
       "      <td>0.0</td>\n",
       "      <td>0.0</td>\n",
       "      <td>0.0</td>\n",
       "      <td>0.0</td>\n",
       "      <td>...</td>\n",
       "      <td>0.0</td>\n",
       "      <td>0.0</td>\n",
       "      <td>1.0</td>\n",
       "      <td>0.0</td>\n",
       "      <td>0.0</td>\n",
       "      <td>0.0</td>\n",
       "      <td>0.0</td>\n",
       "      <td>-0.770</td>\n",
       "      <td>1.0</td>\n",
       "      <td>OCC3OC(OCC2OC(OC(C#N)c1ccccc1)C(O)C(O)C2O)C(O)...</td>\n",
       "    </tr>\n",
       "    <tr>\n",
       "      <th>1</th>\n",
       "      <td>0.0</td>\n",
       "      <td>0.0</td>\n",
       "      <td>0.0</td>\n",
       "      <td>0.0</td>\n",
       "      <td>0.0</td>\n",
       "      <td>0.0</td>\n",
       "      <td>0.0</td>\n",
       "      <td>0.0</td>\n",
       "      <td>0.0</td>\n",
       "      <td>0.0</td>\n",
       "      <td>...</td>\n",
       "      <td>0.0</td>\n",
       "      <td>0.0</td>\n",
       "      <td>0.0</td>\n",
       "      <td>0.0</td>\n",
       "      <td>0.0</td>\n",
       "      <td>0.0</td>\n",
       "      <td>0.0</td>\n",
       "      <td>-3.300</td>\n",
       "      <td>1.0</td>\n",
       "      <td>Cc1occc1C(=O)Nc2ccccc2</td>\n",
       "    </tr>\n",
       "    <tr>\n",
       "      <th>2</th>\n",
       "      <td>0.0</td>\n",
       "      <td>0.0</td>\n",
       "      <td>0.0</td>\n",
       "      <td>0.0</td>\n",
       "      <td>0.0</td>\n",
       "      <td>0.0</td>\n",
       "      <td>0.0</td>\n",
       "      <td>0.0</td>\n",
       "      <td>0.0</td>\n",
       "      <td>0.0</td>\n",
       "      <td>...</td>\n",
       "      <td>1.0</td>\n",
       "      <td>0.0</td>\n",
       "      <td>0.0</td>\n",
       "      <td>0.0</td>\n",
       "      <td>0.0</td>\n",
       "      <td>0.0</td>\n",
       "      <td>0.0</td>\n",
       "      <td>-2.060</td>\n",
       "      <td>1.0</td>\n",
       "      <td>CC(C)=CCCC(C)=CC(=O)</td>\n",
       "    </tr>\n",
       "    <tr>\n",
       "      <th>3</th>\n",
       "      <td>0.0</td>\n",
       "      <td>0.0</td>\n",
       "      <td>0.0</td>\n",
       "      <td>0.0</td>\n",
       "      <td>0.0</td>\n",
       "      <td>0.0</td>\n",
       "      <td>0.0</td>\n",
       "      <td>0.0</td>\n",
       "      <td>0.0</td>\n",
       "      <td>0.0</td>\n",
       "      <td>...</td>\n",
       "      <td>0.0</td>\n",
       "      <td>0.0</td>\n",
       "      <td>0.0</td>\n",
       "      <td>0.0</td>\n",
       "      <td>0.0</td>\n",
       "      <td>0.0</td>\n",
       "      <td>0.0</td>\n",
       "      <td>-7.870</td>\n",
       "      <td>1.0</td>\n",
       "      <td>c1ccc2c(c1)ccc3c2ccc4c5ccccc5ccc43</td>\n",
       "    </tr>\n",
       "    <tr>\n",
       "      <th>4</th>\n",
       "      <td>0.0</td>\n",
       "      <td>0.0</td>\n",
       "      <td>0.0</td>\n",
       "      <td>0.0</td>\n",
       "      <td>0.0</td>\n",
       "      <td>0.0</td>\n",
       "      <td>0.0</td>\n",
       "      <td>0.0</td>\n",
       "      <td>0.0</td>\n",
       "      <td>0.0</td>\n",
       "      <td>...</td>\n",
       "      <td>0.0</td>\n",
       "      <td>0.0</td>\n",
       "      <td>0.0</td>\n",
       "      <td>0.0</td>\n",
       "      <td>0.0</td>\n",
       "      <td>0.0</td>\n",
       "      <td>0.0</td>\n",
       "      <td>-1.330</td>\n",
       "      <td>1.0</td>\n",
       "      <td>c1ccsc1</td>\n",
       "    </tr>\n",
       "    <tr>\n",
       "      <th>...</th>\n",
       "      <td>...</td>\n",
       "      <td>...</td>\n",
       "      <td>...</td>\n",
       "      <td>...</td>\n",
       "      <td>...</td>\n",
       "      <td>...</td>\n",
       "      <td>...</td>\n",
       "      <td>...</td>\n",
       "      <td>...</td>\n",
       "      <td>...</td>\n",
       "      <td>...</td>\n",
       "      <td>...</td>\n",
       "      <td>...</td>\n",
       "      <td>...</td>\n",
       "      <td>...</td>\n",
       "      <td>...</td>\n",
       "      <td>...</td>\n",
       "      <td>...</td>\n",
       "      <td>...</td>\n",
       "      <td>...</td>\n",
       "      <td>...</td>\n",
       "    </tr>\n",
       "    <tr>\n",
       "      <th>1123</th>\n",
       "      <td>0.0</td>\n",
       "      <td>1.0</td>\n",
       "      <td>0.0</td>\n",
       "      <td>0.0</td>\n",
       "      <td>0.0</td>\n",
       "      <td>0.0</td>\n",
       "      <td>0.0</td>\n",
       "      <td>0.0</td>\n",
       "      <td>0.0</td>\n",
       "      <td>0.0</td>\n",
       "      <td>...</td>\n",
       "      <td>0.0</td>\n",
       "      <td>0.0</td>\n",
       "      <td>0.0</td>\n",
       "      <td>0.0</td>\n",
       "      <td>0.0</td>\n",
       "      <td>0.0</td>\n",
       "      <td>0.0</td>\n",
       "      <td>-1.710</td>\n",
       "      <td>1.0</td>\n",
       "      <td>FC(F)(F)C(Cl)Br</td>\n",
       "    </tr>\n",
       "    <tr>\n",
       "      <th>1124</th>\n",
       "      <td>0.0</td>\n",
       "      <td>0.0</td>\n",
       "      <td>0.0</td>\n",
       "      <td>0.0</td>\n",
       "      <td>0.0</td>\n",
       "      <td>0.0</td>\n",
       "      <td>0.0</td>\n",
       "      <td>0.0</td>\n",
       "      <td>0.0</td>\n",
       "      <td>0.0</td>\n",
       "      <td>...</td>\n",
       "      <td>0.0</td>\n",
       "      <td>0.0</td>\n",
       "      <td>0.0</td>\n",
       "      <td>0.0</td>\n",
       "      <td>0.0</td>\n",
       "      <td>0.0</td>\n",
       "      <td>0.0</td>\n",
       "      <td>0.106</td>\n",
       "      <td>1.0</td>\n",
       "      <td>CNC(=O)ON=C(SC)C(=O)N(C)C</td>\n",
       "    </tr>\n",
       "    <tr>\n",
       "      <th>1125</th>\n",
       "      <td>0.0</td>\n",
       "      <td>0.0</td>\n",
       "      <td>0.0</td>\n",
       "      <td>0.0</td>\n",
       "      <td>0.0</td>\n",
       "      <td>0.0</td>\n",
       "      <td>0.0</td>\n",
       "      <td>0.0</td>\n",
       "      <td>0.0</td>\n",
       "      <td>0.0</td>\n",
       "      <td>...</td>\n",
       "      <td>0.0</td>\n",
       "      <td>1.0</td>\n",
       "      <td>0.0</td>\n",
       "      <td>0.0</td>\n",
       "      <td>0.0</td>\n",
       "      <td>0.0</td>\n",
       "      <td>0.0</td>\n",
       "      <td>-3.091</td>\n",
       "      <td>1.0</td>\n",
       "      <td>CCSCCSP(=S)(OC)OC</td>\n",
       "    </tr>\n",
       "    <tr>\n",
       "      <th>1126</th>\n",
       "      <td>0.0</td>\n",
       "      <td>1.0</td>\n",
       "      <td>0.0</td>\n",
       "      <td>0.0</td>\n",
       "      <td>0.0</td>\n",
       "      <td>0.0</td>\n",
       "      <td>0.0</td>\n",
       "      <td>0.0</td>\n",
       "      <td>0.0</td>\n",
       "      <td>0.0</td>\n",
       "      <td>...</td>\n",
       "      <td>0.0</td>\n",
       "      <td>0.0</td>\n",
       "      <td>0.0</td>\n",
       "      <td>0.0</td>\n",
       "      <td>0.0</td>\n",
       "      <td>0.0</td>\n",
       "      <td>0.0</td>\n",
       "      <td>-3.180</td>\n",
       "      <td>1.0</td>\n",
       "      <td>CCC(C)C</td>\n",
       "    </tr>\n",
       "    <tr>\n",
       "      <th>1127</th>\n",
       "      <td>0.0</td>\n",
       "      <td>0.0</td>\n",
       "      <td>0.0</td>\n",
       "      <td>0.0</td>\n",
       "      <td>0.0</td>\n",
       "      <td>0.0</td>\n",
       "      <td>0.0</td>\n",
       "      <td>0.0</td>\n",
       "      <td>0.0</td>\n",
       "      <td>0.0</td>\n",
       "      <td>...</td>\n",
       "      <td>0.0</td>\n",
       "      <td>0.0</td>\n",
       "      <td>0.0</td>\n",
       "      <td>0.0</td>\n",
       "      <td>0.0</td>\n",
       "      <td>0.0</td>\n",
       "      <td>0.0</td>\n",
       "      <td>-4.522</td>\n",
       "      <td>1.0</td>\n",
       "      <td>COP(=O)(OC)OC(=CCl)c1cc(Cl)c(Cl)cc1Cl</td>\n",
       "    </tr>\n",
       "  </tbody>\n",
       "</table>\n",
       "<p>1128 rows × 1027 columns</p>\n",
       "</div>"
      ],
      "text/plain": [
       "       X1   X2   X3   X4   X5   X6   X7   X8   X9  X10  ...  X1018  X1019  \\\n",
       "0     0.0  1.0  0.0  0.0  1.0  0.0  0.0  0.0  0.0  0.0  ...    0.0    0.0   \n",
       "1     0.0  0.0  0.0  0.0  0.0  0.0  0.0  0.0  0.0  0.0  ...    0.0    0.0   \n",
       "2     0.0  0.0  0.0  0.0  0.0  0.0  0.0  0.0  0.0  0.0  ...    1.0    0.0   \n",
       "3     0.0  0.0  0.0  0.0  0.0  0.0  0.0  0.0  0.0  0.0  ...    0.0    0.0   \n",
       "4     0.0  0.0  0.0  0.0  0.0  0.0  0.0  0.0  0.0  0.0  ...    0.0    0.0   \n",
       "...   ...  ...  ...  ...  ...  ...  ...  ...  ...  ...  ...    ...    ...   \n",
       "1123  0.0  1.0  0.0  0.0  0.0  0.0  0.0  0.0  0.0  0.0  ...    0.0    0.0   \n",
       "1124  0.0  0.0  0.0  0.0  0.0  0.0  0.0  0.0  0.0  0.0  ...    0.0    0.0   \n",
       "1125  0.0  0.0  0.0  0.0  0.0  0.0  0.0  0.0  0.0  0.0  ...    0.0    1.0   \n",
       "1126  0.0  1.0  0.0  0.0  0.0  0.0  0.0  0.0  0.0  0.0  ...    0.0    0.0   \n",
       "1127  0.0  0.0  0.0  0.0  0.0  0.0  0.0  0.0  0.0  0.0  ...    0.0    0.0   \n",
       "\n",
       "      X1020  X1021  X1022  X1023  X1024      y    w  \\\n",
       "0       1.0    0.0    0.0    0.0    0.0 -0.770  1.0   \n",
       "1       0.0    0.0    0.0    0.0    0.0 -3.300  1.0   \n",
       "2       0.0    0.0    0.0    0.0    0.0 -2.060  1.0   \n",
       "3       0.0    0.0    0.0    0.0    0.0 -7.870  1.0   \n",
       "4       0.0    0.0    0.0    0.0    0.0 -1.330  1.0   \n",
       "...     ...    ...    ...    ...    ...    ...  ...   \n",
       "1123    0.0    0.0    0.0    0.0    0.0 -1.710  1.0   \n",
       "1124    0.0    0.0    0.0    0.0    0.0  0.106  1.0   \n",
       "1125    0.0    0.0    0.0    0.0    0.0 -3.091  1.0   \n",
       "1126    0.0    0.0    0.0    0.0    0.0 -3.180  1.0   \n",
       "1127    0.0    0.0    0.0    0.0    0.0 -4.522  1.0   \n",
       "\n",
       "                                                    ids  \n",
       "0     OCC3OC(OCC2OC(OC(C#N)c1ccccc1)C(O)C(O)C2O)C(O)...  \n",
       "1                                Cc1occc1C(=O)Nc2ccccc2  \n",
       "2                                  CC(C)=CCCC(C)=CC(=O)  \n",
       "3                    c1ccc2c(c1)ccc3c2ccc4c5ccccc5ccc43  \n",
       "4                                               c1ccsc1  \n",
       "...                                                 ...  \n",
       "1123                                   FC(F)(F)C(Cl)Br   \n",
       "1124                          CNC(=O)ON=C(SC)C(=O)N(C)C  \n",
       "1125                                  CCSCCSP(=S)(OC)OC  \n",
       "1126                                            CCC(C)C  \n",
       "1127              COP(=O)(OC)OC(=CCl)c1cc(Cl)c(Cl)cc1Cl  \n",
       "\n",
       "[1128 rows x 1027 columns]"
      ]
     },
     "execution_count": 23,
     "metadata": {},
     "output_type": "execute_result"
    }
   ],
   "source": [
    "dataset.to_dataframe()"
   ]
  },
  {
   "cell_type": "markdown",
   "id": "6b258fe6-475d-46f1-8349-9be26ae9f70e",
   "metadata": {},
   "source": [
    "## Transformation pipelines\n",
    "\n",
    "As you can see creating preprocessing pipelines involves quite a lot of steps and each of the steps needs to be executed in the correct order. Fortunately Scikit-Learn allows you to combine estimators together to create [pipelines](https://scikit-learn.org/stable/modules/compose.html#combining-estimators). We can encapsulate all of the preprocessing logic into instances of the [`Pipeline`](https://scikit-learn.org/stable/modules/generated/sklearn.pipeline.Pipeline.html#sklearn.pipeline.Pipeline) class.\n",
    "\n",
    "The `Pipeline` constructor takes a list of name/estimator pairs defining a sequence of steps. All but the last estimator must be transformers (i.e., they must have a `fit_transform` method). The names can be anything you like (as long as they are unique). Later we will see how to access the parameters of pipelines using these names when we discuss hyperparameter tuning."
   ]
  },
  {
   "cell_type": "code",
   "execution_count": 161,
   "id": "462144af-2e79-4ec8-b0bd-d9c9933ac32f",
   "metadata": {},
   "outputs": [],
   "source": [
    "_seed = generate_seed()\n",
    "\n",
    "_hyperparameters = {\n",
    "    \"copy\": True,\n",
    "    \"with_mean\": True,\n",
    "    \"with_std\": True,\n",
    "}\n",
    "\n",
    "# default Pipeline constructor\n",
    "cardinal_pipeline = pipeline.Pipeline(\n",
    "    [\n",
    "        (\"standardscaler\", preprocessing.StandardScaler(**_hyperparameters)),\n",
    "    ],\n",
    "    verbose=True,\n",
    ")\n",
    "\n",
    "_hyperparameters = {\n",
    "    \"feature_range\": (0, 1),\n",
    "    \"copy\": True,\n",
    "    \"clip\": False,\n",
    "}\n",
    "ordinal_pipeline = pipeline.Pipeline(\n",
    "    [\n",
    "        (\"minmaxscaler\", preprocessing.MinMaxScaler(**_hyperparameters)),\n",
    "    ],\n",
    "    verbose=True,\n",
    ")\n",
    "\n",
    "_featurized_smiles = (dataset.to_dataframe()\n",
    "                             .drop(['y', 'w', \"ids\"], axis=1))\n",
    "_hyperparameters = {\n",
    "    \"func\": lambda df: _featurized_smiles.loc[df.index, :],\n",
    "}\n",
    "non_numeric_pipeline = pipeline.Pipeline(\n",
    "    [\n",
    "        (\"functiontransformer\", preprocessing.FunctionTransformer(**_hyperparameters)),\n",
    "    ],\n",
    "    verbose=True,\n",
    ")"
   ]
  },
  {
   "cell_type": "code",
   "execution_count": 168,
   "id": "0034f083-3b70-4113-a971-883ee1f5d1ed",
   "metadata": {},
   "outputs": [],
   "source": [
    "_seed = generate_seed()\n",
    "\n",
    "_hyperparameters = {\n",
    "    \"copy\": True,\n",
    "    \"with_mean\": True,\n",
    "    \"with_std\": True,\n",
    "}\n",
    "\n",
    "# alternative constructor that is equivalent to the above!\n",
    "cardinal_pipeline = pipeline.make_pipeline(\n",
    "    preprocessing.StandardScaler(**_hyperparameters),\n",
    "    verbose=True,\n",
    ")\n",
    "\n",
    "_hyperparameters = {\n",
    "    \"feature_range\": (0, 1),\n",
    "    \"copy\": True,\n",
    "    \"clip\": False,\n",
    "}\n",
    "\n",
    "ordinal_pipeline = pipeline.make_pipeline(\n",
    "    preprocessing.MinMaxScaler(**_hyperparameters),\n",
    "    verbose=True,\n",
    ")\n",
    "\n",
    "_featurized_smiles = (dataset.to_dataframe()\n",
    "                             .drop(['y', 'w', \"ids\"], axis=1))\n",
    "_hyperparameters = {\n",
    "    \"func\": lambda df: _featurized_smiles.loc[df.index, :],\n",
    "}\n",
    "non_numeric_pipeline = pipeline.make_pipeline(\n",
    "    preprocessing.FunctionTransformer(**_hyperparameters),\n",
    "    verbose=True,\n",
    ")"
   ]
  },
  {
   "cell_type": "code",
   "execution_count": 169,
   "id": "e69c56b1-52b9-41de-b0b3-42c716ca709e",
   "metadata": {},
   "outputs": [],
   "source": [
    "preprocessing_pipeline = compose.make_column_transformer(\n",
    "    (cardinal_pipeline, compose.make_column_selector(dtype_include=np.float64)),\n",
    "    (ordinal_pipeline, compose.make_column_selector(dtype_include=np.int64)),\n",
    "    (non_numeric_pipeline, compose.make_column_selector(dtype_include=object)),\n",
    ")"
   ]
  },
  {
   "cell_type": "code",
   "execution_count": 170,
   "id": "54355bfd-265c-4604-aece-3d2afb427c71",
   "metadata": {},
   "outputs": [
    {
     "name": "stdout",
     "output_type": "stream",
     "text": [
      "[Pipeline] .... (step 1 of 1) Processing standardscaler, total=   0.0s\n",
      "[Pipeline] ...... (step 1 of 1) Processing minmaxscaler, total=   0.0s\n",
      "[Pipeline]  (step 1 of 1) Processing functiontransformer, total=   0.0s\n"
     ]
    }
   ],
   "source": [
    "preprocessed_train_features = preprocessing_pipeline.fit_transform(train_features)"
   ]
  },
  {
   "cell_type": "code",
   "execution_count": 174,
   "id": "baf29f60-309d-4107-9ef0-f1d42403d701",
   "metadata": {},
   "outputs": [
    {
     "data": {
      "text/plain": [
       "(1015, 1030)"
      ]
     },
     "execution_count": 174,
     "metadata": {},
     "output_type": "execute_result"
    }
   ],
   "source": [
    "preprocessed_train_features.shape"
   ]
  },
  {
   "cell_type": "code",
   "execution_count": 175,
   "id": "f3c91d3d-f2ea-48a1-b7fa-204bc9f1ddab",
   "metadata": {},
   "outputs": [
    {
     "data": {
      "text/plain": [
       "array([[ 0.52409186, -0.98102133,  0.5       , ...,  0.        ,\n",
       "         0.        ,  0.        ],\n",
       "       [-0.18920228, -0.98102133,  0.5       , ...,  0.        ,\n",
       "         0.        ,  0.        ],\n",
       "       [ 1.18271142,  2.21172802,  0.5       , ...,  0.        ,\n",
       "         0.        ,  0.        ],\n",
       "       [ 0.28633043,  1.15134995,  0.5       , ...,  0.        ,\n",
       "         0.        ,  0.        ],\n",
       "       [-0.68030699, -0.98102133,  0.5       , ...,  0.        ,\n",
       "         0.        ,  0.        ]])"
      ]
     },
     "execution_count": 175,
     "metadata": {},
     "output_type": "execute_result"
    }
   ],
   "source": [
    "preprocessed_train_features[:5, :]"
   ]
  },
  {
   "cell_type": "markdown",
   "id": "01b292be-f7b9-4958-a6d0-c957ebcc50a5",
   "metadata": {},
   "source": [
    "# Select and train a model\n",
    "\n",
    "At last! You framed the problem, you got the data and explored it, you sampled a training set and a test set, and you wrote transformation pipelines to clean up and prepare your data for machine learning algorithms automatically. You are now ready to select and train a Machine Learning model. You might have been wondering if we were every going to make it to this point! Fact is, most of your time developing machine learning solutions to real-world problems will not be spent training machine learning models: most of your time will be spent preparing the data for machine learning algorithms and most of the computer time will be spent training the machine learning models."
   ]
  },
  {
   "cell_type": "markdown",
   "id": "e627d70a-418f-49ed-8449-5ba412a77d2c",
   "metadata": {},
   "source": [
    "## Training and evaluating on the training dataset"
   ]
  },
  {
   "cell_type": "code",
   "execution_count": 179,
   "id": "f03c868d-0835-427d-a668-63809b70e65d",
   "metadata": {},
   "outputs": [],
   "source": [
    "_seed = generate_seed()\n",
    "_hyperparameters = {\n",
    "    \"fit_intercept\": True,\n",
    "    \"loss\": \"squared_error\",\n",
    "    \"penalty\": None,\n",
    "    \"random_state\": np.random.RandomState(_seed),\n",
    "}\n",
    "estimator = linear_model.SGDRegressor(**_hyperparameters)\n",
    "_ = estimator.fit(preprocessed_train_features, train_target)"
   ]
  },
  {
   "cell_type": "code",
   "execution_count": 180,
   "id": "5bc88278-3197-41f0-9600-527206c34c63",
   "metadata": {},
   "outputs": [],
   "source": [
    "predictions = estimator.predict(preprocessed_train_features)"
   ]
  },
  {
   "cell_type": "code",
   "execution_count": 181,
   "id": "e324613b-9ddc-4c2b-b0e7-b0ff34cc3576",
   "metadata": {},
   "outputs": [
    {
     "data": {
      "text/plain": [
       "array([-7.32004618, -3.22664053, -2.35424693, ..., -5.07398549,\n",
       "       -2.82143133, -2.8785643 ])"
      ]
     },
     "execution_count": 181,
     "metadata": {},
     "output_type": "execute_result"
    }
   ],
   "source": [
    "predictions"
   ]
  },
  {
   "cell_type": "markdown",
   "id": "ada04802-5ae9-4285-bdd5-d8b6ae40057e",
   "metadata": {},
   "source": [
    "Congrats! You have fit your first machine learning model using Scikit-Learn and made some predictions. Now let's see how good those predictions really are."
   ]
  },
  {
   "cell_type": "markdown",
   "id": "38833161-7ebe-4b97-8bef-91159c69e939",
   "metadata": {},
   "source": [
    "### Evaluation metrics"
   ]
  },
  {
   "cell_type": "markdown",
   "id": "2ef1a3be-ada7-4fed-9813-b1158d7aaeab",
   "metadata": {},
   "source": [
    "#### Mean squared error"
   ]
  },
  {
   "cell_type": "code",
   "execution_count": 185,
   "id": "2caaf7d3-cf20-4008-878e-f57a261db011",
   "metadata": {},
   "outputs": [
    {
     "name": "stdout",
     "output_type": "stream",
     "text": [
      "Root mean squared error: 0.6153542858131497\n"
     ]
    }
   ],
   "source": [
    "mse = metrics.mean_squared_error(\n",
    "    train_target,\n",
    "    predictions,\n",
    ")\n",
    "print(f\"Root mean squared error: {np.sqrt(mse)}\")"
   ]
  },
  {
   "cell_type": "markdown",
   "id": "5dc0e2e7-4fb3-4cd8-950a-da82c4be4095",
   "metadata": {},
   "source": [
    "#### Mean absolute error"
   ]
  },
  {
   "cell_type": "code",
   "execution_count": 186,
   "id": "2280294c-d524-49fc-bb53-9083662a7fad",
   "metadata": {},
   "outputs": [
    {
     "name": "stdout",
     "output_type": "stream",
     "text": [
      "Mean absolute squared error: 0.4644560667431664\n"
     ]
    }
   ],
   "source": [
    "mae = metrics.mean_absolute_error(\n",
    "    train_target,\n",
    "    predictions,\n",
    ")\n",
    "print(f\"Mean absolute squared error: {mae}\")"
   ]
  },
  {
   "cell_type": "markdown",
   "id": "cfbf5770-4c74-4212-b6de-de5637afcba3",
   "metadata": {},
   "source": [
    "#### Median absolute error"
   ]
  },
  {
   "cell_type": "code",
   "execution_count": 188,
   "id": "ccc68c19-f248-4e08-8ab2-565d9aeb3ac5",
   "metadata": {},
   "outputs": [
    {
     "name": "stdout",
     "output_type": "stream",
     "text": [
      "Median absolute squared error: 0.3472745521555476\n"
     ]
    }
   ],
   "source": [
    "mae = metrics.median_absolute_error(\n",
    "    train_target,\n",
    "    predictions,\n",
    ")\n",
    "print(f\"Median absolute squared error: {mae}\")"
   ]
  },
  {
   "cell_type": "markdown",
   "id": "3110beab-d79a-49dc-b314-ebbb898efb68",
   "metadata": {},
   "source": [
    "### Exercise: experiment with different loss functions"
   ]
  },
  {
   "cell_type": "code",
   "execution_count": 182,
   "id": "20f13789-4069-473d-a3f5-314453430d1a",
   "metadata": {
    "collapsed": true,
    "jupyter": {
     "outputs_hidden": true
    },
    "tags": []
   },
   "outputs": [
    {
     "data": {
      "text/plain": [
       "\u001b[0;31mInit signature:\u001b[0m\n",
       "\u001b[0mlinear_model\u001b[0m\u001b[0;34m.\u001b[0m\u001b[0mSGDRegressor\u001b[0m\u001b[0;34m(\u001b[0m\u001b[0;34m\u001b[0m\n",
       "\u001b[0;34m\u001b[0m    \u001b[0mloss\u001b[0m\u001b[0;34m=\u001b[0m\u001b[0;34m'squared_error'\u001b[0m\u001b[0;34m,\u001b[0m\u001b[0;34m\u001b[0m\n",
       "\u001b[0;34m\u001b[0m    \u001b[0;34m*\u001b[0m\u001b[0;34m,\u001b[0m\u001b[0;34m\u001b[0m\n",
       "\u001b[0;34m\u001b[0m    \u001b[0mpenalty\u001b[0m\u001b[0;34m=\u001b[0m\u001b[0;34m'l2'\u001b[0m\u001b[0;34m,\u001b[0m\u001b[0;34m\u001b[0m\n",
       "\u001b[0;34m\u001b[0m    \u001b[0malpha\u001b[0m\u001b[0;34m=\u001b[0m\u001b[0;36m0.0001\u001b[0m\u001b[0;34m,\u001b[0m\u001b[0;34m\u001b[0m\n",
       "\u001b[0;34m\u001b[0m    \u001b[0ml1_ratio\u001b[0m\u001b[0;34m=\u001b[0m\u001b[0;36m0.15\u001b[0m\u001b[0;34m,\u001b[0m\u001b[0;34m\u001b[0m\n",
       "\u001b[0;34m\u001b[0m    \u001b[0mfit_intercept\u001b[0m\u001b[0;34m=\u001b[0m\u001b[0;32mTrue\u001b[0m\u001b[0;34m,\u001b[0m\u001b[0;34m\u001b[0m\n",
       "\u001b[0;34m\u001b[0m    \u001b[0mmax_iter\u001b[0m\u001b[0;34m=\u001b[0m\u001b[0;36m1000\u001b[0m\u001b[0;34m,\u001b[0m\u001b[0;34m\u001b[0m\n",
       "\u001b[0;34m\u001b[0m    \u001b[0mtol\u001b[0m\u001b[0;34m=\u001b[0m\u001b[0;36m0.001\u001b[0m\u001b[0;34m,\u001b[0m\u001b[0;34m\u001b[0m\n",
       "\u001b[0;34m\u001b[0m    \u001b[0mshuffle\u001b[0m\u001b[0;34m=\u001b[0m\u001b[0;32mTrue\u001b[0m\u001b[0;34m,\u001b[0m\u001b[0;34m\u001b[0m\n",
       "\u001b[0;34m\u001b[0m    \u001b[0mverbose\u001b[0m\u001b[0;34m=\u001b[0m\u001b[0;36m0\u001b[0m\u001b[0;34m,\u001b[0m\u001b[0;34m\u001b[0m\n",
       "\u001b[0;34m\u001b[0m    \u001b[0mepsilon\u001b[0m\u001b[0;34m=\u001b[0m\u001b[0;36m0.1\u001b[0m\u001b[0;34m,\u001b[0m\u001b[0;34m\u001b[0m\n",
       "\u001b[0;34m\u001b[0m    \u001b[0mrandom_state\u001b[0m\u001b[0;34m=\u001b[0m\u001b[0;32mNone\u001b[0m\u001b[0;34m,\u001b[0m\u001b[0;34m\u001b[0m\n",
       "\u001b[0;34m\u001b[0m    \u001b[0mlearning_rate\u001b[0m\u001b[0;34m=\u001b[0m\u001b[0;34m'invscaling'\u001b[0m\u001b[0;34m,\u001b[0m\u001b[0;34m\u001b[0m\n",
       "\u001b[0;34m\u001b[0m    \u001b[0meta0\u001b[0m\u001b[0;34m=\u001b[0m\u001b[0;36m0.01\u001b[0m\u001b[0;34m,\u001b[0m\u001b[0;34m\u001b[0m\n",
       "\u001b[0;34m\u001b[0m    \u001b[0mpower_t\u001b[0m\u001b[0;34m=\u001b[0m\u001b[0;36m0.25\u001b[0m\u001b[0;34m,\u001b[0m\u001b[0;34m\u001b[0m\n",
       "\u001b[0;34m\u001b[0m    \u001b[0mearly_stopping\u001b[0m\u001b[0;34m=\u001b[0m\u001b[0;32mFalse\u001b[0m\u001b[0;34m,\u001b[0m\u001b[0;34m\u001b[0m\n",
       "\u001b[0;34m\u001b[0m    \u001b[0mvalidation_fraction\u001b[0m\u001b[0;34m=\u001b[0m\u001b[0;36m0.1\u001b[0m\u001b[0;34m,\u001b[0m\u001b[0;34m\u001b[0m\n",
       "\u001b[0;34m\u001b[0m    \u001b[0mn_iter_no_change\u001b[0m\u001b[0;34m=\u001b[0m\u001b[0;36m5\u001b[0m\u001b[0;34m,\u001b[0m\u001b[0;34m\u001b[0m\n",
       "\u001b[0;34m\u001b[0m    \u001b[0mwarm_start\u001b[0m\u001b[0;34m=\u001b[0m\u001b[0;32mFalse\u001b[0m\u001b[0;34m,\u001b[0m\u001b[0;34m\u001b[0m\n",
       "\u001b[0;34m\u001b[0m    \u001b[0maverage\u001b[0m\u001b[0;34m=\u001b[0m\u001b[0;32mFalse\u001b[0m\u001b[0;34m,\u001b[0m\u001b[0;34m\u001b[0m\n",
       "\u001b[0;34m\u001b[0m\u001b[0;34m)\u001b[0m\u001b[0;34m\u001b[0m\u001b[0;34m\u001b[0m\u001b[0m\n",
       "\u001b[0;31mDocstring:\u001b[0m     \n",
       "Linear model fitted by minimizing a regularized empirical loss with SGD.\n",
       "\n",
       "SGD stands for Stochastic Gradient Descent: the gradient of the loss is\n",
       "estimated each sample at a time and the model is updated along the way with\n",
       "a decreasing strength schedule (aka learning rate).\n",
       "\n",
       "The regularizer is a penalty added to the loss function that shrinks model\n",
       "parameters towards the zero vector using either the squared euclidean norm\n",
       "L2 or the absolute norm L1 or a combination of both (Elastic Net). If the\n",
       "parameter update crosses the 0.0 value because of the regularizer, the\n",
       "update is truncated to 0.0 to allow for learning sparse models and achieve\n",
       "online feature selection.\n",
       "\n",
       "This implementation works with data represented as dense numpy arrays of\n",
       "floating point values for the features.\n",
       "\n",
       "Read more in the :ref:`User Guide <sgd>`.\n",
       "\n",
       "Parameters\n",
       "----------\n",
       "loss : str, default='squared_error'\n",
       "    The loss function to be used. The possible values are 'squared_error',\n",
       "    'huber', 'epsilon_insensitive', or 'squared_epsilon_insensitive'\n",
       "\n",
       "    The 'squared_error' refers to the ordinary least squares fit.\n",
       "    'huber' modifies 'squared_error' to focus less on getting outliers\n",
       "    correct by switching from squared to linear loss past a distance of\n",
       "    epsilon. 'epsilon_insensitive' ignores errors less than epsilon and is\n",
       "    linear past that; this is the loss function used in SVR.\n",
       "    'squared_epsilon_insensitive' is the same but becomes squared loss past\n",
       "    a tolerance of epsilon.\n",
       "\n",
       "    More details about the losses formulas can be found in the\n",
       "    :ref:`User Guide <sgd_mathematical_formulation>`.\n",
       "\n",
       "    .. deprecated:: 1.0\n",
       "        The loss 'squared_loss' was deprecated in v1.0 and will be removed\n",
       "        in version 1.2. Use `loss='squared_error'` which is equivalent.\n",
       "\n",
       "penalty : {'l2', 'l1', 'elasticnet'}, default='l2'\n",
       "    The penalty (aka regularization term) to be used. Defaults to 'l2'\n",
       "    which is the standard regularizer for linear SVM models. 'l1' and\n",
       "    'elasticnet' might bring sparsity to the model (feature selection)\n",
       "    not achievable with 'l2'.\n",
       "\n",
       "alpha : float, default=0.0001\n",
       "    Constant that multiplies the regularization term. The higher the\n",
       "    value, the stronger the regularization.\n",
       "    Also used to compute the learning rate when set to `learning_rate` is\n",
       "    set to 'optimal'.\n",
       "\n",
       "l1_ratio : float, default=0.15\n",
       "    The Elastic Net mixing parameter, with 0 <= l1_ratio <= 1.\n",
       "    l1_ratio=0 corresponds to L2 penalty, l1_ratio=1 to L1.\n",
       "    Only used if `penalty` is 'elasticnet'.\n",
       "\n",
       "fit_intercept : bool, default=True\n",
       "    Whether the intercept should be estimated or not. If False, the\n",
       "    data is assumed to be already centered.\n",
       "\n",
       "max_iter : int, default=1000\n",
       "    The maximum number of passes over the training data (aka epochs).\n",
       "    It only impacts the behavior in the ``fit`` method, and not the\n",
       "    :meth:`partial_fit` method.\n",
       "\n",
       "    .. versionadded:: 0.19\n",
       "\n",
       "tol : float, default=1e-3\n",
       "    The stopping criterion. If it is not None, training will stop\n",
       "    when (loss > best_loss - tol) for ``n_iter_no_change`` consecutive\n",
       "    epochs.\n",
       "    Convergence is checked against the training loss or the\n",
       "    validation loss depending on the `early_stopping` parameter.\n",
       "\n",
       "    .. versionadded:: 0.19\n",
       "\n",
       "shuffle : bool, default=True\n",
       "    Whether or not the training data should be shuffled after each epoch.\n",
       "\n",
       "verbose : int, default=0\n",
       "    The verbosity level.\n",
       "\n",
       "epsilon : float, default=0.1\n",
       "    Epsilon in the epsilon-insensitive loss functions; only if `loss` is\n",
       "    'huber', 'epsilon_insensitive', or 'squared_epsilon_insensitive'.\n",
       "    For 'huber', determines the threshold at which it becomes less\n",
       "    important to get the prediction exactly right.\n",
       "    For epsilon-insensitive, any differences between the current prediction\n",
       "    and the correct label are ignored if they are less than this threshold.\n",
       "\n",
       "random_state : int, RandomState instance, default=None\n",
       "    Used for shuffling the data, when ``shuffle`` is set to ``True``.\n",
       "    Pass an int for reproducible output across multiple function calls.\n",
       "    See :term:`Glossary <random_state>`.\n",
       "\n",
       "learning_rate : str, default='invscaling'\n",
       "    The learning rate schedule:\n",
       "\n",
       "    - 'constant': `eta = eta0`\n",
       "    - 'optimal': `eta = 1.0 / (alpha * (t + t0))`\n",
       "      where t0 is chosen by a heuristic proposed by Leon Bottou.\n",
       "    - 'invscaling': `eta = eta0 / pow(t, power_t)`\n",
       "    - 'adaptive': eta = eta0, as long as the training keeps decreasing.\n",
       "      Each time n_iter_no_change consecutive epochs fail to decrease the\n",
       "      training loss by tol or fail to increase validation score by tol if\n",
       "      early_stopping is True, the current learning rate is divided by 5.\n",
       "\n",
       "        .. versionadded:: 0.20\n",
       "            Added 'adaptive' option\n",
       "\n",
       "eta0 : float, default=0.01\n",
       "    The initial learning rate for the 'constant', 'invscaling' or\n",
       "    'adaptive' schedules. The default value is 0.01.\n",
       "\n",
       "power_t : float, default=0.25\n",
       "    The exponent for inverse scaling learning rate.\n",
       "\n",
       "early_stopping : bool, default=False\n",
       "    Whether to use early stopping to terminate training when validation\n",
       "    score is not improving. If set to True, it will automatically set aside\n",
       "    a fraction of training data as validation and terminate\n",
       "    training when validation score returned by the `score` method is not\n",
       "    improving by at least `tol` for `n_iter_no_change` consecutive\n",
       "    epochs.\n",
       "\n",
       "    .. versionadded:: 0.20\n",
       "        Added 'early_stopping' option\n",
       "\n",
       "validation_fraction : float, default=0.1\n",
       "    The proportion of training data to set aside as validation set for\n",
       "    early stopping. Must be between 0 and 1.\n",
       "    Only used if `early_stopping` is True.\n",
       "\n",
       "    .. versionadded:: 0.20\n",
       "        Added 'validation_fraction' option\n",
       "\n",
       "n_iter_no_change : int, default=5\n",
       "    Number of iterations with no improvement to wait before stopping\n",
       "    fitting.\n",
       "    Convergence is checked against the training loss or the\n",
       "    validation loss depending on the `early_stopping` parameter.\n",
       "\n",
       "    .. versionadded:: 0.20\n",
       "        Added 'n_iter_no_change' option\n",
       "\n",
       "warm_start : bool, default=False\n",
       "    When set to True, reuse the solution of the previous call to fit as\n",
       "    initialization, otherwise, just erase the previous solution.\n",
       "    See :term:`the Glossary <warm_start>`.\n",
       "\n",
       "    Repeatedly calling fit or partial_fit when warm_start is True can\n",
       "    result in a different solution than when calling fit a single time\n",
       "    because of the way the data is shuffled.\n",
       "    If a dynamic learning rate is used, the learning rate is adapted\n",
       "    depending on the number of samples already seen. Calling ``fit`` resets\n",
       "    this counter, while ``partial_fit``  will result in increasing the\n",
       "    existing counter.\n",
       "\n",
       "average : bool or int, default=False\n",
       "    When set to True, computes the averaged SGD weights across all\n",
       "    updates and stores the result in the ``coef_`` attribute. If set to\n",
       "    an int greater than 1, averaging will begin once the total number of\n",
       "    samples seen reaches `average`. So ``average=10`` will begin\n",
       "    averaging after seeing 10 samples.\n",
       "\n",
       "Attributes\n",
       "----------\n",
       "coef_ : ndarray of shape (n_features,)\n",
       "    Weights assigned to the features.\n",
       "\n",
       "intercept_ : ndarray of shape (1,)\n",
       "    The intercept term.\n",
       "\n",
       "n_iter_ : int\n",
       "    The actual number of iterations before reaching the stopping criterion.\n",
       "\n",
       "t_ : int\n",
       "    Number of weight updates performed during training.\n",
       "    Same as ``(n_iter_ * n_samples)``.\n",
       "\n",
       "n_features_in_ : int\n",
       "    Number of features seen during :term:`fit`.\n",
       "\n",
       "    .. versionadded:: 0.24\n",
       "\n",
       "feature_names_in_ : ndarray of shape (`n_features_in_`,)\n",
       "    Names of features seen during :term:`fit`. Defined only when `X`\n",
       "    has feature names that are all strings.\n",
       "\n",
       "    .. versionadded:: 1.0\n",
       "\n",
       "See Also\n",
       "--------\n",
       "HuberRegressor : Linear regression model that is robust to outliers.\n",
       "Lars : Least Angle Regression model.\n",
       "Lasso : Linear Model trained with L1 prior as regularizer.\n",
       "RANSACRegressor : RANSAC (RANdom SAmple Consensus) algorithm.\n",
       "Ridge : Linear least squares with l2 regularization.\n",
       "sklearn.svm.SVR : Epsilon-Support Vector Regression.\n",
       "TheilSenRegressor : Theil-Sen Estimator robust multivariate regression model.\n",
       "\n",
       "Examples\n",
       "--------\n",
       ">>> import numpy as np\n",
       ">>> from sklearn.linear_model import SGDRegressor\n",
       ">>> from sklearn.pipeline import make_pipeline\n",
       ">>> from sklearn.preprocessing import StandardScaler\n",
       ">>> n_samples, n_features = 10, 5\n",
       ">>> rng = np.random.RandomState(0)\n",
       ">>> y = rng.randn(n_samples)\n",
       ">>> X = rng.randn(n_samples, n_features)\n",
       ">>> # Always scale the input. The most convenient way is to use a pipeline.\n",
       ">>> reg = make_pipeline(StandardScaler(),\n",
       "...                     SGDRegressor(max_iter=1000, tol=1e-3))\n",
       ">>> reg.fit(X, y)\n",
       "Pipeline(steps=[('standardscaler', StandardScaler()),\n",
       "                ('sgdregressor', SGDRegressor())])\n",
       "\u001b[0;31mFile:\u001b[0m           ~/Training/ai-microcredentials/introduction-to-machine-learning/env/lib/python3.9/site-packages/sklearn/linear_model/_stochastic_gradient.py\n",
       "\u001b[0;31mType:\u001b[0m           ABCMeta\n",
       "\u001b[0;31mSubclasses:\u001b[0m     \n"
      ]
     },
     "metadata": {},
     "output_type": "display_data"
    }
   ],
   "source": [
    "linear_model.SGDRegressor?"
   ]
  },
  {
   "cell_type": "code",
   "execution_count": 189,
   "id": "53df85d9-c099-404b-8fcb-d9650a7d9d78",
   "metadata": {
    "tags": []
   },
   "outputs": [
    {
     "name": "stdout",
     "output_type": "stream",
     "text": [
      "Root mean squared error: 0.6267115931755081\n"
     ]
    }
   ],
   "source": [
    "_seed = generate_seed()\n",
    "_hyperparameters = {\n",
    "    \"fit_intercept\": True,\n",
    "    \"loss\": \"squared_error\", # change this!\n",
    "    \"penalty\": None,\n",
    "    \"random_state\": np.random.RandomState(_seed),\n",
    "}\n",
    "_estimator = linear_model.SGDRegressor(**_hyperparameters)\n",
    "_ = _estimator.fit(preprocessed_train_features, train_target)\n",
    "\n",
    "# make predictions\n",
    "_predictions = _estimator.predict(preprocessed_train_features)\n",
    "\n",
    "mse = metrics.mean_squared_error(\n",
    "    train_target,\n",
    "    _predictions,\n",
    ")\n",
    "print(f\"Root mean squared error: {np.sqrt(mse)}\")"
   ]
  },
  {
   "cell_type": "markdown",
   "id": "7c979240-7d8b-4426-80ab-4d6842bdf766",
   "metadata": {},
   "source": [
    "### Exercise: experiment with different penalties"
   ]
  },
  {
   "cell_type": "code",
   "execution_count": null,
   "id": "8441712c-2962-4720-a355-e7d4337e71a3",
   "metadata": {},
   "outputs": [],
   "source": [
    "linear_model.SGDRegressor?"
   ]
  },
  {
   "cell_type": "code",
   "execution_count": 190,
   "id": "b66d6f3e-4613-4d85-bac8-0e6bb929d398",
   "metadata": {},
   "outputs": [
    {
     "name": "stdout",
     "output_type": "stream",
     "text": [
      "Root mean squared error: 0.6309254088375759\n"
     ]
    }
   ],
   "source": [
    "_seed = generate_seed()\n",
    "_hyperparameters = {\n",
    "    \"alpha\": 1e-4, # try changing this!\n",
    "    \"fit_intercept\": True,\n",
    "    \"l1_ratio\": 0.15, # only used for penalty=elastic_net\n",
    "    \"loss\": \"squared_error\",\n",
    "    \"penalty\": None, # try changing this!\n",
    "    \"random_state\": np.random.RandomState(_seed),\n",
    "}\n",
    "_estimator = linear_model.SGDRegressor(**_hyperparameters)\n",
    "_ = _estimator.fit(preprocessed_train_features, train_target)\n",
    "\n",
    "# make predictions\n",
    "_predictions = _estimator.predict(preprocessed_train_features)\n",
    "\n",
    "mse = metrics.mean_squared_error(\n",
    "    train_target,\n",
    "    _predictions,\n",
    ")\n",
    "print(f\"Root mean squared error: {np.sqrt(mse)}\")"
   ]
  },
  {
   "cell_type": "markdown",
   "id": "e99063b9-cb93-45cc-b1c7-07abf3cbf3f3",
   "metadata": {},
   "source": [
    "### Mini-batch gradient descent\n",
    "\n",
    "Since we talked about the difference between stochastic, batch, and mini-batch gradient descent in the lectures I wanted you to see how to implement mini-batch gradient descent in Scikit-Learn. You will see much more of this idea in the deep learning hands on session so we will not spend too much time on it now."
   ]
  },
  {
   "cell_type": "code",
   "execution_count": 198,
   "id": "791d5512-923e-4c01-ad58-e28aca768f44",
   "metadata": {
    "tags": []
   },
   "outputs": [],
   "source": [
    "_seed = generate_seed()\n",
    "_random_state = np.random.RandomState(_seed)\n",
    "\n",
    "n_epochs = 100\n",
    "batch_size = 128\n",
    "X = preprocessed_train_features\n",
    "y = train_target\n",
    "m, _ = X.shape\n",
    "\n",
    "# define your estimator\n",
    "_hyperparameters = {\n",
    "    \"alpha\": 1e-4,\n",
    "    \"fit_intercept\": True,\n",
    "    \"l1_ratio\": 0.15,\n",
    "    \"learning_rate\": \"invscaling\",\n",
    "    \"loss\": \"squared_error\",\n",
    "    \"penalty\": None,\n",
    "    \"random_state\": _random_state,\n",
    "    \"warm_start\": True,\n",
    "}\n",
    "estimator = linear_model.SGDRegressor(**_hyperparameters)\n",
    "\n",
    "# nested for loops implement the training\n",
    "for _ in range(n_epochs):\n",
    "\n",
    "    # shuffle the dataset before every training epoch\n",
    "    shuffled_indices = _random_state.permutation(m)\n",
    "    _X, _y = X[shuffled_indices], y.iloc[shuffled_indices]\n",
    "\n",
    "    for batch_ixs in utils.gen_batches(m, batch_size):\n",
    "        _ = estimator.partial_fit(_X[batch_ixs], _y[batch_ixs])\n"
   ]
  },
  {
   "cell_type": "code",
   "execution_count": 199,
   "id": "2b83394a-50f1-49e1-9526-8098090b7c9a",
   "metadata": {},
   "outputs": [
    {
     "name": "stdout",
     "output_type": "stream",
     "text": [
      "Root mean squared error: 0.5951126054800906\n"
     ]
    }
   ],
   "source": [
    "# make predictions\n",
    "_predictions = estimator.predict(preprocessed_train_features)\n",
    "\n",
    "# report the error on the training set\n",
    "mse = metrics.mean_squared_error(\n",
    "    train_target,\n",
    "    _predictions,\n",
    ")\n",
    "print(f\"Root mean squared error: {np.sqrt(mse)}\")"
   ]
  },
  {
   "cell_type": "markdown",
   "id": "e21482c8-095e-4cc5-92a4-c01f1c61893e",
   "metadata": {},
   "source": [
    "## Estimating generalization error using cross-validation\n",
    "\n",
    "So far we have only evaluated our models performance on the training set. However, in order to assess whether we are overfitting or underfitting we need to estimate the generalization error.\n",
    "\n",
    "The following code use Scikit-Learn [`model_selection.cross_val_score`](https://scikit-learn.org/stable/modules/generated/sklearn.model_selection.cross_val_score.html#sklearn.model_selection.cross_val_score) to randomly split the training set into distinct subsets called folds, then it trains and evaluates our model CV_FOLDS times, picking a different fold for evaluation every time and training on the other CV_FOLDS - 1 folds. The result is an array containing the CV_FOLDS evaluation scores."
   ]
  },
  {
   "cell_type": "code",
   "execution_count": 218,
   "id": "e51cc464-e680-4933-b477-9aeed953ae3a",
   "metadata": {},
   "outputs": [
    {
     "name": "stderr",
     "output_type": "stream",
     "text": [
      "[Parallel(n_jobs=-1)]: Using backend LokyBackend with 4 concurrent workers.\n",
      "[Parallel(n_jobs=-1)]: Done   5 out of   5 | elapsed:    9.3s finished\n"
     ]
    }
   ],
   "source": [
    "CV_FOLDS = 5\n",
    "\n",
    "estimator_scores = model_selection.cross_val_score(\n",
    "    estimator,\n",
    "    X=preprocessed_train_features,\n",
    "    y=train_target,\n",
    "    cv=CV_FOLDS,\n",
    "    scoring=\"neg_root_mean_squared_error\",\n",
    "    n_jobs=-1,\n",
    "    verbose=1\n",
    ")"
   ]
  },
  {
   "cell_type": "code",
   "execution_count": 219,
   "id": "b26f0397-ca37-4167-89d7-2af077374cc0",
   "metadata": {},
   "outputs": [
    {
     "name": "stdout",
     "output_type": "stream",
     "text": [
      "Estimated generalization error: 0.9369416322436575\n"
     ]
    }
   ],
   "source": [
    "valid_error = -estimator_scores.mean()\n",
    "print(f\"Estimated generalization error: {valid_error}\")"
   ]
  },
  {
   "cell_type": "markdown",
   "id": "dadeb7f8-ee55-4fe6-91f1-4beaf306affc",
   "metadata": {
    "tags": []
   },
   "source": [
    "What is going on here? Are we underfitting? Are we overfitting? If you think that we are underfitting, then what could we do to try and get the model to overfit? If we are overfitting, what could we do to get the model to underfit?"
   ]
  },
  {
   "cell_type": "markdown",
   "id": "97ccf9da-a95e-4aae-9005-2c104ead1fb4",
   "metadata": {},
   "source": [
    "### Learning Curves"
   ]
  },
  {
   "cell_type": "code",
   "execution_count": null,
   "id": "57558f34-5604-46c3-9b04-050b726a6438",
   "metadata": {
    "tags": []
   },
   "outputs": [],
   "source": [
    "model_selection.learning_curve?"
   ]
  },
  {
   "cell_type": "code",
   "execution_count": 207,
   "id": "bb85e031-656a-44cf-b3f9-0ac4dc499820",
   "metadata": {},
   "outputs": [
    {
     "data": {
      "text/plain": [
       "['accuracy',\n",
       " 'adjusted_mutual_info_score',\n",
       " 'adjusted_rand_score',\n",
       " 'average_precision',\n",
       " 'balanced_accuracy',\n",
       " 'completeness_score',\n",
       " 'explained_variance',\n",
       " 'f1',\n",
       " 'f1_macro',\n",
       " 'f1_micro',\n",
       " 'f1_samples',\n",
       " 'f1_weighted',\n",
       " 'fowlkes_mallows_score',\n",
       " 'homogeneity_score',\n",
       " 'jaccard',\n",
       " 'jaccard_macro',\n",
       " 'jaccard_micro',\n",
       " 'jaccard_samples',\n",
       " 'jaccard_weighted',\n",
       " 'matthews_corrcoef',\n",
       " 'max_error',\n",
       " 'mutual_info_score',\n",
       " 'neg_brier_score',\n",
       " 'neg_log_loss',\n",
       " 'neg_mean_absolute_error',\n",
       " 'neg_mean_absolute_percentage_error',\n",
       " 'neg_mean_gamma_deviance',\n",
       " 'neg_mean_poisson_deviance',\n",
       " 'neg_mean_squared_error',\n",
       " 'neg_mean_squared_log_error',\n",
       " 'neg_median_absolute_error',\n",
       " 'neg_root_mean_squared_error',\n",
       " 'normalized_mutual_info_score',\n",
       " 'precision',\n",
       " 'precision_macro',\n",
       " 'precision_micro',\n",
       " 'precision_samples',\n",
       " 'precision_weighted',\n",
       " 'r2',\n",
       " 'rand_score',\n",
       " 'recall',\n",
       " 'recall_macro',\n",
       " 'recall_micro',\n",
       " 'recall_samples',\n",
       " 'recall_weighted',\n",
       " 'roc_auc',\n",
       " 'roc_auc_ovo',\n",
       " 'roc_auc_ovo_weighted',\n",
       " 'roc_auc_ovr',\n",
       " 'roc_auc_ovr_weighted',\n",
       " 'top_k_accuracy',\n",
       " 'v_measure_score']"
      ]
     },
     "execution_count": 207,
     "metadata": {},
     "output_type": "execute_result"
    }
   ],
   "source": [
    "metrics.get_scorer_names()"
   ]
  },
  {
   "cell_type": "code",
   "execution_count": 220,
   "id": "76586224-f6e2-4396-975a-5fc55ba523f5",
   "metadata": {},
   "outputs": [
    {
     "name": "stdout",
     "output_type": "stream",
     "text": [
      "[learning_curve] Training set sizes: [ 81 133 185 237 290 342 394 446 498 551 603 655 707 759 812]\n"
     ]
    },
    {
     "name": "stderr",
     "output_type": "stream",
     "text": [
      "[Parallel(n_jobs=-1)]: Using backend LokyBackend with 4 concurrent workers.\n",
      "[Parallel(n_jobs=-1)]: Done  75 out of  75 | elapsed:    4.7s finished\n"
     ]
    }
   ],
   "source": [
    "_seed = generate_seed()\n",
    "_random_state = np.random.RandomState(_seed)\n",
    "_hyperparameters = {\n",
    "    \"fit_intercept\": True,\n",
    "    \"loss\": \"squared_error\", # change this!\n",
    "    \"penalty\": None,\n",
    "    \"random_state\": np.random.RandomState(_seed),\n",
    "}\n",
    "_estimator = linear_model.SGDRegressor(**_hyperparameters)\n",
    "_ = _estimator.fit(preprocessed_train_features, train_target)\n",
    "\n",
    "train_sizes, train_scores, val_scores = model_selection.learning_curve(\n",
    "    _estimator,\n",
    "    preprocessed_train_features,\n",
    "    train_target,\n",
    "    cv=CV_FOLDS,\n",
    "    n_jobs=-1,\n",
    "    random_state=_random_state,\n",
    "    scoring=\"neg_root_mean_squared_error\",\n",
    "    train_sizes=np.linspace(0.1, 1.0, 15),\n",
    "    verbose=1,\n",
    ")"
   ]
  },
  {
   "cell_type": "code",
   "execution_count": 221,
   "id": "4e2f56d7-1ea7-44e6-8c1b-36a7f0bcdf08",
   "metadata": {},
   "outputs": [
    {
     "data": {
      "image/png": "[encoded data removed]",
      "text/plain": [
       "<Figure size 1080x720 with 1 Axes>"
      ]
     },
     "metadata": {
      "needs_background": "light"
     },
     "output_type": "display_data"
    }
   ],
   "source": [
    "fig, ax = plt.subplots(1, 1, figsize=(15, 10))\n",
    "ax.plot(train_sizes, -train_scores.mean(axis=1), \"r-+\", linewidth=2, label=\"train\")\n",
    "ax.plot(train_sizes, -val_scores.mean(axis=1), \"b-\", linewidth=3, label=\"valid\")\n",
    "ax.set_xlabel(\"Training set size\", fontsize=15)\n",
    "ax.set_ylabel(\"RMSE\", fontsize=15)\n",
    "ax.grid()\n",
    "ax.legend()\n",
    "\n",
    "plt.show()"
   ]
  },
  {
   "cell_type": "markdown",
   "id": "b4480006-5cd1-467d-bc1d-be8a52d7abd6",
   "metadata": {},
   "source": [
    "# Fine-tune your models\n",
    "\n",
    "Most common approach to tuning a model is to manually fiddle with the hyperparameters until you find a great combination of hyperparameter values. Needless to day, this approach to model tuning is very tedious and not at all scientific. We can do much better!"
   ]
  },
  {
   "cell_type": "markdown",
   "id": "09227c31-3011-4e3e-b024-7e4cc7468093",
   "metadata": {},
   "source": [
    "## Grid Search\n",
    "\n",
    "Simplest approach is to use Scikit-Learn’s [`model_selection.GridSearchCV`](https://scikit-learn.org/stable/modules/generated/sklearn.model_selection.GridSearchCV.html). All you need to do is tell it which hyperparameters you want it to experiment with and what values to try out. The `model_selection.GridSearchCV` class will then use cross-validation to evaluate all the possible combinations of hyperparameter values and return the best scoring set of hyperparameters according to your specified metric."
   ]
  },
  {
   "cell_type": "code",
   "execution_count": null,
   "id": "536c7ffa-c6b6-4003-a1a0-57abc5d27080",
   "metadata": {},
   "outputs": [],
   "source": [
    "_seed = generate_seed()\n",
    "\n",
    "_hyperparameters = {\n",
    "    \"copy\": True,\n",
    "    \"with_mean\": True,\n",
    "    \"with_std\": True,\n",
    "}\n",
    "\n",
    "# alternative constructor that is equivalent to the above!\n",
    "cardinal_pipeline = pipeline.make_pipeline(\n",
    "    preprocessing.StandardScaler(**_hyperparameters),\n",
    "    verbose=True,\n",
    ")\n",
    "\n",
    "_hyperparameters = {\n",
    "    \"feature_range\": (0, 1),\n",
    "    \"copy\": True,\n",
    "    \"clip\": False,\n",
    "}\n",
    "\n",
    "ordinal_pipeline = pipeline.make_pipeline(\n",
    "    preprocessing.MinMaxScaler(**_hyperparameters),\n",
    "    verbose=True,\n",
    ")\n",
    "\n",
    "_featurized_smiles = (dataset.to_dataframe()\n",
    "                             .drop(['y', 'w', \"ids\"], axis=1))\n",
    "_hyperparameters = {\n",
    "    \"func\": lambda df: _featurized_smiles.loc[df.index, :],\n",
    "}\n",
    "non_numeric_pipeline = pipeline.make_pipeline(\n",
    "    preprocessing.FunctionTransformer(**_hyperparameters),\n",
    "    verbose=True,\n",
    ")\n",
    "\n",
    "_pipeline = compose.make_column_transformer(\n",
    "    (cardinal_pipeline, compose.make_column_selector(dtype_include=np.float64)),\n",
    "    (ordinal_pipeline, compose.make_column_selector(dtype_include=np.int64)),\n",
    "    (non_numeric_pipeline, compose.make_column_selector(dtype_include=object)),\n",
    ")\n",
    "\n",
    "_parameter_grid = [\n",
    "    {\n",
    "        \"pca__n_components\": [25],\n",
    "        \"randomforestclassifier__max_depth\": [None],\n",
    "        \"randomforestclassifier__max_features\": [None],\n",
    "        \"randomforestclassifier__n_estimators\": [2, 4, 8, 16],\n",
    "        \"randomforestclassifier__min_samples_leaf\": [1],\n",
    "        \"randomforestclassifier__min_samples_split\": [2]\n",
    "    }, # 1 * 1 * 1 * 4 * 1 * 1 = 4 parameter combinations to try\n",
    "    { # large number of short trees\n",
    "        \"randomforestclassifier__max_depth\": [None],\n",
    "        \"randomforestclassifier__max_features\": [\"log2\"],\n",
    "        \"randomforestclassifier__n_estimators\": [100, 200, 400, 800],\n",
    "        \"randomforestclassifier__min_samples_leaf\": [10, 100, 1000],\n",
    "    } # 1 * 1 * 1 * 4 * 3 = 12 parameter combinations to try\n",
    "] # 4 + 12 = 16 total parameter combinations to try\n",
    "\n",
    "estimator = model_selection.GridSearchCV(\n",
    "    _pipeline,\n",
    "    _parameter_grid,\n",
    "    cv=CV_FOLDS, # 3 * 16 = 48 total fits!\n",
    "    scoring=\"neg_root_mean_squared_error\",\n",
    "    return_train_score=True,\n",
    "    n_jobs=-1,\n",
    "    pre_dispatch=2, # important to set this properly to avoid OOM errors\n",
    "    verbose=1,\n",
    ")"
   ]
  },
  {
   "cell_type": "code",
   "execution_count": null,
   "id": "b40d47f2-a368-44cb-9c28-50667776077d",
   "metadata": {
    "tags": []
   },
   "outputs": [],
   "source": [
    "_ = estimator.fit(preprocessed_train_features, train_target)"
   ]
  },
  {
   "cell_type": "code",
   "execution_count": null,
   "id": "f39895ae-2739-44fc-9b9e-a8456f5c667f",
   "metadata": {},
   "outputs": [],
   "source": [
    "estimator.best_score_"
   ]
  },
  {
   "cell_type": "code",
   "execution_count": null,
   "id": "b28c7059-dec2-4f07-b2fb-058e860025a5",
   "metadata": {},
   "outputs": [],
   "source": [
    "estimator.best_params_"
   ]
  },
  {
   "cell_type": "code",
   "execution_count": null,
   "id": "6d56606c-1216-41e8-9f49-4c8afaa86cb7",
   "metadata": {},
   "outputs": [],
   "source": [
    "estimator.best_estimator_"
   ]
  },
  {
   "cell_type": "markdown",
   "id": "3eb75865-e210-406e-9902-705fa06b52c1",
   "metadata": {},
   "source": [
    "You should save every model you experiment with so that you can come back easily to any model you want. Make sure you save both the hyperparameters and the trained parameters as well as the cross-validation scores and perhaps the actual predictions as well. This will allow you to more easily compare scores across model types and compare the types of errors they make."
   ]
  },
  {
   "cell_type": "code",
   "execution_count": null,
   "id": "7f7b63ee-6d09-4de9-8a7b-26bf301cde76",
   "metadata": {},
   "outputs": [],
   "source": [
    "RESULTS_DIR = pathlib.Path(\"../results\")\n",
    "RESULTS_DIR.mkdir(parents=True, exist_ok=True)\n",
    "\n",
    "timestamp = time.strftime(\"%Y%m%d-%H%M%S\")\n",
    "_ = joblib.dump(estimator, RESULTS_DIR / f\"grid-search-cv-regressor-{timestamp}.pkl\")"
   ]
  },
  {
   "cell_type": "markdown",
   "id": "3fe59c5d-9048-4385-9766-874f332e44db",
   "metadata": {},
   "source": [
    "For reference here is how you would reload the trained model from the file."
   ]
  },
  {
   "cell_type": "code",
   "execution_count": null,
   "id": "846db76e-d988-48ab-b43a-8329f3f889f9",
   "metadata": {},
   "outputs": [],
   "source": [
    "reloaded_estimator = joblib.load(RESULTS_DIR / f\"grid-search-cv-regressor-{timestamp}.pkl\")"
   ]
  },
  {
   "cell_type": "code",
   "execution_count": null,
   "id": "0db94fb6-e955-4edc-95d0-edfa55d6bf71",
   "metadata": {},
   "outputs": [],
   "source": [
    "reloaded_estimator.best_params_"
   ]
  },
  {
   "cell_type": "markdown",
   "id": "04d930c4-e117-4b17-a491-b5e29428c69c",
   "metadata": {},
   "source": [
    "### Exercise:\n",
    "\n",
    "Fine-tune one of your models using Grid Search."
   ]
  },
  {
   "cell_type": "code",
   "execution_count": null,
   "id": "f76d6d00-4881-4def-bf0a-88219991d5a4",
   "metadata": {},
   "outputs": [],
   "source": [
    "# insert your code here!"
   ]
  },
  {
   "cell_type": "markdown",
   "id": "efe7255e-4f60-469c-b541-f6935d9cb6e1",
   "metadata": {},
   "source": [
    "# Evaluate your models on the test dataset\n",
    "\n",
    "After tweaking your models for a while, you eventually have a system that performs sufficiently well. Now is the time to evaluate the final model on the test set."
   ]
  },
  {
   "cell_type": "code",
   "execution_count": 216,
   "id": "8a73ca70-1d2b-4053-b500-5d0be0c19f62",
   "metadata": {},
   "outputs": [
    {
     "name": "stdout",
     "output_type": "stream",
     "text": [
      "Root mean squared error: 0.5951126054800906\n"
     ]
    }
   ],
   "source": [
    "# make predictions\n",
    "Z = preprocessing_pipeline.transform(test_features)\n",
    "predictions = estimator.predict(Z)\n",
    "\n",
    "# report the error on the training set\n",
    "mse = metrics.mean_squared_error(\n",
    "    train_target,\n",
    "    _predictions,\n",
    ")\n",
    "print(f\"Root mean squared error: {np.sqrt(mse)}\")"
   ]
  },
  {
   "cell_type": "markdown",
   "id": "55224491-47cc-443d-8592-65fd362e4128",
   "metadata": {},
   "source": [
    "If you did a lot of hyperparameter tuning, the performance will usually be slightly worse than what you measured using cross-validation (because your system ends up fine-tuned to perform well on the validation data and will likely not perform as well on unknown datasets). It is not the case in this example, but when this happens you must resist the temptation to tweak the hyperparameters to make the numbers look good on the test set; the improvements would be unlikely to generalize to new data."
   ]
  },
  {
   "cell_type": "code",
   "execution_count": null,
   "id": "ed2cedef-b497-4eda-9bbd-ab04263e2087",
   "metadata": {},
   "outputs": [],
   "source": []
  }
 ],
 "metadata": {
  "kernelspec": {
   "display_name": "Python 3 (ipykernel)",
   "language": "python",
   "name": "python3"
  },
  "language_info": {
   "codemirror_mode": {
    "name": "ipython",
    "version": 3
   },
   "file_extension": ".py",
   "mimetype": "text/x-python",
   "name": "python",
   "nbconvert_exporter": "python",
   "pygments_lexer": "ipython3",
   "version": "3.9.12"
  }
 },
 "nbformat": 4,
 "nbformat_minor": 5
}
