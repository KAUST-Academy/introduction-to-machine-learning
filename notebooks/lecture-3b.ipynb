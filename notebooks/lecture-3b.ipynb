{
  "cells": [
    {
      "cell_type": "code",
      "execution_count": null,
      "id": "e3ea2c52-3ead-4484-8a13-59ff459b0f78",
      "metadata": {
        "id": "e3ea2c52-3ead-4484-8a13-59ff459b0f78"
      },
      "outputs": [],
      "source": [
        "import pathlib\n",
        "import requests\n",
        "\n",
        "import joblib\n",
        "import matplotlib.pyplot as plt\n",
        "import numpy as np\n",
        "import pandas as pd\n",
        "from sklearn import dummy, linear_model, feature_selection, metrics\n",
        "from sklearn import model_selection, pipeline, preprocessing"
      ]
    },
    {
      "cell_type": "markdown",
      "source": [
        "# Performance metrics"
      ],
      "metadata": {
        "id": "QwVNSPVMVl1z"
      },
      "id": "QwVNSPVMVl1z"
    },
    {
      "cell_type": "markdown",
      "id": "a9b241c6-de2e-4c9a-ac4f-6c5a010e2929",
      "metadata": {
        "id": "a9b241c6-de2e-4c9a-ac4f-6c5a010e2929",
        "tags": []
      },
      "source": [
        "## MNIST Dataset\n",
        "\n",
        "The original [MNIST](http://yann.lecun.com/exdb/mnist/) dataset consists of 70000 28x28 black and white images in 10 classes. There are 60000 training images and 10000 test images."
      ]
    },
    {
      "cell_type": "code",
      "execution_count": null,
      "id": "92587a9e-0b12-49cc-aa00-93c905c60278",
      "metadata": {
        "id": "92587a9e-0b12-49cc-aa00-93c905c60278"
      },
      "outputs": [],
      "source": [
        "# might be different if using Colab or Kaggle\n",
        "PROJECT_ROOT_DIR = pathlib.Path(\".\")\n",
        "\n",
        "DATA_DIR = PROJECT_ROOT_DIR / \"data\" / \"mnist\"\n",
        "DATA_DIR.mkdir(parents=True, exist_ok=True)\n",
        "\n",
        "RESULTS_DIR = PROJECT_ROOT_DIR / \"results\" / \"mnist\"\n",
        "RESULTS_DIR.mkdir(parents=True, exist_ok=True)\n"
      ]
    },
    {
      "cell_type": "markdown",
      "id": "e68d2238-7283-441a-b6d8-4ba3c4c682f0",
      "metadata": {
        "id": "e68d2238-7283-441a-b6d8-4ba3c4c682f0"
      },
      "source": [
        "### Download and extract the data (if using Colab or Kaggle!)"
      ]
    },
    {
      "cell_type": "code",
      "execution_count": null,
      "id": "09916110-f2d8-448c-86ee-4be9ae5be169",
      "metadata": {
        "id": "09916110-f2d8-448c-86ee-4be9ae5be169",
        "tags": []
      },
      "outputs": [],
      "source": [
        "URL = \"https://github.com/davidrpugh/machine-learning-for-tabular-data/blob/main/data/mnist/mnist.parquet?raw=true\"\n",
        "\n",
        "with open(DATA_DIR / \"mnist.parquet\", 'wb') as f:\n",
        "    response = requests.get(URL)\n",
        "    f.write(response.content)\n"
      ]
    },
    {
      "cell_type": "code",
      "execution_count": null,
      "id": "RskyAZbs5dRe",
      "metadata": {
        "id": "RskyAZbs5dRe"
      },
      "outputs": [],
      "source": [
        "%%bash\n",
        "ls -lh ./data/mnist"
      ]
    },
    {
      "cell_type": "markdown",
      "id": "02cc24c9-260e-4840-8872-723f0adc6f41",
      "metadata": {
        "id": "02cc24c9-260e-4840-8872-723f0adc6f41"
      },
      "source": [
        "## Load the data\n",
        "\n",
        "We will load the data using the [Pandas](https://pandas.pydata.org/) library. Highly recommend the most recent edition of [*Python for Data Analysis*](https://learning.oreilly.com/library/view/python-for-data/9781491957653/) by Pandas creator Wes Mckinney for anyone interested in learning how to use Pandas."
      ]
    },
    {
      "cell_type": "code",
      "execution_count": null,
      "id": "c1fded7d-02a7-48c3-99e4-d19d001c8ccf",
      "metadata": {
        "id": "c1fded7d-02a7-48c3-99e4-d19d001c8ccf"
      },
      "outputs": [],
      "source": [
        "data = pd.read_parquet(DATA_DIR / \"mnist.parquet\")\n",
        "features = data.drop(\"label\", axis=1)\n",
        "target = data.loc[:, \"label\"]"
      ]
    },
    {
      "cell_type": "markdown",
      "id": "de1d7ed7-50ae-46fb-b7c9-cb3cbd5a6f1b",
      "metadata": {
        "id": "de1d7ed7-50ae-46fb-b7c9-cb3cbd5a6f1b"
      },
      "source": [
        "## Explore the data"
      ]
    },
    {
      "cell_type": "code",
      "execution_count": null,
      "id": "9b53a9c4-550d-4577-bf0f-bace74843784",
      "metadata": {
        "id": "9b53a9c4-550d-4577-bf0f-bace74843784"
      },
      "outputs": [],
      "source": [
        "features.info()"
      ]
    },
    {
      "cell_type": "code",
      "execution_count": null,
      "id": "5a672145-6e4a-4a8f-9354-773c665e6139",
      "metadata": {
        "id": "5a672145-6e4a-4a8f-9354-773c665e6139"
      },
      "outputs": [],
      "source": [
        "features.head()"
      ]
    },
    {
      "cell_type": "code",
      "execution_count": null,
      "id": "ed9991ac-7033-475f-aacc-b0ea0d6dded4",
      "metadata": {
        "id": "ed9991ac-7033-475f-aacc-b0ea0d6dded4"
      },
      "outputs": [],
      "source": [
        "features.tail()"
      ]
    },
    {
      "cell_type": "code",
      "execution_count": null,
      "id": "d4983c89-dcbf-4403-8d76-7940d95c9122",
      "metadata": {
        "id": "d4983c89-dcbf-4403-8d76-7940d95c9122"
      },
      "outputs": [],
      "source": [
        "features.describe()"
      ]
    },
    {
      "cell_type": "code",
      "execution_count": null,
      "id": "f9a5d4e9-8c96-4da9-b9b7-33a0edbe018e",
      "metadata": {
        "id": "f9a5d4e9-8c96-4da9-b9b7-33a0edbe018e"
      },
      "outputs": [],
      "source": [
        "_ = (target.value_counts()\n",
        "           .sort_index()\n",
        "           .plot(kind=\"bar\"))\n",
        "_ = plt.xticks(rotation=-45)"
      ]
    },
    {
      "cell_type": "markdown",
      "source": [
        "## Train-Test Split"
      ],
      "metadata": {
        "id": "XtWSWLLBh4vq"
      },
      "id": "XtWSWLLBh4vq"
    },
    {
      "cell_type": "code",
      "execution_count": null,
      "id": "beff5a36-07c7-404f-916b-260c789aff91",
      "metadata": {
        "id": "beff5a36-07c7-404f-916b-260c789aff91"
      },
      "outputs": [],
      "source": [
        "TEST_SIZE = 1e-1\n",
        "\n",
        "# split the dataset into training and testing data\n",
        "_random_state = np.random.RandomState(42)\n",
        "train_features, test_features, train_target, test_target = model_selection.train_test_split(\n",
        "    features,\n",
        "    target,\n",
        "    test_size=TEST_SIZE,\n",
        "    stratify=target,\n",
        "    random_state=_random_state\n",
        ")"
      ]
    },
    {
      "cell_type": "code",
      "execution_count": null,
      "id": "e9ed741c-996c-4df3-8680-49f14cc0dcf0",
      "metadata": {
        "id": "e9ed741c-996c-4df3-8680-49f14cc0dcf0"
      },
      "outputs": [],
      "source": [
        "train_features.info()"
      ]
    },
    {
      "cell_type": "code",
      "execution_count": null,
      "id": "8115616b-7609-4510-8347-b02e497bed84",
      "metadata": {
        "id": "8115616b-7609-4510-8347-b02e497bed84"
      },
      "outputs": [],
      "source": [
        "train_features.head()"
      ]
    },
    {
      "cell_type": "code",
      "execution_count": null,
      "id": "3722a295-4c88-4d24-b5cc-b84282f3de57",
      "metadata": {
        "id": "3722a295-4c88-4d24-b5cc-b84282f3de57"
      },
      "outputs": [],
      "source": [
        "train_target.head()"
      ]
    },
    {
      "cell_type": "code",
      "execution_count": null,
      "id": "8a75323c-1b45-46b4-80bc-f26b003d50bb",
      "metadata": {
        "id": "8a75323c-1b45-46b4-80bc-f26b003d50bb"
      },
      "outputs": [],
      "source": [
        "train_features.describe()"
      ]
    },
    {
      "cell_type": "markdown",
      "id": "090af9ae-e36c-4c5d-ac2d-25e1ea1c34df",
      "metadata": {
        "id": "090af9ae-e36c-4c5d-ac2d-25e1ea1c34df"
      },
      "source": [
        "Again, if you want to you can write out the train and test sets to disk to avoid having to recreate them later."
      ]
    },
    {
      "cell_type": "code",
      "execution_count": null,
      "id": "6ede1948-a85a-450f-8c0b-8c18b56ed4d3",
      "metadata": {
        "id": "6ede1948-a85a-450f-8c0b-8c18b56ed4d3"
      },
      "outputs": [],
      "source": [
        "_ = (train_features.join(train_target)\n",
        "                   .to_parquet(DATA_DIR / \"train.parquet\", index=False))\n",
        "\n",
        "_ = (test_features.join(test_target)\n",
        "                   .to_parquet(DATA_DIR / \"test.parquet\", index=False))"
      ]
    },
    {
      "cell_type": "markdown",
      "source": [
        "## Train a Binary Classifier"
      ],
      "metadata": {
        "id": "nRpiColUMDrc"
      },
      "id": "nRpiColUMDrc"
    },
    {
      "cell_type": "code",
      "source": [
        "ml_pipeline = pipeline.make_pipeline(\n",
        "    feature_selection.VarianceThreshold(threshold=0.0),\n",
        "    preprocessing.StandardScaler(),\n",
        "    linear_model.SGDClassifier()\n",
        ")"
      ],
      "metadata": {
        "id": "PIrcjv0QfneM"
      },
      "id": "PIrcjv0QfneM",
      "execution_count": null,
      "outputs": []
    },
    {
      "cell_type": "code",
      "source": [
        "ml_pipeline"
      ],
      "metadata": {
        "id": "FAFoREXmL47x"
      },
      "id": "FAFoREXmL47x",
      "execution_count": null,
      "outputs": []
    },
    {
      "cell_type": "code",
      "source": [
        "_ = ml_pipeline.fit(train_features, train_target == 5)"
      ],
      "metadata": {
        "id": "f4iv1KhwL5AK"
      },
      "id": "f4iv1KhwL5AK",
      "execution_count": null,
      "outputs": []
    },
    {
      "cell_type": "markdown",
      "id": "38833161-7ebe-4b97-8bef-91159c69e939",
      "metadata": {
        "id": "38833161-7ebe-4b97-8bef-91159c69e939"
      },
      "source": [
        "## Performance measures"
      ]
    },
    {
      "cell_type": "markdown",
      "id": "d4e6030a-4a88-4dd6-82a3-66e606686331",
      "metadata": {
        "id": "d4e6030a-4a88-4dd6-82a3-66e606686331"
      },
      "source": [
        "### Measuring accuracy using Cross Validation"
      ]
    },
    {
      "cell_type": "code",
      "execution_count": null,
      "id": "6f0e23a7-4f86-482b-ae74-f6e92e928837",
      "metadata": {
        "id": "6f0e23a7-4f86-482b-ae74-f6e92e928837"
      },
      "outputs": [],
      "source": [
        "CV_FOLDS = 3\n",
        "\n",
        "cv_scores = model_selection.cross_val_score(\n",
        "    ml_pipeline,\n",
        "    X=train_features,\n",
        "    y=(train_target == 5),\n",
        "    cv=CV_FOLDS,\n",
        "    scoring=\"accuracy\",\n",
        "    n_jobs=-1,\n",
        "    verbose=1\n",
        ")"
      ]
    },
    {
      "cell_type": "code",
      "source": [
        "cv_scores"
      ],
      "metadata": {
        "id": "UA4pq6SShrXo"
      },
      "id": "UA4pq6SShrXo",
      "execution_count": null,
      "outputs": []
    },
    {
      "cell_type": "code",
      "execution_count": null,
      "id": "78db7961-77a9-480b-9e28-7e05de150d9e",
      "metadata": {
        "id": "78db7961-77a9-480b-9e28-7e05de150d9e"
      },
      "outputs": [],
      "source": [
        "cv_scores.mean()"
      ]
    },
    {
      "cell_type": "code",
      "execution_count": null,
      "id": "2b83394a-50f1-49e1-9526-8098090b7c9a",
      "metadata": {
        "id": "2b83394a-50f1-49e1-9526-8098090b7c9a"
      },
      "outputs": [],
      "source": [
        "# make predictions\n",
        "cv_predictions = model_selection.cross_val_predict(\n",
        "    ml_pipeline,\n",
        "    X=train_features,\n",
        "    y=(train_target == 5),\n",
        "    cv=CV_FOLDS,\n",
        "    n_jobs=-1,\n",
        "    verbose=1\n",
        ")\n"
      ]
    },
    {
      "cell_type": "code",
      "source": [
        "cv_accuracy = metrics.accuracy_score(\n",
        "    (train_target == 5),\n",
        "    cv_predictions,\n",
        ")\n",
        "print(cv_accuracy)"
      ],
      "metadata": {
        "id": "b9013Xq5MiTi"
      },
      "id": "b9013Xq5MiTi",
      "execution_count": null,
      "outputs": []
    },
    {
      "cell_type": "markdown",
      "source": [
        "Cross-validated accurracy score is quite high! But is our model really that good? What is the relevant benchmark?"
      ],
      "metadata": {
        "id": "u6VeH5F4jjjx"
      },
      "id": "u6VeH5F4jjjx"
    },
    {
      "cell_type": "code",
      "source": [
        "dummy_pipeline = pipeline.make_pipeline(\n",
        "    feature_selection.VarianceThreshold(threshold=0.0),\n",
        "    preprocessing.StandardScaler(),\n",
        "    dummy.DummyClassifier(strategy=\"most_frequent\")\n",
        ")\n",
        "\n",
        "dummy_pipeline_scores = model_selection.cross_val_score(\n",
        "    dummy_pipeline,\n",
        "    X=train_features,\n",
        "    y=(train_target == 5),\n",
        "    cv=CV_FOLDS,\n",
        "    scoring=\"accuracy\",\n",
        "    n_jobs=-1,\n",
        "    verbose=1\n",
        ")"
      ],
      "metadata": {
        "id": "2T8F49lLjt_R"
      },
      "id": "2T8F49lLjt_R",
      "execution_count": null,
      "outputs": []
    },
    {
      "cell_type": "code",
      "source": [
        "dummy_pipeline_scores.mean()"
      ],
      "metadata": {
        "id": "h6_fksrkM7xj"
      },
      "id": "h6_fksrkM7xj",
      "execution_count": null,
      "outputs": []
    },
    {
      "cell_type": "markdown",
      "source": [
        "Simply guessing \"not 5\" will be correct 90% of the time! Why? This example demonstrates why accuracy is not a great metric to use when you have imbalanced datasets."
      ],
      "metadata": {
        "id": "tPPnvRINkGqd"
      },
      "id": "tPPnvRINkGqd"
    },
    {
      "cell_type": "markdown",
      "id": "2ef1a3be-ada7-4fed-9813-b1158d7aaeab",
      "metadata": {
        "id": "2ef1a3be-ada7-4fed-9813-b1158d7aaeab"
      },
      "source": [
        "### Confusion matrix"
      ]
    },
    {
      "cell_type": "code",
      "source": [
        "cv_predictions = model_selection.cross_val_predict(\n",
        "    ml_pipeline,\n",
        "    X=train_features,\n",
        "    y=(train_target == 5),\n",
        "    cv=CV_FOLDS,\n",
        "    n_jobs=-1,\n",
        "    verbose=1\n",
        ")"
      ],
      "metadata": {
        "id": "V2jt-yR5km53"
      },
      "id": "V2jt-yR5km53",
      "execution_count": null,
      "outputs": []
    },
    {
      "cell_type": "code",
      "source": [
        "metrics.confusion_matrix?"
      ],
      "metadata": {
        "id": "txgYQPtJ2-DD"
      },
      "id": "txgYQPtJ2-DD",
      "execution_count": null,
      "outputs": []
    },
    {
      "cell_type": "code",
      "execution_count": null,
      "id": "2caaf7d3-cf20-4008-878e-f57a261db011",
      "metadata": {
        "id": "2caaf7d3-cf20-4008-878e-f57a261db011"
      },
      "outputs": [],
      "source": [
        "confusion_matrix = metrics.confusion_matrix(\n",
        "    (train_target == 5),\n",
        "    cv_predictions,\n",
        "    normalize=None\n",
        ")\n",
        "print(confusion_matrix)"
      ]
    },
    {
      "cell_type": "markdown",
      "id": "5dc0e2e7-4fb3-4cd8-950a-da82c4be4095",
      "metadata": {
        "id": "5dc0e2e7-4fb3-4cd8-950a-da82c4be4095"
      },
      "source": [
        "### Precision"
      ]
    },
    {
      "cell_type": "code",
      "execution_count": null,
      "id": "2280294c-d524-49fc-bb53-9083662a7fad",
      "metadata": {
        "id": "2280294c-d524-49fc-bb53-9083662a7fad"
      },
      "outputs": [],
      "source": [
        "metrics.precision_score(\n",
        "    (train_target == 5),\n",
        "    cv_predictions,\n",
        ")"
      ]
    },
    {
      "cell_type": "markdown",
      "id": "cfbf5770-4c74-4212-b6de-de5637afcba3",
      "metadata": {
        "id": "cfbf5770-4c74-4212-b6de-de5637afcba3"
      },
      "source": [
        "### Recall"
      ]
    },
    {
      "cell_type": "code",
      "execution_count": null,
      "id": "ccc68c19-f248-4e08-8ab2-565d9aeb3ac5",
      "metadata": {
        "id": "ccc68c19-f248-4e08-8ab2-565d9aeb3ac5"
      },
      "outputs": [],
      "source": [
        "metrics.recall_score(\n",
        "    (train_target == 5),\n",
        "    cv_predictions,\n",
        ")"
      ]
    },
    {
      "cell_type": "markdown",
      "id": "c0065ef0-4bf0-403a-a6a4-219db9a44589",
      "metadata": {
        "id": "c0065ef0-4bf0-403a-a6a4-219db9a44589"
      },
      "source": [
        "### $F_1$ Score"
      ]
    },
    {
      "cell_type": "code",
      "execution_count": null,
      "id": "d1f8aafe-a87c-4e90-8b2f-4ecfbe2d31e8",
      "metadata": {
        "id": "d1f8aafe-a87c-4e90-8b2f-4ecfbe2d31e8"
      },
      "outputs": [],
      "source": [
        "metrics.f1_score(\n",
        "    (train_target == 5),\n",
        "    cv_predictions,\n",
        ")"
      ]
    },
    {
      "cell_type": "markdown",
      "id": "3b434767-0619-42a2-8577-a81c3616d0cd",
      "metadata": {
        "id": "3b434767-0619-42a2-8577-a81c3616d0cd"
      },
      "source": [
        "### Classification report"
      ]
    },
    {
      "cell_type": "code",
      "execution_count": null,
      "id": "afe04cef-c14c-4735-a7fa-c2131bce5344",
      "metadata": {
        "id": "afe04cef-c14c-4735-a7fa-c2131bce5344"
      },
      "outputs": [],
      "source": [
        "_report = metrics.classification_report(\n",
        "    (train_target == 5),\n",
        "    cv_predictions,\n",
        ")\n",
        "print(_report)"
      ]
    },
    {
      "cell_type": "markdown",
      "id": "1f89d8a5-caf1-47fc-90af-9896a3767780",
      "metadata": {
        "id": "1f89d8a5-caf1-47fc-90af-9896a3767780"
      },
      "source": [
        "### Receiver Operating Characteristic (ROC) Area Under the Curve (AUC) Score"
      ]
    },
    {
      "cell_type": "code",
      "execution_count": null,
      "id": "87fcb8e6-243f-4d1e-be2f-90f03e3a1311",
      "metadata": {
        "id": "87fcb8e6-243f-4d1e-be2f-90f03e3a1311"
      },
      "outputs": [],
      "source": [
        "_scores = ml_pipeline.predict_proba(train_features)\n",
        "metrics.roc_auc_score(\n",
        "    (train_target == 5),\n",
        "    _scores[:, 1],\n",
        ")"
      ]
    },
    {
      "cell_type": "code",
      "source": [
        "false_positive_rate, true_positive_rate, thresholds = metrics.roc_curve(\n",
        "    (train_target == 5),\n",
        "    _scores[:, 1]\n",
        ")\n",
        "\n",
        "plt.plot(false_positive_rate, true_positive_rate, label=\"Logistic Regression\")\n",
        "plt.plot(false_positive_rate, false_positive_rate, \"k--\", label=\"Random Classifier\")\n",
        "plt.xlabel(\"False Positive Rate (Fall Out)\")\n",
        "plt.ylabel(\"True Positive Rate (Recall)\")\n",
        "plt.title(\"ROC Curve\")\n",
        "plt.grid()"
      ],
      "metadata": {
        "id": "eqP6btoDrwwF"
      },
      "id": "eqP6btoDrwwF",
      "execution_count": null,
      "outputs": []
    },
    {
      "cell_type": "code",
      "source": [
        "precisions, recalls, thresholds = metrics.precision_recall_curve(\n",
        "    (train_target == 5),\n",
        "    _scores[:, 1]\n",
        ")\n",
        "\n",
        "plt.plot(recalls, precisions, label=\"Logistic Regression\")\n",
        "plt.xlabel(\"Recall\")\n",
        "plt.ylabel(\"Precision\")\n",
        "plt.title(\"Precision-Recall Curve\")\n",
        "plt.grid()"
      ],
      "metadata": {
        "id": "lCrQu4CNqtTq"
      },
      "id": "lCrQu4CNqtTq",
      "execution_count": null,
      "outputs": []
    },
    {
      "cell_type": "markdown",
      "source": [
        "Since the ROC curve is so similar to the precision/recall (PR) curve, you may wonder how to decide which one to use.\n",
        "\n",
        "1. Prefer the PR curve whenever the positive class is rare or when you care more about the false positives than the false negatives.\n",
        "2. Otherwise, use the ROC curve.\n"
      ],
      "metadata": {
        "id": "PpDQ5vg2skeA"
      },
      "id": "PpDQ5vg2skeA"
    },
    {
      "cell_type": "code",
      "execution_count": null,
      "id": "eec43a20-61da-4edb-b2e8-673adc6b7d3a",
      "metadata": {
        "id": "eec43a20-61da-4edb-b2e8-673adc6b7d3a"
      },
      "outputs": [],
      "source": []
    }
  ],
  "metadata": {
    "colab": {
      "provenance": []
    },
    "kernelspec": {
      "display_name": "Python 3 (ipykernel)",
      "language": "python",
      "name": "python3"
    },
    "language_info": {
      "codemirror_mode": {
        "name": "ipython",
        "version": 3
      },
      "file_extension": ".py",
      "mimetype": "text/x-python",
      "name": "python",
      "nbconvert_exporter": "python",
      "pygments_lexer": "ipython3",
      "version": "3.10.6"
    }
  },
  "nbformat": 4,
  "nbformat_minor": 5
}