{
  "cells": [
    {
      "cell_type": "markdown",
      "metadata": {
        "id": "D6wtmOdLgkT0"
      },
      "source": [
        "# Exploratory Data Analysis"
      ]
    },
    {
      "cell_type": "markdown",
      "metadata": {
        "id": "IXXQHFvHgkT8"
      },
      "source": [
        "## Download the Data"
      ]
    },
    {
      "cell_type": "code",
      "source": [
        "import pathlib\n",
        "import requests\n",
        "import tarfile\n",
        "\n",
        "import numpy as np\n",
        "import pandas as pd\n",
        "from sklearn import model_selection\n",
        "\n",
        "\n",
        "def download_data(url, data_dir):\n",
        "    with open(data_dir / \"housing.tgz\", 'wb') as f:\n",
        "        response = requests.get(url)\n",
        "        f.write(response.content)\n",
        "\n",
        "\n",
        "def extract_data(data_dir):\n",
        "    with tarfile.open(data_dir / \"housing.tgz\") as tgz:\n",
        "        tgz.extractall(path=data_dir)\n",
        "\n",
        "\n",
        "# load the data\n",
        "url = \"https://github.com/ageron/data/raw/main/housing.tgz\"\n",
        "data_dir = pathlib.Path(\"./sample_data\")\n",
        "data_dir.mkdir(parents=True, exist_ok=True)\n",
        "\n",
        "download_data(url, data_dir)\n",
        "extract_data(data_dir)\n",
        "housing_df = pd.read_csv(data_dir / \"housing\" / \"housing.csv\")\n",
        "\n",
        "# stratified sampling to match the income distribution\n",
        "housing_df[\"income_cat\"] = pd.cut(\n",
        "    housing_df[\"median_income\"],\n",
        "    bins=[0., 1.5, 3.0, 4.5, 6., np.inf],\n",
        "    labels=[0, 1, 2, 3, 4]\n",
        ")\n",
        "\n",
        "train_df, test_df = model_selection.train_test_split(\n",
        "    housing_df,\n",
        "    test_size=0.2,\n",
        "    stratify=housing_df.loc[:, \"income_cat\"],\n",
        "    random_state=42\n",
        ")\n",
        "\n",
        "train_df.drop(\"income_cat\", axis=1, inplace=True)\n",
        "test_df.drop(\"income_cat\", axis=1, inplace=True)"
      ],
      "metadata": {
        "id": "YVoJaPcziu03"
      },
      "execution_count": null,
      "outputs": []
    },
    {
      "cell_type": "code",
      "execution_count": null,
      "metadata": {
        "id": "k0meBgwNgkT9"
      },
      "outputs": [],
      "source": [
        "train_df.info()"
      ]
    },
    {
      "cell_type": "code",
      "source": [
        "test_df.info()"
      ],
      "metadata": {
        "id": "nExIkdksMvYp"
      },
      "execution_count": null,
      "outputs": []
    },
    {
      "cell_type": "markdown",
      "metadata": {
        "id": "0qCSXUXBgkUG"
      },
      "source": [
        "## Visualizing Geographical Data"
      ]
    },
    {
      "cell_type": "code",
      "execution_count": null,
      "metadata": {
        "id": "GNH1B6gNgkUG"
      },
      "outputs": [],
      "source": [
        "import matplotlib.pyplot as plt\n",
        "\n",
        "\n",
        "train_df.plot(kind=\"scatter\", x=\"longitude\", y=\"latitude\", grid=True)\n",
        "plt.show()"
      ]
    },
    {
      "cell_type": "code",
      "execution_count": null,
      "metadata": {
        "id": "ZbNXzCnTgkUG"
      },
      "outputs": [],
      "source": [
        "train_df.plot(kind=\"scatter\", x=\"longitude\", y=\"latitude\", grid=True, alpha=0.2)\n",
        "plt.show()"
      ]
    },
    {
      "cell_type": "code",
      "execution_count": null,
      "metadata": {
        "id": "3-H4IR_1gkUH"
      },
      "outputs": [],
      "source": [
        "train_df.plot(\n",
        "    kind=\"scatter\",\n",
        "    x=\"longitude\",\n",
        "    y=\"latitude\",\n",
        "    grid=True,\n",
        "    s=train_df.loc[:, \"population\"] / 100,\n",
        "    label=\"population\",\n",
        "    c=\"median_house_value\",\n",
        "    colorbar=True,\n",
        "    legend=True,\n",
        "    sharex=False,\n",
        "    figsize=(10, 7)\n",
        ")\n",
        "plt.show()"
      ]
    },
    {
      "cell_type": "markdown",
      "metadata": {
        "id": "hrQi8YZKgkUH"
      },
      "source": [
        "## Looking for Correlations"
      ]
    },
    {
      "cell_type": "code",
      "execution_count": null,
      "metadata": {
        "id": "-Sa8Oyj7gkUI"
      },
      "outputs": [],
      "source": [
        "(\n",
        "    train_df.corr(numeric_only=True)\n",
        "            .loc[:, \"median_house_value\"]\n",
        "            .sort_values(ascending=False)\n",
        ")"
      ]
    },
    {
      "cell_type": "code",
      "execution_count": null,
      "metadata": {
        "id": "M-UEULMKgkUI"
      },
      "outputs": [],
      "source": [
        "attributes = [\n",
        "    \"median_house_value\",\n",
        "    \"median_income\",\n",
        "    \"total_rooms\",\n",
        "    \"housing_median_age\"\n",
        "]\n",
        "_ = (\n",
        "    pd.plotting\n",
        "      .scatter_matrix(\n",
        "          train_df.loc[:, attributes],\n",
        "          figsize=(12, 8)\n",
        "          )\n",
        ")\n",
        "plt.show()"
      ]
    },
    {
      "cell_type": "code",
      "execution_count": null,
      "metadata": {
        "id": "-tOcu_g2gkUI"
      },
      "outputs": [],
      "source": [
        "train_df.plot(\n",
        "    kind=\"scatter\",\n",
        "    x=\"median_income\",\n",
        "    y=\"median_house_value\",\n",
        "    alpha=0.1,\n",
        "    grid=True\n",
        ")\n",
        "plt.show()"
      ]
    },
    {
      "cell_type": "markdown",
      "metadata": {
        "id": "Vx3SyYTzgkUI"
      },
      "source": [
        "## Experimenting with Attribute Combinations"
      ]
    },
    {
      "cell_type": "code",
      "execution_count": null,
      "metadata": {
        "id": "nXgIk-oXgkUJ"
      },
      "outputs": [],
      "source": [
        "new_features = {\n",
        "    \"rooms_per_house\": train_df[\"total_rooms\"] / train_df[\"households\"],\n",
        "    \"bedrooms_ratio\": train_df[\"total_bedrooms\"] / train_df[\"total_rooms\"],\n",
        "    \"people_per_house\": train_df[\"population\"] / train_df[\"households\"]\n",
        "}"
      ]
    },
    {
      "cell_type": "code",
      "execution_count": null,
      "metadata": {
        "id": "DK55K_fJgkUJ"
      },
      "outputs": [],
      "source": [
        "(\n",
        "    train_df.assign(**new_features)\n",
        "            .corr(numeric_only=True)\n",
        "            .loc[:, \"median_house_value\"]\n",
        "            .sort_values(ascending=False)\n",
        ")"
      ]
    },
    {
      "cell_type": "code",
      "source": [],
      "metadata": {
        "id": "LelHQ0DdQPrN"
      },
      "execution_count": null,
      "outputs": []
    }
  ],
  "metadata": {
    "kernelspec": {
      "display_name": "Python 3 (ipykernel)",
      "language": "python",
      "name": "python3"
    },
    "language_info": {
      "codemirror_mode": {
        "name": "ipython",
        "version": 3
      },
      "file_extension": ".py",
      "mimetype": "text/x-python",
      "name": "python",
      "nbconvert_exporter": "python",
      "pygments_lexer": "ipython3",
      "version": "3.10.13"
    },
    "nav_menu": {
      "height": "279px",
      "width": "309px"
    },
    "toc": {
      "nav_menu": {},
      "number_sections": true,
      "sideBar": true,
      "skip_h1_title": false,
      "toc_cell": false,
      "toc_position": {},
      "toc_section_display": "block",
      "toc_window_display": false
    },
    "colab": {
      "provenance": []
    }
  },
  "nbformat": 4,
  "nbformat_minor": 0
}