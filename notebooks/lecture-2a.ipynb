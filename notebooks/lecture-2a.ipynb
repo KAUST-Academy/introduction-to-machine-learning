{
  "cells": [
    {
      "cell_type": "markdown",
      "metadata": {
        "id": "Lqzke0N4gkT7"
      },
      "source": [
        "\n",
        "# Get the Data"
      ]
    },
    {
      "cell_type": "markdown",
      "metadata": {
        "id": "IXXQHFvHgkT8"
      },
      "source": [
        "## Download the Data"
      ]
    },
    {
      "cell_type": "code",
      "execution_count": null,
      "metadata": {
        "id": "nojAP3BVgkT8"
      },
      "outputs": [],
      "source": [
        "import pathlib\n",
        "import requests\n",
        "import tarfile\n",
        "\n",
        "import pandas as pd\n",
        "\n",
        "\n",
        "def download_data(url, data_dir):\n",
        "    with open(data_dir / \"housing.tgz\", 'wb') as f:\n",
        "        response = requests.get(url)\n",
        "        f.write(response.content)\n",
        "\n",
        "\n",
        "def extract_data(data_dir):\n",
        "    with tarfile.open(data_dir / \"housing.tgz\") as tgz:\n",
        "        tgz.extractall(path=data_dir)\n",
        "\n",
        "\n",
        "\n",
        "url = \"https://github.com/ageron/data/raw/main/housing.tgz\"\n",
        "data_dir = pathlib.Path(\"./sample_data\")\n",
        "data_dir.mkdir(parents=True, exist_ok=True)\n",
        "\n",
        "download_data(url, data_dir)\n",
        "extract_data(data_dir)\n",
        "\n",
        "housing_df = pd.read_csv(data_dir / \"housing\" / \"housing.csv\")"
      ]
    },
    {
      "cell_type": "markdown",
      "metadata": {
        "id": "tKepZdAVgkT8"
      },
      "source": [
        "## Take a Quick Look at the Data Structure"
      ]
    },
    {
      "cell_type": "code",
      "execution_count": null,
      "metadata": {
        "id": "1zopMuosgkT9"
      },
      "outputs": [],
      "source": [
        "housing_df.head()"
      ]
    },
    {
      "cell_type": "code",
      "execution_count": null,
      "metadata": {
        "id": "k0meBgwNgkT9"
      },
      "outputs": [],
      "source": [
        "housing_df.info()"
      ]
    },
    {
      "cell_type": "code",
      "execution_count": null,
      "metadata": {
        "id": "ZcXF6zzfgkT9"
      },
      "outputs": [],
      "source": [
        "(\n",
        "    housing_df.loc[:, \"ocean_proximity\"]\n",
        "              .value_counts()\n",
        ")"
      ]
    },
    {
      "cell_type": "code",
      "execution_count": null,
      "metadata": {
        "id": "jFj4mEDPgkT-"
      },
      "outputs": [],
      "source": [
        "housing_df.describe()"
      ]
    },
    {
      "cell_type": "code",
      "execution_count": null,
      "metadata": {
        "id": "e2TjDuF-gkT-"
      },
      "outputs": [],
      "source": [
        "import matplotlib.pyplot as plt\n",
        "\n",
        "\n",
        "_ = housing_df.hist(bins=50, figsize=(12, 8))"
      ]
    },
    {
      "cell_type": "markdown",
      "metadata": {
        "id": "BsIMUIpHgkT_"
      },
      "source": [
        "## Create a Test Set"
      ]
    },
    {
      "cell_type": "markdown",
      "source": [
        "### Naive sampling"
      ],
      "metadata": {
        "id": "jvOOlyruLEJN"
      }
    },
    {
      "cell_type": "code",
      "execution_count": null,
      "metadata": {
        "id": "RBNuk3AYgkT_"
      },
      "outputs": [],
      "source": [
        "from sklearn import model_selection\n",
        "\n",
        "\n",
        "train_df, test_df = model_selection.train_test_split(\n",
        "    housing_df,\n",
        "    test_size=0.2,\n",
        "    random_state=42\n",
        ")"
      ]
    },
    {
      "cell_type": "code",
      "source": [
        "train_df.info()"
      ],
      "metadata": {
        "id": "zbL_L8DPh4UZ"
      },
      "execution_count": null,
      "outputs": []
    },
    {
      "cell_type": "code",
      "execution_count": null,
      "metadata": {
        "id": "sHp151N_gkT_"
      },
      "outputs": [],
      "source": [
        "test_df.info()"
      ]
    },
    {
      "cell_type": "markdown",
      "metadata": {
        "id": "z9CnInilgkUA"
      },
      "source": [
        "### Stratified Sampling"
      ]
    },
    {
      "cell_type": "code",
      "execution_count": null,
      "metadata": {
        "id": "iYREU-RagkUD"
      },
      "outputs": [],
      "source": [
        "import numpy as np\n",
        "\n",
        "\n",
        "housing_df[\"income_cat\"] = pd.cut(\n",
        "    housing_df[\"median_income\"],\n",
        "    bins=[0., 1.5, 3.0, 4.5, 6., np.inf],\n",
        "    labels=[0, 1, 2, 3, 4]\n",
        ")"
      ]
    },
    {
      "cell_type": "code",
      "execution_count": null,
      "metadata": {
        "id": "jGlA3JLzgkUD"
      },
      "outputs": [],
      "source": [
        "_ = (\n",
        "    housing_df.loc[:, \"income_cat\"]\n",
        "              .value_counts()\n",
        "              .sort_index()\n",
        "              .plot\n",
        "              .bar(rot=0, grid=True)\n",
        ")\n",
        "plt.xlabel(\"Income category\")\n",
        "plt.ylabel(\"Number of districts\")\n",
        "plt.show()"
      ]
    },
    {
      "cell_type": "code",
      "execution_count": null,
      "metadata": {
        "id": "ogLGAr6QgkUF"
      },
      "outputs": [],
      "source": [
        "train_df, test_df = model_selection.train_test_split(\n",
        "    housing_df,\n",
        "    test_size=0.2,\n",
        "    stratify=housing_df.loc[:, \"income_cat\"],\n",
        "    random_state=42\n",
        ")"
      ]
    },
    {
      "cell_type": "code",
      "source": [
        "(\n",
        "    train_df.loc[:, \"income_cat\"]\n",
        "            .value_counts(normalize=True)\n",
        ")"
      ],
      "metadata": {
        "id": "fN4sKwSojfUi"
      },
      "execution_count": null,
      "outputs": []
    },
    {
      "cell_type": "code",
      "execution_count": null,
      "metadata": {
        "id": "FGyPFjMOgkUF"
      },
      "outputs": [],
      "source": [
        "(\n",
        "    test_df.loc[:, \"income_cat\"]\n",
        "           .value_counts(normalize=True)\n",
        ")"
      ]
    },
    {
      "cell_type": "markdown",
      "source": [
        "## Save Train and Test Sets"
      ],
      "metadata": {
        "id": "gjm5mKuPLWcM"
      }
    },
    {
      "cell_type": "code",
      "execution_count": null,
      "metadata": {
        "id": "9DlQX6ymgkUG"
      },
      "outputs": [],
      "source": [
        "train_df.drop(\"income_cat\", axis=1, inplace=True)\n",
        "test_df.drop(\"income_cat\", axis=1, inplace=True)"
      ]
    },
    {
      "cell_type": "code",
      "source": [
        "train_df.to_csv(data_dir / \"housing\" / \"train.csv\")\n",
        "test_df.to_csv(data_dir / \"housing\" / \"test.csv\")"
      ],
      "metadata": {
        "id": "lYSgafhNKmVk"
      },
      "execution_count": null,
      "outputs": []
    },
    {
      "cell_type": "code",
      "source": [],
      "metadata": {
        "id": "FGqbNxt3KyeM"
      },
      "execution_count": null,
      "outputs": []
    }
  ],
  "metadata": {
    "kernelspec": {
      "display_name": "Python 3 (ipykernel)",
      "language": "python",
      "name": "python3"
    },
    "language_info": {
      "codemirror_mode": {
        "name": "ipython",
        "version": 3
      },
      "file_extension": ".py",
      "mimetype": "text/x-python",
      "name": "python",
      "nbconvert_exporter": "python",
      "pygments_lexer": "ipython3",
      "version": "3.10.13"
    },
    "nav_menu": {
      "height": "279px",
      "width": "309px"
    },
    "toc": {
      "nav_menu": {},
      "number_sections": true,
      "sideBar": true,
      "skip_h1_title": false,
      "toc_cell": false,
      "toc_position": {},
      "toc_section_display": "block",
      "toc_window_display": false
    },
    "colab": {
      "provenance": []
    }
  },
  "nbformat": 4,
  "nbformat_minor": 0
}