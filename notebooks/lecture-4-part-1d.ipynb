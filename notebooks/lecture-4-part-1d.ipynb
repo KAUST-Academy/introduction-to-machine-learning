{
  "cells": [
    {
      "cell_type": "code",
      "execution_count": null,
      "metadata": {
        "id": "BqXqSwkNMZnh"
      },
      "outputs": [],
      "source": [
        "import pathlib\n",
        "\n",
        "import matplotlib.pyplot as plt\n",
        "import numpy as np\n",
        "import pandas as pd\n",
        "from sklearn import compose, datasets, linear_model, metrics, model_selection\n",
        "from sklearn import preprocessing, pipeline, utils"
      ]
    },
    {
      "cell_type": "markdown",
      "metadata": {
        "id": "wZWFwAtSMf2-"
      },
      "source": [
        "# Polynomial Regression with Scikit-Learn"
      ]
    },
    {
      "cell_type": "code",
      "execution_count": null,
      "metadata": {
        "id": "Pic_KeQvHUR8"
      },
      "outputs": [],
      "source": [
        "features, targets = datasets.load_diabetes(\n",
        "    return_X_y=True,\n",
        "    as_frame=True,\n",
        "    scaled=False\n",
        ")"
      ]
    },
    {
      "cell_type": "markdown",
      "source": [
        "## Train-test split"
      ],
      "metadata": {
        "id": "iRuGO5YhhC86"
      }
    },
    {
      "cell_type": "code",
      "source": [
        "prng = np.random.RandomState(42)\n",
        "\n",
        "train_features, test_features, train_targets, test_targets = (\n",
        "    model_selection.train_test_split(\n",
        "        features,\n",
        "        targets,\n",
        "        random_state=prng,\n",
        "        test_size=0.1\n",
        "    )\n",
        ")"
      ],
      "metadata": {
        "id": "3bPVLcg5IaLr"
      },
      "execution_count": null,
      "outputs": []
    },
    {
      "cell_type": "markdown",
      "source": [
        "## Features Preprocessing"
      ],
      "metadata": {
        "id": "910DJ9vGhk8E"
      }
    },
    {
      "cell_type": "code",
      "execution_count": null,
      "metadata": {
        "id": "m9sAUxuqHUR-"
      },
      "outputs": [],
      "source": [
        "transformer_0 = compose.make_column_transformer(\n",
        "    (\n",
        "        preprocessing.OneHotEncoder(\n",
        "            drop=\"first\",\n",
        "            dtype=np.uint8,\n",
        "            sparse_output=False,\n",
        "        ),\n",
        "        [\"sex\"]\n",
        "    ),\n",
        "    remainder=\"drop\",\n",
        "    verbose=True,\n",
        "    verbose_feature_names_out=False\n",
        ")\n",
        "\n",
        "\n",
        "transformer_1 = compose.make_column_transformer(\n",
        "    (\n",
        "        preprocessing.StandardScaler(),\n",
        "        [\"age\", \"bmi\", \"bp\", \"s1\", \"s2\", \"s3\", \"s4\", \"s5\"]\n",
        "    ),\n",
        "    remainder=\"drop\",\n",
        "    verbose=True,\n",
        "    verbose_feature_names_out=False\n",
        ")\n",
        "\n",
        "features_preprocessor = pipeline.make_union(\n",
        "    transformer_0,\n",
        "    transformer_1,\n",
        "    verbose=True,\n",
        "    n_jobs=-1\n",
        ").set_output(transform=\"pandas\")"
      ]
    },
    {
      "cell_type": "code",
      "source": [
        "features_preprocessor"
      ],
      "metadata": {
        "id": "kga4xYZpjI1i"
      },
      "execution_count": null,
      "outputs": []
    },
    {
      "cell_type": "code",
      "source": [
        "target_preprocessor = preprocessing.FunctionTransformer(\n",
        "    func=np.log,\n",
        "    inverse_func=np.exp\n",
        ")"
      ],
      "metadata": {
        "id": "ONzxBjC7ORf6"
      },
      "execution_count": null,
      "outputs": []
    },
    {
      "cell_type": "code",
      "source": [
        "target_preprocessor"
      ],
      "metadata": {
        "id": "vBWPPwhgORix"
      },
      "execution_count": null,
      "outputs": []
    },
    {
      "cell_type": "markdown",
      "source": [
        "## Feature Engineering"
      ],
      "metadata": {
        "id": "2iKPEK7Wo7Ma"
      }
    },
    {
      "cell_type": "code",
      "source": [
        "feature_engineering = preprocessing.PolynomialFeatures(\n",
        "    degree=2,\n",
        "    include_bias=False,\n",
        "    interaction_only=False\n",
        ").set_output(transform=\"pandas\")"
      ],
      "metadata": {
        "id": "xjuJ0RiAo-Ji"
      },
      "execution_count": null,
      "outputs": []
    },
    {
      "cell_type": "code",
      "source": [
        "feature_engineering"
      ],
      "metadata": {
        "id": "-g-AJB7cOcQs"
      },
      "execution_count": null,
      "outputs": []
    },
    {
      "cell_type": "code",
      "source": [
        "feature_engineering.fit_transform(train_features)"
      ],
      "metadata": {
        "id": "254Y1WyAOcZe"
      },
      "execution_count": null,
      "outputs": []
    },
    {
      "cell_type": "markdown",
      "source": [
        "## Model training"
      ],
      "metadata": {
        "id": "mrQRCXgMgSe5"
      }
    },
    {
      "cell_type": "markdown",
      "source": [
        "### Using LinearRegression"
      ],
      "metadata": {
        "id": "hbwT8oMLgVfK"
      }
    },
    {
      "cell_type": "code",
      "source": [
        "_regressor = compose.TransformedTargetRegressor(\n",
        "    regressor=linear_model.LinearRegression(),\n",
        "    transformer=target_preprocessor\n",
        ")\n",
        "\n",
        "linear_regression_pipeline = pipeline.make_pipeline(\n",
        "    features_preprocessor,\n",
        "    feature_engineering,\n",
        "    _regressor\n",
        ")"
      ],
      "metadata": {
        "id": "HEztScChgrzr"
      },
      "execution_count": null,
      "outputs": []
    },
    {
      "cell_type": "code",
      "source": [
        "linear_regression_pipeline"
      ],
      "metadata": {
        "id": "2OqCrRj0OudW"
      },
      "execution_count": null,
      "outputs": []
    },
    {
      "cell_type": "code",
      "source": [
        "%%timeit\n",
        "_ = linear_regression_pipeline.fit(train_features, train_targets)"
      ],
      "metadata": {
        "id": "6nanFV14gYoq"
      },
      "execution_count": null,
      "outputs": []
    },
    {
      "cell_type": "code",
      "source": [
        "_ = linear_regression_pipeline.fit(train_features, train_targets)"
      ],
      "metadata": {
        "id": "cUilcoCfOw29"
      },
      "execution_count": null,
      "outputs": []
    },
    {
      "cell_type": "code",
      "source": [
        "train_predictions = linear_regression_pipeline.predict(train_features)\n",
        "train_rmse = metrics.mean_squared_error(\n",
        "    train_targets,\n",
        "    train_predictions,\n",
        "    squared=False\n",
        ")\n",
        "print(f\"Training rmse: {train_rmse}\")"
      ],
      "metadata": {
        "id": "Foh_4dEGOyW1"
      },
      "execution_count": null,
      "outputs": []
    },
    {
      "cell_type": "code",
      "source": [
        "test_predictions = linear_regression_pipeline.predict(test_features)\n",
        "test_rmse = metrics.mean_squared_error(\n",
        "    test_targets,\n",
        "    test_predictions,\n",
        "    squared=False\n",
        ")\n",
        "print(f\"Testing rmse: {test_rmse}\")"
      ],
      "metadata": {
        "id": "86KgatKIOydz"
      },
      "execution_count": null,
      "outputs": []
    },
    {
      "cell_type": "markdown",
      "source": [
        "### Using SGDRegressor"
      ],
      "metadata": {
        "id": "h3JwOS2MhyJW"
      }
    },
    {
      "cell_type": "code",
      "execution_count": null,
      "metadata": {
        "id": "329CnQnEHUR-"
      },
      "outputs": [],
      "source": [
        "_regressor = compose.TransformedTargetRegressor(\n",
        "    regressor=linear_model.SGDRegressor(),\n",
        "    transformer=target_preprocessor\n",
        ")\n",
        "\n",
        "sgd_regressor_pipeline = pipeline.make_pipeline(\n",
        "    features_preprocessor,\n",
        "    feature_engineering,\n",
        "    _regressor\n",
        ")"
      ]
    },
    {
      "cell_type": "code",
      "source": [
        "%%timeit\n",
        "_ = sgd_regressor_pipeline.fit(train_features, train_targets)"
      ],
      "metadata": {
        "id": "rAjNNRdHgx0-"
      },
      "execution_count": null,
      "outputs": []
    },
    {
      "cell_type": "code",
      "source": [
        "_ = sgd_regressor_pipeline.fit(train_features, train_targets)"
      ],
      "metadata": {
        "id": "xUNqtDeFhFj5"
      },
      "execution_count": null,
      "outputs": []
    },
    {
      "cell_type": "code",
      "source": [
        "train_predictions = sgd_regressor_pipeline.predict(train_features)\n",
        "train_rmse = metrics.mean_squared_error(\n",
        "    train_targets,\n",
        "    train_predictions,\n",
        "    squared=False\n",
        ")\n",
        "print(f\"Training rmse: {train_rmse}\")"
      ],
      "metadata": {
        "id": "BpNMeohYl6jK"
      },
      "execution_count": null,
      "outputs": []
    },
    {
      "cell_type": "code",
      "execution_count": null,
      "metadata": {
        "id": "CNHrKRGYHUR_"
      },
      "outputs": [],
      "source": [
        "test_predictions = sgd_regressor_pipeline.predict(test_features)\n",
        "test_rmse = metrics.mean_squared_error(\n",
        "    test_targets,\n",
        "    test_predictions,\n",
        "    squared=False\n",
        ")\n",
        "print(f\"Testing rmse: {test_rmse}\")"
      ]
    },
    {
      "cell_type": "markdown",
      "source": [
        "### Exercise\n",
        "\n",
        "Compare the training loss and the testing loss. Is the model underfitting or overfitting? How can you tell?"
      ],
      "metadata": {
        "id": "R-dC8-3hauIk"
      }
    },
    {
      "cell_type": "code",
      "source": [],
      "metadata": {
        "id": "tqj37ufbG2nP"
      },
      "execution_count": null,
      "outputs": []
    }
  ],
  "metadata": {
    "colab": {
      "provenance": []
    },
    "kernelspec": {
      "display_name": "Python 3 (ipykernel)",
      "language": "python",
      "name": "python3"
    },
    "language_info": {
      "codemirror_mode": {
        "name": "ipython",
        "version": 3
      },
      "file_extension": ".py",
      "mimetype": "text/x-python",
      "name": "python",
      "nbconvert_exporter": "python",
      "pygments_lexer": "ipython3",
      "version": "3.10.6"
    }
  },
  "nbformat": 4,
  "nbformat_minor": 0
}