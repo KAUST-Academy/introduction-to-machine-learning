{
  "cells": [
    {
      "cell_type": "code",
      "execution_count": null,
      "id": "e3ea2c52-3ead-4484-8a13-59ff459b0f78",
      "metadata": {
        "id": "e3ea2c52-3ead-4484-8a13-59ff459b0f78"
      },
      "outputs": [],
      "source": [
        "import joblib\n",
        "import matplotlib.pyplot as plt\n",
        "import numpy as np\n",
        "import pandas as pd\n",
        "from sklearn import datasets, inspection, metrics, model_selection\n",
        "from sklearn import pipeline, preprocessing, svm"
      ]
    },
    {
      "cell_type": "markdown",
      "id": "be202dc8-9556-4c87-a70a-06b1df636521",
      "metadata": {
        "id": "be202dc8-9556-4c87-a70a-06b1df636521"
      },
      "source": [
        "# Support Vector Machines\n",
        "\n",
        "[Support vector machines (SVMs)](https://scikit-learn.org/stable/modules/svm.html) are a set of supervised learning methods used for [classification](https://scikit-learn.org/stable/modules/svm.html#svm-classification), [regression](https://scikit-learn.org/stable/modules/svm.html#svm-regression) and [outlier detection](https://scikit-learn.org/stable/modules/svm.html#svm-outlier-detection).\n",
        "\n",
        "The advantages of support vector machines are:\n",
        "\n",
        "* Effective in high dimensional spaces.\n",
        "* Still effective in cases where number of dimensions is greater than the number of samples.\n",
        "* Uses a subset of training points in the decision function (called support vectors), so it is also memory efficient.\n",
        "* Versatile: different [Kernel functions](https://scikit-learn.org/stable/modules/svm.html#svm-kernels) can be specified for the decision function. Common kernels are provided, but it is also possible to specify custom kernels.\n",
        "\n",
        "The disadvantages of support vector machines include:\n",
        "\n",
        "* If the number of features is much greater than the number of samples, avoid over-fitting in choosing Kernel functions and regularization term is crucial.\n",
        "* SVMs do not directly provide probability estimates, these are calculated using an expensive five-fold cross-validation (see Scores and probabilities, below)."
      ]
    },
    {
      "cell_type": "markdown",
      "source": [
        "## Training and Visualizing a Support Vector Machine"
      ],
      "metadata": {
        "id": "QbwPxCYZ-itX"
      },
      "id": "QbwPxCYZ-itX"
    },
    {
      "cell_type": "code",
      "source": [
        "iris_data = datasets.load_iris(\n",
        "    as_frame=True\n",
        ")"
      ],
      "metadata": {
        "id": "UgXXim0f-q89"
      },
      "id": "UgXXim0f-q89",
      "execution_count": null,
      "outputs": []
    },
    {
      "cell_type": "code",
      "source": [
        "features_df = iris_data.data\n",
        "target = iris_data.target"
      ],
      "metadata": {
        "id": "eE6XXQAD_cyL"
      },
      "id": "eE6XXQAD_cyL",
      "execution_count": null,
      "outputs": []
    },
    {
      "cell_type": "code",
      "source": [
        "features_df.head()"
      ],
      "metadata": {
        "id": "gOyWyB5pANJj"
      },
      "id": "gOyWyB5pANJj",
      "execution_count": null,
      "outputs": []
    },
    {
      "cell_type": "code",
      "source": [
        "target"
      ],
      "metadata": {
        "id": "Trp1wsEQ_qk4"
      },
      "id": "Trp1wsEQ_qk4",
      "execution_count": null,
      "outputs": []
    },
    {
      "cell_type": "code",
      "source": [
        "svm.LinearSVC?"
      ],
      "metadata": {
        "id": "IEP5rqhmu5K7"
      },
      "id": "IEP5rqhmu5K7",
      "execution_count": null,
      "outputs": []
    },
    {
      "cell_type": "code",
      "source": [
        "svm.SVC?"
      ],
      "metadata": {
        "id": "niCPUjB4xqow"
      },
      "id": "niCPUjB4xqow",
      "execution_count": null,
      "outputs": []
    },
    {
      "cell_type": "code",
      "source": [
        "linear_svc_classification = pipeline.make_pipeline(\n",
        "    preprocessing.StandardScaler(),\n",
        "    svm.LinearSVC(),\n",
        ")\n",
        "\n",
        "svc_linear_kernel_classification = pipeline.make_pipeline(\n",
        "    preprocessing.StandardScaler(),\n",
        "    svm.SVC(kernel=\"linear\"),\n",
        ")\n"
      ],
      "metadata": {
        "id": "avN_PWO4-gIr"
      },
      "id": "avN_PWO4-gIr",
      "execution_count": null,
      "outputs": []
    },
    {
      "cell_type": "code",
      "source": [
        "linear_svc_classification"
      ],
      "metadata": {
        "id": "r4SK-nnaxMLt"
      },
      "id": "r4SK-nnaxMLt",
      "execution_count": null,
      "outputs": []
    },
    {
      "cell_type": "code",
      "source": [
        "svc_linear_kernel_classification"
      ],
      "metadata": {
        "id": "PEGO3Rwwxsir"
      },
      "id": "PEGO3Rwwxsir",
      "execution_count": null,
      "outputs": []
    },
    {
      "cell_type": "code",
      "source": [
        "%%timeit\n",
        "_ = linear_svc_classification.fit(features_df, target)"
      ],
      "metadata": {
        "id": "9MYPc0qXxNk8"
      },
      "id": "9MYPc0qXxNk8",
      "execution_count": null,
      "outputs": []
    },
    {
      "cell_type": "code",
      "source": [
        "%%timeit\n",
        "_ = svc_linear_kernel_classification.fit(features_df, target)"
      ],
      "metadata": {
        "id": "enS7xiYlxv9Z"
      },
      "id": "enS7xiYlxv9Z",
      "execution_count": null,
      "outputs": []
    },
    {
      "cell_type": "code",
      "source": [
        "# Take the first two features. We could avoid this by using a two-dim dataset\n",
        "X = features_df.loc[:, [\"sepal length (cm)\", \"sepal width (cm)\"]]\n",
        "y = target\n",
        "\n",
        "# we create an instance of SVM and fit out data. We do not scale our\n",
        "# data since we want to plot the support vectors\n",
        "models = [\n",
        "    linear_svc_classification,\n",
        "    svc_linear_kernel_classification,\n",
        "]\n",
        "models = (model.fit(X, y) for model in models)\n",
        "\n",
        "# title for the plots\n",
        "titles = (\n",
        "    \"SVC with linear kernel\",\n",
        "    \"LinearSVC (linear kernel)\",\n",
        ")\n",
        "\n",
        "# Set-up 1x2 grid for plotting.\n",
        "fig, axes = plt.subplots(1, 2)\n",
        "plt.subplots_adjust(wspace=0.4, hspace=0.4)\n",
        "\n",
        "for model, title, ax in zip(models, titles, axes.flatten()):\n",
        "    display = (\n",
        "        inspection.DecisionBoundaryDisplay\n",
        "                  .from_estimator(\n",
        "                      model,\n",
        "                      X,\n",
        "                      response_method=\"predict\",\n",
        "                      cmap=plt.cm.coolwarm,\n",
        "                      alpha=0.8,\n",
        "                      ax=ax,\n",
        "                      xlabel=X.columns[0],\n",
        "                      ylabel=X.columns[1],\n",
        "                  )\n",
        "    )\n",
        "    ax.scatter(X.iloc[:, 0], X.iloc[:, 1], c=y, cmap=plt.cm.coolwarm, s=20, edgecolors=\"k\")\n",
        "    ax.set_xticks(())\n",
        "    ax.set_yticks(())\n",
        "    ax.set_title(title)\n",
        "\n",
        "plt.show()"
      ],
      "metadata": {
        "id": "uNXqUm4G-etO"
      },
      "id": "uNXqUm4G-etO",
      "execution_count": null,
      "outputs": []
    },
    {
      "cell_type": "code",
      "source": [],
      "metadata": {
        "id": "doAJGaoLAgU2"
      },
      "id": "doAJGaoLAgU2",
      "execution_count": null,
      "outputs": []
    },
    {
      "cell_type": "markdown",
      "source": [
        "## Making Predictions"
      ],
      "metadata": {
        "id": "zsKP29QoA18O"
      },
      "id": "zsKP29QoA18O"
    },
    {
      "cell_type": "code",
      "source": [
        "_ = svc_linear_kernel_classification.fit(features_df, target)"
      ],
      "metadata": {
        "id": "EZVkJOU3A4u4"
      },
      "id": "EZVkJOU3A4u4",
      "execution_count": null,
      "outputs": []
    },
    {
      "cell_type": "code",
      "source": [
        "svc_linear_kernel_classification[1].support_vectors_"
      ],
      "metadata": {
        "id": "FrZDZ3K8zxoU"
      },
      "id": "FrZDZ3K8zxoU",
      "execution_count": null,
      "outputs": []
    },
    {
      "cell_type": "code",
      "source": [],
      "metadata": {
        "id": "KuPDKOXFzxaA"
      },
      "id": "KuPDKOXFzxaA",
      "execution_count": null,
      "outputs": []
    },
    {
      "cell_type": "code",
      "source": [
        "svc_linear_kernel_classification.predict(features_df)"
      ],
      "metadata": {
        "id": "uFOoy-tsymkR"
      },
      "id": "uFOoy-tsymkR",
      "execution_count": null,
      "outputs": []
    },
    {
      "cell_type": "code",
      "source": [],
      "metadata": {
        "id": "2Ig_1vTtymOp"
      },
      "id": "2Ig_1vTtymOp",
      "execution_count": null,
      "outputs": []
    },
    {
      "cell_type": "markdown",
      "source": [
        "## Predicting Class Probabilities"
      ],
      "metadata": {
        "id": "6c12QOClA46G"
      },
      "id": "6c12QOClA46G"
    },
    {
      "cell_type": "code",
      "source": [
        "svc_linear_kernel_classification = pipeline.make_pipeline(\n",
        "    preprocessing.StandardScaler(),\n",
        "    svm.SVC(kernel=\"linear\", probability=True),\n",
        ")\n",
        "\n",
        "_ = svc_linear_kernel_classification.fit(features_df, target)"
      ],
      "metadata": {
        "id": "Lhg0b6zmzKMZ"
      },
      "id": "Lhg0b6zmzKMZ",
      "execution_count": null,
      "outputs": []
    },
    {
      "cell_type": "code",
      "source": [
        "svc_linear_kernel_classification.predict_proba(features_df)"
      ],
      "metadata": {
        "id": "P6MgEhbIA7-b"
      },
      "id": "P6MgEhbIA7-b",
      "execution_count": null,
      "outputs": []
    },
    {
      "cell_type": "markdown",
      "source": [
        "## Regularization"
      ],
      "metadata": {
        "id": "KTsjMI9GBcv5"
      },
      "id": "KTsjMI9GBcv5"
    },
    {
      "cell_type": "code",
      "source": [
        "svm.SVC?"
      ],
      "metadata": {
        "id": "23U8OKzHDdsm"
      },
      "id": "23U8OKzHDdsm",
      "execution_count": null,
      "outputs": []
    },
    {
      "cell_type": "code",
      "source": [
        "metrics.get_scorer_names()"
      ],
      "metadata": {
        "id": "4fQBcEChB7ZZ"
      },
      "id": "4fQBcEChB7ZZ",
      "execution_count": null,
      "outputs": []
    },
    {
      "cell_type": "code",
      "source": [
        "_ = svc_linear_kernel_classification.fit(features_df, target)\n",
        "\n",
        "_predictions = svc_linear_kernel_classification.predict(features_df)\n",
        "metrics.f1_score(\n",
        "    target,\n",
        "    _predictions,\n",
        "    average=\"macro\",\n",
        ")"
      ],
      "metadata": {
        "id": "VAOt9Z3E0tGt"
      },
      "id": "VAOt9Z3E0tGt",
      "execution_count": null,
      "outputs": []
    },
    {
      "cell_type": "code",
      "source": [
        "cv_scores = model_selection.cross_val_score(\n",
        "    svc_linear_kernel_classification,\n",
        "    features_df,\n",
        "    target,\n",
        "    cv=5,\n",
        "    n_jobs=-1,\n",
        "    scoring=\"f1_macro\"\n",
        ")"
      ],
      "metadata": {
        "id": "iRUkRGuLBe0k"
      },
      "id": "iRUkRGuLBe0k",
      "execution_count": null,
      "outputs": []
    },
    {
      "cell_type": "code",
      "source": [
        "cv_scores"
      ],
      "metadata": {
        "id": "12TybbDuCFLz"
      },
      "id": "12TybbDuCFLz",
      "execution_count": null,
      "outputs": []
    },
    {
      "cell_type": "code",
      "source": [
        "np.mean(cv_scores)"
      ],
      "metadata": {
        "id": "ut03Ynb3CCx3"
      },
      "id": "ut03Ynb3CCx3",
      "execution_count": null,
      "outputs": []
    },
    {
      "cell_type": "markdown",
      "source": [
        "## Exercise\n",
        "\n",
        "Fit a support vector machine to the following dataset. Select an appropriate scoring metric and evaluate the performance of your classifier using cross-validation. Is your classifier under-fitting? Over-fitting? Tune the regularization hyperparameters using grid search to improve the performance of your classifier."
      ],
      "metadata": {
        "id": "OwSKVZ7yDC03"
      },
      "id": "OwSKVZ7yDC03"
    },
    {
      "cell_type": "code",
      "source": [
        "datasets.load_breast_cancer?"
      ],
      "metadata": {
        "id": "mfkk3IQ1D-A-"
      },
      "id": "mfkk3IQ1D-A-",
      "execution_count": null,
      "outputs": []
    },
    {
      "cell_type": "code",
      "source": [
        "breast_cancer_data = datasets.load_breast_cancer(\n",
        "    as_frame=True\n",
        ")"
      ],
      "metadata": {
        "id": "evZIpq-HDscZ"
      },
      "id": "evZIpq-HDscZ",
      "execution_count": null,
      "outputs": []
    },
    {
      "cell_type": "code",
      "source": [],
      "metadata": {
        "id": "Xubo_dkB1k3k"
      },
      "id": "Xubo_dkB1k3k",
      "execution_count": null,
      "outputs": []
    },
    {
      "cell_type": "markdown",
      "source": [
        "### Solution"
      ],
      "metadata": {
        "id": "jjxv7Esb1nBk"
      },
      "id": "jjxv7Esb1nBk"
    },
    {
      "cell_type": "code",
      "source": [
        "features_df = breast_cancer_data.data\n",
        "target = breast_cancer_data.target\n",
        "\n",
        "# define and fit your pipeline\n",
        "svc_classification_pipeline = pipeline.make_pipeline(\n",
        "    preprocessing.StandardScaler(),\n",
        "    svm.SVC(kernel=\"linear\"),\n",
        ")\n",
        "_ = svc_classification_pipeline.fit(features_df, target)\n",
        "\n",
        "# assess training performance\n",
        "_predictions = svc_classification_pipeline.predict(features_df)\n",
        "training_f1_score = metrics.f1_score(\n",
        "    target,\n",
        "    _predictions,\n",
        "    average=\"macro\",\n",
        ")\n",
        "print(f\"Training f1 score {training_f1_score}\")\n",
        "\n",
        "# assess validation performance using cv\n",
        "validation_f1_scores = model_selection.cross_val_score(\n",
        "    svc_classification_pipeline,\n",
        "    features_df,\n",
        "    target,\n",
        "    cv=5,\n",
        "    n_jobs=-1,\n",
        "    scoring=\"f1_macro\"\n",
        ")\n",
        "print(f\"Validation f1 score {np.mean(validation_f1_scores)}\")\n"
      ],
      "metadata": {
        "id": "pJdzY5KDEAQi"
      },
      "id": "pJdzY5KDEAQi",
      "execution_count": null,
      "outputs": []
    },
    {
      "cell_type": "code",
      "source": [
        "# fine-tune regularization hyperparameters\n",
        "param_grid = [\n",
        "    {\n",
        "      \"svc__C\": np.logspace(-3, 3, 7),\n",
        "      \"svc__kernel\": [\"linear\"]\n",
        "    },\n",
        "]\n",
        "\n",
        "grid_search_cv = model_selection.GridSearchCV(\n",
        "    svc_classification_pipeline,\n",
        "    param_grid,\n",
        "    cv=5,\n",
        "    n_jobs=-1,\n",
        "    scoring=\"f1_macro\"\n",
        ")"
      ],
      "metadata": {
        "id": "d1xbTqah3_WX"
      },
      "id": "d1xbTqah3_WX",
      "execution_count": null,
      "outputs": []
    },
    {
      "cell_type": "code",
      "source": [
        "grid_search_cv"
      ],
      "metadata": {
        "id": "FGc-hMiC3amC"
      },
      "id": "FGc-hMiC3amC",
      "execution_count": null,
      "outputs": []
    },
    {
      "cell_type": "code",
      "source": [
        "_ = grid_search_cv.fit(features_df, target)"
      ],
      "metadata": {
        "id": "WVC7HrUB4BfD"
      },
      "id": "WVC7HrUB4BfD",
      "execution_count": null,
      "outputs": []
    },
    {
      "cell_type": "code",
      "source": [
        "grid_search_cv.best_score_"
      ],
      "metadata": {
        "id": "qLNWsq9D4CAZ"
      },
      "id": "qLNWsq9D4CAZ",
      "execution_count": null,
      "outputs": []
    },
    {
      "cell_type": "code",
      "source": [
        "grid_search_cv.best_params_"
      ],
      "metadata": {
        "id": "sE5GyvUT4FxW"
      },
      "id": "sE5GyvUT4FxW",
      "execution_count": null,
      "outputs": []
    },
    {
      "cell_type": "markdown",
      "id": "481229f5-1d1a-4e4b-94eb-a7e5c7d8a28b",
      "metadata": {
        "id": "481229f5-1d1a-4e4b-94eb-a7e5c7d8a28b"
      },
      "source": [
        "## Exercise\n",
        "\n",
        "Modify the code from your previous exercise to treat the kernel as a hyperparameter. For each kernel, tune the regularization hyperparameters to find the best model."
      ]
    },
    {
      "cell_type": "code",
      "source": [],
      "metadata": {
        "id": "DV-ejz44FMfr"
      },
      "id": "DV-ejz44FMfr",
      "execution_count": null,
      "outputs": []
    },
    {
      "cell_type": "markdown",
      "source": [
        "### Solution"
      ],
      "metadata": {
        "id": "DOjgqzqU4l39"
      },
      "id": "DOjgqzqU4l39"
    },
    {
      "cell_type": "code",
      "source": [
        "# fine-tune regularization hyperparameters\n",
        "param_grid = [\n",
        "    {\n",
        "      \"svc__C\": np.logspace(-3, 3, 7),\n",
        "      \"svc__kernel\": [\"linear\"]\n",
        "    },\n",
        "    {\n",
        "      \"svc__C\": np.logspace(-3, 3, 7),\n",
        "      \"svc__kernel\": [\"poly\"],\n",
        "    },\n",
        "    {\n",
        "      \"svc__C\": np.logspace(-3, 3, 7),\n",
        "      \"svc__kernel\": [\"rbf\"],\n",
        "    },\n",
        "]\n",
        "\n",
        "grid_search_cv = model_selection.GridSearchCV(\n",
        "    svc_classification_pipeline,\n",
        "    param_grid,\n",
        "    cv=5,\n",
        "    n_jobs=-1,\n",
        "    scoring=\"f1_macro\"\n",
        ")"
      ],
      "metadata": {
        "id": "WZdznENj4k_v"
      },
      "id": "WZdznENj4k_v",
      "execution_count": null,
      "outputs": []
    },
    {
      "cell_type": "code",
      "execution_count": null,
      "id": "51d7474a-523f-4af3-b52c-210860f6c83f",
      "metadata": {
        "id": "51d7474a-523f-4af3-b52c-210860f6c83f",
        "tags": []
      },
      "outputs": [],
      "source": [
        "_ = grid_search_cv.fit(features_df, target)"
      ]
    },
    {
      "cell_type": "code",
      "source": [
        "grid_search_cv.best_score_"
      ],
      "metadata": {
        "id": "1CReBBcA53Bq"
      },
      "id": "1CReBBcA53Bq",
      "execution_count": null,
      "outputs": []
    },
    {
      "cell_type": "code",
      "source": [
        "grid_search_cv.best_params_"
      ],
      "metadata": {
        "id": "fFLnIuMg52nP"
      },
      "id": "fFLnIuMg52nP",
      "execution_count": null,
      "outputs": []
    },
    {
      "cell_type": "markdown",
      "source": [
        "## Exercise\n",
        "\n",
        "Train an SVM classifier on the wine dataset. This dataset contains the chemical analyses of 178 wine samples produced by 3 different cultivators: the goal is to train a classification model capable of predicting the cultivator based on the wine’s chemical analysis. What accuracy can you reach?\n"
      ],
      "metadata": {
        "id": "4qcS4rWnGVtc"
      },
      "id": "4qcS4rWnGVtc"
    },
    {
      "cell_type": "code",
      "execution_count": null,
      "id": "ed2cedef-b497-4eda-9bbd-ab04263e2087",
      "metadata": {
        "id": "ed2cedef-b497-4eda-9bbd-ab04263e2087"
      },
      "outputs": [],
      "source": [
        "datasets.load_wine?"
      ]
    },
    {
      "cell_type": "code",
      "source": [],
      "metadata": {
        "id": "IgcDYUXlHHFp"
      },
      "id": "IgcDYUXlHHFp",
      "execution_count": null,
      "outputs": []
    }
  ],
  "metadata": {
    "colab": {
      "provenance": []
    },
    "kernelspec": {
      "display_name": "Python 3 (ipykernel)",
      "language": "python",
      "name": "python3"
    },
    "language_info": {
      "codemirror_mode": {
        "name": "ipython",
        "version": 3
      },
      "file_extension": ".py",
      "mimetype": "text/x-python",
      "name": "python",
      "nbconvert_exporter": "python",
      "pygments_lexer": "ipython3",
      "version": "3.10.6"
    }
  },
  "nbformat": 4,
  "nbformat_minor": 5
}