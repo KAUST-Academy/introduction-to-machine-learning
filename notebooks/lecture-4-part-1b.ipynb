{
  "cells": [
    {
      "cell_type": "code",
      "execution_count": null,
      "metadata": {
        "id": "BqXqSwkNMZnh"
      },
      "outputs": [],
      "source": [
        "import pathlib\n",
        "\n",
        "import matplotlib.pyplot as plt\n",
        "import numpy as np\n",
        "import pandas as pd\n",
        "from sklearn import compose, datasets, linear_model, metrics, model_selection\n",
        "from sklearn import preprocessing, pipeline"
      ]
    },
    {
      "cell_type": "markdown",
      "metadata": {
        "id": "wZWFwAtSMf2-"
      },
      "source": [
        "# Linear Regression with Scikit-Learn"
      ]
    },
    {
      "cell_type": "code",
      "execution_count": null,
      "metadata": {
        "id": "Pic_KeQvHUR8"
      },
      "outputs": [],
      "source": [
        "features, targets = datasets.load_diabetes(\n",
        "    return_X_y=True,\n",
        "    as_frame=True,\n",
        "    scaled=True\n",
        ")"
      ]
    },
    {
      "cell_type": "code",
      "execution_count": null,
      "metadata": {
        "id": "NRKDrTgqHUR8"
      },
      "outputs": [],
      "source": [
        "features.head()"
      ]
    },
    {
      "cell_type": "code",
      "execution_count": null,
      "metadata": {
        "id": "dzfG-j5DHUR9"
      },
      "outputs": [],
      "source": [
        "features.info()"
      ]
    },
    {
      "cell_type": "code",
      "source": [
        "targets.describe()"
      ],
      "metadata": {
        "id": "x4-uuq_fClPe"
      },
      "execution_count": null,
      "outputs": []
    },
    {
      "cell_type": "markdown",
      "source": [
        "## Train-test split"
      ],
      "metadata": {
        "id": "iRuGO5YhhC86"
      }
    },
    {
      "cell_type": "code",
      "source": [
        "prng = np.random.RandomState(42)\n",
        "\n",
        "train_features, test_features, train_targets, test_targets = (\n",
        "    model_selection.train_test_split(\n",
        "        features,\n",
        "        targets,\n",
        "        random_state=prng,\n",
        "        test_size=0.1\n",
        "    )\n",
        ")"
      ],
      "metadata": {
        "id": "3bPVLcg5IaLr"
      },
      "execution_count": null,
      "outputs": []
    },
    {
      "cell_type": "markdown",
      "source": [
        "## Model training"
      ],
      "metadata": {
        "id": "mrQRCXgMgSe5"
      }
    },
    {
      "cell_type": "markdown",
      "source": [
        "### Using LinearRegression"
      ],
      "metadata": {
        "id": "hbwT8oMLgVfK"
      }
    },
    {
      "cell_type": "code",
      "source": [
        "linear_regression = linear_model.LinearRegression()"
      ],
      "metadata": {
        "id": "HEztScChgrzr"
      },
      "execution_count": null,
      "outputs": []
    },
    {
      "cell_type": "code",
      "source": [
        "linear_regression"
      ],
      "metadata": {
        "id": "gf2dmGiWFpti"
      },
      "execution_count": null,
      "outputs": []
    },
    {
      "cell_type": "code",
      "source": [
        "%%timeit\n",
        "_ = linear_regression.fit(train_features, train_targets)"
      ],
      "metadata": {
        "id": "6nanFV14gYoq"
      },
      "execution_count": null,
      "outputs": []
    },
    {
      "cell_type": "code",
      "source": [
        "_ = linear_regression.fit(train_features, train_targets)"
      ],
      "metadata": {
        "id": "fB47PSX1Hxwf"
      },
      "execution_count": null,
      "outputs": []
    },
    {
      "cell_type": "code",
      "source": [
        "train_predictions = linear_regression.predict(train_features)\n",
        "train_rmse = metrics.mean_squared_error(\n",
        "    train_targets,\n",
        "    train_predictions,\n",
        "    squared=False\n",
        ")\n",
        "print(f\"Training rmse: {train_rmse}\")"
      ],
      "metadata": {
        "id": "DwBJsLtzGVBW"
      },
      "execution_count": null,
      "outputs": []
    },
    {
      "cell_type": "code",
      "source": [
        "test_predictions = linear_regression.predict(test_features)\n",
        "test_rmse = metrics.mean_squared_error(\n",
        "    test_targets,\n",
        "    test_predictions,\n",
        "    squared=False\n",
        ")\n",
        "print(f\"Testing rmse: {test_rmse}\")"
      ],
      "metadata": {
        "id": "vmrb7vbFGVEG"
      },
      "execution_count": null,
      "outputs": []
    },
    {
      "cell_type": "markdown",
      "source": [
        "### Using SGDRegressor"
      ],
      "metadata": {
        "id": "h3JwOS2MhyJW"
      }
    },
    {
      "cell_type": "code",
      "execution_count": null,
      "metadata": {
        "id": "329CnQnEHUR-"
      },
      "outputs": [],
      "source": [
        "sgd_regressor = linear_model.SGDRegressor()"
      ]
    },
    {
      "cell_type": "code",
      "source": [
        "%%timeit\n",
        "_ = sgd_regressor.fit(train_features, train_targets)"
      ],
      "metadata": {
        "id": "rAjNNRdHgx0-"
      },
      "execution_count": null,
      "outputs": []
    },
    {
      "cell_type": "code",
      "source": [
        "_ = sgd_regressor.fit(train_features, train_targets)"
      ],
      "metadata": {
        "id": "xUNqtDeFhFj5"
      },
      "execution_count": null,
      "outputs": []
    },
    {
      "cell_type": "code",
      "source": [
        "train_predictions = sgd_regressor.predict(train_features)\n",
        "train_rmse = metrics.mean_squared_error(\n",
        "    train_targets,\n",
        "    train_predictions,\n",
        "    squared=False\n",
        ")\n",
        "print(f\"Training rmse: {train_rmse}\")"
      ],
      "metadata": {
        "id": "BpNMeohYl6jK"
      },
      "execution_count": null,
      "outputs": []
    },
    {
      "cell_type": "code",
      "source": [
        "test_predictions = sgd_regressor.predict(test_features)\n",
        "test_rmse = metrics.mean_squared_error(\n",
        "    test_targets,\n",
        "    test_predictions,\n",
        "    squared=False\n",
        ")\n",
        "print(f\"Testing rmse: {test_rmse}\")"
      ],
      "metadata": {
        "id": "-jUADvu2G2b2"
      },
      "execution_count": null,
      "outputs": []
    },
    {
      "cell_type": "markdown",
      "source": [
        "### Exercise\n",
        "\n",
        "Compare the training loss and the testing loss. Is the model underfitting or overfitting? How can you tell?"
      ],
      "metadata": {
        "id": "5-ai_5WhKu1m"
      }
    },
    {
      "cell_type": "code",
      "source": [],
      "metadata": {
        "id": "Iftknph2i_0v"
      },
      "execution_count": null,
      "outputs": []
    }
  ],
  "metadata": {
    "colab": {
      "provenance": []
    },
    "kernelspec": {
      "display_name": "Python 3 (ipykernel)",
      "language": "python",
      "name": "python3"
    },
    "language_info": {
      "codemirror_mode": {
        "name": "ipython",
        "version": 3
      },
      "file_extension": ".py",
      "mimetype": "text/x-python",
      "name": "python",
      "nbconvert_exporter": "python",
      "pygments_lexer": "ipython3",
      "version": "3.10.6"
    }
  },
  "nbformat": 4,
  "nbformat_minor": 0
}