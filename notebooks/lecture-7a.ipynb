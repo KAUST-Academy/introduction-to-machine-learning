{
  "cells": [
    {
      "cell_type": "code",
      "execution_count": null,
      "id": "e3ea2c52-3ead-4484-8a13-59ff459b0f78",
      "metadata": {
        "id": "e3ea2c52-3ead-4484-8a13-59ff459b0f78"
      },
      "outputs": [],
      "source": [
        "import pathlib\n",
        "import requests\n",
        "\n",
        "import graphviz\n",
        "import joblib\n",
        "import matplotlib.pyplot as plt\n",
        "import numpy as np\n",
        "import pandas as pd\n",
        "from sklearn import datasets, metrics, model_selection\n",
        "from sklearn import pipeline, preprocessing, tree"
      ]
    },
    {
      "cell_type": "markdown",
      "id": "be202dc8-9556-4c87-a70a-06b1df636521",
      "metadata": {
        "id": "be202dc8-9556-4c87-a70a-06b1df636521"
      },
      "source": [
        "# Decision Trees\n",
        "\n",
        "[Decision Trees](https://scikit-learn.org/stable/modules/tree.html) are a non-parametric supervised learning method used for [classification](https://scikit-learn.org/stable/modules/tree.html#tree-classification) and [regression](https://scikit-learn.org/stable/modules/tree.html#tree-regression). The goal is to create a model that predicts the value of a target variable by learning simple decision rules inferred from the data features. A tree can be seen as a piecewise constant approximation."
      ]
    },
    {
      "cell_type": "markdown",
      "source": [
        "## Training and Visualizing a Decision Tree"
      ],
      "metadata": {
        "id": "QbwPxCYZ-itX"
      },
      "id": "QbwPxCYZ-itX"
    },
    {
      "cell_type": "code",
      "source": [
        "iris_data = datasets.load_iris(\n",
        "    as_frame=True\n",
        ")"
      ],
      "metadata": {
        "id": "UgXXim0f-q89"
      },
      "id": "UgXXim0f-q89",
      "execution_count": null,
      "outputs": []
    },
    {
      "cell_type": "code",
      "source": [
        "features_df = iris_data.data\n",
        "target = iris_data.target"
      ],
      "metadata": {
        "id": "eE6XXQAD_cyL"
      },
      "id": "eE6XXQAD_cyL",
      "execution_count": null,
      "outputs": []
    },
    {
      "cell_type": "code",
      "source": [
        "features_df.head()"
      ],
      "metadata": {
        "id": "gOyWyB5pANJj"
      },
      "id": "gOyWyB5pANJj",
      "execution_count": null,
      "outputs": []
    },
    {
      "cell_type": "code",
      "source": [
        "target"
      ],
      "metadata": {
        "id": "Trp1wsEQ_qk4"
      },
      "id": "Trp1wsEQ_qk4",
      "execution_count": null,
      "outputs": []
    },
    {
      "cell_type": "code",
      "source": [
        "classifier = tree.DecisionTreeClassifier(max_depth=2, random_state=42)\n",
        "_ = classifier.fit(features_df, target)"
      ],
      "metadata": {
        "id": "avN_PWO4-gIr"
      },
      "id": "avN_PWO4-gIr",
      "execution_count": null,
      "outputs": []
    },
    {
      "cell_type": "code",
      "source": [
        "_ = tree.export_graphviz(\n",
        "    classifier,\n",
        "    out_file=\"iris-tree.dot\",\n",
        "    feature_names=features_df.columns,\n",
        "    class_names=iris_data.target_names,\n",
        "    rounded=True,\n",
        "    filled=True\n",
        ")"
      ],
      "metadata": {
        "id": "uNXqUm4G-etO"
      },
      "id": "uNXqUm4G-etO",
      "execution_count": null,
      "outputs": []
    },
    {
      "cell_type": "code",
      "source": [
        "(\n",
        "    graphviz.Source\n",
        "            .from_file(\"iris-tree.dot\")\n",
        ")"
      ],
      "metadata": {
        "id": "UebuEGMg_N4C"
      },
      "id": "UebuEGMg_N4C",
      "execution_count": null,
      "outputs": []
    },
    {
      "cell_type": "code",
      "source": [
        "help(classifier.tree_)"
      ],
      "metadata": {
        "id": "doAJGaoLAgU2"
      },
      "id": "doAJGaoLAgU2",
      "execution_count": null,
      "outputs": []
    },
    {
      "cell_type": "markdown",
      "source": [
        "## Making Predictions"
      ],
      "metadata": {
        "id": "zsKP29QoA18O"
      },
      "id": "zsKP29QoA18O"
    },
    {
      "cell_type": "code",
      "source": [
        "classifier.predict(features_df)"
      ],
      "metadata": {
        "id": "EZVkJOU3A4u4"
      },
      "id": "EZVkJOU3A4u4",
      "execution_count": null,
      "outputs": []
    },
    {
      "cell_type": "markdown",
      "source": [
        "## Predicting Class Probabilities"
      ],
      "metadata": {
        "id": "6c12QOClA46G"
      },
      "id": "6c12QOClA46G"
    },
    {
      "cell_type": "code",
      "source": [
        "classifier.predict_proba(features_df)"
      ],
      "metadata": {
        "id": "P6MgEhbIA7-b"
      },
      "id": "P6MgEhbIA7-b",
      "execution_count": null,
      "outputs": []
    },
    {
      "cell_type": "markdown",
      "source": [
        "## Regularization"
      ],
      "metadata": {
        "id": "KTsjMI9GBcv5"
      },
      "id": "KTsjMI9GBcv5"
    },
    {
      "cell_type": "code",
      "source": [
        "tree.DecisionTreeClassifier?"
      ],
      "metadata": {
        "id": "23U8OKzHDdsm"
      },
      "id": "23U8OKzHDdsm",
      "execution_count": null,
      "outputs": []
    },
    {
      "cell_type": "code",
      "source": [
        "metrics.get_scorer_names()"
      ],
      "metadata": {
        "id": "4fQBcEChB7ZZ"
      },
      "id": "4fQBcEChB7ZZ",
      "execution_count": null,
      "outputs": []
    },
    {
      "cell_type": "code",
      "source": [
        "classifier = tree.DecisionTreeClassifier()\n",
        "cv_scores = model_selection.cross_val_score(\n",
        "    classifier,\n",
        "    features_df,\n",
        "    target,\n",
        "    cv=5,\n",
        "    n_jobs=-1,\n",
        "    scoring=\"f1_macro\"\n",
        ")"
      ],
      "metadata": {
        "id": "iRUkRGuLBe0k"
      },
      "id": "iRUkRGuLBe0k",
      "execution_count": null,
      "outputs": []
    },
    {
      "cell_type": "code",
      "source": [
        "cv_scores"
      ],
      "metadata": {
        "id": "12TybbDuCFLz"
      },
      "id": "12TybbDuCFLz",
      "execution_count": null,
      "outputs": []
    },
    {
      "cell_type": "code",
      "source": [
        "np.mean(cv_scores)"
      ],
      "metadata": {
        "id": "ut03Ynb3CCx3"
      },
      "id": "ut03Ynb3CCx3",
      "execution_count": null,
      "outputs": []
    },
    {
      "cell_type": "markdown",
      "source": [
        "## Exercise\n",
        "\n",
        "Fit a decision tree classifier to the following dataset. Select an appropriate scoring metric and evaluate the performance of your classifier using cross-validation. Is your classifier under-fitting? Over-fitting? Tune the regularization hyperparameters to improve the performance of your classifier."
      ],
      "metadata": {
        "id": "OwSKVZ7yDC03"
      },
      "id": "OwSKVZ7yDC03"
    },
    {
      "cell_type": "code",
      "source": [
        "datasets.load_breast_cancer?"
      ],
      "metadata": {
        "id": "mfkk3IQ1D-A-"
      },
      "id": "mfkk3IQ1D-A-",
      "execution_count": null,
      "outputs": []
    },
    {
      "cell_type": "code",
      "source": [
        "breast_cancer_data = datasets.load_breast_cancer(\n",
        "    as_frame=True\n",
        ")"
      ],
      "metadata": {
        "id": "evZIpq-HDscZ"
      },
      "id": "evZIpq-HDscZ",
      "execution_count": null,
      "outputs": []
    },
    {
      "cell_type": "code",
      "source": [],
      "metadata": {
        "id": "pJdzY5KDEAQi"
      },
      "id": "pJdzY5KDEAQi",
      "execution_count": null,
      "outputs": []
    },
    {
      "cell_type": "markdown",
      "id": "481229f5-1d1a-4e4b-94eb-a7e5c7d8a28b",
      "metadata": {
        "id": "481229f5-1d1a-4e4b-94eb-a7e5c7d8a28b"
      },
      "source": [
        "## Understanding Feature Importance\n",
        "\n",
        "One of the nice features of decision trees is that they provide a way to measure the importance of each of feature. Understanding feature importance is a topic all unto itself. If you are interested in pulling this thread, then I recommend that you start with [SHapley Additive Explanations (SHAP)](https://shap.readthedocs.io/en/latest/index.html) and then take a look through [*Interpretable Machine Learning*](https://christophm.github.io/interpretable-ml-book/)."
      ]
    },
    {
      "cell_type": "code",
      "source": [
        "classifier = tree.DecisionTreeClassifier()\n",
        "_ = classifier.fit(breast_cancer_data.data, breast_cancer_data.target)"
      ],
      "metadata": {
        "id": "DV-ejz44FMfr"
      },
      "id": "DV-ejz44FMfr",
      "execution_count": null,
      "outputs": []
    },
    {
      "cell_type": "code",
      "execution_count": null,
      "id": "51d7474a-523f-4af3-b52c-210860f6c83f",
      "metadata": {
        "id": "51d7474a-523f-4af3-b52c-210860f6c83f",
        "tags": []
      },
      "outputs": [],
      "source": [
        "pd.Series(\n",
        "    classifier.feature_importances_,\n",
        "    index=breast_cancer_data.data.columns\n",
        ").sort_values(\n",
        "    ascending=False\n",
        ")"
      ]
    },
    {
      "cell_type": "markdown",
      "source": [
        "## Exercise\n",
        "\n",
        "Grow a forest by following these steps:\n",
        "\n",
        "1. Continuing the previous exercise, generate 1,000 subsets of the training set, each containing 80% of the training instances selected randomly. Hint: you can use Scikit-Learn’s ShuffleSplit class for this."
      ],
      "metadata": {
        "id": "4qcS4rWnGVtc"
      },
      "id": "4qcS4rWnGVtc"
    },
    {
      "cell_type": "code",
      "execution_count": null,
      "id": "ed2cedef-b497-4eda-9bbd-ab04263e2087",
      "metadata": {
        "id": "ed2cedef-b497-4eda-9bbd-ab04263e2087"
      },
      "outputs": [],
      "source": []
    },
    {
      "cell_type": "markdown",
      "source": [
        "2. Train one decision tree on each subset, using the best hyperparameter values found in the previous exercise. Evaluate these 1,000 decision trees on the test set. Since they were trained on smaller sets, these decision trees will likely perform worse than the first decision tree, achieving only about 80% accuracy.\n"
      ],
      "metadata": {
        "id": "VLKD4X5wHDHf"
      },
      "id": "VLKD4X5wHDHf"
    },
    {
      "cell_type": "code",
      "source": [],
      "metadata": {
        "id": "sCRQpd4FHCGb"
      },
      "id": "sCRQpd4FHCGb",
      "execution_count": null,
      "outputs": []
    },
    {
      "cell_type": "markdown",
      "source": [
        "3. Now comes the magic. For each test set instance, generate the predictions of the 1,000 decision trees, and keep only the most frequent prediction (you can use SciPy’s mode() function for this). This approach gives you majority-vote predictions over the test set."
      ],
      "metadata": {
        "id": "vIyKVJ-jHFO1"
      },
      "id": "vIyKVJ-jHFO1"
    },
    {
      "cell_type": "code",
      "source": [],
      "metadata": {
        "id": "9XOvwjB-HGTU"
      },
      "id": "9XOvwjB-HGTU",
      "execution_count": null,
      "outputs": []
    },
    {
      "cell_type": "markdown",
      "source": [
        "4. Evaluate these predictions on the test set: you should obtain a slightly higher accuracy than your first model. Congratulations, you have trained a random forest classifier!"
      ],
      "metadata": {
        "id": "5xTWLH0FHGu0"
      },
      "id": "5xTWLH0FHGu0"
    },
    {
      "cell_type": "code",
      "source": [],
      "metadata": {
        "id": "IgcDYUXlHHFp"
      },
      "id": "IgcDYUXlHHFp",
      "execution_count": null,
      "outputs": []
    }
  ],
  "metadata": {
    "colab": {
      "provenance": []
    },
    "kernelspec": {
      "display_name": "Python 3 (ipykernel)",
      "language": "python",
      "name": "python3"
    },
    "language_info": {
      "codemirror_mode": {
        "name": "ipython",
        "version": 3
      },
      "file_extension": ".py",
      "mimetype": "text/x-python",
      "name": "python",
      "nbconvert_exporter": "python",
      "pygments_lexer": "ipython3",
      "version": "3.10.6"
    }
  },
  "nbformat": 4,
  "nbformat_minor": 5
}