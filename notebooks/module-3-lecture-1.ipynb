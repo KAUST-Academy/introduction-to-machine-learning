{
  "cells": [
    {
      "cell_type": "code",
      "execution_count": null,
      "metadata": {
        "id": "e3ea2c52-3ead-4484-8a13-59ff459b0f78"
      },
      "outputs": [],
      "source": [
        "import pathlib\n",
        "import requests\n",
        "\n",
        "import joblib\n",
        "import matplotlib.pyplot as plt\n",
        "import numpy as np\n",
        "import pandas as pd\n",
        "from sklearn import decomposition, ensemble, metrics\n",
        "from sklearn import model_selection, pipeline, preprocessing, utils"
      ],
      "id": "e3ea2c52-3ead-4484-8a13-59ff459b0f78"
    },
    {
      "cell_type": "markdown",
      "metadata": {
        "id": "a9b241c6-de2e-4c9a-ac4f-6c5a010e2929"
      },
      "source": [
        "# MNIST Dataset\n"
      ],
      "id": "a9b241c6-de2e-4c9a-ac4f-6c5a010e2929"
    },
    {
      "cell_type": "markdown",
      "metadata": {
        "id": "02cc24c9-260e-4840-8872-723f0adc6f41"
      },
      "source": [
        "### Load the data\n",
        "\n",
        "We will load the data using the [Pandas](https://pandas.pydata.org/) library. Highly recommend the most recent edition of [*Python for Data Analysis*](https://learning.oreilly.com/library/view/python-for-data/9781491957653/) by Pandas creator Wes Mckinney for anyone interested in learning how to use Pandas."
      ],
      "id": "02cc24c9-260e-4840-8872-723f0adc6f41"
    },
    {
      "cell_type": "code",
      "execution_count": null,
      "metadata": {
        "id": "M2nXzqRak_xw"
      },
      "outputs": [],
      "source": [
        "%%bash\n",
        "ls ./sample_data"
      ],
      "id": "M2nXzqRak_xw"
    },
    {
      "cell_type": "code",
      "execution_count": null,
      "metadata": {
        "id": "c1fded7d-02a7-48c3-99e4-d19d001c8ccf"
      },
      "outputs": [],
      "source": [
        "train_df = pd.read_csv(\n",
        "    \"./sample_data/mnist_train_small.csv\",\n",
        "    header=None,\n",
        "    names=[\"label\"] + [f\"p{i}\" for i in range(784)],\n",
        ")\n",
        "train_features_df = train_df.drop(\"label\", axis=1)\n",
        "train_target = train_df.loc[:, \"label\"]"
      ],
      "id": "c1fded7d-02a7-48c3-99e4-d19d001c8ccf"
    },
    {
      "cell_type": "code",
      "execution_count": null,
      "metadata": {
        "id": "9b53a9c4-550d-4577-bf0f-bace74843784"
      },
      "outputs": [],
      "source": [
        "train_features_df.info()"
      ],
      "id": "9b53a9c4-550d-4577-bf0f-bace74843784"
    },
    {
      "cell_type": "code",
      "execution_count": null,
      "metadata": {
        "id": "94e51a47-4730-410d-b5d6-4278a48ff5ff"
      },
      "outputs": [],
      "source": [
        "train_target.head()"
      ],
      "id": "94e51a47-4730-410d-b5d6-4278a48ff5ff"
    },
    {
      "cell_type": "markdown",
      "metadata": {
        "id": "43fc80e6-5e4b-42dc-8584-7dfdb397cb27"
      },
      "source": [
        "## Principal Components Analysis (PCA)"
      ],
      "id": "43fc80e6-5e4b-42dc-8584-7dfdb397cb27"
    },
    {
      "cell_type": "code",
      "execution_count": null,
      "metadata": {
        "id": "8cbd8e19-05df-4ff8-9796-cb95697bd099"
      },
      "outputs": [],
      "source": [
        "decomposition.PCA?"
      ],
      "id": "8cbd8e19-05df-4ff8-9796-cb95697bd099"
    },
    {
      "cell_type": "code",
      "execution_count": null,
      "metadata": {
        "id": "6f0ce9d7-edec-41a6-82a5-effec0b6a288"
      },
      "outputs": [],
      "source": [
        "# hyper-parameters\n",
        "_pca_hyperparameters = {\n",
        "    \"n_components\": 153,\n",
        "    \"whiten\": False,\n",
        "}\n",
        "\n",
        "feature_extractor = decomposition.PCA(**_pca_hyperparameters)\n",
        "extracted_train_features_df = feature_extractor.fit_transform(train_features_df)"
      ],
      "id": "6f0ce9d7-edec-41a6-82a5-effec0b6a288"
    },
    {
      "cell_type": "code",
      "execution_count": null,
      "metadata": {
        "id": "9544fd74-c980-4a44-bb3c-73ac31f44bd0"
      },
      "outputs": [],
      "source": [
        "extracted_train_features_df.shape"
      ],
      "id": "9544fd74-c980-4a44-bb3c-73ac31f44bd0"
    },
    {
      "cell_type": "code",
      "execution_count": null,
      "metadata": {
        "id": "4085ca29-c57a-4f14-9db7-50682791d1da"
      },
      "outputs": [],
      "source": [
        "extracted_train_features_df.mean(axis=0)"
      ],
      "id": "4085ca29-c57a-4f14-9db7-50682791d1da"
    },
    {
      "cell_type": "code",
      "execution_count": null,
      "metadata": {
        "id": "0880fbb7-46b8-4b8e-be84-70acbf3276bd"
      },
      "outputs": [],
      "source": [
        "extracted_train_features_df.std(axis=0)"
      ],
      "id": "0880fbb7-46b8-4b8e-be84-70acbf3276bd"
    },
    {
      "cell_type": "code",
      "execution_count": null,
      "metadata": {
        "id": "8a17e2a7-a20d-4f2a-b623-40d16589cde2"
      },
      "outputs": [],
      "source": [
        "fig, ax = plt.subplots(1, 1)\n",
        "_ = ax.scatter(\n",
        "    extracted_train_features_df[:, 0],\n",
        "    extracted_train_features_df[:, 1],\n",
        "    c=train_target,\n",
        "    alpha=0.05\n",
        ")\n",
        "_ = ax.set_xlabel(\"Component 1\", fontsize=15)\n",
        "_ = ax.set_ylabel(\"Component 2\", fontsize=15)\n",
        "_ = ax.set_title(type(feature_extractor))\n",
        "_ = ax.grid(True)"
      ],
      "id": "8a17e2a7-a20d-4f2a-b623-40d16589cde2"
    },
    {
      "cell_type": "markdown",
      "metadata": {
        "id": "0261acdf-b457-4478-9b0a-6b25d69d5638"
      },
      "source": [
        "### Exercise: To whiten, or not to whiten?\n",
        "\n",
        "Take a close look at the doc string for the `decomposition.PCA` algorithm. What happens if you set `n_components` to a number between 0 and 1 (i.e., `n_components=0.95`)? Why might you want to do this? What does setting `whiten=True` do to the output of the algorithm? Re-run the PCA algorithm above setting `whiten=True` to confirm your answer. Why might you want to set `whiten=True`?"
      ],
      "id": "0261acdf-b457-4478-9b0a-6b25d69d5638"
    },
    {
      "cell_type": "code",
      "execution_count": null,
      "metadata": {
        "id": "vMxHvr0cm63p"
      },
      "outputs": [],
      "source": [],
      "id": "vMxHvr0cm63p"
    },
    {
      "cell_type": "markdown",
      "metadata": {
        "id": "8B5la-bxm6Sk"
      },
      "source": [
        "### Solution"
      ],
      "id": "8B5la-bxm6Sk"
    },
    {
      "cell_type": "code",
      "execution_count": null,
      "metadata": {
        "id": "1f2a2bf5-9f1a-45e5-9ace-c9725e71e161"
      },
      "outputs": [],
      "source": [
        "# hyper-parameters\n",
        "_pca_hyperparameters = {\n",
        "    \"n_components\": 0.95,\n",
        "    \"whiten\": True,\n",
        "}\n",
        "\n",
        "feature_extractor = decomposition.PCA(**_pca_hyperparameters)\n",
        "extracted_train_features = feature_extractor.fit_transform(useful_train_features_df)"
      ],
      "id": "1f2a2bf5-9f1a-45e5-9ace-c9725e71e161"
    },
    {
      "cell_type": "code",
      "execution_count": null,
      "metadata": {
        "id": "5oDxwW1Rwgaj"
      },
      "outputs": [],
      "source": [
        "extracted_train_features.std(axis=0)"
      ],
      "id": "5oDxwW1Rwgaj"
    },
    {
      "cell_type": "markdown",
      "metadata": {
        "id": "ndTpbRTipTYU"
      },
      "source": [
        "## Randomized PCA"
      ],
      "id": "ndTpbRTipTYU"
    },
    {
      "cell_type": "code",
      "execution_count": null,
      "metadata": {
        "id": "f792c574-ebd3-4d5c-9ed3-5b8db288b17f"
      },
      "outputs": [],
      "source": [
        "# hyper-parameters\n",
        "_pca_hyperparameters = {\n",
        "    \"n_components\": 128,\n",
        "    \"svd_solver\": \"randomized\",\n",
        "    \"random_state\": 42\n",
        "}\n",
        "\n",
        "feature_extractor = decomposition.PCA(**_pca_hyperparameters)\n",
        "extracted_train_features_df = (\n",
        "    feature_extractor.fit_transform(\n",
        "        train_features_df\n",
        "    )\n",
        ")"
      ],
      "id": "f792c574-ebd3-4d5c-9ed3-5b8db288b17f"
    },
    {
      "cell_type": "markdown",
      "metadata": {
        "id": "09c890cd-ffb5-4f15-9498-20858c827b83"
      },
      "source": [
        "## Choosing the number of components"
      ],
      "id": "09c890cd-ffb5-4f15-9498-20858c827b83"
    },
    {
      "cell_type": "code",
      "execution_count": null,
      "metadata": {
        "id": "1746cf91-6acf-48fc-a874-d4aa402c7ab7"
      },
      "outputs": [],
      "source": [
        "ml_pipeline = pipeline.make_pipeline(\n",
        "    decomposition.PCA(svd_solver=\"randomized\", random_state=42),\n",
        "    ensemble.ExtraTreesClassifier(n_jobs=-1, random_state=42)\n",
        ")\n",
        "\n",
        "_param_grid = {\n",
        "    \"pca__n_components\": [0.9, 0.95, 0.99],\n",
        "    \"extratreesclassifier__n_estimators\": [10, 100, 1000]\n",
        "}\n",
        "\n",
        "grid_search_cv = model_selection.GridSearchCV(\n",
        "    ml_pipeline,\n",
        "    _param_grid,\n",
        "    cv=2,\n",
        "    n_jobs=-1,\n",
        ")"
      ],
      "id": "1746cf91-6acf-48fc-a874-d4aa402c7ab7"
    },
    {
      "cell_type": "code",
      "execution_count": null,
      "metadata": {
        "colab": {
          "background_save": true
        },
        "id": "75b41e8e-2bcf-46e8-ba2b-c7ac9468a736"
      },
      "outputs": [],
      "source": [
        "_ = grid_search_cv.fit(train_features_df, train_target)"
      ],
      "id": "75b41e8e-2bcf-46e8-ba2b-c7ac9468a736"
    },
    {
      "cell_type": "code",
      "execution_count": null,
      "metadata": {
        "id": "g5jH-razjScg"
      },
      "outputs": [],
      "source": [
        "print(grid_search_cv.best_params_)"
      ],
      "id": "g5jH-razjScg"
    },
    {
      "cell_type": "markdown",
      "metadata": {
        "id": "01b292be-f7b9-4958-a6d0-c957ebcc50a5"
      },
      "source": [
        "## PCA for Compression"
      ],
      "id": "01b292be-f7b9-4958-a6d0-c957ebcc50a5"
    },
    {
      "cell_type": "code",
      "execution_count": null,
      "metadata": {
        "id": "2335899f-8bbd-4bb8-a411-d68da1ad8803"
      },
      "outputs": [],
      "source": [
        "reconstructed_train_features_df = (\n",
        "    feature_extractor.inverse_transform(\n",
        "        extracted_train_features_df\n",
        "    )\n",
        ")"
      ],
      "id": "2335899f-8bbd-4bb8-a411-d68da1ad8803"
    },
    {
      "cell_type": "markdown",
      "metadata": {
        "id": "A1nT1ZwhpxH8"
      },
      "source": [
        "## Incremental PCA"
      ],
      "id": "A1nT1ZwhpxH8"
    },
    {
      "cell_type": "code",
      "execution_count": null,
      "metadata": {
        "id": "T9XRK_xupyux"
      },
      "outputs": [],
      "source": [
        "n_batches = 100\n",
        "feature_extractor = decomposition.IncrementalPCA(n_components=128)\n",
        "\n",
        "for X in np.array_split(train_features_df, n_batches):\n",
        "    feature_extractor.partial_fit(X)\n",
        "\n",
        "extracted_train_features_df = (\n",
        "    feature_extractor.fit_transform(\n",
        "        train_features_df\n",
        "    )\n",
        ")"
      ],
      "id": "T9XRK_xupyux"
    },
    {
      "cell_type": "markdown",
      "metadata": {
        "id": "3ia3oGjTsvCS"
      },
      "source": [
        "### Exercise\n",
        "\n",
        "Train a logistic regression classifier using the MNIST dataset and assess its performance. Next, create a pipeline with PCA and your logistic regression classifier and assess its performance. Does PCA improve your results?"
      ],
      "id": "3ia3oGjTsvCS"
    },
    {
      "cell_type": "code",
      "execution_count": null,
      "metadata": {
        "id": "o_UVm6Q6tS7g"
      },
      "outputs": [],
      "source": [],
      "id": "o_UVm6Q6tS7g"
    },
    {
      "cell_type": "markdown",
      "metadata": {
        "id": "UheZG-WmtUR0"
      },
      "source": [
        "### Solution"
      ],
      "id": "UheZG-WmtUR0"
    },
    {
      "cell_type": "code",
      "execution_count": null,
      "metadata": {
        "id": "bVyoDFTntVtK"
      },
      "outputs": [],
      "source": [],
      "id": "bVyoDFTntVtK"
    },
    {
      "cell_type": "markdown",
      "source": [
        "### Exercise\n",
        "\n",
        "Train a tree-based classifier using the MNIST dataset and assess its performance. Next, create a pipeline with PCA and your tree-based classifier and assess its performance. Does PCA improve your results?"
      ],
      "metadata": {
        "id": "4DN1e-GgMib8"
      },
      "id": "4DN1e-GgMib8"
    },
    {
      "cell_type": "code",
      "source": [],
      "metadata": {
        "id": "avsxnr9HMpmo"
      },
      "id": "avsxnr9HMpmo",
      "execution_count": null,
      "outputs": []
    },
    {
      "cell_type": "markdown",
      "source": [
        "### Solution"
      ],
      "metadata": {
        "id": "fyIZKGVhMriL"
      },
      "id": "fyIZKGVhMriL"
    },
    {
      "cell_type": "code",
      "source": [],
      "metadata": {
        "id": "HeDuiPjwMsbf"
      },
      "id": "HeDuiPjwMsbf",
      "execution_count": null,
      "outputs": []
    }
  ],
  "metadata": {
    "colab": {
      "provenance": []
    },
    "kernelspec": {
      "display_name": "Python 3 (ipykernel)",
      "language": "python",
      "name": "python3"
    },
    "language_info": {
      "codemirror_mode": {
        "name": "ipython",
        "version": 3
      },
      "file_extension": ".py",
      "mimetype": "text/x-python",
      "name": "python",
      "nbconvert_exporter": "python",
      "pygments_lexer": "ipython3",
      "version": "3.10.6"
    }
  },
  "nbformat": 4,
  "nbformat_minor": 5
}