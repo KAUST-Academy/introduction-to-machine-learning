{
  "cells": [
    {
      "cell_type": "code",
      "execution_count": null,
      "metadata": {
        "id": "e3ea2c52-3ead-4484-8a13-59ff459b0f78"
      },
      "outputs": [],
      "source": [
        "import matplotlib.pyplot as plt\n",
        "import numpy as np\n",
        "import pandas as pd\n",
        "from sklearn import cluster, datasets, metrics, model_selection\n"
      ],
      "id": "e3ea2c52-3ead-4484-8a13-59ff459b0f78"
    },
    {
      "cell_type": "markdown",
      "metadata": {
        "id": "a9b241c6-de2e-4c9a-ac4f-6c5a010e2929"
      },
      "source": [
        "# Data\n"
      ],
      "id": "a9b241c6-de2e-4c9a-ac4f-6c5a010e2929"
    },
    {
      "cell_type": "markdown",
      "source": [
        "## Create synthetic data"
      ],
      "metadata": {
        "id": "pezaZEgH9wYT"
      },
      "id": "pezaZEgH9wYT"
    },
    {
      "cell_type": "code",
      "source": [
        "X, _ = datasets.make_blobs(\n",
        "    centers=5,\n",
        "    random_state=42\n",
        ")"
      ],
      "metadata": {
        "id": "EcWDIUBr8s6U"
      },
      "id": "EcWDIUBr8s6U",
      "execution_count": null,
      "outputs": []
    },
    {
      "cell_type": "code",
      "source": [
        "_ = plt.scatter(X[:, 0], X[:, 1])\n",
        "_ = plt.xlabel(\"Feature 0\")\n",
        "_ = plt.ylabel(\"Feature 1\")\n",
        "_ = plt.grid()"
      ],
      "metadata": {
        "id": "GxjLXWlu89ct"
      },
      "id": "GxjLXWlu89ct",
      "execution_count": null,
      "outputs": []
    },
    {
      "cell_type": "markdown",
      "metadata": {
        "id": "02cc24c9-260e-4840-8872-723f0adc6f41"
      },
      "source": [
        "## Load the MNIST data\n",
        "\n",
        "We will load the data using the [Pandas](https://pandas.pydata.org/) library. Highly recommend the most recent edition of [*Python for Data Analysis*](https://learning.oreilly.com/library/view/python-for-data/9781491957653/) by Pandas creator Wes Mckinney for anyone interested in learning how to use Pandas."
      ],
      "id": "02cc24c9-260e-4840-8872-723f0adc6f41"
    },
    {
      "cell_type": "code",
      "execution_count": null,
      "metadata": {
        "id": "M2nXzqRak_xw"
      },
      "outputs": [],
      "source": [
        "%%bash\n",
        "ls ./sample_data"
      ],
      "id": "M2nXzqRak_xw"
    },
    {
      "cell_type": "code",
      "execution_count": null,
      "metadata": {
        "id": "c1fded7d-02a7-48c3-99e4-d19d001c8ccf"
      },
      "outputs": [],
      "source": [
        "mnist_train_df = pd.read_csv(\n",
        "    \"./sample_data/mnist_train_small.csv\",\n",
        "    header=None,\n",
        "    names=[\"label\"] + [f\"p{i}\" for i in range(784)],\n",
        ")\n",
        "mnist_train_features_df = mnist_train_df.drop(\"label\", axis=1)\n",
        "mnist_train_target = mnist_train_df.loc[:, \"label\"]"
      ],
      "id": "c1fded7d-02a7-48c3-99e4-d19d001c8ccf"
    },
    {
      "cell_type": "code",
      "execution_count": null,
      "metadata": {
        "id": "9b53a9c4-550d-4577-bf0f-bace74843784"
      },
      "outputs": [],
      "source": [
        "mnist_train_features_df.info()"
      ],
      "id": "9b53a9c4-550d-4577-bf0f-bace74843784"
    },
    {
      "cell_type": "code",
      "execution_count": null,
      "metadata": {
        "id": "94e51a47-4730-410d-b5d6-4278a48ff5ff"
      },
      "outputs": [],
      "source": [
        "mnist_train_target.head()"
      ],
      "id": "94e51a47-4730-410d-b5d6-4278a48ff5ff"
    },
    {
      "cell_type": "markdown",
      "metadata": {
        "id": "43fc80e6-5e4b-42dc-8584-7dfdb397cb27"
      },
      "source": [
        "# K-Means"
      ],
      "id": "43fc80e6-5e4b-42dc-8584-7dfdb397cb27"
    },
    {
      "cell_type": "code",
      "execution_count": null,
      "metadata": {
        "id": "8cbd8e19-05df-4ff8-9796-cb95697bd099"
      },
      "outputs": [],
      "source": [
        "cluster.KMeans?"
      ],
      "id": "8cbd8e19-05df-4ff8-9796-cb95697bd099"
    },
    {
      "cell_type": "code",
      "execution_count": null,
      "metadata": {
        "id": "6f0ce9d7-edec-41a6-82a5-effec0b6a288"
      },
      "outputs": [],
      "source": [
        "# hyper-parameters\n",
        "_hyperparameters = {\n",
        "    \"n_clusters\": 5,\n",
        "    \"n_init\": \"auto\",\n",
        "    \"random_state\": 42,\n",
        "}\n",
        "\n",
        "feature_extractor = cluster.KMeans(**_hyperparameters)"
      ],
      "id": "6f0ce9d7-edec-41a6-82a5-effec0b6a288"
    },
    {
      "cell_type": "code",
      "source": [
        "Z = feature_extractor.fit_transform(X)"
      ],
      "metadata": {
        "id": "BIAuNLcW-eSx"
      },
      "id": "BIAuNLcW-eSx",
      "execution_count": null,
      "outputs": []
    },
    {
      "cell_type": "code",
      "execution_count": null,
      "metadata": {
        "id": "9544fd74-c980-4a44-bb3c-73ac31f44bd0"
      },
      "outputs": [],
      "source": [
        "Z.shape"
      ],
      "id": "9544fd74-c980-4a44-bb3c-73ac31f44bd0"
    },
    {
      "cell_type": "code",
      "execution_count": null,
      "metadata": {
        "id": "4085ca29-c57a-4f14-9db7-50682791d1da"
      },
      "outputs": [],
      "source": [
        "Z"
      ],
      "id": "4085ca29-c57a-4f14-9db7-50682791d1da"
    },
    {
      "cell_type": "code",
      "source": [
        "cluster_labels = feature_extractor.predict(X)"
      ],
      "metadata": {
        "id": "l4-7Rt_x-dQ6"
      },
      "id": "l4-7Rt_x-dQ6",
      "execution_count": null,
      "outputs": []
    },
    {
      "cell_type": "code",
      "execution_count": null,
      "metadata": {
        "id": "0880fbb7-46b8-4b8e-be84-70acbf3276bd"
      },
      "outputs": [],
      "source": [
        "cluster_labels"
      ],
      "id": "0880fbb7-46b8-4b8e-be84-70acbf3276bd"
    },
    {
      "cell_type": "code",
      "execution_count": null,
      "metadata": {
        "id": "8a17e2a7-a20d-4f2a-b623-40d16589cde2"
      },
      "outputs": [],
      "source": [
        "feature_extractor.labels_"
      ],
      "id": "8a17e2a7-a20d-4f2a-b623-40d16589cde2"
    },
    {
      "cell_type": "code",
      "source": [
        "feature_extractor.cluster_centers_"
      ],
      "metadata": {
        "id": "0AMJDwBJ-_xt"
      },
      "id": "0AMJDwBJ-_xt",
      "execution_count": null,
      "outputs": []
    },
    {
      "cell_type": "code",
      "source": [
        "_ = plt.scatter(X[:, 0], X[:, 1], c=cluster_labels)\n",
        "_ = plt.xlabel(\"Feature 0\")\n",
        "_ = plt.ylabel(\"Feature 1\")\n",
        "_ = plt.grid()"
      ],
      "metadata": {
        "id": "BQTOchdt_GZ8"
      },
      "id": "BQTOchdt_GZ8",
      "execution_count": null,
      "outputs": []
    },
    {
      "cell_type": "markdown",
      "metadata": {
        "id": "09c890cd-ffb5-4f15-9498-20858c827b83"
      },
      "source": [
        "### Exercise: Centroid Initialization\n",
        "\n",
        "Load the California house price data and then use Google Maps to find the latitute and longitude of the 5 largest cities in California. Use these latitude and longitude values to initialize the KMeans algorithm.\n",
        "\n",
        "Fit the KMeans algrorithm with your \"good\" initialization and then use the trained model to create 5 new features. Add these new features to the original features and compute the correlation between the new features and the house price. Are these new features useful?"
      ],
      "id": "09c890cd-ffb5-4f15-9498-20858c827b83"
    },
    {
      "cell_type": "code",
      "execution_count": null,
      "metadata": {
        "id": "1746cf91-6acf-48fc-a874-d4aa402c7ab7"
      },
      "outputs": [],
      "source": [],
      "id": "1746cf91-6acf-48fc-a874-d4aa402c7ab7"
    },
    {
      "cell_type": "markdown",
      "source": [
        "### Solution"
      ],
      "metadata": {
        "id": "fMls44TGFCUW"
      },
      "id": "fMls44TGFCUW"
    },
    {
      "cell_type": "code",
      "source": [],
      "metadata": {
        "id": "gzaUbMvbFpCb"
      },
      "id": "gzaUbMvbFpCb",
      "execution_count": null,
      "outputs": []
    },
    {
      "cell_type": "markdown",
      "source": [
        "## Finding the optimal number of cluster"
      ],
      "metadata": {
        "id": "H6G_kTj9Fpqq"
      },
      "id": "H6G_kTj9Fpqq"
    },
    {
      "cell_type": "code",
      "source": [
        "kmeans = cluster.KMeans(n_clusters=5, n_init=\"auto\")\n",
        "_ = kmeans.fit(X)\n",
        "\n",
        "print(f\"Silhouette Score: {metrics.silhouette_score(X, kmeans.labels_)}\")"
      ],
      "metadata": {
        "id": "U4I4fK7DFslN"
      },
      "id": "U4I4fK7DFslN",
      "execution_count": null,
      "outputs": []
    },
    {
      "cell_type": "code",
      "source": [
        "n_clusters = [2, 3, 4, 5, 6, 7, 8, 9, 10]\n",
        "scores = []\n",
        "for n_cluster in n_clusters:\n",
        "    kmeans = cluster.KMeans(n_clusters=n_cluster, n_init=\"auto\")\n",
        "    _ = kmeans.fit(X)\n",
        "    scores.append(metrics.silhouette_score(X, kmeans.labels_))\n"
      ],
      "metadata": {
        "id": "l4GirBCKGZVv"
      },
      "id": "l4GirBCKGZVv",
      "execution_count": null,
      "outputs": []
    },
    {
      "cell_type": "code",
      "source": [
        "_ = plt.plot(n_clusters, scores)\n",
        "_ = plt.xlabel(\"Number of clusters\")\n",
        "_ = plt.ylabel(\"Silhouette Score\")\n",
        "_ = plt.grid()"
      ],
      "metadata": {
        "id": "OC3p7ztBGyFP"
      },
      "id": "OC3p7ztBGyFP",
      "execution_count": null,
      "outputs": []
    },
    {
      "cell_type": "code",
      "source": [
        "from yellowbrick.cluster import silhouette_visualizer\n",
        "\n",
        "\n",
        "# function returns the fitted k-means model!\n",
        "kmeans = silhouette_visualizer(\n",
        "    cluster.KMeans(4, n_init=\"auto\", random_state=42),\n",
        "    X,\n",
        "    colors='yellowbrick'\n",
        ")"
      ],
      "metadata": {
        "id": "WuZu1JsRIJZp"
      },
      "id": "WuZu1JsRIJZp",
      "execution_count": null,
      "outputs": []
    },
    {
      "cell_type": "code",
      "source": [
        "_ = silhouette_visualizer(\n",
        "    cluster.KMeans(5, n_init=\"auto\", random_state=42),\n",
        "    X,\n",
        "    colors='yellowbrick'\n",
        ")"
      ],
      "metadata": {
        "id": "8oEPragjI_bc"
      },
      "id": "8oEPragjI_bc",
      "execution_count": null,
      "outputs": []
    },
    {
      "cell_type": "markdown",
      "metadata": {
        "id": "0261acdf-b457-4478-9b0a-6b25d69d5638"
      },
      "source": [
        "### Exercise\n",
        "\n",
        "Use KMeans to cluster the MNIST dataset. Try three different values for the number of clusters and compare the results of Silhouette scores and plots to determine the \"correct\" number of clusters."
      ],
      "id": "0261acdf-b457-4478-9b0a-6b25d69d5638"
    },
    {
      "cell_type": "code",
      "execution_count": null,
      "metadata": {
        "id": "vMxHvr0cm63p"
      },
      "outputs": [],
      "source": [],
      "id": "vMxHvr0cm63p"
    },
    {
      "cell_type": "markdown",
      "metadata": {
        "id": "8B5la-bxm6Sk"
      },
      "source": [
        "### Solution"
      ],
      "id": "8B5la-bxm6Sk"
    },
    {
      "cell_type": "code",
      "execution_count": null,
      "metadata": {
        "id": "1f2a2bf5-9f1a-45e5-9ace-c9725e71e161"
      },
      "outputs": [],
      "source": [
        "kmeans = cluster.KMeans(n_clusters=10, n_init=\"auto\")\n",
        "_ = kmeans.fit(mnist_train_features_df)"
      ],
      "id": "1f2a2bf5-9f1a-45e5-9ace-c9725e71e161"
    },
    {
      "cell_type": "code",
      "execution_count": null,
      "metadata": {
        "id": "5oDxwW1Rwgaj"
      },
      "outputs": [],
      "source": [
        "Z = kmeans.transform(mnist_train_features_df)\n",
        "cluster_labels = kmeans.predict(mnist_train_features_df)\n",
        "\n",
        "_ = plt.scatter(Z[:, 0], Z[:, 1], c=cluster_labels)\n",
        "_ = plt.xlabel(\"Z0\")\n",
        "_ = plt.ylabel(\"Z1\")\n",
        "_ = plt.grid()"
      ],
      "id": "5oDxwW1Rwgaj"
    },
    {
      "cell_type": "code",
      "source": [
        "from sklearn import metrics\n",
        "\n",
        "_report = metrics.classification_report(\n",
        "    mnist_train_target,\n",
        "    cluster_labels\n",
        ")\n",
        "print(_report)"
      ],
      "metadata": {
        "id": "KVf63qHsBXgu"
      },
      "id": "KVf63qHsBXgu",
      "execution_count": null,
      "outputs": []
    },
    {
      "cell_type": "code",
      "execution_count": null,
      "metadata": {
        "id": "75b41e8e-2bcf-46e8-ba2b-c7ac9468a736"
      },
      "outputs": [],
      "source": [],
      "id": "75b41e8e-2bcf-46e8-ba2b-c7ac9468a736"
    },
    {
      "cell_type": "markdown",
      "metadata": {
        "id": "01b292be-f7b9-4958-a6d0-c957ebcc50a5"
      },
      "source": [
        "## Using clustering for semi-supervised learning"
      ],
      "id": "01b292be-f7b9-4958-a6d0-c957ebcc50a5"
    },
    {
      "cell_type": "code",
      "execution_count": null,
      "metadata": {
        "id": "2335899f-8bbd-4bb8-a411-d68da1ad8803"
      },
      "outputs": [],
      "source": [
        "mnist_labeled_features_df, mnist_unlabeled_features_df, mnist_labeled_target, _ = (\n",
        "    model_selection.train_test_split(\n",
        "        mnist_train_features_df,\n",
        "        mnist_train_target,\n",
        "        test_size=0.8,\n",
        "        random_state=42,\n",
        "        stratify=mnist_train_target\n",
        "    )\n",
        ")"
      ],
      "id": "2335899f-8bbd-4bb8-a411-d68da1ad8803"
    },
    {
      "cell_type": "code",
      "source": [
        "kmeans = cluster.KMeans(n_clusters=50, n_init=\"auto\")\n",
        "_ = kmeans.fit(mnist_unlabeled_features_df)"
      ],
      "metadata": {
        "id": "wNFZTBwtdMjM"
      },
      "id": "wNFZTBwtdMjM",
      "execution_count": null,
      "outputs": []
    },
    {
      "cell_type": "code",
      "source": [
        "kmeans.cluster_centers_.shape"
      ],
      "metadata": {
        "id": "aJ5pwI7weFIy"
      },
      "id": "aJ5pwI7weFIy",
      "execution_count": null,
      "outputs": []
    },
    {
      "cell_type": "code",
      "source": [
        "fig, axes = plt.subplot(5, 10, sharex=True, sharey=True)\n",
        "for i, cluster_center in enumerate(kmeans.cluster_centers_.reshape(50, 28, 28)):\n",
        "    axes[i, j].imshow(cluster_center)\n",
        ""
      ],
      "metadata": {
        "id": "ihmT_1-ZeLLN"
      },
      "id": "ihmT_1-ZeLLN",
      "execution_count": null,
      "outputs": []
    },
    {
      "cell_type": "code",
      "source": [],
      "metadata": {
        "id": "17sj0qA6ehAS"
      },
      "id": "17sj0qA6ehAS",
      "execution_count": null,
      "outputs": []
    }
  ],
  "metadata": {
    "colab": {
      "provenance": []
    },
    "kernelspec": {
      "display_name": "Python 3 (ipykernel)",
      "language": "python",
      "name": "python3"
    },
    "language_info": {
      "codemirror_mode": {
        "name": "ipython",
        "version": 3
      },
      "file_extension": ".py",
      "mimetype": "text/x-python",
      "name": "python",
      "nbconvert_exporter": "python",
      "pygments_lexer": "ipython3",
      "version": "3.10.6"
    }
  },
  "nbformat": 4,
  "nbformat_minor": 5
}