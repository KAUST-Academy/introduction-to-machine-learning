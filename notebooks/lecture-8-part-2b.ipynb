{
  "cells": [
    {
      "cell_type": "code",
      "source": [
        "%%bash\n",
        "\n",
        "pip install catboost dask[dataframe]"
      ],
      "metadata": {
        "id": "owmX-DCuYllC"
      },
      "id": "owmX-DCuYllC",
      "execution_count": null,
      "outputs": []
    },
    {
      "cell_type": "code",
      "execution_count": null,
      "id": "e3ea2c52-3ead-4484-8a13-59ff459b0f78",
      "metadata": {
        "id": "e3ea2c52-3ead-4484-8a13-59ff459b0f78"
      },
      "outputs": [],
      "source": [
        "import pathlib\n",
        "import requests\n",
        "\n",
        "import joblib\n",
        "import matplotlib.pyplot as plt\n",
        "import numpy as np\n",
        "import pandas as pd\n",
        "from sklearn import compose, datasets, ensemble, impute, metrics\n",
        "from sklearn import model_selection, pipeline, preprocessing, tree\n",
        "\n",
        "import catboost as cb\n",
        "import lightgbm as lgb\n",
        "import xgboost as xgb\n"
      ]
    },
    {
      "cell_type": "markdown",
      "id": "be202dc8-9556-4c87-a70a-06b1df636521",
      "metadata": {
        "id": "be202dc8-9556-4c87-a70a-06b1df636521"
      },
      "source": [
        "# Additional Gradient Boosted Tree Implementations\n"
      ]
    },
    {
      "cell_type": "markdown",
      "source": [
        "## 2. Get the data"
      ],
      "metadata": {
        "id": "a5lBwoGjA1nR"
      },
      "id": "a5lBwoGjA1nR"
    },
    {
      "cell_type": "code",
      "source": [
        "train_df = pd.read_csv(\"sample_data/california_housing_train.csv\")\n",
        "test_df = pd.read_csv(\"sample_data/california_housing_test.csv\")"
      ],
      "metadata": {
        "id": "UgXXim0f-q89"
      },
      "id": "UgXXim0f-q89",
      "execution_count": null,
      "outputs": []
    },
    {
      "cell_type": "code",
      "source": [
        "train_df.info()"
      ],
      "metadata": {
        "id": "LqfO2YjkL3En"
      },
      "id": "LqfO2YjkL3En",
      "execution_count": null,
      "outputs": []
    },
    {
      "cell_type": "code",
      "source": [
        "train_features_df = train_df.drop(\"median_house_value\", axis=1)\n",
        "train_target = train_df.loc[:, \"median_house_value\"]"
      ],
      "metadata": {
        "id": "eE6XXQAD_cyL"
      },
      "id": "eE6XXQAD_cyL",
      "execution_count": null,
      "outputs": []
    },
    {
      "cell_type": "code",
      "source": [
        "train_features_df .head()"
      ],
      "metadata": {
        "id": "gOyWyB5pANJj"
      },
      "id": "gOyWyB5pANJj",
      "execution_count": null,
      "outputs": []
    },
    {
      "cell_type": "code",
      "source": [
        "train_target"
      ],
      "metadata": {
        "id": "Trp1wsEQ_qk4"
      },
      "id": "Trp1wsEQ_qk4",
      "execution_count": null,
      "outputs": []
    },
    {
      "cell_type": "markdown",
      "source": [
        "## 3. Exploratory Data Analysis"
      ],
      "metadata": {
        "id": "bMaNMm1zS2Km"
      },
      "id": "bMaNMm1zS2Km"
    },
    {
      "cell_type": "code",
      "source": [],
      "metadata": {
        "id": "tu4GFToJS1pW"
      },
      "id": "tu4GFToJS1pW",
      "execution_count": null,
      "outputs": []
    },
    {
      "cell_type": "markdown",
      "source": [
        "## 4. Prepare Data for ML"
      ],
      "metadata": {
        "id": "T8HggBfUA57r"
      },
      "id": "T8HggBfUA57r"
    },
    {
      "cell_type": "code",
      "source": [
        "preprocessing_pipeline = pipeline.make_pipeline(\n",
        "    impute.SimpleImputer(),\n",
        "    preprocessing.StandardScaler(),\n",
        "    verbose=True,\n",
        ").set_output(transform=\"pandas\")\n"
      ],
      "metadata": {
        "id": "ZWlWB2IMAi2D"
      },
      "id": "ZWlWB2IMAi2D",
      "execution_count": null,
      "outputs": []
    },
    {
      "cell_type": "code",
      "source": [],
      "metadata": {
        "id": "hrVV64paO2AF"
      },
      "id": "hrVV64paO2AF",
      "execution_count": null,
      "outputs": []
    },
    {
      "cell_type": "markdown",
      "source": [
        "## 5. Short-list Promising Models"
      ],
      "metadata": {
        "id": "zOU2OJi_ScAd"
      },
      "id": "zOU2OJi_ScAd"
    },
    {
      "cell_type": "markdown",
      "source": [
        "### Catboost"
      ],
      "metadata": {
        "id": "s41Wlio1_e3t"
      },
      "id": "s41Wlio1_e3t"
    },
    {
      "cell_type": "code",
      "source": [
        "cb.CatBoostRegressor?"
      ],
      "metadata": {
        "id": "HruXG_iY_eCu"
      },
      "id": "HruXG_iY_eCu",
      "execution_count": null,
      "outputs": []
    },
    {
      "cell_type": "code",
      "source": [
        "_regressor = cb.CatBoostRegressor()\n",
        "\n",
        "_transformed_target_regressor = compose.TransformedTargetRegressor(\n",
        "    _regressor,\n",
        "    func=np.log,\n",
        "    inverse_func=np.exp,\n",
        ")\n",
        "\n",
        "catboost_pipeline = pipeline.make_pipeline(\n",
        "    preprocessing_pipeline,\n",
        "    _transformed_target_regressor ,\n",
        "    verbose=True,\n",
        ")"
      ],
      "metadata": {
        "id": "fnTRsbybBg4X"
      },
      "id": "fnTRsbybBg4X",
      "execution_count": null,
      "outputs": []
    },
    {
      "cell_type": "code",
      "source": [
        "catboost_pipeline"
      ],
      "metadata": {
        "id": "JUkcpfiREHN_"
      },
      "id": "JUkcpfiREHN_",
      "execution_count": null,
      "outputs": []
    },
    {
      "cell_type": "code",
      "source": [
        "cv_scores = model_selection.cross_val_score(\n",
        "    catboost_pipeline,\n",
        "    train_features_df,\n",
        "    train_target,\n",
        "    cv=5,\n",
        "    n_jobs=-1,\n",
        "    scoring=\"neg_root_mean_squared_error\"\n",
        ")"
      ],
      "metadata": {
        "id": "nrcoFpEuEKx-"
      },
      "id": "nrcoFpEuEKx-",
      "execution_count": null,
      "outputs": []
    },
    {
      "cell_type": "code",
      "source": [
        "np.mean(-cv_scores)"
      ],
      "metadata": {
        "id": "WxUIo8trFP5d"
      },
      "id": "WxUIo8trFP5d",
      "execution_count": null,
      "outputs": []
    },
    {
      "cell_type": "markdown",
      "source": [
        "### Lightgbm"
      ],
      "metadata": {
        "id": "9KzgFVwiIS9i"
      },
      "id": "9KzgFVwiIS9i"
    },
    {
      "cell_type": "code",
      "source": [
        "lgb.LGBMRegressor?"
      ],
      "metadata": {
        "id": "8CL3nxnQIWgl"
      },
      "id": "8CL3nxnQIWgl",
      "execution_count": null,
      "outputs": []
    },
    {
      "cell_type": "code",
      "source": [
        "_regressor = lgb.LGBMRegressor()\n",
        "\n",
        "_transformed_target_regressor = compose.TransformedTargetRegressor(\n",
        "    _regressor,\n",
        "    func=np.log,\n",
        "    inverse_func=np.exp,\n",
        ")\n",
        "\n",
        "lgb_pipeline = pipeline.make_pipeline(\n",
        "    preprocessing_pipeline,\n",
        "    _transformed_target_regressor,\n",
        "    verbose=True,\n",
        ")"
      ],
      "metadata": {
        "id": "gL8zD0DzI4_o"
      },
      "id": "gL8zD0DzI4_o",
      "execution_count": null,
      "outputs": []
    },
    {
      "cell_type": "code",
      "source": [
        "lgb_pipeline"
      ],
      "metadata": {
        "id": "xYUFXErRI5In"
      },
      "id": "xYUFXErRI5In",
      "execution_count": null,
      "outputs": []
    },
    {
      "cell_type": "code",
      "source": [
        "cv_scores = model_selection.cross_val_score(\n",
        "    lgb_pipeline,\n",
        "    train_features_df,\n",
        "    train_target,\n",
        "    cv=5,\n",
        "    n_jobs=-1,\n",
        "    scoring=\"neg_root_mean_squared_error\"\n",
        ")"
      ],
      "metadata": {
        "id": "ouvIVF2hJ_AI"
      },
      "id": "ouvIVF2hJ_AI",
      "execution_count": null,
      "outputs": []
    },
    {
      "cell_type": "code",
      "source": [
        "np.mean(-cv_scores)"
      ],
      "metadata": {
        "id": "-oM9pDX6OUXf"
      },
      "id": "-oM9pDX6OUXf",
      "execution_count": null,
      "outputs": []
    },
    {
      "cell_type": "markdown",
      "source": [
        "### XGBoost"
      ],
      "metadata": {
        "id": "QbwPxCYZ-itX"
      },
      "id": "QbwPxCYZ-itX"
    },
    {
      "cell_type": "code",
      "source": [
        "_regressor = xgb.XGBRegressor()\n",
        "\n",
        "_transformed_target_regressor = compose.TransformedTargetRegressor(\n",
        "    _regressor,\n",
        "    func=np.log,\n",
        "    inverse_func=np.exp,\n",
        ")\n",
        "\n",
        "xgb_pipeline = pipeline.make_pipeline(\n",
        "    preprocessing_pipeline,\n",
        "    _transformed_target_regressor,\n",
        "    verbose=True,\n",
        ")"
      ],
      "metadata": {
        "id": "avN_PWO4-gIr"
      },
      "id": "avN_PWO4-gIr",
      "execution_count": null,
      "outputs": []
    },
    {
      "cell_type": "code",
      "source": [
        "xgb_pipeline"
      ],
      "metadata": {
        "id": "UWIdCQNSOgAB"
      },
      "id": "UWIdCQNSOgAB",
      "execution_count": null,
      "outputs": []
    },
    {
      "cell_type": "code",
      "source": [
        "cv_scores = model_selection.cross_val_score(\n",
        "    xgb_pipeline,\n",
        "    train_features_df,\n",
        "    train_target,\n",
        "    cv=5,\n",
        "    n_jobs=-1,\n",
        "    scoring=\"neg_root_mean_squared_error\"\n",
        ")"
      ],
      "metadata": {
        "id": "WZ6Z7xVdTYGw"
      },
      "id": "WZ6Z7xVdTYGw",
      "execution_count": null,
      "outputs": []
    },
    {
      "cell_type": "code",
      "source": [
        "np.mean(-cv_scores)"
      ],
      "metadata": {
        "id": "GfzFt51DTX9-"
      },
      "id": "GfzFt51DTX9-",
      "execution_count": null,
      "outputs": []
    },
    {
      "cell_type": "markdown",
      "source": [
        "## 6. Fine tune the most promising models"
      ],
      "metadata": {
        "id": "PGVT1nfFUM5K"
      },
      "id": "PGVT1nfFUM5K"
    },
    {
      "cell_type": "markdown",
      "source": [
        "### Exercise\n",
        "\n",
        "Fine tune the CatBoostRegressor pipeline."
      ],
      "metadata": {
        "id": "O8bBNitsQZAT"
      },
      "id": "O8bBNitsQZAT"
    },
    {
      "cell_type": "code",
      "source": [],
      "metadata": {
        "id": "DXU8J0JQT0Dz"
      },
      "id": "DXU8J0JQT0Dz",
      "execution_count": null,
      "outputs": []
    },
    {
      "cell_type": "markdown",
      "source": [
        "### Exercise\n",
        "\n",
        "Fine tune the LGBMRegressor pipeline."
      ],
      "metadata": {
        "id": "t4EvqFlQFwA7"
      },
      "id": "t4EvqFlQFwA7"
    },
    {
      "cell_type": "code",
      "source": [],
      "metadata": {
        "id": "Nxq8x_OWT30n"
      },
      "id": "Nxq8x_OWT30n",
      "execution_count": null,
      "outputs": []
    },
    {
      "cell_type": "markdown",
      "source": [
        "#### Solution"
      ],
      "metadata": {
        "id": "1GKYg4npQzKm"
      },
      "id": "1GKYg4npQzKm"
    },
    {
      "cell_type": "code",
      "source": [],
      "metadata": {
        "id": "KQoMuJ1KQ1Eb"
      },
      "id": "KQoMuJ1KQ1Eb",
      "execution_count": null,
      "outputs": []
    },
    {
      "cell_type": "markdown",
      "source": [
        "### Exercise\n",
        "\n",
        "Fine tune the XGBRegressor pipeline."
      ],
      "metadata": {
        "id": "YgciPjivT57M"
      },
      "id": "YgciPjivT57M"
    },
    {
      "cell_type": "code",
      "source": [],
      "metadata": {
        "id": "8f21pmMfUAuz"
      },
      "id": "8f21pmMfUAuz",
      "execution_count": null,
      "outputs": []
    },
    {
      "cell_type": "markdown",
      "source": [
        "#### Solution"
      ],
      "metadata": {
        "id": "5k2Qzrh5GSWG"
      },
      "id": "5k2Qzrh5GSWG"
    },
    {
      "cell_type": "code",
      "source": [],
      "metadata": {
        "id": "xY3X-RQPGUMu"
      },
      "id": "xY3X-RQPGUMu",
      "execution_count": null,
      "outputs": []
    },
    {
      "cell_type": "markdown",
      "source": [
        "### Exercise\n",
        "\n",
        "Compare the performance of the fine tuned gradient boosting models. Which is the best model?"
      ],
      "metadata": {
        "id": "M6YaWx18MRs7"
      },
      "id": "M6YaWx18MRs7"
    },
    {
      "cell_type": "code",
      "source": [],
      "metadata": {
        "id": "F962wdjlMlbm"
      },
      "id": "F962wdjlMlbm",
      "execution_count": null,
      "outputs": []
    },
    {
      "cell_type": "markdown",
      "source": [
        "#### Solution"
      ],
      "metadata": {
        "id": "hv5tnmCOSE9-"
      },
      "id": "hv5tnmCOSE9-"
    },
    {
      "cell_type": "code",
      "source": [],
      "metadata": {
        "id": "XoK7vr6TOibA"
      },
      "id": "XoK7vr6TOibA",
      "execution_count": null,
      "outputs": []
    },
    {
      "cell_type": "markdown",
      "source": [
        "## 7. Summarize your results"
      ],
      "metadata": {
        "id": "DG0jXitMXXX3"
      },
      "id": "DG0jXitMXXX3"
    },
    {
      "cell_type": "markdown",
      "source": [
        "### Exercise:\n",
        "\n",
        "Re-fit your best model on the entire training data set."
      ],
      "metadata": {
        "id": "6D6fH6L9Xm5o"
      },
      "id": "6D6fH6L9Xm5o"
    },
    {
      "cell_type": "code",
      "source": [],
      "metadata": {
        "id": "FVtHkpu-Xj5f"
      },
      "id": "FVtHkpu-Xj5f",
      "execution_count": null,
      "outputs": []
    },
    {
      "cell_type": "markdown",
      "source": [
        "#### Solution:"
      ],
      "metadata": {
        "id": "ki2rAuCyXwTI"
      },
      "id": "ki2rAuCyXwTI"
    },
    {
      "cell_type": "code",
      "source": [],
      "metadata": {
        "id": "wbqUaNXwX7JM"
      },
      "id": "wbqUaNXwX7JM",
      "execution_count": null,
      "outputs": []
    },
    {
      "cell_type": "markdown",
      "source": [
        "### Exercise:\n",
        "\n",
        "Generate predictions for the test data using your best pipeline."
      ],
      "metadata": {
        "id": "1BsSFMvNXx5K"
      },
      "id": "1BsSFMvNXx5K"
    },
    {
      "cell_type": "code",
      "source": [],
      "metadata": {
        "id": "2eT1s4w1Xxae"
      },
      "id": "2eT1s4w1Xxae",
      "execution_count": null,
      "outputs": []
    }
  ],
  "metadata": {
    "colab": {
      "provenance": []
    },
    "kernelspec": {
      "display_name": "Python 3 (ipykernel)",
      "language": "python",
      "name": "python3"
    },
    "language_info": {
      "codemirror_mode": {
        "name": "ipython",
        "version": 3
      },
      "file_extension": ".py",
      "mimetype": "text/x-python",
      "name": "python",
      "nbconvert_exporter": "python",
      "pygments_lexer": "ipython3",
      "version": "3.10.6"
    }
  },
  "nbformat": 4,
  "nbformat_minor": 5
}